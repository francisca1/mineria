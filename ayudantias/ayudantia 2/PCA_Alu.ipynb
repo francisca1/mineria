{
 "cells": [
  {
   "cell_type": "markdown",
   "metadata": {
    "colab_type": "text",
    "id": "ho78xVUrcQh6"
   },
   "source": [
    " # Principal Component Analysis (PCA)\n",
    " \n",
    "\n",
    "### Actividad\n",
    "\n",
    "Bajar la base de datos Casen2017_7var.csv. \n",
    "Determinar los componentes principales y visualizarlos en un plot 3d. \n",
    "Reducir la dimensionalidad en 1 (o sea, a 2 dimensiones) por medio de los vectores propios (de acuerdo al criterio de aporte de varianza, reflejado en los valores propios)\n",
    "Visualizarlos en un plot 2d.\n",
    "Subir la resolución hasta las 22:59 hrs al buzón de tareas de la página del curso (SIDING).\n",
    "\n",
    "* Nota 1: recordar la normalización de los datos.\n",
    "* Nota 2: recordar consolidar los datos.\n",
    "\n",
    "\n",
    "### Descripción base de datos\n",
    "\n",
    "#### * region :\n",
    "    1 Región de Tarapacá\n",
    "    2 Región de Antofagasta\n",
    "    3 Región de Atacama\n",
    "    4 Región de Coquimbo\n",
    "    5 Región de Valparaíso\n",
    "    6 Región del Libertador Gral. Bernardo O’Higgins\n",
    "    7 Región del Maule\n",
    "    8 Región del Biobío\n",
    "    9 Región de La Araucanía\n",
    "    10 Región de Los Lagos\n",
    "    11 Región de Ayséndel Gral. Carlos Ibáñez del Campo\n",
    "    12 Región de Magallanes y de la Antártica Chilena\n",
    "    13 Región Metropolitana de Santiago\n",
    "    14 Región de Los Ríos\n",
    "    15 Región de Arica y Parinacota \n",
    "    16 Región de Ñuble\n",
    "\n",
    "#### * comuna :\n",
    "    1101 Iquique 1107 Alto Hospicio 1401 Pozo Almonte 1402 Camiña\n",
    "    1404 Huara 1405 Pica 2101 Antofagasta 2102 Mejillones 2103 Sierra Gorda\n",
    "    2104 Taltal 2201 Calama 2203 San Pedro de Atacama 2301 Tocopilla\n",
    "    2302 María Elena 3101 Copiapó 3102 Caldera 3103 Tierra Amarilla 3201 Chañaral\n",
    "    3202 Diego de Almagro 3301 Vallenar 3302 Alto del Carmen 3303 Freirina\n",
    "    3304 Huasco 4101 La Serena 4102 Coquimbo 4103 Andacollo 4104 La Higuera \n",
    "    4105 Paiguano 4106 Vicuña 4201 Illapel 4202 Canela 4203 Los Vilos\n",
    "    4204 Salamanca 4301 Ovalle 4302 Combarbalá 4303 Monte Patria 4304 Punitaqui\n",
    "    4305 Río Hurtado 5101 Valparaíso 5102 Casablanca 5103 Concón 5105 Puchuncaví\n",
    "    5107 Quintero 5109 Viña del Mar 5301 Los Andes 5302 Calle Larga\n",
    "    5303 Rinconada 5304 San Esteban 5401 La Ligua 5402 Cabildo 5403 Papudo\n",
    "    5404 Petorca 5405 Zapallar 5501 Quillota 5502 Calera\n",
    "    5503 Hijuelas 5504 La Cruz 5506 Nogales 5601 San Antonio 5602 Algarrobo\n",
    "    5603 Cartagena 5604 El Quisco 5605 El Tabo 5606 Santo Domingo\n",
    "    5701 San Felipe 5702 Catemu 5703 Llaillay 5704 Panquehue 5705 Putaendo\n",
    "    5706 Santa María 5801 Quilpué 5802 Limache 5803 Olmué\n",
    "    5804 Villa Alemana 6101 Rancagua 6102 Codegua 6103 Coinco\n",
    "    6104 Coltauco 6105 Doñihue 6106 Graneros\n",
    "    6107 Las Cabras 6108 Machalí 6109 Malloa 6110 Mostazal 6111 Olivar\n",
    "    6112 Peumo\n",
    "    6113 Pichidegua 6114 Quinta de Tilcoco 6115 Rengo 6116 Requínoa\n",
    "    6117 San Vicente 6201 Pichilemu 6202 La Estrella 6203 Litueche\n",
    "    6204 Marchihue 6205 Navidad 6206 Paredones 6301 San Fernando 6302 Chépica\n",
    "    6303 Chimbarongo 6304 Lolol 6305 Nancagua 6306 Palmilla\n",
    "    6307 Peralillo 6308 Placilla 6309 Pumanque 6310 Santa Cruz 7101 Talca\n",
    "    7102 Constitución 7103 Curepto 7104 Empedrado 7105 Maule 7106 Pelarco\n",
    "    7107 Pencahue 7108 Río Claro 7109 San Clemente 7110 San Rafael\n",
    "    7201 Cauquenes 7202 Chanco 7203 Pelluhue 7301 Curicó 7302 Hualañé 7303 Licantén \n",
    "    7304 Molina 7305 Rauco 7306 Romeral 7307 Sagrada Familia 7308 Teno\n",
    "    7309 Vichuquén 7401 Linares 7402 Colbún 7403 Longaví 7404 Parral\n",
    "    7405 Retiro 7406 San Javier 7407 Villa Alegre 7408 Yerbas Buenas 8101 Concepción\n",
    "    8102 Coronel 8103 Chiguayante 8104 Florida 8105 Hualqui 8106 Lota 8107 Penco\n",
    "    8108 San Pedro de la Paz 8109 Santa Juana 8110 Talcahuano 8111 Tomé 8112 Hualpén\n",
    "    8201 Lebu 8202 Arauco 8203 Cañete 8204 Contulmo 8205 Curanilahue 8206 Los Álamos \n",
    "    8207 Tirúa 8301 Los Ángeles 8302 Antuco 8303 Cabrero 8304 Laja\n",
    "    8305 Mulchén 8306 Nacimiento 8307 Negrete 8308 Quilaco 8309 Quilleco\n",
    "    8310 San Rosendo 8311 Santa Bárbara 8312 Tucapel 8313 Yumbel\n",
    "    8314 Alto Biobío 9101 Temuco 9102 Carahue 9103 Cunco 9104 Curarrehue\n",
    "    9105 Freire 9106 Galvarino 9107 Gorbea 9108 Lautaro 9109 Loncoche\n",
    "    9110 Melipeuco 9111 Nueva Imperial 9112 Padre Las Casas 9113 Perquenco\n",
    "    9114 Pitrufquén 9115 Pucón 9116 Saavedra 9117 Teodoro Schmidt 9118 Toltén\n",
    "    9119 Vilcún 9120 Villarrica9121 Cholchol 9201 Angol 9202 Collipulli \n",
    "    9203 Curacautín 9204 Ercilla 9205 Lonquimay 9206 Los Sauces 9207 Lumaco 9208 Purén\n",
    "    9209 Renaico 9210 Traiguén 9211 Victoria 10101 Puerto Montt 10102 Calbuco\n",
    "    10104 Fresia 10105 Frutillar 10106 Los Muermos 10107 Llanquihue\n",
    "    10108 Maullín 10109 Puerto Varas 10201 Castro 10202 Ancud 10203 Chonchi\n",
    "    10204 Curaco de Vélez 10205 Dalcahue 10206 Puqueldón 10207 Queilén\n",
    "    10208 Quellón 10209 Quemchi 10210 Quinchao 10301 Osorno 10302 Puerto Octay\n",
    "    10303 Purranque 10304 Puyehue 10305 Río Negro 10306 San Juan de la Costa 10307 San Pablo\n",
    "    11101 Coyhaique 11201 Aysén 11202 Cisnes 11301 Cochrane 11401 Chile Chico 11402 Río Ibáñez\n",
    "    12101 Punta Arenas 12301 Porvenir 12401 Natales 13101 Santiago 13102 Cerrillos\n",
    "    13103 Cerro Navia 13104 Conchalí 13105 El Bosque 13106 Estación Central 13107 Huechuraba\n",
    "    13108 Independencia 13109 La Cisterna 13110 La Florida 13111 La Granja\n",
    "    13112 La Pintana 13113 La Reina 13114 Las Condes 13115 Lo Barnechea 13116 Lo Espejo\n",
    "    13117 Lo Prado 13118 Macul 13119 Maipú 13120 Ñuñoa 13121 Pedro Aguirre Cerda 13122 Peñalolén\n",
    "    13123 Providencia 13124 Pudahuel 13125 Quilicura 13126 Quinta Normal \n",
    "    13127 Recoleta 13128 Renca 13129 San Joaquín 13130 San Miguel 13131 San Ramón \n",
    "    13132 Vitacura 13201 Puente Alto 13202 Pirque 13203 San José de Maipo 13301 Colina\n",
    "    13302 Lampa 13303 Tiltil 13401 San Bernardo 13402 Buin 13403 Calera de Tango\n",
    "    13404 Paine 13501 Melipilla 13502 Alhué 13503 Curacaví 13504 María Pinto\n",
    "    13505 San Pedro 13601 Talagante 13602 El Monte 13603 Isla de Maipo\n",
    "    13604 Padre Hurtado 13605 Peñaflor 14101 Valdivia 14102 Corral\n",
    "    14103 Lanco 14104 Los Lagos 14105 Máfil 14106 Mariquina 14107 Paillaco\n",
    "    14108 Panguipulli 14201 La Unión 14202 Futrono 14203 Lago Ranco 14204 Río Bueno\n",
    "    15101 Arica 15102 Camarones 15201 Putre 16101 Chillán 16102 Bulnes \n",
    "    16103 Chillán Viejo 16104 El Carmen 16105 Pemuco 16106 Pinto\n",
    "    16107 Quillón 16108 San Ignacio 16109 Yungay 16201 Quirihue 16202 Cobquecura \n",
    "    16203 Coelemu 16204 Ninhue 16205 Portezuelo 16206 Ránquil 16207 Treguaco \n",
    "    16301 San Carlos 16302 Coihueco 16303 Ñiquén 16304 San Fabián 16305 San Nicolás\n",
    "\n",
    "#### * hacinamiento : \n",
    "    1 Sin hacinamiento (2,49 y menos)\n",
    "    2 Hacinamiento medio bajo (2,5 a 3,49)\n",
    "    3 Hacinamiento medio alto (3,5 a 4,9)\n",
    "    4 Hacinamiento crítico (5 y más)\n",
    "    9 NS/NR\n",
    "#### * ytotcorh. Ingreso total del hogar corregido :\n",
    "#### * e6a. ¿Cuál fue el nivel educacional más alto alcanzado o el nivel educacional actual?:\n",
    "    1 Nunca asistió\n",
    "    2 Sala cuna\n",
    "    3 Jardín Infantil (Medio menor y Medio mayor)\n",
    "    4 Prekinder/Kinder (Transición menor y Transición Mayor)\n",
    "    5 Educación Especial (Diferencial)\n",
    "    6 Primaria o Preparatoria (Sistema antiguo)\n",
    "    7 Educación Básica\n",
    "    8 Humanidades (Sistema Antiguo)\n",
    "    9 Educación Media Científico- Humanista\n",
    "    10 Técnica, Comercial, Industrial o Normalista (Sistema Antiguo)\n",
    "    11 Educación Media Técnica Profesional\n",
    "    12 Técnico Nivel Superior Incompleto (Carreras 1 a 3 años)\n",
    "    13 Técnico Nivel Superior Completo (Carreras 1 a 3 años)\n",
    "    14 Profesional Incompleto (Carreras 4 o más años)\n",
    "    15 Profesional Completo (Carreras 4 o más años)\n",
    "    16 Postgrado Incompleto\n",
    "    17 Postgrado Completo\n",
    "    99 No sabe/no responde\n",
    "\n",
    "#### * pobreza_multi_4d. Situación de pobreza multidimensional (4 dimensiones) :\n",
    "    0 no pobre\n",
    "    1 pobre\n",
    "    Blancos\n",
    "    \n",
    "#### * ppobreza_multi_5d. Situación de pobreza multidimensional con entorno y redes (5 dimensiones) :\n",
    "    0 no pobre\n",
    "    1 pobre\n",
    "    Blancos\n",
    "    \n",
    "### Pasos \n",
    "\n",
    "1) Bajar la base de datos Casen2017_7var.csv, revisar la base de datos.\n",
    "\n",
    "2) Normalizar base de datos.\n",
    "\n",
    "3) Obtener matriz de covarianza. \n",
    "\n",
    "4) Obtener valores propios y vectores propios de la matriz de covarianza. Visualizarlos sobre los datos originales.\n",
    "\n",
    "5) Reducir en 1 la dimensionalidad utilizando valores y vectores propios antes estimados. \n",
    "\n",
    "6) Volver a 3\n"
   ]
  },
  {
   "cell_type": "markdown",
   "metadata": {
    "colab_type": "text",
    "id": "8dLeO3SRcQiF"
   },
   "source": [
    "### Librerías utilizadas"
   ]
  },
  {
   "cell_type": "code",
   "execution_count": 17,
   "metadata": {
    "colab": {},
    "colab_type": "code",
    "id": "cLsqhY2LcQiJ"
   },
   "outputs": [],
   "source": [
    "import pandas as pd\n",
    "import numpy as np\n",
    "import matplotlib.pyplot as plt\n",
    "from sklearn.decomposition import PCA\n",
    "from sklearn.preprocessing import StandardScaler\n",
    "from mpl_toolkits.mplot3d import Axes3D\n"
   ]
  },
  {
   "cell_type": "markdown",
   "metadata": {
    "colab_type": "text",
    "id": "PJnlCRWPcQiZ"
   },
   "source": [
    "### Base de datos"
   ]
  },
  {
   "cell_type": "code",
   "execution_count": 3,
   "metadata": {
    "colab": {},
    "colab_type": "code",
    "id": "1WlQ0zl1cQib"
   },
   "outputs": [
    {
     "data": {
      "text/html": [
       "<div>\n",
       "<style scoped>\n",
       "    .dataframe tbody tr th:only-of-type {\n",
       "        vertical-align: middle;\n",
       "    }\n",
       "\n",
       "    .dataframe tbody tr th {\n",
       "        vertical-align: top;\n",
       "    }\n",
       "\n",
       "    .dataframe thead th {\n",
       "        text-align: right;\n",
       "    }\n",
       "</style>\n",
       "<table border=\"1\" class=\"dataframe\">\n",
       "  <thead>\n",
       "    <tr style=\"text-align: right;\">\n",
       "      <th></th>\n",
       "      <th>Unnamed: 0</th>\n",
       "      <th>region</th>\n",
       "      <th>comuna</th>\n",
       "      <th>ytotcorh</th>\n",
       "      <th>hacinamiento</th>\n",
       "      <th>e6a</th>\n",
       "      <th>pobreza_multi_4d</th>\n",
       "      <th>pobreza_multi_5d</th>\n",
       "    </tr>\n",
       "  </thead>\n",
       "  <tbody>\n",
       "    <tr>\n",
       "      <th>0</th>\n",
       "      <td>0</td>\n",
       "      <td>1.0</td>\n",
       "      <td>1101.0</td>\n",
       "      <td>250000.0</td>\n",
       "      <td>1.0</td>\n",
       "      <td>9.0</td>\n",
       "      <td>NaN</td>\n",
       "      <td>NaN</td>\n",
       "    </tr>\n",
       "    <tr>\n",
       "      <th>1</th>\n",
       "      <td>1</td>\n",
       "      <td>1.0</td>\n",
       "      <td>1101.0</td>\n",
       "      <td>211091.0</td>\n",
       "      <td>1.0</td>\n",
       "      <td>7.0</td>\n",
       "      <td>1.0</td>\n",
       "      <td>1.0</td>\n",
       "    </tr>\n",
       "    <tr>\n",
       "      <th>2</th>\n",
       "      <td>2</td>\n",
       "      <td>1.0</td>\n",
       "      <td>1101.0</td>\n",
       "      <td>593500.0</td>\n",
       "      <td>1.0</td>\n",
       "      <td>9.0</td>\n",
       "      <td>NaN</td>\n",
       "      <td>NaN</td>\n",
       "    </tr>\n",
       "    <tr>\n",
       "      <th>3</th>\n",
       "      <td>3</td>\n",
       "      <td>1.0</td>\n",
       "      <td>1101.0</td>\n",
       "      <td>593500.0</td>\n",
       "      <td>1.0</td>\n",
       "      <td>9.0</td>\n",
       "      <td>NaN</td>\n",
       "      <td>NaN</td>\n",
       "    </tr>\n",
       "    <tr>\n",
       "      <th>4</th>\n",
       "      <td>4</td>\n",
       "      <td>1.0</td>\n",
       "      <td>1101.0</td>\n",
       "      <td>341667.0</td>\n",
       "      <td>1.0</td>\n",
       "      <td>13.0</td>\n",
       "      <td>0.0</td>\n",
       "      <td>NaN</td>\n",
       "    </tr>\n",
       "  </tbody>\n",
       "</table>\n",
       "</div>"
      ],
      "text/plain": [
       "   Unnamed: 0  region  comuna  ytotcorh  hacinamiento   e6a  pobreza_multi_4d  \\\n",
       "0           0     1.0  1101.0  250000.0           1.0   9.0               NaN   \n",
       "1           1     1.0  1101.0  211091.0           1.0   7.0               1.0   \n",
       "2           2     1.0  1101.0  593500.0           1.0   9.0               NaN   \n",
       "3           3     1.0  1101.0  593500.0           1.0   9.0               NaN   \n",
       "4           4     1.0  1101.0  341667.0           1.0  13.0               0.0   \n",
       "\n",
       "   pobreza_multi_5d  \n",
       "0               NaN  \n",
       "1               1.0  \n",
       "2               NaN  \n",
       "3               NaN  \n",
       "4               NaN  "
      ]
     },
     "execution_count": 3,
     "metadata": {},
     "output_type": "execute_result"
    }
   ],
   "source": [
    "database = pd.read_csv(\"Casen2017_7var.csv\")\n",
    "database.head()"
   ]
  },
  {
   "cell_type": "markdown",
   "metadata": {},
   "source": [
    "### Eliminar NaN"
   ]
  },
  {
   "cell_type": "code",
   "execution_count": 12,
   "metadata": {
    "colab": {
     "base_uri": "https://localhost:8080/",
     "height": 145
    },
    "colab_type": "code",
    "executionInfo": {
     "elapsed": 649,
     "status": "ok",
     "timestamp": 1534770370982,
     "user": {
      "displayName": "FRANCISCO PEREZ GALARCE",
      "photoUrl": "https://lh3.googleusercontent.com/a/default-user=s128",
      "userId": "106679259049755804350"
     },
     "user_tz": 180
    },
    "id": "2PA9csGycQi5",
    "outputId": "b7ffcae1-8429-43bf-d646-72ee0b68b71b"
   },
   "outputs": [
    {
     "data": {
      "text/html": [
       "<div>\n",
       "<style scoped>\n",
       "    .dataframe tbody tr th:only-of-type {\n",
       "        vertical-align: middle;\n",
       "    }\n",
       "\n",
       "    .dataframe tbody tr th {\n",
       "        vertical-align: top;\n",
       "    }\n",
       "\n",
       "    .dataframe thead th {\n",
       "        text-align: right;\n",
       "    }\n",
       "</style>\n",
       "<table border=\"1\" class=\"dataframe\">\n",
       "  <thead>\n",
       "    <tr style=\"text-align: right;\">\n",
       "      <th></th>\n",
       "      <th>Unnamed: 0</th>\n",
       "      <th>region</th>\n",
       "      <th>comuna</th>\n",
       "      <th>ytotcorh</th>\n",
       "      <th>hacinamiento</th>\n",
       "      <th>e6a</th>\n",
       "      <th>pobreza_multi_4d</th>\n",
       "      <th>pobreza_multi_5d</th>\n",
       "    </tr>\n",
       "  </thead>\n",
       "  <tbody>\n",
       "    <tr>\n",
       "      <th>1</th>\n",
       "      <td>1</td>\n",
       "      <td>1.0</td>\n",
       "      <td>1101.0</td>\n",
       "      <td>211091.0</td>\n",
       "      <td>1.0</td>\n",
       "      <td>7.0</td>\n",
       "      <td>1.0</td>\n",
       "      <td>1.0</td>\n",
       "    </tr>\n",
       "    <tr>\n",
       "      <th>7</th>\n",
       "      <td>7</td>\n",
       "      <td>1.0</td>\n",
       "      <td>1101.0</td>\n",
       "      <td>463333.0</td>\n",
       "      <td>1.0</td>\n",
       "      <td>8.0</td>\n",
       "      <td>1.0</td>\n",
       "      <td>1.0</td>\n",
       "    </tr>\n",
       "    <tr>\n",
       "      <th>8</th>\n",
       "      <td>8</td>\n",
       "      <td>1.0</td>\n",
       "      <td>1101.0</td>\n",
       "      <td>463333.0</td>\n",
       "      <td>1.0</td>\n",
       "      <td>11.0</td>\n",
       "      <td>1.0</td>\n",
       "      <td>1.0</td>\n",
       "    </tr>\n",
       "    <tr>\n",
       "      <th>16</th>\n",
       "      <td>16</td>\n",
       "      <td>1.0</td>\n",
       "      <td>1101.0</td>\n",
       "      <td>438259.0</td>\n",
       "      <td>1.0</td>\n",
       "      <td>6.0</td>\n",
       "      <td>0.0</td>\n",
       "      <td>0.0</td>\n",
       "    </tr>\n",
       "    <tr>\n",
       "      <th>17</th>\n",
       "      <td>17</td>\n",
       "      <td>1.0</td>\n",
       "      <td>1101.0</td>\n",
       "      <td>420000.0</td>\n",
       "      <td>1.0</td>\n",
       "      <td>14.0</td>\n",
       "      <td>0.0</td>\n",
       "      <td>0.0</td>\n",
       "    </tr>\n",
       "  </tbody>\n",
       "</table>\n",
       "</div>"
      ],
      "text/plain": [
       "    Unnamed: 0  region  comuna  ytotcorh  hacinamiento   e6a  \\\n",
       "1            1     1.0  1101.0  211091.0           1.0   7.0   \n",
       "7            7     1.0  1101.0  463333.0           1.0   8.0   \n",
       "8            8     1.0  1101.0  463333.0           1.0  11.0   \n",
       "16          16     1.0  1101.0  438259.0           1.0   6.0   \n",
       "17          17     1.0  1101.0  420000.0           1.0  14.0   \n",
       "\n",
       "    pobreza_multi_4d  pobreza_multi_5d  \n",
       "1                1.0               1.0  \n",
       "7                1.0               1.0  \n",
       "8                1.0               1.0  \n",
       "16               0.0               0.0  \n",
       "17               0.0               0.0  "
      ]
     },
     "execution_count": 12,
     "metadata": {},
     "output_type": "execute_result"
    }
   ],
   "source": [
    "# elimine nans ya que ponerle un 1 o 0 implicaría modificar la base en un aspecto importante \n",
    "# ya que no se puede sacar el promedio \n",
    "\n",
    "database = database.dropna()\n",
    "database.head()"
   ]
  },
  {
   "cell_type": "markdown",
   "metadata": {},
   "source": [
    "### Normalizar"
   ]
  },
  {
   "cell_type": "code",
   "execution_count": 15,
   "metadata": {},
   "outputs": [
    {
     "data": {
      "text/html": [
       "<div>\n",
       "<style scoped>\n",
       "    .dataframe tbody tr th:only-of-type {\n",
       "        vertical-align: middle;\n",
       "    }\n",
       "\n",
       "    .dataframe tbody tr th {\n",
       "        vertical-align: top;\n",
       "    }\n",
       "\n",
       "    .dataframe thead th {\n",
       "        text-align: right;\n",
       "    }\n",
       "</style>\n",
       "<table border=\"1\" class=\"dataframe\">\n",
       "  <thead>\n",
       "    <tr style=\"text-align: right;\">\n",
       "      <th></th>\n",
       "      <th>Unnamed: 0</th>\n",
       "      <th>region</th>\n",
       "      <th>comuna</th>\n",
       "      <th>ytotcorh</th>\n",
       "      <th>hacinamiento</th>\n",
       "      <th>e6a</th>\n",
       "      <th>pobreza_multi_4d</th>\n",
       "      <th>pobreza_multi_5d</th>\n",
       "    </tr>\n",
       "  </thead>\n",
       "  <tbody>\n",
       "    <tr>\n",
       "      <th>1</th>\n",
       "      <td>1</td>\n",
       "      <td>1.0</td>\n",
       "      <td>-0.520825</td>\n",
       "      <td>211091.0</td>\n",
       "      <td>1.0</td>\n",
       "      <td>7.0</td>\n",
       "      <td>1.0</td>\n",
       "      <td>1.0</td>\n",
       "    </tr>\n",
       "    <tr>\n",
       "      <th>7</th>\n",
       "      <td>7</td>\n",
       "      <td>1.0</td>\n",
       "      <td>-0.520825</td>\n",
       "      <td>463333.0</td>\n",
       "      <td>1.0</td>\n",
       "      <td>8.0</td>\n",
       "      <td>1.0</td>\n",
       "      <td>1.0</td>\n",
       "    </tr>\n",
       "    <tr>\n",
       "      <th>8</th>\n",
       "      <td>8</td>\n",
       "      <td>1.0</td>\n",
       "      <td>-0.520825</td>\n",
       "      <td>463333.0</td>\n",
       "      <td>1.0</td>\n",
       "      <td>11.0</td>\n",
       "      <td>1.0</td>\n",
       "      <td>1.0</td>\n",
       "    </tr>\n",
       "    <tr>\n",
       "      <th>16</th>\n",
       "      <td>16</td>\n",
       "      <td>1.0</td>\n",
       "      <td>-0.520825</td>\n",
       "      <td>438259.0</td>\n",
       "      <td>1.0</td>\n",
       "      <td>6.0</td>\n",
       "      <td>0.0</td>\n",
       "      <td>0.0</td>\n",
       "    </tr>\n",
       "    <tr>\n",
       "      <th>17</th>\n",
       "      <td>17</td>\n",
       "      <td>1.0</td>\n",
       "      <td>-0.520825</td>\n",
       "      <td>420000.0</td>\n",
       "      <td>1.0</td>\n",
       "      <td>14.0</td>\n",
       "      <td>0.0</td>\n",
       "      <td>0.0</td>\n",
       "    </tr>\n",
       "  </tbody>\n",
       "</table>\n",
       "</div>"
      ],
      "text/plain": [
       "    Unnamed: 0  region    comuna  ytotcorh  hacinamiento   e6a  \\\n",
       "1            1     1.0 -0.520825  211091.0           1.0   7.0   \n",
       "7            7     1.0 -0.520825  463333.0           1.0   8.0   \n",
       "8            8     1.0 -0.520825  463333.0           1.0  11.0   \n",
       "16          16     1.0 -0.520825  438259.0           1.0   6.0   \n",
       "17          17     1.0 -0.520825  420000.0           1.0  14.0   \n",
       "\n",
       "    pobreza_multi_4d  pobreza_multi_5d  \n",
       "1                1.0               1.0  \n",
       "7                1.0               1.0  \n",
       "8                1.0               1.0  \n",
       "16               0.0               0.0  \n",
       "17               0.0               0.0  "
      ]
     },
     "execution_count": 15,
     "metadata": {},
     "output_type": "execute_result"
    }
   ],
   "source": [
    "database['comuna'] = (database['comuna'] - database['comuna'].mean()) / (database['comuna'].max() - database['comuna'].min())\n",
    "database.head()\n",
    "\n",
    "# no sé porque hice esto."
   ]
  },
  {
   "cell_type": "markdown",
   "metadata": {
    "colab_type": "text",
    "id": "3xtksHrqcQjF"
   },
   "source": [
    "# Visualizar base de datos generada en scatterplot 3D"
   ]
  },
  {
   "cell_type": "code",
   "execution_count": 26,
   "metadata": {},
   "outputs": [
    {
     "data": {
      "image/png": "[encoded data removed]",
      "text/plain": [
       "<Figure size 432x288 with 1 Axes>"
      ]
     },
     "metadata": {},
     "output_type": "display_data"
    }
   ],
   "source": [
    "# decidí que los atributos más importantes son la comuna, el nivel de estudios y pobreza.\n",
    "# dado que el ingreso y hacinamiento pueden relacionarse con el indice de pobreza\n",
    "\n",
    "fig = plt.figure()\n",
    "ax = plt.axes(projection='3d')\n",
    "\n",
    "x = database['comuna'] \n",
    "y = database['pobreza_multi_5d']\n",
    "z = database['e6a']\n",
    "\n",
    "ax.scatter3D(x, y, z, c=z, cmap='Reds');\n",
    "\n",
    "ax.set_xlabel('Comuna')\n",
    "ax.set_ylabel('Pobreza 5D')\n",
    "ax.set_zlabel('Educación')\n",
    "\n",
    "plt.show()"
   ]
  },
  {
   "cell_type": "markdown",
   "metadata": {
    "colab_type": "text",
    "id": "zl1u5qUNcQjO"
   },
   "source": [
    "# COV, vectores propios, Valores propios"
   ]
  },
  {
   "cell_type": "code",
   "execution_count": 28,
   "metadata": {
    "colab": {},
    "colab_type": "code",
    "id": "_17d8_aUcQjQ"
   },
   "outputs": [
    {
     "name": "stdout",
     "output_type": "stream",
     "text": [
      "NumPy covariance matrix: \n",
      "[[ 3.86700310e+09  2.42197501e+05  1.58542187e+04  7.25200251e+09\n",
      "   5.27041544e+01  6.66017228e+03  2.45539747e+01  5.78208324e+01]\n",
      " [ 2.42197501e+05  1.74200107e+01  1.13952522e+00  3.95041693e+05\n",
      "  -1.06081954e-02  4.06342374e-01 -5.23370771e-03 -2.69332418e-03]\n",
      " [ 1.58542187e+04  1.13952522e+00  7.46366296e-02  2.49853515e+04\n",
      "  -7.44803426e-04  2.48590701e-02 -2.97498025e-04 -1.02389092e-04]\n",
      " [ 7.25200251e+09  3.95041693e+05  2.49853515e+04  2.10259673e+12\n",
      "  -3.40682826e+04  1.16480963e+06 -5.80977784e+04 -6.69640816e+04]\n",
      " [ 5.27041544e+01 -1.06081954e-02 -7.44803426e-04 -3.40682826e+04\n",
      "   1.87042724e-01 -1.50377806e-01  4.91071631e-02  4.28112850e-02]\n",
      " [ 6.66017228e+03  4.06342374e-01  2.48590701e-02  1.16480963e+06\n",
      "  -1.50377806e-01  2.63754885e+01 -2.45252017e-01 -2.69817815e-01]\n",
      " [ 2.45539747e+01 -5.23370771e-03 -2.97498025e-04 -5.80977784e+04\n",
      "   4.91071631e-02 -2.45252017e-01  1.57179411e-01  1.47850105e-01]\n",
      " [ 5.78208324e+01 -2.69332418e-03 -1.02389092e-04 -6.69640816e+04\n",
      "   4.28112850e-02 -2.69817815e-01  1.47850105e-01  1.70195279e-01]]\n",
      "Eigenvectors \n",
      "[[-3.45536280e-03 -9.99994028e-01 -7.45306193e-07 -6.28146423e-05\n",
      "  -6.47849942e-07  2.75169163e-07  2.33087900e-08 -1.27751232e-08]\n",
      " [-1.88277424e-07 -6.26846727e-05  9.39470957e-04  9.97841662e-01\n",
      "   8.48552389e-03 -4.35660710e-03  6.49626525e-02 -2.73317139e-05]\n",
      " [-1.19089341e-08 -4.10411706e-06  1.25787119e-05  6.49620511e-02\n",
      "   5.38311610e-04  2.29331233e-04 -9.97887184e-01  8.70641775e-04]\n",
      " [-9.99994030e-01  3.45536281e-03 -5.52149750e-07  2.86105060e-08\n",
      "   3.82492599e-08  1.52533690e-09 -3.98690029e-10  2.19504686e-09]\n",
      " [ 1.62025797e-08 -4.43582952e-08 -5.18310354e-03 -7.31668658e-03\n",
      "   3.92734597e-01 -9.18834268e-01 -4.42773934e-04  3.77164420e-02]\n",
      " [-5.53987264e-07 -6.85926764e-07  9.99908845e-01 -1.05209599e-03\n",
      "   1.34548361e-02  1.34394257e-04 -4.82688001e-05  3.76978117e-04]\n",
      " [ 2.76309068e-08 -5.86428879e-08 -8.39792987e-03 -4.36759685e-03\n",
      "   6.41680362e-01  2.44516468e-01 -5.16285571e-04 -7.26889361e-01]\n",
      " [ 3.18476116e-08 -7.52758587e-08 -9.16675905e-03 -4.26952768e-03\n",
      "   6.58598909e-01  3.09735749e-01  7.46682897e-04  6.85717454e-01]]\n",
      "\n",
      "Eigenvalues \n",
      "[2.10262179e+12 3.84194466e+09 2.57330112e+01 2.25875085e+00\n",
      " 3.30283507e-01 1.59555648e-01 9.37648118e-05 1.54588971e-02]\n"
     ]
    }
   ],
   "source": [
    "print('NumPy covariance matrix: \\n%s' %np.cov(database.T))\n",
    "cov_mat = np.cov(database.T)\n",
    "\n",
    "eig_vals, eig_vecs = np.linalg.eig(cov_mat)\n",
    "\n",
    "print('Eigenvectors \\n%s' %eig_vecs)\n",
    "print('\\nEigenvalues \\n%s' %eig_vals)"
   ]
  },
  {
   "cell_type": "markdown",
   "metadata": {
    "colab_type": "text",
    "id": "Z19g0xRHcQja"
   },
   "source": [
    "### Ordenar vectores y valores propios"
   ]
  },
  {
   "cell_type": "code",
   "execution_count": 31,
   "metadata": {
    "colab": {},
    "colab_type": "code",
    "id": "n1RQ75LxcQjb",
    "scrolled": true
   },
   "outputs": [
    {
     "name": "stdout",
     "output_type": "stream",
     "text": [
      "Autovalores en orden descendiente:\n",
      "2102621789918.008 [-3.45536280e-03 -1.88277424e-07 -1.19089341e-08 -9.99994030e-01\n",
      "  1.62025797e-08 -5.53987264e-07  2.76309068e-08  3.18476116e-08] \n",
      "\n",
      "3841944663.5982323 [-9.99994028e-01 -6.26846727e-05 -4.10411706e-06  3.45536281e-03\n",
      " -4.43582952e-08 -6.85926764e-07 -5.86428879e-08 -7.52758587e-08] \n",
      "\n",
      "25.733011204317613 [-7.45306193e-07  9.39470957e-04  1.25787119e-05 -5.52149750e-07\n",
      " -5.18310354e-03  9.99908845e-01 -8.39792987e-03 -9.16675905e-03] \n",
      "\n",
      "2.2587508546426056 [-6.28146423e-05  9.97841662e-01  6.49620511e-02  2.86105060e-08\n",
      " -7.31668658e-03 -1.05209599e-03 -4.36759685e-03 -4.26952768e-03] \n",
      "\n",
      "0.3302835067500963 [-6.47849942e-07  8.48552389e-03  5.38311610e-04  3.82492599e-08\n",
      "  3.92734597e-01  1.34548361e-02  6.41680362e-01  6.58598909e-01] \n",
      "\n",
      "0.15955564796820937 [ 2.75169163e-07 -4.35660710e-03  2.29331233e-04  1.52533690e-09\n",
      " -9.18834268e-01  1.34394257e-04  2.44516468e-01  3.09735749e-01] \n",
      "\n",
      "0.015458897135423026 [-1.27751232e-08 -2.73317139e-05  8.70641775e-04  2.19504686e-09\n",
      "  3.77164420e-02  3.76978117e-04 -7.26889361e-01  6.85717454e-01] \n",
      "\n",
      "9.376481178754693e-05 [ 2.33087900e-08  6.49626525e-02 -9.97887184e-01 -3.98690029e-10\n",
      " -4.42773934e-04 -4.82688001e-05 -5.16285571e-04  7.46682897e-04] \n",
      "\n"
     ]
    }
   ],
   "source": [
    "#lista con pares de valores y vectores propios\n",
    "eig_pairs = [(np.abs(eig_vals[i]), eig_vecs[:,i]) for i in range(len(eig_vals))]\n",
    "\n",
    "# Ordenamos estas parejas den orden descendiente con la función sort\n",
    "eig_pairs.sort(key=lambda x: x[0], reverse=True)\n",
    "\n",
    "# Visualizamos la lista de autovalores en orden desdenciente\n",
    "print('Autovalores en orden descendiente:')\n",
    "for i in eig_pairs:\n",
    "    print(i[0], i[1], \"\\n\")"
   ]
  },
  {
   "cell_type": "markdown",
   "metadata": {
    "colab_type": "text",
    "id": "7ZQkLZCjcQjo"
   },
   "source": [
    "### Plot de vectores propios sobre base de datos \n"
   ]
  },
  {
   "cell_type": "code",
   "execution_count": null,
   "metadata": {},
   "outputs": [],
   "source": [
    "## no entendí nada de lo que estamos haciendo"
   ]
  },
  {
   "cell_type": "markdown",
   "metadata": {
    "colab_type": "text",
    "id": "TnzYD9lMcQjy"
   },
   "source": [
    "### Reducir dimensionalidad de base de datos y calcular matriz de covarianza"
   ]
  },
  {
   "cell_type": "code",
   "execution_count": null,
   "metadata": {
    "colab": {
     "base_uri": "https://localhost:8080/",
     "height": 35
    },
    "colab_type": "code",
    "executionInfo": {
     "elapsed": 627,
     "status": "ok",
     "timestamp": 1534770379102,
     "user": {
      "displayName": "FRANCISCO PEREZ GALARCE",
      "photoUrl": "https://lh3.googleusercontent.com/a/default-user=s128",
      "userId": "106679259049755804350"
     },
     "user_tz": 180
    },
    "id": "-CcRpO_QcQj4",
    "outputId": "35951e77-6240-4433-df5b-56539ef052b3"
   },
   "outputs": [],
   "source": []
  },
  {
   "cell_type": "markdown",
   "metadata": {
    "colab_type": "text",
    "id": "w-XoOQ1GcQj9"
   },
   "source": [
    "### Repetir proceso"
   ]
  },
  {
   "cell_type": "code",
   "execution_count": null,
   "metadata": {
    "colab": {},
    "colab_type": "code",
    "id": "4qjzO9kPcQj-"
   },
   "outputs": [],
   "source": []
  }
 ],
 "metadata": {
  "colab": {
   "name": "PCA _ Minería de Datos_ 2018-II.ipynb",
   "provenance": [],
   "version": "0.3.2"
  },
  "kernelspec": {
   "display_name": "Python 3",
   "language": "python",
   "name": "python3"
  },
  "language_info": {
   "codemirror_mode": {
    "name": "ipython",
    "version": 3
   },
   "file_extension": ".py",
   "mimetype": "text/x-python",
   "name": "python",
   "nbconvert_exporter": "python",
   "pygments_lexer": "ipython3",
   "version": "3.6.5"
  }
 },
 "nbformat": 4,
 "nbformat_minor": 1
}
