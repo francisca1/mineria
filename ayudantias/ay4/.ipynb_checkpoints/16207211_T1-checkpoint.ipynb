{
 "cells": [
  {
   "cell_type": "markdown",
   "metadata": {},
   "source": [
    "# Tarea 1 "
   ]
  },
  {
   "cell_type": "markdown",
   "metadata": {},
   "source": [
    "### Código:"
   ]
  },
  {
   "cell_type": "code",
   "execution_count": 4,
   "metadata": {},
   "outputs": [],
   "source": [
    "import pandas as pd\n",
    "import numpy as np\n",
    "from collections import defaultdict\n",
    "from functools import reduce\n",
    "pd.options.mode.chained_assignment = None  # default='warn'\n"
   ]
  },
  {
   "cell_type": "code",
   "execution_count": 5,
   "metadata": {},
   "outputs": [],
   "source": [
    "def load_database(path):\n",
    "    \n",
    "    \"\"\"\n",
    "    Esta función debe cargar la base de datos de acuerdo a un path. Esta función puede servir también \n",
    "    como filtro del número de listas de reproducción a usar para probar a priori.\n",
    "    \"\"\"\n",
    "    data = np.load(path)\n",
    "    database =pd.Series(np.array([x for x in data.item().values()]))\n",
    "    return database"
   ]
  },
  {
   "cell_type": "code",
   "execution_count": 6,
   "metadata": {},
   "outputs": [],
   "source": [
    "def obtener_orden(data, suport):\n",
    "    \n",
    "    \"\"\"Función que se queda con las canciones que pasan el soporte, cuenta su frecuencia y crea un diccionario\n",
    "    ordenado descendentemente, para ocuparlo en el orden de los patterns\"\"\"\n",
    "    \n",
    "    if suport < 1:\n",
    "        suport = suport * len(data)\n",
    "    full_canciones = np.concatenate(data)\n",
    "    canciones, frecuencias = np.unique(full_canciones, return_counts= True)\n",
    "    data_frecuencia = pd.DataFrame(list(zip(canciones,frecuencias)), columns = [\"cancion\", \"frecuencia\"])\n",
    "    data_cumple = data_frecuencia[(data_frecuencia['frecuencia'] >= suport)] \n",
    "    data_cumple = data_cumple.set_index('cancion')\n",
    "    data_cumple = data_cumple.sort_values(\"frecuencia\", ascending= False)\n",
    "    dic = data_cumple.to_dict()\n",
    "    return dic"
   ]
  },
  {
   "cell_type": "code",
   "execution_count": 7,
   "metadata": {},
   "outputs": [],
   "source": [
    "def item_set_ordenado(fila, orden):\n",
    "    tupla = ()\n",
    "    \n",
    "    \"\"\" Función que ordena los itemsets y deja solo los que pasan el soporte \"\"\"\n",
    "    \n",
    "    for cancion in orden['frecuencia'].keys():\n",
    "        if cancion in fila:\n",
    "            tupla += tuple([cancion])\n",
    "    if len(tupla)>0:\n",
    "        return tupla\n",
    "    return None"
   ]
  },
  {
   "cell_type": "code",
   "execution_count": 8,
   "metadata": {},
   "outputs": [],
   "source": [
    "def buscar_pattern_base(lista, cancion):\n",
    "    \n",
    "    \"\"\"Por cada canción se busca los pattern base buscando en los itemsets ordenados, todas las canciones \n",
    "    que se encuentran detrás de esta \"\"\"\n",
    "    \n",
    "    set_de_canciones = tuple()\n",
    "    \n",
    "    if cancion not in lista or lista[0] == cancion: # si la canción buscada no esta en la lista, retorno None\n",
    "        return None\n",
    "    else:\n",
    "        # busco las canciones antecesoras a la canción buscada y me quedo con todas \n",
    "        # ellas excluyendo a la canción buscada.\n",
    "        \n",
    "        for can in lista:\n",
    "            if can == cancion:\n",
    "                break\n",
    "            set_de_canciones += tuple([can])\n",
    "        return set_de_canciones"
   ]
  },
  {
   "cell_type": "code",
   "execution_count": 9,
   "metadata": {},
   "outputs": [],
   "source": [
    "def conditional_fp_tree(cancion,orden, itemsets_ordenados):\n",
    "    \n",
    "    \"\"\"Función que busca los pattern base para cada canción y luego retorna la canción más frecuente entre \n",
    "    todos los pattern, esto ya que si ninguna canción se repite en todos los pattern no habrá ninguna relación que sacar\n",
    "    siendo que si podría ser ya que se repite una gran cantidad de veces \"\"\"    \n",
    "    \n",
    "    q = itemsets_ordenados.apply(buscar_pattern_base, args = [cancion]).dropna() # busco sus pattern_base\n",
    "\n",
    "    sets, frecuencias = np.unique(q, return_counts= True) # redusco los patterns_base y pongo sus conteos para saber cuantas veces se repite cada base\n",
    "    \n",
    "    freq = dict(zip(sets,frecuencias)) # convierto en diccionario\n",
    "    dic = defaultdict(int)\n",
    "    \n",
    "    if len(freq)!= 0:\n",
    "            \n",
    "            for key in freq.keys(): # sumo la frecuencia de todas las canciones \n",
    "                for song in key:\n",
    "                    dic[song]+= freq[key]\n",
    "                    \n",
    "            if len(dic)!= 0:\n",
    "                v = max(dic.keys(), key=lambda k: dic[k])\n",
    "                return {v: dic[v]} #retorno la más repetida."
   ]
  },
  {
   "cell_type": "code",
   "execution_count": 10,
   "metadata": {},
   "outputs": [],
   "source": [
    "def contador(frame, lista):\n",
    "    canciones = ( list(frame[1].keys())[0], frame[0])\n",
    "    lista.update({canciones: frame[1][list(frame[1].keys())[0]]}) \n",
    "    #agrego las nuevas tuplas con sus frecuencias la original para ocuparla para el soporte\n",
    "    #y retorno la combinación en siguiendo el orden\n",
    "    return canciones"
   ]
  },
  {
   "cell_type": "code",
   "execution_count": 11,
   "metadata": {},
   "outputs": [],
   "source": [
    "def obtener_subsets(item):\n",
    "    subs = [[]]\n",
    "    \"\"\"Función que obtiene todos los subsets de un itemset \"\"\"\n",
    "    for elemento in item:\n",
    "        for sub_set in subs:\n",
    "            subs = subs + [list(sub_set)+ [elemento]]\n",
    "    return [set(i) for i in subs if len(set(i))!=0 ]"
   ]
  },
  {
   "cell_type": "code",
   "execution_count": 12,
   "metadata": {},
   "outputs": [],
   "source": [
    "def confianza(data, antecedente, consecuente):\n",
    "    \n",
    "    \"\"\"Esta función calcula la confianza de una regla \"\"\"\n",
    "    \n",
    "    abajo = data[list(antecedente)[0]]\n",
    "                \n",
    "    if data[list(antecedente)[0]]>data[list(consecuente)[0]]:\n",
    "        arriba = data[tuple(tuple(antecedente) + tuple(consecuente))]\n",
    "    else:\n",
    "        arriba = data[tuple(tuple(consecuente)) + tuple(antecedente)]\n",
    "                \n",
    "    return arriba/abajo"
   ]
  },
  {
   "cell_type": "code",
   "execution_count": 13,
   "metadata": {},
   "outputs": [],
   "source": [
    "def rules(item, confidence, data, data_completo):\n",
    "    \n",
    "    \"\"\"\n",
    "    Retorna las reglas que complen con la confianza pedida.\n",
    "    \"\"\"\n",
    "    rules= [] # lista con diccionarios que como key tiene el antecedente, consecuente, confianza y lift\n",
    "    \n",
    "    set1 = set(item)\n",
    "    subsets = obtener_subsets(item)\n",
    "    ## al itemset que  se recibe, se le sacan todos los subset y se hacen las respectivas combincaciones\n",
    "    \n",
    "    for subset in subsets:\n",
    "         if len(set1-subset) != 0:\n",
    "                conf = confianza(data, set1-subset, subset) # se calcula la confianza\n",
    "                if conf >= confidence: #se agrega si pasa la confianza pedida.\n",
    "                    rules.append({'Antecedente': tuple(set1-subset), 'Consecuente': tuple(subset),'Confianza': conf, 'Lift': conf/(data[list(subset)[0]]/len(data_completo))})\n",
    "    if len(rules)>0:\n",
    "        return rules "
   ]
  },
  {
   "cell_type": "code",
   "execution_count": 14,
   "metadata": {},
   "outputs": [],
   "source": [
    "data = load_database(\"spotify.npy\") # se lee el dataset\n",
    "orden = obtener_orden(data, 200) # se ordenan por frecuencia y se dejan solo las que pasan el soporte: 200 en este caso\n",
    "itemsets_ordenados = data.apply(item_set_ordenado, args = [orden]).dropna() # ordenamos las playlists\n",
    "orden_series = pd.Series(list(orden[\"frecuencia\"].keys())) #serie con canciones en orden descendente"
   ]
  },
  {
   "cell_type": "code",
   "execution_count": 15,
   "metadata": {},
   "outputs": [],
   "source": [
    "# por cada cancion en orden_series busco sus patterns y retorno el que más se repita.\n",
    "\n",
    "fp_tree = orden_series.apply(conditional_fp_tree,args = [orden, itemsets_ordenados]) "
   ]
  },
  {
   "cell_type": "code",
   "execution_count": 16,
   "metadata": {
    "scrolled": true
   },
   "outputs": [],
   "source": [
    "#concateno fp_tree con su canción correspondiente \n",
    "frame = pd.concat([orden_series, fp_tree], axis=1).dropna() "
   ]
  },
  {
   "cell_type": "code",
   "execution_count": 17,
   "metadata": {
    "scrolled": true
   },
   "outputs": [],
   "source": [
    "#updateo los nuevas frecuencias y obtengo itemsets \n",
    "frame2 = frame.apply(contador, axis=1, args = [orden[\"frecuencia\"]]).dropna() "
   ]
  },
  {
   "cell_type": "code",
   "execution_count": 18,
   "metadata": {},
   "outputs": [],
   "source": [
    "#obtengo las reglas que pasan la confianza dada\n",
    "final = frame2.apply(rules, args=[0.6, orden[\"frecuencia\"], data]).dropna() "
   ]
  },
  {
   "cell_type": "code",
   "execution_count": 19,
   "metadata": {},
   "outputs": [],
   "source": [
    "reglas_finales = []\n",
    "for i in final:\n",
    "    for j in i:\n",
    "        if len(reglas_finales)<10:\n",
    "            reglas_finales.append(j)\n",
    "        else:\n",
    "            break"
   ]
  },
  {
   "cell_type": "code",
   "execution_count": 212,
   "metadata": {},
   "outputs": [
    {
     "data": {
      "text/plain": [
       "[{'Antecedente': ('XO TOUR Llif3',),\n",
       "  'Consecuente': ('HUMBLE.',),\n",
       "  'Confianza': 0.6181818181818182,\n",
       "  'Lift': 13.152804642166345},\n",
       " {'Antecedente': ('Mask Off',),\n",
       "  'Consecuente': ('HUMBLE.',),\n",
       "  'Confianza': 0.6455696202531646,\n",
       "  'Lift': 13.735523835173714},\n",
       " {'Antecedente': ('Cold Water (feat. Justin Bieber & MØ)',),\n",
       "  'Consecuente': ('Closer',),\n",
       "  'Confianza': 0.6016597510373444,\n",
       "  'Lift': 7.906172812580084},\n",
       " {'Antecedente': ('Slippery (feat. Gucci Mane)',),\n",
       "  'Consecuente': ('HUMBLE.',),\n",
       "  'Confianza': 0.6141078838174274,\n",
       "  'Lift': 13.06612518760484},\n",
       " {'Antecedente': ('DNA.',),\n",
       "  'Consecuente': ('HUMBLE.',),\n",
       "  'Confianza': 0.8189655172413793,\n",
       "  'Lift': 17.424798239178283},\n",
       " {'Antecedente': ('Too Good',),\n",
       "  'Consecuente': ('One Dance',),\n",
       "  'Confianza': 0.6470588235294118,\n",
       "  'Lift': 14.943621790517595}]"
      ]
     },
     "execution_count": 212,
     "metadata": {},
     "output_type": "execute_result"
    }
   ],
   "source": [
    "reglas_finales"
   ]
  },
  {
   "cell_type": "markdown",
   "metadata": {},
   "source": [
    "### Explicación de reglas"
   ]
  },
  {
   "cell_type": "markdown",
   "metadata": {},
   "source": [
    "Para esto tomaré las primeras 4 reglas:\n",
    "\n",
    "Estas lo que indican generalmente es que escuchar la canción que se encuentra en el antecedente, implica que probablemente se escuche la canción que se encuentra en el consecuente.\n",
    "\n",
    "La confianza nos da un valor de escuchar las 2 canciones juntas dado que escuchamos la del antecedente, el valor indica que el x% que se escuche la primera canción se escuchará también la segunda.\n",
    "\n",
    "El lift nos dice como incíde el antecedente en escuchar el consecuente, si es < 1 incide de manera negativa, >1 positiva, = 1 no incide. \n",
    "\n",
    "\n",
    "\n",
    "* XO TOUR Llif3 -> 'HUMBLE.: Confianza 0.61 no tán alto, lift: 13.15, este es bastante mayor que 1, por lo que se incíde de manera positiva.\n",
    "\n",
    "* Mask Off -> HUMBLE.: Confianza 0.64 no tán alta, lift 13.73, este es bastante mayor que 1, por lo que se incíde de manera positiva.\n",
    "\n",
    "* Cold Water (feat. Justin Bieber & MØ) -> Closer: Confianza: 0.60 no tán alta, lift: 7.9, es mayor que 1, por lo que incide, pero esta no afecta tanto como las reglas anteriores.\n",
    "\n",
    "* DNA. -> HUMBLE.: Confienaza: 0.81 alta, lift: 17.42, tanto el lift como la confianza son altos en esta regla, por lo que podemos concluir que estás 2 canciones se encontrarán juntas una grán mayoría de veces"
   ]
  },
  {
   "cell_type": "code",
   "execution_count": null,
   "metadata": {},
   "outputs": [],
   "source": []
  }
 ],
 "metadata": {
  "kernelspec": {
   "display_name": "Python 3",
   "language": "python",
   "name": "python3"
  },
  "language_info": {
   "codemirror_mode": {
    "name": "ipython",
    "version": 3
   },
   "file_extension": ".py",
   "mimetype": "text/x-python",
   "name": "python",
   "nbconvert_exporter": "python",
   "pygments_lexer": "ipython3",
   "version": "3.6.5"
  }
 },
 "nbformat": 4,
 "nbformat_minor": 2
}
