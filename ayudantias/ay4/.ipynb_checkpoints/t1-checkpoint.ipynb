{
 "cells": [
  {
   "cell_type": "code",
   "execution_count": 2,
   "metadata": {},
   "outputs": [],
   "source": [
    "import pandas as pd\n",
    "import numpy as np\n",
    "from collections import defaultdict\n",
    "from functools import reduce\n",
    "pd.options.mode.chained_assignment = None  # default='warn'\n"
   ]
  },
  {
   "cell_type": "code",
   "execution_count": 3,
   "metadata": {},
   "outputs": [],
   "source": [
    "def load_database(path):\n",
    "    \n",
    "    \"\"\"\n",
    "    Esta función debe cargar la base de datos de acuerdo a un path. Esta función puede servir también \n",
    "    como filtro del número de listas de reproducción a usar para probar a priori.\n",
    "    \"\"\"\n",
    "    data = np.load(path)\n",
    "    database =pd.Series(np.array([x for x in data.item().values()]))\n",
    "    return database"
   ]
  },
  {
   "cell_type": "code",
   "execution_count": 4,
   "metadata": {},
   "outputs": [],
   "source": [
    "data = load_database(\"spotify.npy\")"
   ]
  },
  {
   "cell_type": "code",
   "execution_count": 5,
   "metadata": {},
   "outputs": [],
   "source": [
    "def obtener_orden(data, suport):\n",
    "    \n",
    "    \"\"\"Función que se queda con las canciones que pasan el soporte, cuenta su frecuencia y crea un diccionario\n",
    "    ordenado descendentemente, para ocuparlo en el orden de los patterns\"\"\"\n",
    "    \n",
    "    if suport < 1:\n",
    "        suport = suport * len(data)\n",
    "    full_canciones = np.concatenate(data)\n",
    "    canciones, frecuencias = np.unique(full_canciones, return_counts= True)\n",
    "    data_frecuencia = pd.DataFrame(list(zip(canciones,frecuencias)), columns = [\"cancion\", \"frecuencia\"])\n",
    "    data_cumple = data_frecuencia[(data_frecuencia['frecuencia'] > suport)] \n",
    "    data_cumple = data_cumple.set_index('cancion')\n",
    "    data_cumple = data_cumple.sort_values(\"frecuencia\", ascending= False)\n",
    "    dic = data_cumple.to_dict()\n",
    "    return dic"
   ]
  },
  {
   "cell_type": "code",
   "execution_count": 6,
   "metadata": {},
   "outputs": [],
   "source": [
    "orden = obtener_orden(data, 250)"
   ]
  },
  {
   "cell_type": "code",
   "execution_count": 124,
   "metadata": {},
   "outputs": [],
   "source": [
    "orden\n",
    "orden_series = pd.Series(list(orden[\"frecuencia\"].keys()))"
   ]
  },
  {
   "cell_type": "code",
   "execution_count": 8,
   "metadata": {},
   "outputs": [],
   "source": [
    "def item_set_ordenado(fila, orden):\n",
    "    tupla = ()\n",
    "    \n",
    "    \"\"\" Función que ordena los itemsets y deja solo los que pasan el soporte\"\"\"\n",
    "    \n",
    "    for cancion in orden['frecuencia'].keys():\n",
    "        if cancion in fila:\n",
    "            tupla += tuple([cancion])\n",
    "    if len(tupla)>0:\n",
    "        return tupla\n",
    "    return None"
   ]
  },
  {
   "cell_type": "code",
   "execution_count": 9,
   "metadata": {},
   "outputs": [],
   "source": [
    "itemsets_ordenados = data.apply(item_set_ordenado, args = [orden]).dropna()"
   ]
  },
  {
   "cell_type": "code",
   "execution_count": 10,
   "metadata": {},
   "outputs": [
    {
     "data": {
      "text/plain": [
       "0                          (Closer, Forever, Say My Name)\n",
       "1                                                 (Home,)\n",
       "2       (Ignition - Remix, No Role Modelz, Lean On (fe...\n",
       "5                                              (Riptide,)\n",
       "6                                                (Mercy,)\n",
       "7                                            (One Dance,)\n",
       "8               (My Girl, Redbone, Body Like A Back Road)\n",
       "9                                             (Stronger,)\n",
       "12                       (I'm the One, Despacito - Remix)\n",
       "13                                               (Hello,)\n",
       "15                                             (Forever,)\n",
       "22      (Congratulations, Unforgettable, XO TOUR Llif3...\n",
       "23                          (Despacito - Remix, Believer)\n",
       "24                                           (Let It Go,)\n",
       "25                      (Blessings, Hallelujah, Believer)\n",
       "27      (goosebumps, My Girl, Hallelujah, Skinny Love,...\n",
       "28      (Caroline, No Role Modelz, Fake Love, Hello, B...\n",
       "29      (Closer, Congratulations, Shape of You, Mercy,...\n",
       "31      (Congratulations, Caroline, T-Shirt, Slide, go...\n",
       "32                                   (My Girl, September)\n",
       "33                     (Closer, Gold, Skinny Love, Paris)\n",
       "34                                                (Down,)\n",
       "35                                      (No Role Modelz,)\n",
       "37                    (Let Me Love You, Selfish, Deja Vu)\n",
       "39                                               (Paris,)\n",
       "40                                                (Stay,)\n",
       "41                                              (Say It,)\n",
       "42                                       (Unforgettable,)\n",
       "46      (Location, Don't, goosebumps, Say It, Starboy,...\n",
       "48      (Roses, Gold, Sorry, Don't, Hurricane, Say It,...\n",
       "                              ...                        \n",
       "9950                                         (September,)\n",
       "9952    (Closer, HUMBLE., Roses, One Dance, Ride, Let ...\n",
       "9953                            (Redbone, 1-800-273-8255)\n",
       "9955                                           (Forever,)\n",
       "9958                                   (Roses, Hurricane)\n",
       "9959    (Broccoli (feat. Lil Yachty), Forever, Jumpman...\n",
       "9960              (Broccoli (feat. Lil Yachty), Caroline)\n",
       "9961                  (Ignition - Remix, Ni**as In Paris)\n",
       "9963    (Let Me Love You, No Problem (feat. Lil Wayne ...\n",
       "9964                                              (Ride,)\n",
       "9966                                        (Hallelujah,)\n",
       "9967    (Closer, HUMBLE., Fake Love, Black Beatles, Th...\n",
       "9968                                         (The Hills,)\n",
       "9970                                   (Ni**as In Paris,)\n",
       "9972    (HUMBLE., Hello, Redbone, Blessings, Body Like...\n",
       "9973                                              (Down,)\n",
       "9974                              (Don't Stop Believin',)\n",
       "9976                                      (Stay, Forever)\n",
       "9977                                            (Closer,)\n",
       "9981                              (Don't Stop Believin',)\n",
       "9983    (HUMBLE., One Dance, Broccoli (feat. Lil Yacht...\n",
       "9984                         (Home, Alright, Skinny Love)\n",
       "9986                                           (My Girl,)\n",
       "9987               (Sorry, Lean On (feat. MØ & DJ Snake))\n",
       "9988                              (Shape of You, Starboy)\n",
       "9990                                             (Paris,)\n",
       "9991                                              (Down,)\n",
       "9993                                         (Hurricane,)\n",
       "9997                                  (Ignition - Remix,)\n",
       "9999                     (T-Shirt, Body Like A Back Road)\n",
       "Length: 5894, dtype: object"
      ]
     },
     "execution_count": 10,
     "metadata": {},
     "output_type": "execute_result"
    }
   ],
   "source": [
    "itemsets_ordenados"
   ]
  },
  {
   "cell_type": "code",
   "execution_count": 12,
   "metadata": {},
   "outputs": [],
   "source": [
    "def buscar_pattern_base(lista, cancion):\n",
    "    \n",
    "    \"\"\"Función que busca los patrones bases \"\"\"\n",
    "    \n",
    "    set_de_canciones = tuple()\n",
    "    \n",
    "    if cancion not in lista or lista[0] == cancion: # si la canción buscada no esta en la lista, retorno None\n",
    "        return None\n",
    "    else:\n",
    "        # busco las canciones antecesoras a la canción buscada y me quedo con todas \n",
    "        # ellas excluyendo a la canción buscada.\n",
    "        \n",
    "        for can in lista:\n",
    "            if can == cancion:\n",
    "                break\n",
    "            set_de_canciones += tuple([can])\n",
    "        return set_de_canciones"
   ]
  },
  {
   "cell_type": "code",
   "execution_count": 136,
   "metadata": {},
   "outputs": [],
   "source": [
    "def conditional_fp_tree(cancion,orden):\n",
    "    \n",
    "    fp_tree = defaultdict(int)\n",
    "    q = itemsets_ordenados.apply(buscar_pattern_base, args = [cancion]).dropna() # busco sus pattern_base\n",
    "\n",
    "    sets, frecuencias = np.unique(q, return_counts= True) # redusco los patterns_base y pongo sus conteos\n",
    "\n",
    "    freq = dict(zip(sets,frecuencias)) # convierto en diccionario\n",
    "\n",
    "    group_by_subarbol = defaultdict(dict)\n",
    "\n",
    "    for can in orden[\"frecuencia\"].keys():\n",
    "\n",
    "        \"\"\" agrupo los pattern base que vienen del mismo sub arbol \"\"\"\n",
    "\n",
    "        for tupla in freq.keys():\n",
    "            if can == tupla[0]:\n",
    "                group_by_subarbol[can].update({tupla: freq[tupla]})\n",
    "\n",
    "\n",
    "\n",
    "    for subarbol in group_by_subarbol.keys():\n",
    "        if len(group_by_subarbol[subarbol])!= 0:\n",
    "            \"\"\" por cada sub arbol, si no está vacío, busco la canción que se repite en todos los pattern de ese arbol\"\"\"\n",
    "            k = reduce(set.intersection, (set(key) for key in group_by_subarbol[subarbol].keys())) #hago intersección\n",
    "            if len(k) != 0:\n",
    "                v = reduce(lambda x, y: x + y , (group_by_subarbol[subarbol][key] for key in group_by_subarbol[subarbol].keys() if all(x in key for x in key) )) # sumo las ocurrencias\n",
    "                for song in k:\n",
    "                    fp_tree[song] = v # agrego las ocurrencias con sus claves a un diccionario, para luego hacer las rules\n",
    "    return fp_tree\n",
    "            "
   ]
  },
  {
   "cell_type": "code",
   "execution_count": 176,
   "metadata": {},
   "outputs": [],
   "source": [
    "def frequent_pattern(frame):\n",
    "    subs = [[]]\n",
    "    \"\"\"Función que obtiene todos los subsets de un item\"\"\"\n",
    "    for elemento in list(frame[0].keys()):\n",
    "        for sub_set in subs:\n",
    "            subs = subs + [list(sub_set)+ [elemento]]\n",
    "    return [(set(i).union(set([frame[1]])), min([frame[0][i] for i in set(i)])) for i in subs if len(set(i))!=0 ]"
   ]
  },
  {
   "cell_type": "code",
   "execution_count": 192,
   "metadata": {},
   "outputs": [
    {
     "data": {
      "text/plain": [
       "0                                                    {}\n",
       "1                                        {'Closer': 59}\n",
       "2                             {'Closer': 45, 'Home': 5}\n",
       "3             {'Closer': 139, 'Home': 15, 'HUMBLE.': 7}\n",
       "4     {'Closer': 121, 'Home': 8, 'HUMBLE.': 41, 'Ros...\n",
       "5     {'Closer': 118, 'Home': 19, 'HUMBLE.': 12, 'Ro...\n",
       "6     {'Closer': 61, 'Home': 4, 'HUMBLE.': 183, 'Ros...\n",
       "7     {'Closer': 159, 'Home': 5, 'HUMBLE.': 15, 'Ros...\n",
       "8     {'Closer': 107, 'Home': 2, 'HUMBLE.': 106, 'Ro...\n",
       "9     {'Closer': 88, 'Home': 6, 'HUMBLE.': 108, 'Ros...\n",
       "10    {'Closer': 118, 'Home': 25, 'HUMBLE.': 11, 'Ro...\n",
       "11    {'Closer': 31, 'Home': 6, 'HUMBLE.': 114, 'Ros...\n",
       "12    {'Closer': 68, 'Home': 24, 'HUMBLE.': 4, 'Rose...\n",
       "13    {'Closer': 54, 'Home': 1, 'HUMBLE.': 139, 'Con...\n",
       "14    {'Closer': 41, 'Home': 62, 'HUMBLE.': 3, 'Rose...\n",
       "15    {'Closer': 60, 'Home': 3, 'HUMBLE.': 128, 'Ros...\n",
       "16    {'Closer': 54, 'Home': 11, 'HUMBLE.': 36, 'Ros...\n",
       "17    {'Closer': 30, 'Home': 8, 'HUMBLE.': 93, 'Rose...\n",
       "18    {'Closer': 84, 'Home': 10, 'HUMBLE.': 16, 'Ros...\n",
       "19    {'Closer': 26, 'Home': 4, 'HUMBLE.': 184, 'Ros...\n",
       "20    {'Closer': 56, 'Home': 12, 'HUMBLE.': 69, 'Ros...\n",
       "21    {'Closer': 59, 'Home': 10, 'HUMBLE.': 62, 'Ros...\n",
       "22    {'Closer': 81, 'Home': 1, 'Unforgettable': 3, ...\n",
       "23    {'Closer': 149, 'Home': 6, 'HUMBLE.': 9, 'Rose...\n",
       "24    {'Closer': 87, 'Home': 3, 'HUMBLE.': 108, 'Ros...\n",
       "25    {'Closer': 111, 'Home': 12, 'HUMBLE.': 30, 'Ro...\n",
       "26    {'Closer': 71, 'Home': 2, 'Riptide': 2, 'HUMBL...\n",
       "27    {'Closer': 46, 'Home': 7, 'HUMBLE.': 30, 'Rose...\n",
       "28    {'Closer': 60, 'Home': 13, 'HUMBLE.': 33, 'Ros...\n",
       "29    {'Closer': 28, 'Home': 3, 'iSpy (feat. Lil Yac...\n",
       "                            ...                        \n",
       "42    {'Closer': 48, 'Home': 2, 'Riptide': 2, 'Panda...\n",
       "43    {'Closer': 29, 'Home': 19, 'HUMBLE.': 4, 'Rose...\n",
       "44    {'Closer': 70, 'Home': 6, 'HUMBLE.': 53, 'Rose...\n",
       "45    {'Closer': 83, 'Home': 6, 'HUMBLE.': 13, 'Rose...\n",
       "46    {'Closer': 90, 'Home': 4, 'HUMBLE.': 55, 'Rose...\n",
       "47    {'Closer': 33, 'Home': 4, 'HUMBLE.': 89, 'Rose...\n",
       "48    {'Closer': 31, 'Home': 4, 'HUMBLE.': 63, 'Rose...\n",
       "49    {'Closer': 29, 'Home': 1, 'Slide': 3, 'Fake Lo...\n",
       "50    {'Closer': 20, 'Home': 23, 'HUMBLE.': 14, 'Ros...\n",
       "51    {'Closer': 16, 'Home': 13, 'HUMBLE.': 48, 'Ros...\n",
       "52    {'Closer': 42, 'Home': 25, 'Mask Off': 1, 'HUM...\n",
       "53    {'Closer': 44, 'Home': 9, 'HUMBLE.': 24, 'Rose...\n",
       "54    {'Closer': 36, 'Home': 4, 'HUMBLE.': 26, 'Rose...\n",
       "55    {'Closer': 54, 'Home': 8, 'HUMBLE.': 7, 'Roses...\n",
       "56    {'Closer': 24, 'Home': 40, 'Roses': 10, 'One D...\n",
       "57    {'Closer': 47, 'Home': 10, 'HUMBLE.': 15, 'Ros...\n",
       "58    {'Closer': 33, 'Home': 1, 'Despacito - Remix':...\n",
       "59    {'Closer': 21, 'Home': 15, 'HUMBLE.': 3, 'Rose...\n",
       "60    {'Closer': 56, 'Home': 8, 'HUMBLE.': 19, 'Rose...\n",
       "61    {'Closer': 44, 'Home': 13, 'HUMBLE.': 12, 'Ros...\n",
       "62    {'Closer': 102, 'Home': 12, 'HUMBLE.': 16, 'Ro...\n",
       "63    {'Closer': 74, 'Home': 1, 'Say It': 1, 'Let Me...\n",
       "64    {'Closer': 32, 'Home': 4, 'HUMBLE.': 63, 'Rose...\n",
       "65    {'Closer': 37, 'Home': 4, 'HUMBLE.': 90, 'Rose...\n",
       "66    {'Closer': 31, 'Home': 6, 'HUMBLE.': 33, 'Rose...\n",
       "67    {'Closer': 41, 'Home': 1, 'Despacito - Remix':...\n",
       "68    {'Closer': 18, 'Home': 22, 'HUMBLE.': 6, 'Rose...\n",
       "69    {'Closer': 26, 'Home': 4, 'HUMBLE.': 107, 'Ros...\n",
       "70    {'Closer': 45, 'Home': 14, 'HUMBLE.': 32, 'Ros...\n",
       "71    {'Closer': 16, 'Home': 1, 'Caroline': 7, 'I'm ...\n",
       "Length: 72, dtype: object"
      ]
     },
     "execution_count": 192,
     "metadata": {},
     "output_type": "execute_result"
    }
   ],
   "source": [
    "a = orden_series.apply(conditional_fp_tree,args = [orden])\n",
    "a"
   ]
  },
  {
   "cell_type": "code",
   "execution_count": 196,
   "metadata": {},
   "outputs": [],
   "source": [
    "frame = pd.concat([a, orden_series], axis=1)\n",
    "frame = frame.iloc[ 0:8 , : ]\n",
    "frame"
   ]
  },
  {
   "cell_type": "code",
   "execution_count": null,
   "metadata": {},
   "outputs": [],
   "source": [
    "frame.apply(frequent_pattern, axis=1)"
   ]
  },
  {
   "cell_type": "code",
   "execution_count": 191,
   "metadata": {},
   "outputs": [
    {
     "ename": "KeyboardInterrupt",
     "evalue": "",
     "output_type": "error",
     "traceback": [
      "\u001b[0;31m---------------------------------------------------------------------------\u001b[0m",
      "\u001b[0;31mKeyboardInterrupt\u001b[0m                         Traceback (most recent call last)",
      "\u001b[0;32m<ipython-input-191-7b193b9a1501>\u001b[0m in \u001b[0;36m<module>\u001b[0;34m()\u001b[0m\n\u001b[0;32m----> 1\u001b[0;31m \u001b[0mframe\u001b[0m\u001b[0;34m.\u001b[0m\u001b[0mapply\u001b[0m\u001b[0;34m(\u001b[0m\u001b[0mfrequent_pattern\u001b[0m\u001b[0;34m,\u001b[0m \u001b[0maxis\u001b[0m\u001b[0;34m=\u001b[0m\u001b[0;36m1\u001b[0m\u001b[0;34m)\u001b[0m\u001b[0;34m\u001b[0m\u001b[0m\n\u001b[0m",
      "\u001b[0;32m~/anaconda3/lib/python3.6/site-packages/pandas/core/frame.py\u001b[0m in \u001b[0;36mapply\u001b[0;34m(self, func, axis, broadcast, raw, reduce, result_type, args, **kwds)\u001b[0m\n\u001b[1;32m   6002\u001b[0m                          \u001b[0margs\u001b[0m\u001b[0;34m=\u001b[0m\u001b[0margs\u001b[0m\u001b[0;34m,\u001b[0m\u001b[0;34m\u001b[0m\u001b[0m\n\u001b[1;32m   6003\u001b[0m                          kwds=kwds)\n\u001b[0;32m-> 6004\u001b[0;31m         \u001b[0;32mreturn\u001b[0m \u001b[0mop\u001b[0m\u001b[0;34m.\u001b[0m\u001b[0mget_result\u001b[0m\u001b[0;34m(\u001b[0m\u001b[0;34m)\u001b[0m\u001b[0;34m\u001b[0m\u001b[0m\n\u001b[0m\u001b[1;32m   6005\u001b[0m \u001b[0;34m\u001b[0m\u001b[0m\n\u001b[1;32m   6006\u001b[0m     \u001b[0;32mdef\u001b[0m \u001b[0mapplymap\u001b[0m\u001b[0;34m(\u001b[0m\u001b[0mself\u001b[0m\u001b[0;34m,\u001b[0m \u001b[0mfunc\u001b[0m\u001b[0;34m)\u001b[0m\u001b[0;34m:\u001b[0m\u001b[0;34m\u001b[0m\u001b[0m\n",
      "\u001b[0;32m~/anaconda3/lib/python3.6/site-packages/pandas/core/apply.py\u001b[0m in \u001b[0;36mget_result\u001b[0;34m(self)\u001b[0m\n\u001b[1;32m    140\u001b[0m             \u001b[0;32mreturn\u001b[0m \u001b[0mself\u001b[0m\u001b[0;34m.\u001b[0m\u001b[0mapply_raw\u001b[0m\u001b[0;34m(\u001b[0m\u001b[0;34m)\u001b[0m\u001b[0;34m\u001b[0m\u001b[0m\n\u001b[1;32m    141\u001b[0m \u001b[0;34m\u001b[0m\u001b[0m\n\u001b[0;32m--> 142\u001b[0;31m         \u001b[0;32mreturn\u001b[0m \u001b[0mself\u001b[0m\u001b[0;34m.\u001b[0m\u001b[0mapply_standard\u001b[0m\u001b[0;34m(\u001b[0m\u001b[0;34m)\u001b[0m\u001b[0;34m\u001b[0m\u001b[0m\n\u001b[0m\u001b[1;32m    143\u001b[0m \u001b[0;34m\u001b[0m\u001b[0m\n\u001b[1;32m    144\u001b[0m     \u001b[0;32mdef\u001b[0m \u001b[0mapply_empty_result\u001b[0m\u001b[0;34m(\u001b[0m\u001b[0mself\u001b[0m\u001b[0;34m)\u001b[0m\u001b[0;34m:\u001b[0m\u001b[0;34m\u001b[0m\u001b[0m\n",
      "\u001b[0;32m~/anaconda3/lib/python3.6/site-packages/pandas/core/apply.py\u001b[0m in \u001b[0;36mapply_standard\u001b[0;34m(self)\u001b[0m\n\u001b[1;32m    240\u001b[0m                                           \u001b[0maxis\u001b[0m\u001b[0;34m=\u001b[0m\u001b[0mself\u001b[0m\u001b[0;34m.\u001b[0m\u001b[0maxis\u001b[0m\u001b[0;34m,\u001b[0m\u001b[0;34m\u001b[0m\u001b[0m\n\u001b[1;32m    241\u001b[0m                                           \u001b[0mdummy\u001b[0m\u001b[0;34m=\u001b[0m\u001b[0mdummy\u001b[0m\u001b[0;34m,\u001b[0m\u001b[0;34m\u001b[0m\u001b[0m\n\u001b[0;32m--> 242\u001b[0;31m                                           labels=labels)\n\u001b[0m\u001b[1;32m    243\u001b[0m                 \u001b[0;32mreturn\u001b[0m \u001b[0mself\u001b[0m\u001b[0;34m.\u001b[0m\u001b[0mobj\u001b[0m\u001b[0;34m.\u001b[0m\u001b[0m_constructor_sliced\u001b[0m\u001b[0;34m(\u001b[0m\u001b[0mresult\u001b[0m\u001b[0;34m,\u001b[0m \u001b[0mindex\u001b[0m\u001b[0;34m=\u001b[0m\u001b[0mlabels\u001b[0m\u001b[0;34m)\u001b[0m\u001b[0;34m\u001b[0m\u001b[0m\n\u001b[1;32m    244\u001b[0m             \u001b[0;32mexcept\u001b[0m \u001b[0mException\u001b[0m\u001b[0;34m:\u001b[0m\u001b[0;34m\u001b[0m\u001b[0m\n",
      "\u001b[0;32mpandas/_libs/reduction.pyx\u001b[0m in \u001b[0;36mpandas._libs.reduction.reduce\u001b[0;34m()\u001b[0m\n",
      "\u001b[0;32mpandas/_libs/reduction.pyx\u001b[0m in \u001b[0;36mpandas._libs.reduction.Reducer.get_result\u001b[0;34m()\u001b[0m\n",
      "\u001b[0;32m<ipython-input-176-8f3cfcdc16da>\u001b[0m in \u001b[0;36mfrequent_pattern\u001b[0;34m(frame)\u001b[0m\n\u001b[1;32m      4\u001b[0m     \u001b[0;32mfor\u001b[0m \u001b[0melemento\u001b[0m \u001b[0;32min\u001b[0m \u001b[0mlist\u001b[0m\u001b[0;34m(\u001b[0m\u001b[0mframe\u001b[0m\u001b[0;34m[\u001b[0m\u001b[0;36m0\u001b[0m\u001b[0;34m]\u001b[0m\u001b[0;34m.\u001b[0m\u001b[0mkeys\u001b[0m\u001b[0;34m(\u001b[0m\u001b[0;34m)\u001b[0m\u001b[0;34m)\u001b[0m\u001b[0;34m:\u001b[0m\u001b[0;34m\u001b[0m\u001b[0m\n\u001b[1;32m      5\u001b[0m         \u001b[0;32mfor\u001b[0m \u001b[0msub_set\u001b[0m \u001b[0;32min\u001b[0m \u001b[0msubs\u001b[0m\u001b[0;34m:\u001b[0m\u001b[0;34m\u001b[0m\u001b[0m\n\u001b[0;32m----> 6\u001b[0;31m             \u001b[0msubs\u001b[0m \u001b[0;34m=\u001b[0m \u001b[0msubs\u001b[0m \u001b[0;34m+\u001b[0m \u001b[0;34m[\u001b[0m\u001b[0mlist\u001b[0m\u001b[0;34m(\u001b[0m\u001b[0msub_set\u001b[0m\u001b[0;34m)\u001b[0m\u001b[0;34m+\u001b[0m \u001b[0;34m[\u001b[0m\u001b[0melemento\u001b[0m\u001b[0;34m]\u001b[0m\u001b[0;34m]\u001b[0m\u001b[0;34m\u001b[0m\u001b[0m\n\u001b[0m\u001b[1;32m      7\u001b[0m     \u001b[0;32mreturn\u001b[0m \u001b[0;34m[\u001b[0m\u001b[0;34m(\u001b[0m\u001b[0mset\u001b[0m\u001b[0;34m(\u001b[0m\u001b[0mi\u001b[0m\u001b[0;34m)\u001b[0m\u001b[0;34m.\u001b[0m\u001b[0munion\u001b[0m\u001b[0;34m(\u001b[0m\u001b[0mset\u001b[0m\u001b[0;34m(\u001b[0m\u001b[0;34m[\u001b[0m\u001b[0mframe\u001b[0m\u001b[0;34m[\u001b[0m\u001b[0;36m1\u001b[0m\u001b[0;34m]\u001b[0m\u001b[0;34m]\u001b[0m\u001b[0;34m)\u001b[0m\u001b[0;34m)\u001b[0m\u001b[0;34m,\u001b[0m \u001b[0mmin\u001b[0m\u001b[0;34m(\u001b[0m\u001b[0;34m[\u001b[0m\u001b[0mframe\u001b[0m\u001b[0;34m[\u001b[0m\u001b[0;36m0\u001b[0m\u001b[0;34m]\u001b[0m\u001b[0;34m[\u001b[0m\u001b[0mi\u001b[0m\u001b[0;34m]\u001b[0m \u001b[0;32mfor\u001b[0m \u001b[0mi\u001b[0m \u001b[0;32min\u001b[0m \u001b[0mset\u001b[0m\u001b[0;34m(\u001b[0m\u001b[0mi\u001b[0m\u001b[0;34m)\u001b[0m\u001b[0;34m]\u001b[0m\u001b[0;34m)\u001b[0m\u001b[0;34m)\u001b[0m \u001b[0;32mfor\u001b[0m \u001b[0mi\u001b[0m \u001b[0;32min\u001b[0m \u001b[0msubs\u001b[0m \u001b[0;32mif\u001b[0m \u001b[0mlen\u001b[0m\u001b[0;34m(\u001b[0m\u001b[0mset\u001b[0m\u001b[0;34m(\u001b[0m\u001b[0mi\u001b[0m\u001b[0;34m)\u001b[0m\u001b[0;34m)\u001b[0m\u001b[0;34m!=\u001b[0m\u001b[0;36m0\u001b[0m \u001b[0;34m]\u001b[0m\u001b[0;34m\u001b[0m\u001b[0m\n",
      "\u001b[0;31mKeyboardInterrupt\u001b[0m: "
     ]
    }
   ],
   "source": []
  },
  {
   "cell_type": "code",
   "execution_count": null,
   "metadata": {},
   "outputs": [],
   "source": []
  }
 ],
 "metadata": {
  "kernelspec": {
   "display_name": "Python 3",
   "language": "python",
   "name": "python3"
  },
  "language_info": {
   "codemirror_mode": {
    "name": "ipython",
    "version": 3
   },
   "file_extension": ".py",
   "mimetype": "text/x-python",
   "name": "python",
   "nbconvert_exporter": "python",
   "pygments_lexer": "ipython3",
   "version": "3.6.5"
  }
 },
 "nbformat": 4,
 "nbformat_minor": 2
}
