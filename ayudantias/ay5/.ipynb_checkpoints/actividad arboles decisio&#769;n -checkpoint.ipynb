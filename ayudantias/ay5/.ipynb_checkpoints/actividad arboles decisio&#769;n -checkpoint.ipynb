{
 "cells": [
  {
   "cell_type": "markdown",
   "metadata": {},
   "source": [
    "# Actividad 3. _Decision Trees_\n",
    "<hr/>\n",
    "\n",
    "**Profesor:** \n",
    "- Mauricio Arriagada \n",
    "\n",
    "**Ayudantes:**\n",
    "- Felipe Barrientos (fnbarrientos@uc.cl)\n",
    "- Javier Dreves (jidreves@uc.cl)\n",
    "- Joaquin Eichholz (jeichholz3@uc.cl)\n",
    "- Astrid San Martín (aesanmar@uc.cl)\n",
    "\n",
    "\n",
    "**Antes de comenzar:**\n",
    "\n",
    "- Laboratorio debe ser realizado **de forma individual**. Obviamente, se pueden discutir ideas, pero cualquier intercambio de códigos **no está permitido**.\n",
    "- Recuerda orientar tu programación a un paradigma funcional.\n",
    "- **¡ Comenta todo tu código !**\n",
    "\n",
    "**Instrucciones de entrega:**\n",
    "\n",
    "- Debe entregar este laboratorio por `siding`, en sección `cuestionarios`. Descargar archivo \".ipynb\" a su equipo y luego subirlo. (También pueden trabajarlo en colab)\n",
    "- Plazo máximo de entrega: **Martes 1 de Octubre, 10.59 pm.**\n",
    "\n",
    "**Evaluación:**\n",
    "- La estructura del código = 0.5\n",
    "- Salida exitosa = 0.5"
   ]
  },
  {
   "cell_type": "markdown",
   "metadata": {},
   "source": [
    "### Actividad Decission Tree\n",
    "\n",
    "En esta actividad deberan implementar desde cero el algoritmo decission Tree y clasificar la base de datos de la encuesta Cases2017 para clasificar la variable ytotcorh (Ingreso total del hogar corregido), luego deben evaluar la efectividad de su algoritmo con precision y recall. \n",
    "\n",
    "Se espera que propongan una o más soluciones para mejorar la efectividad de su algoritmo, pueden realizar una poda del arbol para evitar overfing y/o definir una regla de cuando detener las divisiones en un nodo \n",
    "\n",
    "\n",
    "\n",
    "#### Resumen Decission Tree\n",
    "    \n",
    "    1.- Todos los registros son iguales? \n",
    "        si -> nodo hoja \n",
    "        no -> contiuar en (2)\n",
    "    2.- Tomar la feature que mejor separe los registros de la base de datos\n",
    "    3.- Usar el atributo como nodo raiz\n",
    "    4.- Dividir el set de entrenamiento segun este atributo "
   ]
  },
  {
   "cell_type": "markdown",
   "metadata": {},
   "source": [
    "## Vamos a programar `:)`\n",
    "\n",
    "\n",
    "**Construcción de cada nodo del arbol**\n",
    "\n",
    "   - Lo primero que vamos a hacer es generar cada nodo del árbol (que a su vez es la raíz de otro arbol). Es importante recordar que esta estructura de datos será recursiva. \n",
    "   - Cada nodo (sub-árbol) tendrá asociado una base de datos, una categoría, un valor, su padre y un array correspondientes a sus hijos (que son clase Node). "
   ]
  },
  {
   "cell_type": "code",
   "execution_count": 2,
   "metadata": {},
   "outputs": [],
   "source": [
    "from collections import defaultdict\n",
    "import math\n",
    "import pandas as pd\n",
    "import numpy as np"
   ]
  },
  {
   "cell_type": "code",
   "execution_count": 2,
   "metadata": {},
   "outputs": [],
   "source": [
    "def get_sum(valor, largo):\n",
    "    prob = valor/largo \n",
    "    return (prob)*(math.log2(prob)) ##fucion matematica de entropía"
   ]
  },
  {
   "cell_type": "code",
   "execution_count": 3,
   "metadata": {},
   "outputs": [],
   "source": [
    "def calculate_entropy(df, feature):\n",
    "    columna = df[feature] #la columna de clasificacion\n",
    "    total = len(columna) #el largo de la base de datos\n",
    "    valores = columna.value_counts() #los valores diferentes que tiene y sus contadores\n",
    "    suma = sum(valores.apply(get_sum, args = [total])) #suma de la entropia\n",
    "    return suma*-1"
   ]
  },
  {
   "cell_type": "code",
   "execution_count": 4,
   "metadata": {},
   "outputs": [],
   "source": [
    "class Node():\n",
    "    \n",
    "    def __init__(self, df, value=None, father=None, category=None):\n",
    "        self.df = df\n",
    "        #category será el nombre del nodo(atributo)\n",
    "        self.category = category\n",
    "        #value será los posibles valores de mi padre\n",
    "        self.value = value\n",
    "        self.father = father\n",
    "        self.children = np.array([])                \n",
    "          \n",
    "          \n",
    "    def append_children(self, Node):\n",
    "        \"\"\" \n",
    "        Agregar un nuevo hijo al arbol nodo \n",
    "        \"\"\"\n",
    "        \n",
    "        self.children = np.append(self.children, [Node] ,axis = 0)\n",
    "        return None \n",
    "    \n",
    "    \n",
    "    def select_feature(self):\n",
    "        \"\"\"\n",
    "        Este metodo calcula la entropia de la base de datos y retorna la feature que\n",
    "        mejor separa los registos de las distintas claseldses\n",
    "        \"\"\"\n",
    "        features = list(self.df.columns.values) #saco todos los atributos\n",
    "        features.remove(\"Income\")\n",
    "        entropia = calculate_entropy(self.df, \"Income\") #entropia de la clase a clasificar\n",
    "        largo = len(self.df) #largo del dataset\n",
    "        (maximo, feat) = (0, \"\")\n",
    "        \n",
    "      \n",
    "        for feature in features:\n",
    "            sumatoria = 0 \n",
    "            #para cada atributo saco sus diferentes valores y el contador de cuantas veces aparece\n",
    "            valores = self.df[feature].value_counts()\n",
    "            for elemento in valores.index.tolist():\n",
    "                #por cada valor del atributo, saco las filas del data que tienen ese valor\n",
    "                data = self.df[self.df[feature]== elemento]\n",
    "                #calculo la entropia para ese valor de atributo\n",
    "                entropia_clase = calculate_entropy(data, \"Income\")\n",
    "                #lo multiplico por su frecuencia\n",
    "                sumatoria += (valores[elemento]/largo)*entropia_clase\n",
    "            #calculo la ganancia de información que me da el atributo\n",
    "            ganancia = entropia-sumatoria\n",
    "            #comparo con las anteriores\n",
    "            if ganancia>maximo:\n",
    "                maximo = ganancia\n",
    "                feat = feature\n",
    "        \n",
    "        return feat\n",
    "       \n",
    "    \n",
    "    def split_data_base(self, feature):\n",
    "        \"\"\"\n",
    "        Este metodo recibe una feature y divide la base de datos en base a ella \n",
    "        generando los hijos del nodo.\n",
    "        \"\"\"\n",
    "        \n",
    "        self.category= feature\n",
    "\n",
    "        for valor in self.df[feature].unique():\n",
    "            #por cada valor de la feature, saco las filas que tienen ese valor\n",
    "            dataframe = self.df[self.df[feature] == valor]\n",
    "            nuevo_nodo = Node(dataframe, valor, self)\n",
    "            self.append_children(nuevo_nodo)\n",
    "        return None "
   ]
  },
  {
   "cell_type": "markdown",
   "metadata": {},
   "source": [
    "**Construcción de cada nodo del arbol**\n",
    "\n",
    "   - Primero hay que crear una función que fitee el arbol dados los datos. \n",
    "   - Predict tiene que darnos una predicción de la feature buscada dados los valores de las otras features.  "
   ]
  },
  {
   "cell_type": "code",
   "execution_count": 56,
   "metadata": {},
   "outputs": [],
   "source": [
    "def fit(dataset, min_data, max_deep, nodo):\n",
    "    \"\"\"\n",
    "    Crear recursivamente el arbol con los datos. El algoritmo debe parar cuando se llega a una altura máxima\n",
    "    o cuando queda un mínimo de datos en el set de datos de cada nodo. \n",
    "    \n",
    "    Debe retonar el primer nodo del árbol completado\n",
    "    \"\"\"\n",
    "        \n",
    "    if (max_deep == 0) or  (len(nodo.df[\"Income\"].unique()) ==1) or (len(nodo.df) <= min_data) :\n",
    "        #si es una hoja el nodo, entonces le asigno una clasificacion en categoria\n",
    "        clasificacion = nodo.df[\"Income\"].value_counts().idxmax()\n",
    "        nodo.category = clasificacion\n",
    "        return None\n",
    "    \n",
    "    #selecciono la feature\n",
    "    feature = nodo.select_feature()\n",
    "    \n",
    "    if feature == \"\":\n",
    "        #si la entropía retorno \" \", osea que es 0, le doy la clasificacion del que mas se repite\n",
    "        clasificacion = nodo.df[\"Income\"].value_counts().idxmax()\n",
    "        nodo.category = clasificacion\n",
    "        return None\n",
    "    \n",
    "    #spliteo y creo los nodos hijos\n",
    "    nodo.split_data_base(feature)\n",
    "    for children in nodo.children:\n",
    "        fit(dataset, min_data, max_deep-1, children)\n",
    "        \n",
    "    return None \n",
    "\n",
    "\n",
    "def predict(tree, data_to_predict):\n",
    "    \"\"\"\n",
    "    Predice el valor de un dato nuevo (data_to_predict)\n",
    "    \"\"\"\n",
    "    #recibe una fila del dataframe\n",
    "    \n",
    "    # si no tiene hijos retorno category    \n",
    "    if len(tree.children)==0:\n",
    "        return tree.category\n",
    "    \n",
    "    # si tiene busco en el tree mas abajo.\n",
    "    hijo = [children for children in tree.children if children.value == data_to_predict[tree.category]]\n",
    "    \n",
    "    if len(hijo)==0:\n",
    "        #si el dataset que tree tenía no tenia todos los posibles valores de la variable, retorno el mas repetido \n",
    "        return tree.df[\"Income\"].value_counts().idxmax()\n",
    "    \n",
    "    return predict(hijo[0], data_to_predict)"
   ]
  },
  {
   "cell_type": "markdown",
   "metadata": {},
   "source": [
    "<hr/>\n",
    "<center> <h1>Fin del laboratorio.</h1> </center>\n",
    "​"
   ]
  },
  {
   "cell_type": "code",
   "execution_count": 40,
   "metadata": {},
   "outputs": [],
   "source": [
    "frame = pd.read_csv(\"adult.data.csv\", names = [\"state_gov\", \"77516\", \"bachelors\",\n",
    "\"Age\", \"Civil_state\", \"adm_clerical\", \"Family\", \"Race\", \"Sex\", \"2174\",\n",
    "\"0\", \"40\",\"Country\",\"Income\"])\n",
    "\n",
    "frame = frame.drop(columns = [\"Age\", \"2174\", \"0\", \"40\", \"77516\"])"
   ]
  },
  {
   "cell_type": "code",
   "execution_count": 41,
   "metadata": {},
   "outputs": [],
   "source": [
    "#limpia data\n",
    "frame.replace({' ?': np.nan}, inplace = True)\n",
    "frame.dropna(inplace = True)"
   ]
  },
  {
   "cell_type": "code",
   "execution_count": 42,
   "metadata": {},
   "outputs": [
    {
     "data": {
      "text/html": [
       "<div>\n",
       "<style scoped>\n",
       "    .dataframe tbody tr th:only-of-type {\n",
       "        vertical-align: middle;\n",
       "    }\n",
       "\n",
       "    .dataframe tbody tr th {\n",
       "        vertical-align: top;\n",
       "    }\n",
       "\n",
       "    .dataframe thead th {\n",
       "        text-align: right;\n",
       "    }\n",
       "</style>\n",
       "<table border=\"1\" class=\"dataframe\">\n",
       "  <thead>\n",
       "    <tr style=\"text-align: right;\">\n",
       "      <th></th>\n",
       "      <th>state_gov</th>\n",
       "      <th>bachelors</th>\n",
       "      <th>Civil_state</th>\n",
       "      <th>adm_clerical</th>\n",
       "      <th>Family</th>\n",
       "      <th>Race</th>\n",
       "      <th>Sex</th>\n",
       "      <th>Country</th>\n",
       "      <th>Income</th>\n",
       "    </tr>\n",
       "  </thead>\n",
       "  <tbody>\n",
       "    <tr>\n",
       "      <th>39</th>\n",
       "      <td>State-gov</td>\n",
       "      <td>Bachelors</td>\n",
       "      <td>Never-married</td>\n",
       "      <td>Adm-clerical</td>\n",
       "      <td>Not-in-family</td>\n",
       "      <td>White</td>\n",
       "      <td>Male</td>\n",
       "      <td>United-States</td>\n",
       "      <td>&lt;=50K</td>\n",
       "    </tr>\n",
       "    <tr>\n",
       "      <th>50</th>\n",
       "      <td>Self-emp-not-inc</td>\n",
       "      <td>Bachelors</td>\n",
       "      <td>Married-civ-spouse</td>\n",
       "      <td>Exec-managerial</td>\n",
       "      <td>Husband</td>\n",
       "      <td>White</td>\n",
       "      <td>Male</td>\n",
       "      <td>United-States</td>\n",
       "      <td>&lt;=50K</td>\n",
       "    </tr>\n",
       "    <tr>\n",
       "      <th>38</th>\n",
       "      <td>Private</td>\n",
       "      <td>HS-grad</td>\n",
       "      <td>Divorced</td>\n",
       "      <td>Handlers-cleaners</td>\n",
       "      <td>Not-in-family</td>\n",
       "      <td>White</td>\n",
       "      <td>Male</td>\n",
       "      <td>United-States</td>\n",
       "      <td>&lt;=50K</td>\n",
       "    </tr>\n",
       "    <tr>\n",
       "      <th>53</th>\n",
       "      <td>Private</td>\n",
       "      <td>11th</td>\n",
       "      <td>Married-civ-spouse</td>\n",
       "      <td>Handlers-cleaners</td>\n",
       "      <td>Husband</td>\n",
       "      <td>Black</td>\n",
       "      <td>Male</td>\n",
       "      <td>United-States</td>\n",
       "      <td>&lt;=50K</td>\n",
       "    </tr>\n",
       "    <tr>\n",
       "      <th>28</th>\n",
       "      <td>Private</td>\n",
       "      <td>Bachelors</td>\n",
       "      <td>Married-civ-spouse</td>\n",
       "      <td>Prof-specialty</td>\n",
       "      <td>Wife</td>\n",
       "      <td>Black</td>\n",
       "      <td>Female</td>\n",
       "      <td>Cuba</td>\n",
       "      <td>&lt;=50K</td>\n",
       "    </tr>\n",
       "  </tbody>\n",
       "</table>\n",
       "</div>"
      ],
      "text/plain": [
       "            state_gov   bachelors          Civil_state        adm_clerical  \\\n",
       "39          State-gov   Bachelors        Never-married        Adm-clerical   \n",
       "50   Self-emp-not-inc   Bachelors   Married-civ-spouse     Exec-managerial   \n",
       "38            Private     HS-grad             Divorced   Handlers-cleaners   \n",
       "53            Private        11th   Married-civ-spouse   Handlers-cleaners   \n",
       "28            Private   Bachelors   Married-civ-spouse      Prof-specialty   \n",
       "\n",
       "            Family    Race      Sex         Country  Income  \n",
       "39   Not-in-family   White     Male   United-States   <=50K  \n",
       "50         Husband   White     Male   United-States   <=50K  \n",
       "38   Not-in-family   White     Male   United-States   <=50K  \n",
       "53         Husband   Black     Male   United-States   <=50K  \n",
       "28            Wife   Black   Female            Cuba   <=50K  "
      ]
     },
     "execution_count": 42,
     "metadata": {},
     "output_type": "execute_result"
    }
   ],
   "source": [
    "frame.head()"
   ]
  },
  {
   "cell_type": "code",
   "execution_count": 43,
   "metadata": {},
   "outputs": [],
   "source": [
    "num = int(2*(len(frame)/3))\n",
    "training_set = frame.iloc[0:num]\n",
    "test_set = frame.iloc[num::]"
   ]
  },
  {
   "cell_type": "code",
   "execution_count": 44,
   "metadata": {},
   "outputs": [],
   "source": [
    "Raiz = Node(training_set) #creo la raiz del arbol"
   ]
  },
  {
   "cell_type": "code",
   "execution_count": 45,
   "metadata": {},
   "outputs": [],
   "source": [
    "fit(training_set, 30, 11, Raiz) #fiteo el arbol deacuerdo a un total de elementos maximo y una altura maxima"
   ]
  },
  {
   "cell_type": "code",
   "execution_count": 46,
   "metadata": {},
   "outputs": [
    {
     "data": {
      "text/html": [
       "<div>\n",
       "<style scoped>\n",
       "    .dataframe tbody tr th:only-of-type {\n",
       "        vertical-align: middle;\n",
       "    }\n",
       "\n",
       "    .dataframe tbody tr th {\n",
       "        vertical-align: top;\n",
       "    }\n",
       "\n",
       "    .dataframe thead th {\n",
       "        text-align: right;\n",
       "    }\n",
       "</style>\n",
       "<table border=\"1\" class=\"dataframe\">\n",
       "  <thead>\n",
       "    <tr style=\"text-align: right;\">\n",
       "      <th></th>\n",
       "      <th>state_gov</th>\n",
       "      <th>bachelors</th>\n",
       "      <th>Civil_state</th>\n",
       "      <th>adm_clerical</th>\n",
       "      <th>Family</th>\n",
       "      <th>Race</th>\n",
       "      <th>Sex</th>\n",
       "      <th>Country</th>\n",
       "      <th>Income</th>\n",
       "    </tr>\n",
       "  </thead>\n",
       "  <tbody>\n",
       "    <tr>\n",
       "      <th>57</th>\n",
       "      <td>Private</td>\n",
       "      <td>HS-grad</td>\n",
       "      <td>Married-civ-spouse</td>\n",
       "      <td>Craft-repair</td>\n",
       "      <td>Husband</td>\n",
       "      <td>White</td>\n",
       "      <td>Male</td>\n",
       "      <td>United-States</td>\n",
       "      <td>&gt;50K</td>\n",
       "    </tr>\n",
       "    <tr>\n",
       "      <th>45</th>\n",
       "      <td>Private</td>\n",
       "      <td>HS-grad</td>\n",
       "      <td>Married-civ-spouse</td>\n",
       "      <td>Adm-clerical</td>\n",
       "      <td>Husband</td>\n",
       "      <td>White</td>\n",
       "      <td>Male</td>\n",
       "      <td>United-States</td>\n",
       "      <td>&lt;=50K</td>\n",
       "    </tr>\n",
       "    <tr>\n",
       "      <th>42</th>\n",
       "      <td>Private</td>\n",
       "      <td>Some-college</td>\n",
       "      <td>Separated</td>\n",
       "      <td>Machine-op-inspct</td>\n",
       "      <td>Unmarried</td>\n",
       "      <td>Black</td>\n",
       "      <td>Female</td>\n",
       "      <td>United-States</td>\n",
       "      <td>&lt;=50K</td>\n",
       "    </tr>\n",
       "    <tr>\n",
       "      <th>25</th>\n",
       "      <td>Private</td>\n",
       "      <td>Bachelors</td>\n",
       "      <td>Never-married</td>\n",
       "      <td>Exec-managerial</td>\n",
       "      <td>Own-child</td>\n",
       "      <td>White</td>\n",
       "      <td>Male</td>\n",
       "      <td>United-States</td>\n",
       "      <td>&lt;=50K</td>\n",
       "    </tr>\n",
       "    <tr>\n",
       "      <th>56</th>\n",
       "      <td>Private</td>\n",
       "      <td>HS-grad</td>\n",
       "      <td>Married-civ-spouse</td>\n",
       "      <td>Exec-managerial</td>\n",
       "      <td>Husband</td>\n",
       "      <td>White</td>\n",
       "      <td>Male</td>\n",
       "      <td>United-States</td>\n",
       "      <td>&gt;50K</td>\n",
       "    </tr>\n",
       "  </tbody>\n",
       "</table>\n",
       "</div>"
      ],
      "text/plain": [
       "   state_gov      bachelors          Civil_state        adm_clerical  \\\n",
       "57   Private        HS-grad   Married-civ-spouse        Craft-repair   \n",
       "45   Private        HS-grad   Married-civ-spouse        Adm-clerical   \n",
       "42   Private   Some-college            Separated   Machine-op-inspct   \n",
       "25   Private      Bachelors        Never-married     Exec-managerial   \n",
       "56   Private        HS-grad   Married-civ-spouse     Exec-managerial   \n",
       "\n",
       "        Family    Race      Sex         Country  Income  \n",
       "57     Husband   White     Male   United-States    >50K  \n",
       "45     Husband   White     Male   United-States   <=50K  \n",
       "42   Unmarried   Black   Female   United-States   <=50K  \n",
       "25   Own-child   White     Male   United-States   <=50K  \n",
       "56     Husband   White     Male   United-States    >50K  "
      ]
     },
     "execution_count": 46,
     "metadata": {},
     "output_type": "execute_result"
    }
   ],
   "source": [
    "test_set.head()"
   ]
  },
  {
   "cell_type": "code",
   "execution_count": 57,
   "metadata": {},
   "outputs": [
    {
     "name": "stdout",
     "output_type": "stream",
     "text": [
      "Acertado 0.8177839665804655\n"
     ]
    }
   ],
   "source": [
    "contador = 0\n",
    "\n",
    "for index, row in test_set.iterrows():\n",
    "    obtenido = predict(Raiz, row)\n",
    "    if row[8] == obtenido:\n",
    "        contador += 1\n",
    "print(f\"Acertado {contador/len(test_set)}\")"
   ]
  },
  {
   "cell_type": "code",
   "execution_count": null,
   "metadata": {},
   "outputs": [],
   "source": [
    "for elemento in valores:\n",
    "                #por cada valor del atributo, saco las filas del data que son menores a ese valor\n",
    "                # o mayores o igual a este\n",
    "                \n",
    "                izquierda = self.df[self.df[feature]< elemento]\n",
    "                derecha = self.df[self.df[feature]>= elemento]\n",
    "                \n",
    "                #si el split no hace nada en verdad, ganancia de información  = 0\n",
    "                \n",
    "                if len(izquierda) == len(self.df) or len(derecha)==len(self.df):\n",
    "                    #paso al siguiente\n",
    "                    continue\n",
    "                    \n",
    "                #calculo la entropia para el split que produce ese atributo\n",
    "                entropia_derecha = calculate_entropy(derecha, \"Class\")\n",
    "                entropia_izquierda = calculate_entropy(izquierda, \"Class\")\n",
    "                \n",
    "                #sumatoria\n",
    "                sumatoria = ((len(derecha)/largo)* entropia_derecha) +((len(izquierda)/largo)*entropia_izquierda )\n",
    "                ganancia_split = entropia-sumatoria\n",
    "                #si la ganancia que nos dio la particion anterior es peor que la que tenemos ahora\n",
    "                # la cambiamos\n",
    "                if mejores_split[feature]< ganancia_split:\n",
    "                    mejores_split[feature] = ganancia_split\n",
    "                    value_split[feature] = elemento"
   ]
  },
  {
   "cell_type": "code",
   "execution_count": null,
   "metadata": {},
   "outputs": [],
   "source": [
    "mejores_split = defaultdict(int)\n",
    "        value_split = defaultdict(int)\n",
    "        #para luego elegir el mejor de ellos.\n",
    "      \n",
    "        for feature in features:\n",
    "            #para cada atributo, saco todos sus valores y decido cual será el mejor split\n",
    "            val = list(self.df[feature].unique())\n",
    "            \n",
    "            if len(val)> 60:\n",
    "                valores = pd.Series(random_values(int(0.05*len(val)), val))\n",
    "            elif len(val)>20 and len(val)<=60:\n",
    "                valores = pd.Series(random_values(int(0.7*len(val)), val))\n",
    "            else:\n",
    "                valores = pd.Series(val)\n",
    "           \n",
    "            ganancias = valores.apply(calculate_best_value, args=(feature, entropia, self.df, \"Class\",))\n",
    "            max_gain = ganancias.idxmax()\n",
    "            if max_gain != 0:\n",
    "                mejores_split[feature] = max_gain\n",
    "                valor_max_gain = valores[max_gain]\n",
    "                value_split[feature] = valor_max_gain"
   ]
  },
  {
   "cell_type": "code",
   "execution_count": null,
   "metadata": {},
   "outputs": [],
   "source": [
    "def func_features(feature, dataset):\n",
    "    val = list(dataset[feature[0]].unique())\n",
    "    if len(val)> 60:\n",
    "        valores = pd.Series(random_values(int(0.05*len(val)), val))\n",
    "    elif len(val)>20 and len(val)<=60:\n",
    "        valores = pd.Series(random_values(int(0.7*len(val)), val))\n",
    "    else:\n",
    "        valores = pd.Series(val)\n",
    "    \n",
    "    ganancias = valores.apply(calculate_best_value, args=(feature[0], entropia, self.df, \"Class\",))\n",
    "    max_gain = ganancias.idxmax()\n",
    "    \n",
    "    mejores_split[feature[0]] = max_gain\n",
    "    valor_max_gain = valores[max_gain]\n",
    "    \n",
    "    return pd.Series([feature[0], max_gain, valor_max_gain])\n",
    "    "
   ]
  },
  {
   "cell_type": "code",
   "execution_count": 126,
   "metadata": {},
   "outputs": [],
   "source": [
    "d = {'col1': [1, 2]}\n",
    "f = pd.DataFrame(data=d)\n",
    "def func(x, wea):\n",
    "    print(wea)\n",
    "    e = x[0]\n",
    "    f = \"hola\"\n",
    "    return pd.Series([e,f])"
   ]
  },
  {
   "cell_type": "code",
   "execution_count": 127,
   "metadata": {},
   "outputs": [
    {
     "name": "stdout",
     "output_type": "stream",
     "text": [
      "2\n",
      "2\n",
      "2\n"
     ]
    }
   ],
   "source": [
    "new = f.apply(func, axis=1, args = (2,))\n"
   ]
  },
  {
   "cell_type": "code",
   "execution_count": 128,
   "metadata": {},
   "outputs": [],
   "source": [
    "new.columns = [\"a\", \"b\"]"
   ]
  },
  {
   "cell_type": "code",
   "execution_count": 131,
   "metadata": {},
   "outputs": [
    {
     "data": {
      "text/plain": [
       "64.2"
      ]
     },
     "execution_count": 131,
     "metadata": {},
     "output_type": "execute_result"
    }
   ],
   "source": [
    "1605*0.04"
   ]
  },
  {
   "cell_type": "code",
   "execution_count": null,
   "metadata": {},
   "outputs": [],
   "source": [
    "for feature in features:\n",
    "            #para cada atributo, saco todos sus valores y decido cual será el mejor split\n",
    "            val = list(self.df[feature].unique())\n",
    "            \n",
    "            if len(val)> 60:\n",
    "                valores = pd.Series(random_values(int(0.05*len(val)), val))\n",
    "            elif len(val)>20 and len(val)<=60:\n",
    "                valores = pd.Series(random_values(int(0.5*len(val)), val))\n",
    "            else:\n",
    "                valores = pd.Series(val)\n",
    "           \n",
    "            ganancias = valores.apply(calculate_best_value, args=(feature, entropia, self.df, \"Class\",))\n",
    "            max_gain = ganancias.idxmax()\n",
    "            if max_gain != 0:\n",
    "                mejores_split[feature] = max_gain\n",
    "                valor_max_gain = valores[max_gain]\n",
    "                value_split[feature] = valor_max_gain"
   ]
  }
 ],
 "metadata": {
  "kernelspec": {
   "display_name": "Python 3",
   "language": "python",
   "name": "python3"
  },
  "language_info": {
   "codemirror_mode": {
    "name": "ipython",
    "version": 3
   },
   "file_extension": ".py",
   "mimetype": "text/x-python",
   "name": "python",
   "nbconvert_exporter": "python",
   "pygments_lexer": "ipython3",
   "version": "3.6.5"
  }
 },
 "nbformat": 4,
 "nbformat_minor": 2
}
