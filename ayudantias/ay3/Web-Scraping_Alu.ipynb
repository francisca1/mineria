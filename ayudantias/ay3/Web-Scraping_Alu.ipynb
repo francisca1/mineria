{
 "cells": [
  {
   "cell_type": "markdown",
   "metadata": {},
   "source": [
    "Ayudantía Martes 28 de agosto de 2019"
   ]
  },
  {
   "cell_type": "markdown",
   "metadata": {},
   "source": [
    "# Actividad Web Scraping"
   ]
  },
  {
   "cell_type": "markdown",
   "metadata": {},
   "source": [
    "## Indicaciones generales :\n",
    "\n",
    "### • En esta actividad deberan ocupar Web Scraping para obtener una base de datos a partir de los datos de bolsos en https://www.newchic.com/es/.\n",
    "### •  Deben obtener los datos de 100 productos con los atributos de: \n",
    "    •  Nombre\n",
    "    •  Rating\n",
    "    •  Precio\n",
    "    •  Oferta\n",
    "    •  Puntos\n",
    "    •  Color\n",
    "    •  Envío\n",
    "    •  Especificación\n",
    "    •  Comentarios (obtener primeros 5)\n",
    "\n",
    "### •  Para esta actividad se debe entregar Notebook y archivo CSV con la base de datos.\n",
    "### • Entrega martes 27 de agosto a las 10:59 pm.\n"
   ]
  },
  {
   "cell_type": "markdown",
   "metadata": {},
   "source": [
    "## Elementos a usar para desarrollar esta actividad :\n",
    "\n",
    "• Usar find(), find all() y select(). Todos permiten la selección de tags. A continuación se muestra un ejemplo de estructura html:\n",
    "    - Tipo de tag\n",
    "        Ej. <a>, <div ...>\n",
    "    - Valores de atributos\n",
    "        Ej. <div class=”abclinksmain”>)\n",
    "    - N-ésimo hijo de/ Hermano de... <div class=”abclinksmain”>\n",
    "        <ul>\n",
    "        <li>—–Primer hijo de <ul> ...\n",
    "        </li>\n",
    "        <li>—–Segundo hijo de <ul>\n",
    "        <a href=”http://www. ...”>\n",
    "        A </a>\n",
    "        </li>\n",
    "        <li>—–Tercer hijo de <ul> ...\n",
    "        </li>\n",
    "        </u> </div>\n",
    "    \n",
    "• Las funciones find() y find all() reciben como parámetro filtros para seleccionar tags. Por otra parte, select() acepta selectores CSS para el filtro. El modo de uso de ambos se indica en la documentación (*).\n",
    "    - Detalles de BeautifulSoup:\n",
    "         Para extraer el valor de un atributo de un tag deben usar tag[“atributo”].\n",
    "         Para acceder a su texto interior deben usar tag.text.\n",
    "    \n",
    "• Obtener página de Inicio : Lo primero que deben hacer es obtener la data html de la página principal haciendo uso de la librería requests. Posteriormente, deben procesar su data a un objeto BeautifulSoup para poder navegar y buscar fácilmente a través del árbol.\n",
    "       - result = requests.get(path)\n",
    "       - content = result.content\n",
    "       - soup = BeautifulSoup(content, 'html.parser')\n",
    "\n",
    "• Obtener url directorios : Si bien en el lapso de tiempo de esta clase no se descargará toda la base de datos, es necesario poder hacer una navegación profunda del sitio.\n",
    "    \n",
    "• Manejo de datos : Poner atención en el manejo de errores en casos en que algún atributo no exista. De no existir, rellenar con string o lista vacía ese atributo en la base de datos.\n",
    "        \n",
    "### (*) Para entender detalles de el uso de BeautifulSoup consultar la documentación https://www.crummy.com/software/BeautifulSoup/bs4/doc/\n"
   ]
  },
  {
   "cell_type": "markdown",
   "metadata": {},
   "source": [
    "## 1. Librerias"
   ]
  },
  {
   "cell_type": "code",
   "execution_count": 50,
   "metadata": {
    "colab": {},
    "colab_type": "code",
    "id": "YO07QeELtW6C"
   },
   "outputs": [],
   "source": [
    "import requests\n",
    "from bs4 import BeautifulSoup, Tag\n",
    "import pandas as pd\n",
    "import numpy as np"
   ]
  },
  {
   "cell_type": "markdown",
   "metadata": {},
   "source": [
    "## 2. Función para obtener los path de cada producto."
   ]
  },
  {
   "cell_type": "code",
   "execution_count": 51,
   "metadata": {},
   "outputs": [
    {
     "name": "stdout",
     "output_type": "stream",
     "text": [
      "100\n"
     ]
    }
   ],
   "source": [
    "main_url = \"https://es.newchic.com/bags-c-3579/\"\n",
    "#salida = open(\"base_bolso.csv\",\"w\",encoding=\"utf-8\")\n",
    "productos = []\n",
    "lista = []\n",
    "i = 0\n",
    "cond = True\n",
    "while cond:\n",
    "    pageContent=requests.get(main_url+str(i)+\".html\")\n",
    "    pageContent.encoding = 'utf-8'\n",
    "    soup=BeautifulSoup(pageContent.text,\"lxml\")\n",
    "    data = soup.find(\"ul\", {\"class\": \"clearfixes newlst_box product-list-js\"}).find_all(\"li\", {\"class\": \"wom_lst_detail product-item-js\"})\n",
    "    for elemento in data:\n",
    "        diccionario = {}\n",
    "        nombre = elemento.find(\"div\",{\"class\":\"wom_lst_pic product-image-js\"}).find(\"a\", href=True)\n",
    "        productos.append(nombre['href'])\n",
    "        if len(productos)==100:\n",
    "            cond = False\n",
    "            break\n",
    "        #precio = elemento.find(\"span\",{\"class\":\"price product-price-js\"}).text\n",
    "        #rating = \"\"\n",
    "        #oferta = elemento.find(\"span\",{\"class\":\"product-discount-js\"}).text\n",
    "        #puntos = \"\"\n",
    "        #color = \"\"\n",
    "        #envio = \" \"\n",
    "    i+=1\n",
    "print(len(productos))\n",
    "        \n",
    "        #descr = elemento.find('a', href=True)\n",
    "        #link = descr['href'].split(\"/\")\n",
    "\n",
    "#datos=pd.DataFrame(lista)\n",
    "#datos.to_csv(salida,sep=';',index=False,encoding='utf-8')\n"
   ]
  },
  {
   "cell_type": "code",
   "execution_count": 52,
   "metadata": {},
   "outputs": [
    {
     "data": {
      "text/plain": [
       "'https://es.newchic.com/brenice-luggageandtravel-bags-4986/p-1509242.html?rmmds=category'"
      ]
     },
     "execution_count": 52,
     "metadata": {},
     "output_type": "execute_result"
    }
   ],
   "source": [
    "productos[0]"
   ]
  },
  {
   "cell_type": "markdown",
   "metadata": {},
   "source": [
    "# 3.Funciones para extraer información del producto con los atributos que se señalan."
   ]
  },
  {
   "cell_type": "code",
   "execution_count": 53,
   "metadata": {},
   "outputs": [],
   "source": [
    "def get_text_with_br(tag, result=''):\n",
    "    for x in tag.contents:\n",
    "        if isinstance(x, Tag):  # check if content is a tag\n",
    "            if x.name == 'br':  # if tag is <br> append it as string\n",
    "                result += str(\"*\")\n",
    "            else:  # for any other tag, recurse\n",
    "                result = get_text_with_br(x, result)\n",
    "        else:  # if content is NavigableString (string), append\n",
    "            result += x\n",
    "\n",
    "    return result\n",
    "\n",
    "#función para separar el texto dentro de in tag si tiene <br>, codigo usado de https://stackoverflow.com/questions/49649090/separating-by-br-tags-in-get-text"
   ]
  },
  {
   "cell_type": "code",
   "execution_count": 54,
   "metadata": {
    "scrolled": true
   },
   "outputs": [],
   "source": [
    "for path in productos:\n",
    "    dic = {}\n",
    "    pageContent=requests.get(path)\n",
    "    pageContent.encoding = 'utf-8'\n",
    "    soup=BeautifulSoup(pageContent.text,\"lxml\")\n",
    "    data = soup.find(\"div\", {\"class\": \"container product-view-container\"})\n",
    "    nombre = data.find(\"h1\", {\"class\": \"d-inline product-info-product-name-js\"}).text\n",
    "    precio = data.find(\"span\",{\"class\":\"px-lg-2 price-number\" }).text\n",
    "    rating = data.find(\"div\",{\"class\" :\"flex align-items-center mx-lg-n2 mt-lg-5\"}).find(\"span\").text[0:3]\n",
    "    oferta = data.find(\"span\",{\"class\": \"px-lg-5 bg-primary text-white font-small product-price__discount product-price-discount-js\"}).text\n",
    "    # puntos = data.find(\"ul\",{\"class\": \"product-price-activity-list-js\"}) no los pude conseeguir, text no me dejaba acceder a ellos.\n",
    "    envio = data.find(\"div\",{\"class\": \"product-info-ship-msg-js\" }).text\n",
    "    es_content = data.find(\"div\",{\"class\" : \"product-description-content font-normal mb-lg-20\" })\n",
    "    color = es_content.find(\"span\")\n",
    "    text = get_text_with_br(color).split(\"*\")\n",
    "    colores = \"\"\n",
    "    especificacion = \"\"\n",
    "    comments = \"\"\n",
    "    if text[0] == 'especificación :':\n",
    "        #borra el tag especificacion de la lista hecha anteriormente\n",
    "        del(text[0])\n",
    "        \n",
    "    for elemento in text:\n",
    "        if \"color\" in elemento.lower():\n",
    "            #busco si en las especificaciones se menciona el color si lo menciona lo agrega, si no, lo deja en blanco\n",
    "            if len(elemento.lower().split(\"color: \"))>1:\n",
    "                colores = elemento.lower().split(\"color: \")[1]\n",
    "            else: \n",
    "                colores = elemento.lower().split(\"color: \")[0]\n",
    "        elif elemento == \"\":\n",
    "            continue\n",
    "        else:\n",
    "            #si no es color, lo agrego al string de especificaciones, no hace falta repetir el color creo.\n",
    "            especificacion += elemento+\",\"\n",
    "    comentarios = data.find(\"div\", {\"class\" :\"reviews-list mb-lg-50\"})\n",
    "    if comentarios:\n",
    "        comentarios = comentarios.find_all(\"div\", {\"class\": \"mb-lg-20\"})\n",
    "        k = 0\n",
    "        for comentario in comentarios:\n",
    "            \n",
    "            com =  comentario.text.replace(\"\\n\",\"\").strip()\n",
    "            if com != \"\":\n",
    "                comments +=com\n",
    "                k+=1\n",
    "                if (k == 5 or (k == len(comentarios))):\n",
    "                    break\n",
    "                comments += \"-\"\n",
    "           \n",
    "    #print(especificacion)\n",
    "    dic[\"nombre\"] = nombre\n",
    "    dic[\"precio\"] = precio\n",
    "    dic[\"rating\"] = rating\n",
    "    dic[\"oferta\"] = oferta\n",
    "    dic[\"envio\"] = envio\n",
    "    dic[\"color\"] = colores\n",
    "    dic[\"especificacion\"] = especificacion.replace(\"\\n\",\",\")\n",
    "    dic[\"comentarios\"] = comments\n",
    "    lista.append(dic)\n",
    "            "
   ]
  },
  {
   "cell_type": "markdown",
   "metadata": {},
   "source": [
    "## 4. Cargar base de datos en un dataframe y almacenar en un archivo con extensión CSV."
   ]
  },
  {
   "cell_type": "code",
   "execution_count": 55,
   "metadata": {
    "colab": {},
    "colab_type": "code",
    "id": "gZmvU6YStW6g"
   },
   "outputs": [],
   "source": [
    "datos=pd.DataFrame(lista)\n",
    "#los comentarios estan separados por un -\n",
    "datos.to_csv(\"out.csv\",sep=';',index=False,encoding='utf-8')"
   ]
  },
  {
   "cell_type": "code",
   "execution_count": 56,
   "metadata": {},
   "outputs": [
    {
     "name": "stdout",
     "output_type": "stream",
     "text": [
      "100\n"
     ]
    }
   ],
   "source": [
    "print(len(lista))"
   ]
  },
  {
   "cell_type": "code",
   "execution_count": null,
   "metadata": {},
   "outputs": [],
   "source": []
  }
 ],
 "metadata": {
  "colab": {
   "name": "[Ayudantes] AC2-Web-Scraping.ipynb",
   "provenance": [],
   "version": "0.3.2"
  },
  "kernelspec": {
   "display_name": "Python 3",
   "language": "python",
   "name": "python3"
  },
  "language_info": {
   "codemirror_mode": {
    "name": "ipython",
    "version": 3
   },
   "file_extension": ".py",
   "mimetype": "text/x-python",
   "name": "python",
   "nbconvert_exporter": "python",
   "pygments_lexer": "ipython3",
   "version": "3.6.5"
  }
 },
 "nbformat": 4,
 "nbformat_minor": 1
}
