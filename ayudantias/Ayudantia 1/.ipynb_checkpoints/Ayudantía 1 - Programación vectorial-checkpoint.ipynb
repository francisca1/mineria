{
 "cells": [
  {
   "cell_type": "markdown",
   "metadata": {},
   "source": [
    "**Material obtenido del ramo IIC2413 - Bases de Datos, semestre 2018-2, profesor Adrián Soto y ampliado por Felipe Barrientos y Joaquín Eichholz para el ramo IIC2433 - Minería de datos**"
   ]
  },
  {
   "cell_type": "markdown",
   "metadata": {},
   "source": [
    "# Inducción a Minería de Datos "
   ]
  },
  {
   "cell_type": "markdown",
   "metadata": {},
   "source": [
    "# Análisis de datos con Python\n",
    "\n",
    "En esta clase veremos la herramienta de análisis de datos `pandas`. Esta herramienta es una librería que permite hacer análisis y limpieza de datos en Python. Está diseñada para trabajar con datos tabulares y heterogéneos. También es utilizada en conjunto con otras herramientas para hacer _Data Science_ como `NumPy`, `SciPy`, `matplotlib` y `scikit-learn`. El objetivo de esta clase/tutorial es tener nociones básicas de la librería `pandas` y conocer cómo esta puede hacer uso de un motor SQL.\n",
    "\n",
    "### Outline\n",
    "\n",
    "En esta clase vamos a ver:\n",
    "\n",
    "- Una introducción a la librería `NumPy`.\n",
    "- Tópicos básicos de la librería `Pandas`:\n",
    " - El tipo `Series`\n",
    " - El tipo `DataFrame`\n",
    " - Proyecciones y filtros en un `DataFrame`\n",
    " - Resumen de los datos\n",
    " - Manejar nulos\n",
    " - Agregación\n",
    " - Índices jerárquicos\n",
    " - Joins\n",
    "- Visualización rápida con `matplotlib`\n",
    "- Una introducción a la librería `Scipy`\n",
    "- Consejos de eficiencia \n",
    "\n",
    "### Requisitos\n",
    "\n",
    "Para esta clase vamos a utilizar Python3 y algunas librerías externas. Las vamos a instalar utilizando pip:\n",
    "\n",
    "```\n",
    "pip3 install --upgrade jupyter matplotlib numpy pandas scipy scikit-learn time seaborn\n",
    "```"
   ]
  },
  {
   "cell_type": "markdown",
   "metadata": {},
   "source": [
    "## Numpy\n",
    "\n",
    "`NumPy` es una librería para hacer computos numéricos en Python. Es la base de muchas otras librerías científicas. Entre otras cosas, nos permite:\n",
    "\n",
    "- Utilizar arreglos multidimensionales.\n",
    "- Utilizar funciones matemáticas.\n",
    "- Utilizar herramientas de álgebra lineal.\n",
    "\n",
    "Necesitamos conocer esta librería (en concreto, el manejo de arreglos) para poder entender el funcionamiento de `pandas`. Para comenzar a trabajar vamos a importar la librería y crear un pequeño arreglo de elementos aleatorios."
   ]
  },
  {
   "cell_type": "markdown",
   "metadata": {},
   "source": [
    "## Datos aleatorios"
   ]
  },
  {
   "cell_type": "code",
   "execution_count": 1,
   "metadata": {},
   "outputs": [
    {
     "data": {
      "text/plain": [
       "array([[-0.99196934,  0.05285209, -0.21172253,  0.5574379 ],\n",
       "       [ 0.34238754,  0.0542832 ,  1.11092957, -0.13405672]])"
      ]
     },
     "execution_count": 1,
     "metadata": {},
     "output_type": "execute_result"
    }
   ],
   "source": [
    "import numpy as np\n",
    "\n",
    "data = np.random.randn(2,4)\n",
    "data"
   ]
  },
  {
   "cell_type": "markdown",
   "metadata": {},
   "source": [
    "###  Ponderar por un escalar\n",
    "A diferencia de una lista, podemos hacer operaciones matriciales, como multiplicar el arreglo `data` por un escalar:"
   ]
  },
  {
   "cell_type": "code",
   "execution_count": 2,
   "metadata": {},
   "outputs": [
    {
     "data": {
      "text/plain": [
       "array([[-9.91969338,  0.52852089, -2.11722532,  5.574379  ],\n",
       "       [ 3.4238754 ,  0.54283203, 11.10929568, -1.34056723]])"
      ]
     },
     "execution_count": 2,
     "metadata": {},
     "output_type": "execute_result"
    }
   ],
   "source": [
    "data * 10"
   ]
  },
  {
   "cell_type": "code",
   "execution_count": 3,
   "metadata": {},
   "outputs": [
    {
     "data": {
      "text/plain": [
       "array([[-9.91969338,  0.52852089, -2.11722532,  5.574379  ],\n",
       "       [ 3.4238754 ,  0.54283203, 11.10929568, -1.34056723]])"
      ]
     },
     "execution_count": 3,
     "metadata": {},
     "output_type": "execute_result"
    }
   ],
   "source": [
    "np.multiply(data, 10)"
   ]
  },
  {
   "cell_type": "markdown",
   "metadata": {},
   "source": [
    "### Suma\n",
    "o sumarle una matriz:"
   ]
  },
  {
   "cell_type": "code",
   "execution_count": 4,
   "metadata": {},
   "outputs": [
    {
     "data": {
      "text/plain": [
       "array([[-1.98393868,  0.10570418, -0.42344506,  1.1148758 ],\n",
       "       [ 0.68477508,  0.10856641,  2.22185914, -0.26811345]])"
      ]
     },
     "execution_count": 4,
     "metadata": {},
     "output_type": "execute_result"
    }
   ],
   "source": [
    "data + data"
   ]
  },
  {
   "cell_type": "markdown",
   "metadata": {},
   "source": [
    "### Crear arreglos\n",
    "\n",
    "Podemos crear arreglos a partir de una lista:"
   ]
  },
  {
   "cell_type": "code",
   "execution_count": 5,
   "metadata": {},
   "outputs": [
    {
     "data": {
      "text/plain": [
       "array([1, 1, 2, 3, 5])"
      ]
     },
     "execution_count": 5,
     "metadata": {},
     "output_type": "execute_result"
    }
   ],
   "source": [
    "data1 = [1, 1, 2, 3, 5]\n",
    "arr1 = np.array(data1)\n",
    "arr1"
   ]
  },
  {
   "cell_type": "code",
   "execution_count": 6,
   "metadata": {},
   "outputs": [
    {
     "data": {
      "text/plain": [
       "array([[ 1,  1,  2,  3],\n",
       "       [ 5,  8, 13, 21]])"
      ]
     },
     "execution_count": 6,
     "metadata": {},
     "output_type": "execute_result"
    }
   ],
   "source": [
    "data2 = [[1, 1, 2, 3], [5, 8, 13, 21]]\n",
    "arr2 =np.array(data2)\n",
    "arr2"
   ]
  },
  {
   "cell_type": "markdown",
   "metadata": {},
   "source": [
    "Para preguntar el número de dimensiones utilizamos `ndim`. Para preguntar las dimensiones utilizamos `shape`."
   ]
  },
  {
   "cell_type": "code",
   "execution_count": 7,
   "metadata": {},
   "outputs": [
    {
     "data": {
      "text/plain": [
       "2"
      ]
     },
     "execution_count": 7,
     "metadata": {},
     "output_type": "execute_result"
    }
   ],
   "source": [
    "arr2.ndim"
   ]
  },
  {
   "cell_type": "code",
   "execution_count": 8,
   "metadata": {},
   "outputs": [
    {
     "data": {
      "text/plain": [
       "(2, 4)"
      ]
     },
     "execution_count": 8,
     "metadata": {},
     "output_type": "execute_result"
    }
   ],
   "source": [
    "arr2.shape"
   ]
  },
  {
   "cell_type": "markdown",
   "metadata": {},
   "source": [
    "### Matrices \n",
    "- Invertir \n",
    "- Trasponer"
   ]
  },
  {
   "cell_type": "code",
   "execution_count": 9,
   "metadata": {},
   "outputs": [
    {
     "data": {
      "text/plain": [
       "matrix([[ 1,  1,  2,  3],\n",
       "        [ 5,  8, 13, 21]])"
      ]
     },
     "execution_count": 9,
     "metadata": {},
     "output_type": "execute_result"
    }
   ],
   "source": [
    "mat1 = np.matrix(arr2)\n",
    "mat1"
   ]
  },
  {
   "cell_type": "code",
   "execution_count": 10,
   "metadata": {},
   "outputs": [
    {
     "data": {
      "text/plain": [
       "matrix([[ 2.33333333, -0.33333333],\n",
       "        [-1.44444444,  0.22222222],\n",
       "        [ 0.88888889, -0.11111111],\n",
       "        [-0.55555556,  0.11111111]])"
      ]
     },
     "execution_count": 10,
     "metadata": {},
     "output_type": "execute_result"
    }
   ],
   "source": [
    "mat1.I"
   ]
  },
  {
   "cell_type": "code",
   "execution_count": 11,
   "metadata": {},
   "outputs": [
    {
     "data": {
      "text/plain": [
       "matrix([[ 1,  5],\n",
       "        [ 1,  8],\n",
       "        [ 2, 13],\n",
       "        [ 3, 21]])"
      ]
     },
     "execution_count": 11,
     "metadata": {},
     "output_type": "execute_result"
    }
   ],
   "source": [
    "mat1.T"
   ]
  },
  {
   "cell_type": "markdown",
   "metadata": {},
   "source": [
    "### Accediendo a elementos\n",
    "\n",
    "Para obtener un elemento:"
   ]
  },
  {
   "cell_type": "code",
   "execution_count": 12,
   "metadata": {},
   "outputs": [
    {
     "data": {
      "text/plain": [
       "array([[ 1,  1,  2,  3],\n",
       "       [ 5,  8, 13, 21]])"
      ]
     },
     "execution_count": 12,
     "metadata": {},
     "output_type": "execute_result"
    }
   ],
   "source": [
    "arr2"
   ]
  },
  {
   "cell_type": "code",
   "execution_count": 13,
   "metadata": {},
   "outputs": [
    {
     "data": {
      "text/plain": [
       "13"
      ]
     },
     "execution_count": 13,
     "metadata": {},
     "output_type": "execute_result"
    }
   ],
   "source": [
    "arr2[1][2]"
   ]
  },
  {
   "cell_type": "code",
   "execution_count": 14,
   "metadata": {},
   "outputs": [
    {
     "data": {
      "text/plain": [
       "13"
      ]
     },
     "execution_count": 14,
     "metadata": {},
     "output_type": "execute_result"
    }
   ],
   "source": [
    "# Podemos acceder de esta forma también.\n",
    "arr2[1, 2]"
   ]
  },
  {
   "cell_type": "code",
   "execution_count": 15,
   "metadata": {},
   "outputs": [
    {
     "data": {
      "text/plain": [
       "array([13, 21])"
      ]
     },
     "execution_count": 15,
     "metadata": {},
     "output_type": "execute_result"
    }
   ],
   "source": [
    "# Podemos acceder de esta forma también.\n",
    "arr2[1, 2:]"
   ]
  },
  {
   "cell_type": "markdown",
   "metadata": {},
   "source": [
    "Los arreglos son mutables:"
   ]
  },
  {
   "cell_type": "code",
   "execution_count": 16,
   "metadata": {},
   "outputs": [
    {
     "data": {
      "text/plain": [
       "array([  1,   1,   2, 300,   5])"
      ]
     },
     "execution_count": 16,
     "metadata": {},
     "output_type": "execute_result"
    }
   ],
   "source": [
    "arr1[3] = 300\n",
    "arr1"
   ]
  },
  {
   "cell_type": "code",
   "execution_count": 17,
   "metadata": {},
   "outputs": [
    {
     "data": {
      "text/plain": [
       "array([[  1,   1,   2,   3],\n",
       "       [  5,   8, 100,  21]])"
      ]
     },
     "execution_count": 17,
     "metadata": {},
     "output_type": "execute_result"
    }
   ],
   "source": [
    "arr2[1, 2] = 100\n",
    "arr2"
   ]
  },
  {
   "cell_type": "markdown",
   "metadata": {},
   "source": [
    "### Arange\n",
    "\n",
    "También tenemos un equivalente a `range` llamado `arange`, pero que genera un arreglo."
   ]
  },
  {
   "cell_type": "code",
   "execution_count": 18,
   "metadata": {},
   "outputs": [
    {
     "data": {
      "text/plain": [
       "array([ 0,  1,  2,  3,  4,  5,  6,  7,  8,  9, 10])"
      ]
     },
     "execution_count": 18,
     "metadata": {},
     "output_type": "execute_result"
    }
   ],
   "source": [
    "np.arange(11)"
   ]
  },
  {
   "cell_type": "markdown",
   "metadata": {},
   "source": [
    "### Operaciones sobre arreglos\n",
    "\n",
    "Algunas operaciones que se pueden hacer sobre un arreglo son:"
   ]
  },
  {
   "cell_type": "code",
   "execution_count": 19,
   "metadata": {},
   "outputs": [
    {
     "data": {
      "text/plain": [
       "array([[1, 2, 3, 4],\n",
       "       [5, 6, 7, 8]])"
      ]
     },
     "execution_count": 19,
     "metadata": {},
     "output_type": "execute_result"
    }
   ],
   "source": [
    "arr = np.array([[1, 2, 3, 4], [5, 6, 7, 8]])\n",
    "arr\n"
   ]
  },
  {
   "cell_type": "markdown",
   "metadata": {},
   "source": [
    "### Elevar elementos de un arreglo"
   ]
  },
  {
   "cell_type": "code",
   "execution_count": 20,
   "metadata": {},
   "outputs": [
    {
     "data": {
      "text/plain": [
       "array([[ 1,  4,  9, 16],\n",
       "       [25, 36, 49, 64]])"
      ]
     },
     "execution_count": 20,
     "metadata": {},
     "output_type": "execute_result"
    }
   ],
   "source": [
    "# Elevar al cuadrado\n",
    "\n",
    "arr * arr"
   ]
  },
  {
   "cell_type": "code",
   "execution_count": 21,
   "metadata": {
    "scrolled": true
   },
   "outputs": [
    {
     "data": {
      "text/plain": [
       "array([[ 1,  4,  9, 16],\n",
       "       [25, 36, 49, 64]])"
      ]
     },
     "execution_count": 21,
     "metadata": {},
     "output_type": "execute_result"
    }
   ],
   "source": [
    "# Elevar al cuadrado\n",
    "\n",
    "np.power(arr, 2)"
   ]
  },
  {
   "cell_type": "markdown",
   "metadata": {},
   "source": [
    "## Operaciones"
   ]
  },
  {
   "cell_type": "code",
   "execution_count": 22,
   "metadata": {},
   "outputs": [
    {
     "data": {
      "text/plain": [
       "array([[2, 3, 4, 5],\n",
       "       [6, 7, 8, 9]])"
      ]
     },
     "execution_count": 22,
     "metadata": {},
     "output_type": "execute_result"
    }
   ],
   "source": [
    "arr + 1"
   ]
  },
  {
   "cell_type": "code",
   "execution_count": 23,
   "metadata": {},
   "outputs": [
    {
     "data": {
      "text/plain": [
       "array([[1, 1, 1, 1],\n",
       "       [1, 1, 1, 1]])"
      ]
     },
     "execution_count": 23,
     "metadata": {},
     "output_type": "execute_result"
    }
   ],
   "source": [
    "(arr + 1) - arr"
   ]
  },
  {
   "cell_type": "code",
   "execution_count": 24,
   "metadata": {},
   "outputs": [
    {
     "data": {
      "text/plain": [
       "array([[1.        , 0.5       , 0.33333333, 0.25      ],\n",
       "       [0.2       , 0.16666667, 0.14285714, 0.125     ]])"
      ]
     },
     "execution_count": 24,
     "metadata": {},
     "output_type": "execute_result"
    }
   ],
   "source": [
    "1 / arr"
   ]
  },
  {
   "cell_type": "code",
   "execution_count": 25,
   "metadata": {
    "scrolled": false
   },
   "outputs": [
    {
     "data": {
      "text/plain": [
       "array([[1.        , 1.41421356, 1.73205081, 2.        ],\n",
       "       [2.23606798, 2.44948974, 2.64575131, 2.82842712]])"
      ]
     },
     "execution_count": 25,
     "metadata": {},
     "output_type": "execute_result"
    }
   ],
   "source": [
    "arr ** 0.5"
   ]
  },
  {
   "cell_type": "markdown",
   "metadata": {},
   "source": [
    "## Funciones numéricas"
   ]
  },
  {
   "cell_type": "code",
   "execution_count": 27,
   "metadata": {
    "scrolled": true
   },
   "outputs": [
    {
     "data": {
      "text/plain": [
       "0.3520653267642995"
      ]
     },
     "execution_count": 27,
     "metadata": {},
     "output_type": "execute_result"
    }
   ],
   "source": [
    "import scipy.stats as stt\n",
    "\n",
    "def norm(x):\n",
    "    return stt.norm.pdf(x, (0.5))\n",
    "\n",
    "norm(1)"
   ]
  },
  {
   "cell_type": "markdown",
   "metadata": {},
   "source": [
    "Apliquemos la funcion norm a cada elemento del arreglo\n"
   ]
  },
  {
   "cell_type": "code",
   "execution_count": 28,
   "metadata": {},
   "outputs": [],
   "source": [
    "arr =  np.random.randn(10000)"
   ]
  },
  {
   "cell_type": "code",
   "execution_count": 40,
   "metadata": {},
   "outputs": [
    {
     "name": "stdout",
     "output_type": "stream",
     "text": [
      "777 µs ± 3.7 µs per loop (mean ± std. dev. of 7 runs, 1000 loops each)\n"
     ]
    }
   ],
   "source": [
    "%%timeit\n",
    "l = []\n",
    "\n",
    "for x in arr:\n",
    "    #\"\"\" no hacer esto \"\"\"\n",
    "    l.append(norm(x))\n",
    "    \n",
    "l = np.array(l)\n",
    "l"
   ]
  },
  {
   "cell_type": "code",
   "execution_count": 41,
   "metadata": {},
   "outputs": [
    {
     "name": "stdout",
     "output_type": "stream",
     "text": [
      "64.9 µs ± 361 ns per loop (mean ± std. dev. of 7 runs, 10000 loops each)\n"
     ]
    }
   ],
   "source": [
    "%%timeit \n",
    "norm(arr)\n",
    "#\"\"\" aplicar de esta manera \"\"\""
   ]
  },
  {
   "cell_type": "markdown",
   "metadata": {},
   "source": [
    "### _Slices_\n",
    "\n",
    "Podemos extraer partes de un arreglo tal como en las listas. También podemos usar esto para cambiar los valores de dichos elementos."
   ]
  },
  {
   "cell_type": "code",
   "execution_count": 36,
   "metadata": {},
   "outputs": [
    {
     "data": {
      "text/plain": [
       "array([ 3,  4,  5,  6,  7,  8,  9, 10, 11, 12, 13, 14])"
      ]
     },
     "execution_count": 36,
     "metadata": {},
     "output_type": "execute_result"
    }
   ],
   "source": [
    "arr = np.arange(3,15)\n",
    "arr"
   ]
  },
  {
   "cell_type": "code",
   "execution_count": 37,
   "metadata": {},
   "outputs": [
    {
     "data": {
      "text/plain": [
       "array([6, 7, 8])"
      ]
     },
     "execution_count": 37,
     "metadata": {},
     "output_type": "execute_result"
    }
   ],
   "source": [
    "arr[3:6]"
   ]
  },
  {
   "cell_type": "code",
   "execution_count": 39,
   "metadata": {},
   "outputs": [
    {
     "data": {
      "text/plain": [
       "array([ 3,  4,  5,  1,  1,  1,  9, 10, 11, 12, 13, 14])"
      ]
     },
     "execution_count": 39,
     "metadata": {},
     "output_type": "execute_result"
    }
   ],
   "source": [
    "arr[3:6] = 1\n",
    "arr"
   ]
  },
  {
   "cell_type": "markdown",
   "metadata": {},
   "source": [
    "### Indexando con booleanos\n",
    "\n",
    "Podemos utilizar comparaciones booleanas con los arreglos:"
   ]
  },
  {
   "cell_type": "code",
   "execution_count": 42,
   "metadata": {},
   "outputs": [
    {
     "data": {
      "text/plain": [
       "array([False, False,  True,  True, False, False])"
      ]
     },
     "execution_count": 42,
     "metadata": {},
     "output_type": "execute_result"
    }
   ],
   "source": [
    "arr = np.array([0, 0, 1, 1, 2, 2])\n",
    "arr == 1"
   ]
  },
  {
   "cell_type": "markdown",
   "metadata": {},
   "source": [
    "Y usarlo para acceder a valores en otros arreglos. Vamos a crear un arreglo multidimensional e ingresar el arreglo anterior como índice:"
   ]
  },
  {
   "cell_type": "code",
   "execution_count": 43,
   "metadata": {},
   "outputs": [
    {
     "data": {
      "text/plain": [
       "array([[ 0.54582762,  0.98488715,  2.42673545],\n",
       "       [ 0.37565685,  1.33537541, -1.53449999],\n",
       "       [-1.69871894, -1.42901187, -1.07147081],\n",
       "       [ 0.96441289, -0.28591953,  3.18539862],\n",
       "       [-0.0390747 , -0.99605312, -1.37314597],\n",
       "       [-0.61457775,  1.03112828, -2.27696217]])"
      ]
     },
     "execution_count": 43,
     "metadata": {},
     "output_type": "execute_result"
    }
   ],
   "source": [
    "arr2 = np.random.randn(6, 3)\n",
    "arr2"
   ]
  },
  {
   "cell_type": "code",
   "execution_count": 44,
   "metadata": {},
   "outputs": [
    {
     "data": {
      "text/plain": [
       "array([[-1.69871894, -1.42901187, -1.07147081],\n",
       "       [ 0.96441289, -0.28591953,  3.18539862]])"
      ]
     },
     "execution_count": 44,
     "metadata": {},
     "output_type": "execute_result"
    }
   ],
   "source": [
    "# Con ello dejamos las filas en donde su número es igual al valor 1 en el arreglo arr\n",
    "\n",
    "arr2[arr == 1]"
   ]
  },
  {
   "cell_type": "markdown",
   "metadata": {},
   "source": [
    "Y también podemos negar la condición:"
   ]
  },
  {
   "cell_type": "code",
   "execution_count": 45,
   "metadata": {},
   "outputs": [
    {
     "data": {
      "text/plain": [
       "array([[ 0.54582762,  0.98488715,  2.42673545],\n",
       "       [ 0.37565685,  1.33537541, -1.53449999],\n",
       "       [-0.0390747 , -0.99605312, -1.37314597],\n",
       "       [-0.61457775,  1.03112828, -2.27696217]])"
      ]
     },
     "execution_count": 45,
     "metadata": {},
     "output_type": "execute_result"
    }
   ],
   "source": [
    "arr2[~(arr == 1)]"
   ]
  },
  {
   "cell_type": "markdown",
   "metadata": {},
   "source": [
    "### Transponer un arreglo\n",
    "\n",
    "Es posible obtener la transpuesta de un arreglo rápidamente."
   ]
  },
  {
   "cell_type": "code",
   "execution_count": 46,
   "metadata": {},
   "outputs": [
    {
     "data": {
      "text/plain": [
       "array([[-0.38069432,  2.25196454,  0.32712939],\n",
       "       [ 0.07879852, -0.48882898, -0.35417326],\n",
       "       [-0.30553527, -0.27209762,  1.49528552],\n",
       "       [-0.81971476, -1.710741  ,  0.38855293],\n",
       "       [-0.08450482,  0.55841002,  0.34842897]])"
      ]
     },
     "execution_count": 46,
     "metadata": {},
     "output_type": "execute_result"
    }
   ],
   "source": [
    "arr = np.random.randn(5, 3)\n",
    "arr"
   ]
  },
  {
   "cell_type": "code",
   "execution_count": 47,
   "metadata": {},
   "outputs": [
    {
     "data": {
      "text/plain": [
       "array([[-0.38069432,  0.07879852, -0.30553527, -0.81971476, -0.08450482],\n",
       "       [ 2.25196454, -0.48882898, -0.27209762, -1.710741  ,  0.55841002],\n",
       "       [ 0.32712939, -0.35417326,  1.49528552,  0.38855293,  0.34842897]])"
      ]
     },
     "execution_count": 47,
     "metadata": {},
     "output_type": "execute_result"
    }
   ],
   "source": [
    "arr.T"
   ]
  },
  {
   "cell_type": "markdown",
   "metadata": {},
   "source": [
    "### Otras funciones estadisticas básicas\n",
    "\n",
    "Tenemos acceso a algunas funciones de estadística básicas. Por ejemplo `sum`, `mean` y `std` nos permiten respectivamente sacar la suma, el promedio y la desviación estándar de un arreglo."
   ]
  },
  {
   "cell_type": "code",
   "execution_count": 48,
   "metadata": {},
   "outputs": [
    {
     "data": {
      "text/plain": [
       "array([-0.00816315,  0.18363278, -0.37415623, ...,  0.46432599,\n",
       "        0.98754977,  0.61606443])"
      ]
     },
     "execution_count": 48,
     "metadata": {},
     "output_type": "execute_result"
    }
   ],
   "source": [
    "arr = np.random.randn(10000)\n",
    "arr"
   ]
  },
  {
   "cell_type": "code",
   "execution_count": 49,
   "metadata": {},
   "outputs": [
    {
     "data": {
      "text/plain": [
       "118.04442871810545"
      ]
     },
     "execution_count": 49,
     "metadata": {},
     "output_type": "execute_result"
    }
   ],
   "source": [
    "arr.sum()"
   ]
  },
  {
   "cell_type": "code",
   "execution_count": 50,
   "metadata": {},
   "outputs": [
    {
     "data": {
      "text/plain": [
       "0.011804442871810546"
      ]
     },
     "execution_count": 50,
     "metadata": {},
     "output_type": "execute_result"
    }
   ],
   "source": [
    "arr.mean()"
   ]
  },
  {
   "cell_type": "code",
   "execution_count": 51,
   "metadata": {},
   "outputs": [
    {
     "data": {
      "text/plain": [
       "1.0087131164241863"
      ]
     },
     "execution_count": 51,
     "metadata": {},
     "output_type": "execute_result"
    }
   ],
   "source": [
    "arr.std()"
   ]
  },
  {
   "cell_type": "markdown",
   "metadata": {},
   "source": [
    "También podemos ordenar:"
   ]
  },
  {
   "cell_type": "code",
   "execution_count": 52,
   "metadata": {},
   "outputs": [
    {
     "data": {
      "text/plain": [
       "array([-3.55992407, -3.50640754, -3.47335937, ...,  3.48921691,\n",
       "        3.49587861,  4.00726202])"
      ]
     },
     "execution_count": 52,
     "metadata": {},
     "output_type": "execute_result"
    }
   ],
   "source": [
    "arr.sort()\n",
    "arr"
   ]
  },
  {
   "cell_type": "markdown",
   "metadata": {},
   "source": [
    "Y pedir elementos distintos: (set)"
   ]
  },
  {
   "cell_type": "code",
   "execution_count": 53,
   "metadata": {},
   "outputs": [
    {
     "data": {
      "text/plain": [
       "array([0, 1, 2])"
      ]
     },
     "execution_count": 53,
     "metadata": {},
     "output_type": "execute_result"
    }
   ],
   "source": [
    "arr = np.array([0, 0, 1, 1, 2, 2])\n",
    "np.unique(arr)"
   ]
  },
  {
   "cell_type": "markdown",
   "metadata": {},
   "source": [
    "## Pandas\n",
    "\n",
    "Para comenzar con `pandas` estudiaremos los tipos `Series` y `DataFrame`. Partimos importando la librería:"
   ]
  },
  {
   "cell_type": "code",
   "execution_count": 54,
   "metadata": {},
   "outputs": [],
   "source": [
    "import pandas as pd"
   ]
  },
  {
   "cell_type": "markdown",
   "metadata": {},
   "source": [
    "### Series\n",
    "\n",
    "Vamos a partir instanciando objetos de tipo `Series`. Estos objetos son como arreglos unidimensionales."
   ]
  },
  {
   "cell_type": "code",
   "execution_count": 55,
   "metadata": {},
   "outputs": [
    {
     "data": {
      "text/plain": [
       "0    1\n",
       "1    3\n",
       "2   -4\n",
       "3    7\n",
       "dtype: int64"
      ]
     },
     "execution_count": 55,
     "metadata": {},
     "output_type": "execute_result"
    }
   ],
   "source": [
    "obj = pd.Series([1, 3, -4, 7])\n",
    "obj"
   ]
  },
  {
   "cell_type": "code",
   "execution_count": 56,
   "metadata": {},
   "outputs": [
    {
     "data": {
      "text/plain": [
       "count    4.000000\n",
       "mean     1.750000\n",
       "std      4.573474\n",
       "min     -4.000000\n",
       "25%     -0.250000\n",
       "50%      2.000000\n",
       "75%      4.000000\n",
       "max      7.000000\n",
       "dtype: float64"
      ]
     },
     "execution_count": 56,
     "metadata": {},
     "output_type": "execute_result"
    }
   ],
   "source": [
    "obj.describe()"
   ]
  },
  {
   "cell_type": "markdown",
   "metadata": {},
   "source": [
    "Para un objeto de tipo `Series` podemos agregar un label a sus índices."
   ]
  },
  {
   "cell_type": "code",
   "execution_count": 57,
   "metadata": {},
   "outputs": [
    {
     "data": {
      "text/plain": [
       "d    1\n",
       "c    3\n",
       "b   -4\n",
       "a    7\n",
       "dtype: int64"
      ]
     },
     "execution_count": 57,
     "metadata": {},
     "output_type": "execute_result"
    }
   ],
   "source": [
    "obj = pd.Series([1, 3, -4, 7], index=['d', 'c', 'b', 'a'])\n",
    "obj"
   ]
  },
  {
   "cell_type": "code",
   "execution_count": 58,
   "metadata": {},
   "outputs": [
    {
     "data": {
      "text/plain": [
       "3"
      ]
     },
     "execution_count": 58,
     "metadata": {},
     "output_type": "execute_result"
    }
   ],
   "source": [
    "obj['c']"
   ]
  },
  {
   "cell_type": "markdown",
   "metadata": {},
   "source": [
    "Podemos seleccionar varios elementos según el label de su índice."
   ]
  },
  {
   "cell_type": "code",
   "execution_count": 59,
   "metadata": {},
   "outputs": [
    {
     "data": {
      "text/plain": [
       "c    3\n",
       "a    7\n",
       "dtype: int64"
      ]
     },
     "execution_count": 59,
     "metadata": {},
     "output_type": "execute_result"
    }
   ],
   "source": [
    "obj[['c', 'a']]"
   ]
  },
  {
   "cell_type": "code",
   "execution_count": 60,
   "metadata": {},
   "outputs": [
    {
     "data": {
      "text/plain": [
       "d    1\n",
       "b   -4\n",
       "dtype: int64"
      ]
     },
     "execution_count": 60,
     "metadata": {},
     "output_type": "execute_result"
    }
   ],
   "source": [
    "obj[[0, 2]]"
   ]
  },
  {
   "cell_type": "markdown",
   "metadata": {},
   "source": [
    "Podemos hacer filtros pasando un arreglo de _booleanos_:"
   ]
  },
  {
   "cell_type": "code",
   "execution_count": 61,
   "metadata": {},
   "outputs": [
    {
     "data": {
      "text/plain": [
       "c    3\n",
       "a    7\n",
       "dtype: int64"
      ]
     },
     "execution_count": 61,
     "metadata": {},
     "output_type": "execute_result"
    }
   ],
   "source": [
    "obj[obj > 2]"
   ]
  },
  {
   "cell_type": "markdown",
   "metadata": {},
   "source": [
    "Recordemos lo que significaba la comparación `obj > 2` en `NumPy`. Esta comparación era una arreglo con el mismo largo que `obj` que tenía el valor `True` en todas las posiciones con valor mayor a 2."
   ]
  },
  {
   "cell_type": "code",
   "execution_count": 62,
   "metadata": {},
   "outputs": [
    {
     "data": {
      "text/plain": [
       "d    False\n",
       "c     True\n",
       "b    False\n",
       "a     True\n",
       "dtype: bool"
      ]
     },
     "execution_count": 62,
     "metadata": {},
     "output_type": "execute_result"
    }
   ],
   "source": [
    "obj > 2"
   ]
  },
  {
   "cell_type": "markdown",
   "metadata": {},
   "source": [
    "Por lo que en `obj[obj > 2]` se muestran sólo las filas en la que el arreglo anterior era `True`.\n",
    "\n",
    "Finalmente, podemos crear un objeto `Series` a partir de un diccionario. Supongamos el siguiente diccionario de personas junto a su edad."
   ]
  },
  {
   "cell_type": "code",
   "execution_count": 63,
   "metadata": {},
   "outputs": [
    {
     "data": {
      "text/plain": [
       "Alice      20\n",
       "Bob        17\n",
       "Charles    23\n",
       "Dino       50\n",
       "dtype: int64"
      ]
     },
     "execution_count": 63,
     "metadata": {},
     "output_type": "execute_result"
    }
   ],
   "source": [
    "people = {'Alice': 20, 'Bob': 17, 'Charles': 23, 'Dino': 50}\n",
    "people_series = pd.Series(people)\n",
    "people_series"
   ]
  },
  {
   "cell_type": "markdown",
   "metadata": {},
   "source": [
    "### DataFrame\n",
    "\n",
    "Un objeto de tipo `DataFrame` representa una tabla, en que cada una de sus columnas representa un tipo. Vamos a construir una tabla a partir de un diccionario."
   ]
  },
  {
   "cell_type": "code",
   "execution_count": 64,
   "metadata": {},
   "outputs": [
    {
     "data": {
      "text/html": [
       "<div>\n",
       "<style scoped>\n",
       "    .dataframe tbody tr th:only-of-type {\n",
       "        vertical-align: middle;\n",
       "    }\n",
       "\n",
       "    .dataframe tbody tr th {\n",
       "        vertical-align: top;\n",
       "    }\n",
       "\n",
       "    .dataframe thead th {\n",
       "        text-align: right;\n",
       "    }\n",
       "</style>\n",
       "<table border=\"1\" class=\"dataframe\">\n",
       "  <thead>\n",
       "    <tr style=\"text-align: right;\">\n",
       "      <th></th>\n",
       "      <th>name</th>\n",
       "      <th>pop</th>\n",
       "      <th>pib</th>\n",
       "    </tr>\n",
       "  </thead>\n",
       "  <tbody>\n",
       "    <tr>\n",
       "      <th>0</th>\n",
       "      <td>Metropolitana</td>\n",
       "      <td>7112808</td>\n",
       "      <td>24850</td>\n",
       "    </tr>\n",
       "    <tr>\n",
       "      <th>1</th>\n",
       "      <td>Valparaiso</td>\n",
       "      <td>1815902</td>\n",
       "      <td>14510</td>\n",
       "    </tr>\n",
       "    <tr>\n",
       "      <th>2</th>\n",
       "      <td>Biobío</td>\n",
       "      <td>1538194</td>\n",
       "      <td>13281</td>\n",
       "    </tr>\n",
       "    <tr>\n",
       "      <th>3</th>\n",
       "      <td>Maule</td>\n",
       "      <td>1044950</td>\n",
       "      <td>12695</td>\n",
       "    </tr>\n",
       "    <tr>\n",
       "      <th>4</th>\n",
       "      <td>Araucanía</td>\n",
       "      <td>957224</td>\n",
       "      <td>11064</td>\n",
       "    </tr>\n",
       "    <tr>\n",
       "      <th>5</th>\n",
       "      <td>O'Higgins</td>\n",
       "      <td>914555</td>\n",
       "      <td>14840</td>\n",
       "    </tr>\n",
       "  </tbody>\n",
       "</table>\n",
       "</div>"
      ],
      "text/plain": [
       "            name      pop    pib\n",
       "0  Metropolitana  7112808  24850\n",
       "1     Valparaiso  1815902  14510\n",
       "2         Biobío  1538194  13281\n",
       "3          Maule  1044950  12695\n",
       "4      Araucanía   957224  11064\n",
       "5      O'Higgins   914555  14840"
      ]
     },
     "execution_count": 64,
     "metadata": {},
     "output_type": "execute_result"
    }
   ],
   "source": [
    "reg_chile = {'name': ['Metropolitana', 'Valparaiso', 'Biobío', 'Maule', 'Araucanía', 'O\\'Higgins'],\n",
    "             'pop': [7112808, 1815902, 1538194, 1044950, 957224, 914555],\n",
    "             'pib': [24850, 14510, 13281, 12695, 11064, 14840]}\n",
    "frame = pd.DataFrame(reg_chile)\n",
    "frame"
   ]
  },
  {
   "cell_type": "markdown",
   "metadata": {},
   "source": [
    "Podemos usar la función `head` para tener sólo las 5 primeras columnas del Data Frame. En este caso no es mucho aporte, pero para un Data Frame más grande no puede servir para ver cómo vienen los datos."
   ]
  },
  {
   "cell_type": "code",
   "execution_count": 65,
   "metadata": {
    "scrolled": false
   },
   "outputs": [
    {
     "data": {
      "text/html": [
       "<div>\n",
       "<style scoped>\n",
       "    .dataframe tbody tr th:only-of-type {\n",
       "        vertical-align: middle;\n",
       "    }\n",
       "\n",
       "    .dataframe tbody tr th {\n",
       "        vertical-align: top;\n",
       "    }\n",
       "\n",
       "    .dataframe thead th {\n",
       "        text-align: right;\n",
       "    }\n",
       "</style>\n",
       "<table border=\"1\" class=\"dataframe\">\n",
       "  <thead>\n",
       "    <tr style=\"text-align: right;\">\n",
       "      <th></th>\n",
       "      <th>name</th>\n",
       "      <th>pop</th>\n",
       "      <th>pib</th>\n",
       "    </tr>\n",
       "  </thead>\n",
       "  <tbody>\n",
       "    <tr>\n",
       "      <th>0</th>\n",
       "      <td>Metropolitana</td>\n",
       "      <td>7112808</td>\n",
       "      <td>24850</td>\n",
       "    </tr>\n",
       "    <tr>\n",
       "      <th>1</th>\n",
       "      <td>Valparaiso</td>\n",
       "      <td>1815902</td>\n",
       "      <td>14510</td>\n",
       "    </tr>\n",
       "    <tr>\n",
       "      <th>2</th>\n",
       "      <td>Biobío</td>\n",
       "      <td>1538194</td>\n",
       "      <td>13281</td>\n",
       "    </tr>\n",
       "    <tr>\n",
       "      <th>3</th>\n",
       "      <td>Maule</td>\n",
       "      <td>1044950</td>\n",
       "      <td>12695</td>\n",
       "    </tr>\n",
       "    <tr>\n",
       "      <th>4</th>\n",
       "      <td>Araucanía</td>\n",
       "      <td>957224</td>\n",
       "      <td>11064</td>\n",
       "    </tr>\n",
       "  </tbody>\n",
       "</table>\n",
       "</div>"
      ],
      "text/plain": [
       "            name      pop    pib\n",
       "0  Metropolitana  7112808  24850\n",
       "1     Valparaiso  1815902  14510\n",
       "2         Biobío  1538194  13281\n",
       "3          Maule  1044950  12695\n",
       "4      Araucanía   957224  11064"
      ]
     },
     "execution_count": 65,
     "metadata": {},
     "output_type": "execute_result"
    }
   ],
   "source": [
    "frame.head()"
   ]
  },
  {
   "cell_type": "markdown",
   "metadata": {},
   "source": [
    "Podemos proyectar valores pasando el nombre de las columnas que deseamos dejar."
   ]
  },
  {
   "cell_type": "code",
   "execution_count": 66,
   "metadata": {},
   "outputs": [
    {
     "data": {
      "text/plain": [
       "0    Metropolitana\n",
       "1       Valparaiso\n",
       "2           Biobío\n",
       "3            Maule\n",
       "4        Araucanía\n",
       "5        O'Higgins\n",
       "Name: name, dtype: object"
      ]
     },
     "execution_count": 66,
     "metadata": {},
     "output_type": "execute_result"
    }
   ],
   "source": [
    "frame['name']"
   ]
  },
  {
   "cell_type": "code",
   "execution_count": 67,
   "metadata": {},
   "outputs": [
    {
     "data": {
      "text/html": [
       "<div>\n",
       "<style scoped>\n",
       "    .dataframe tbody tr th:only-of-type {\n",
       "        vertical-align: middle;\n",
       "    }\n",
       "\n",
       "    .dataframe tbody tr th {\n",
       "        vertical-align: top;\n",
       "    }\n",
       "\n",
       "    .dataframe thead th {\n",
       "        text-align: right;\n",
       "    }\n",
       "</style>\n",
       "<table border=\"1\" class=\"dataframe\">\n",
       "  <thead>\n",
       "    <tr style=\"text-align: right;\">\n",
       "      <th></th>\n",
       "      <th>name</th>\n",
       "      <th>pop</th>\n",
       "    </tr>\n",
       "  </thead>\n",
       "  <tbody>\n",
       "    <tr>\n",
       "      <th>0</th>\n",
       "      <td>Metropolitana</td>\n",
       "      <td>7112808</td>\n",
       "    </tr>\n",
       "    <tr>\n",
       "      <th>1</th>\n",
       "      <td>Valparaiso</td>\n",
       "      <td>1815902</td>\n",
       "    </tr>\n",
       "    <tr>\n",
       "      <th>2</th>\n",
       "      <td>Biobío</td>\n",
       "      <td>1538194</td>\n",
       "    </tr>\n",
       "    <tr>\n",
       "      <th>3</th>\n",
       "      <td>Maule</td>\n",
       "      <td>1044950</td>\n",
       "    </tr>\n",
       "    <tr>\n",
       "      <th>4</th>\n",
       "      <td>Araucanía</td>\n",
       "      <td>957224</td>\n",
       "    </tr>\n",
       "    <tr>\n",
       "      <th>5</th>\n",
       "      <td>O'Higgins</td>\n",
       "      <td>914555</td>\n",
       "    </tr>\n",
       "  </tbody>\n",
       "</table>\n",
       "</div>"
      ],
      "text/plain": [
       "            name      pop\n",
       "0  Metropolitana  7112808\n",
       "1     Valparaiso  1815902\n",
       "2         Biobío  1538194\n",
       "3          Maule  1044950\n",
       "4      Araucanía   957224\n",
       "5      O'Higgins   914555"
      ]
     },
     "execution_count": 67,
     "metadata": {},
     "output_type": "execute_result"
    }
   ],
   "source": [
    "frame[['name', 'pop']]"
   ]
  },
  {
   "cell_type": "markdown",
   "metadata": {},
   "source": [
    "Podemos seleccionar una determinada fila con la función `iloc`."
   ]
  },
  {
   "cell_type": "code",
   "execution_count": 68,
   "metadata": {},
   "outputs": [
    {
     "data": {
      "text/plain": [
       "name      Maule\n",
       "pop     1044950\n",
       "pib       12695\n",
       "Name: 3, dtype: object"
      ]
     },
     "execution_count": 68,
     "metadata": {},
     "output_type": "execute_result"
    }
   ],
   "source": [
    "frame.iloc[3]"
   ]
  },
  {
   "cell_type": "markdown",
   "metadata": {},
   "source": [
    "Podemos utilizar la misma idea de filtros vista anteriormente. Por ejemplo, vamos a dejar sólamente las columnas con población mayor a 1.000.000."
   ]
  },
  {
   "cell_type": "code",
   "execution_count": 69,
   "metadata": {},
   "outputs": [
    {
     "data": {
      "text/html": [
       "<div>\n",
       "<style scoped>\n",
       "    .dataframe tbody tr th:only-of-type {\n",
       "        vertical-align: middle;\n",
       "    }\n",
       "\n",
       "    .dataframe tbody tr th {\n",
       "        vertical-align: top;\n",
       "    }\n",
       "\n",
       "    .dataframe thead th {\n",
       "        text-align: right;\n",
       "    }\n",
       "</style>\n",
       "<table border=\"1\" class=\"dataframe\">\n",
       "  <thead>\n",
       "    <tr style=\"text-align: right;\">\n",
       "      <th></th>\n",
       "      <th>name</th>\n",
       "      <th>pop</th>\n",
       "      <th>pib</th>\n",
       "    </tr>\n",
       "  </thead>\n",
       "  <tbody>\n",
       "    <tr>\n",
       "      <th>0</th>\n",
       "      <td>Metropolitana</td>\n",
       "      <td>7112808</td>\n",
       "      <td>24850</td>\n",
       "    </tr>\n",
       "    <tr>\n",
       "      <th>1</th>\n",
       "      <td>Valparaiso</td>\n",
       "      <td>1815902</td>\n",
       "      <td>14510</td>\n",
       "    </tr>\n",
       "    <tr>\n",
       "      <th>2</th>\n",
       "      <td>Biobío</td>\n",
       "      <td>1538194</td>\n",
       "      <td>13281</td>\n",
       "    </tr>\n",
       "    <tr>\n",
       "      <th>3</th>\n",
       "      <td>Maule</td>\n",
       "      <td>1044950</td>\n",
       "      <td>12695</td>\n",
       "    </tr>\n",
       "  </tbody>\n",
       "</table>\n",
       "</div>"
      ],
      "text/plain": [
       "            name      pop    pib\n",
       "0  Metropolitana  7112808  24850\n",
       "1     Valparaiso  1815902  14510\n",
       "2         Biobío  1538194  13281\n",
       "3          Maule  1044950  12695"
      ]
     },
     "execution_count": 69,
     "metadata": {},
     "output_type": "execute_result"
    }
   ],
   "source": [
    "frame[frame['pop'] > 1000000]"
   ]
  },
  {
   "cell_type": "markdown",
   "metadata": {},
   "source": [
    "Podemos hacer filtros con `&` para hacer un `AND`:"
   ]
  },
  {
   "cell_type": "code",
   "execution_count": 70,
   "metadata": {},
   "outputs": [
    {
     "data": {
      "text/html": [
       "<div>\n",
       "<style scoped>\n",
       "    .dataframe tbody tr th:only-of-type {\n",
       "        vertical-align: middle;\n",
       "    }\n",
       "\n",
       "    .dataframe tbody tr th {\n",
       "        vertical-align: top;\n",
       "    }\n",
       "\n",
       "    .dataframe thead th {\n",
       "        text-align: right;\n",
       "    }\n",
       "</style>\n",
       "<table border=\"1\" class=\"dataframe\">\n",
       "  <thead>\n",
       "    <tr style=\"text-align: right;\">\n",
       "      <th></th>\n",
       "      <th>name</th>\n",
       "      <th>pop</th>\n",
       "      <th>pib</th>\n",
       "    </tr>\n",
       "  </thead>\n",
       "  <tbody>\n",
       "    <tr>\n",
       "      <th>1</th>\n",
       "      <td>Valparaiso</td>\n",
       "      <td>1815902</td>\n",
       "      <td>14510</td>\n",
       "    </tr>\n",
       "    <tr>\n",
       "      <th>2</th>\n",
       "      <td>Biobío</td>\n",
       "      <td>1538194</td>\n",
       "      <td>13281</td>\n",
       "    </tr>\n",
       "    <tr>\n",
       "      <th>3</th>\n",
       "      <td>Maule</td>\n",
       "      <td>1044950</td>\n",
       "      <td>12695</td>\n",
       "    </tr>\n",
       "  </tbody>\n",
       "</table>\n",
       "</div>"
      ],
      "text/plain": [
       "         name      pop    pib\n",
       "1  Valparaiso  1815902  14510\n",
       "2      Biobío  1538194  13281\n",
       "3       Maule  1044950  12695"
      ]
     },
     "execution_count": 70,
     "metadata": {},
     "output_type": "execute_result"
    }
   ],
   "source": [
    "frame[(frame['pop'] > 1000000) & (frame['pib'] < 20000)]"
   ]
  },
  {
   "cell_type": "markdown",
   "metadata": {},
   "source": [
    "Y podemos usar `|` para hacer un `OR`:"
   ]
  },
  {
   "cell_type": "code",
   "execution_count": 71,
   "metadata": {},
   "outputs": [
    {
     "data": {
      "text/html": [
       "<div>\n",
       "<style scoped>\n",
       "    .dataframe tbody tr th:only-of-type {\n",
       "        vertical-align: middle;\n",
       "    }\n",
       "\n",
       "    .dataframe tbody tr th {\n",
       "        vertical-align: top;\n",
       "    }\n",
       "\n",
       "    .dataframe thead th {\n",
       "        text-align: right;\n",
       "    }\n",
       "</style>\n",
       "<table border=\"1\" class=\"dataframe\">\n",
       "  <thead>\n",
       "    <tr style=\"text-align: right;\">\n",
       "      <th></th>\n",
       "      <th>name</th>\n",
       "      <th>pop</th>\n",
       "      <th>pib</th>\n",
       "    </tr>\n",
       "  </thead>\n",
       "  <tbody>\n",
       "    <tr>\n",
       "      <th>0</th>\n",
       "      <td>Metropolitana</td>\n",
       "      <td>7112808</td>\n",
       "      <td>24850</td>\n",
       "    </tr>\n",
       "    <tr>\n",
       "      <th>1</th>\n",
       "      <td>Valparaiso</td>\n",
       "      <td>1815902</td>\n",
       "      <td>14510</td>\n",
       "    </tr>\n",
       "  </tbody>\n",
       "</table>\n",
       "</div>"
      ],
      "text/plain": [
       "            name      pop    pib\n",
       "0  Metropolitana  7112808  24850\n",
       "1     Valparaiso  1815902  14510"
      ]
     },
     "execution_count": 71,
     "metadata": {},
     "output_type": "execute_result"
    }
   ],
   "source": [
    "frame[(frame['name'] == 'Metropolitana') | (frame['name'] == 'Valparaiso')]"
   ]
  },
  {
   "cell_type": "markdown",
   "metadata": {},
   "source": [
    "Existen muchas formas de crear y operar sobre un `DataFrame`. Puedes revisar la documentación para encontrar más."
   ]
  },
  {
   "cell_type": "markdown",
   "metadata": {},
   "source": [
    "### Orden sobre un Data Frame\n",
    "\n",
    "Para ordenar un objeto `DataFrame` usamos la función `sort_values`:"
   ]
  },
  {
   "cell_type": "code",
   "execution_count": 72,
   "metadata": {},
   "outputs": [
    {
     "data": {
      "text/html": [
       "<div>\n",
       "<style scoped>\n",
       "    .dataframe tbody tr th:only-of-type {\n",
       "        vertical-align: middle;\n",
       "    }\n",
       "\n",
       "    .dataframe tbody tr th {\n",
       "        vertical-align: top;\n",
       "    }\n",
       "\n",
       "    .dataframe thead th {\n",
       "        text-align: right;\n",
       "    }\n",
       "</style>\n",
       "<table border=\"1\" class=\"dataframe\">\n",
       "  <thead>\n",
       "    <tr style=\"text-align: right;\">\n",
       "      <th></th>\n",
       "      <th>name</th>\n",
       "      <th>pop</th>\n",
       "      <th>pib</th>\n",
       "    </tr>\n",
       "  </thead>\n",
       "  <tbody>\n",
       "    <tr>\n",
       "      <th>4</th>\n",
       "      <td>Araucanía</td>\n",
       "      <td>957224</td>\n",
       "      <td>11064</td>\n",
       "    </tr>\n",
       "    <tr>\n",
       "      <th>3</th>\n",
       "      <td>Maule</td>\n",
       "      <td>1044950</td>\n",
       "      <td>12695</td>\n",
       "    </tr>\n",
       "    <tr>\n",
       "      <th>2</th>\n",
       "      <td>Biobío</td>\n",
       "      <td>1538194</td>\n",
       "      <td>13281</td>\n",
       "    </tr>\n",
       "    <tr>\n",
       "      <th>1</th>\n",
       "      <td>Valparaiso</td>\n",
       "      <td>1815902</td>\n",
       "      <td>14510</td>\n",
       "    </tr>\n",
       "    <tr>\n",
       "      <th>5</th>\n",
       "      <td>O'Higgins</td>\n",
       "      <td>914555</td>\n",
       "      <td>14840</td>\n",
       "    </tr>\n",
       "    <tr>\n",
       "      <th>0</th>\n",
       "      <td>Metropolitana</td>\n",
       "      <td>7112808</td>\n",
       "      <td>24850</td>\n",
       "    </tr>\n",
       "  </tbody>\n",
       "</table>\n",
       "</div>"
      ],
      "text/plain": [
       "            name      pop    pib\n",
       "4      Araucanía   957224  11064\n",
       "3          Maule  1044950  12695\n",
       "2         Biobío  1538194  13281\n",
       "1     Valparaiso  1815902  14510\n",
       "5      O'Higgins   914555  14840\n",
       "0  Metropolitana  7112808  24850"
      ]
     },
     "execution_count": 72,
     "metadata": {},
     "output_type": "execute_result"
    }
   ],
   "source": [
    "frame.sort_values(by=['pib'])"
   ]
  },
  {
   "cell_type": "markdown",
   "metadata": {},
   "source": [
    "Si necesitamos ordenar por más de una columna, podemos pasar un arreglo al argumento `by`."
   ]
  },
  {
   "cell_type": "code",
   "execution_count": 73,
   "metadata": {},
   "outputs": [
    {
     "data": {
      "text/html": [
       "<div>\n",
       "<style scoped>\n",
       "    .dataframe tbody tr th:only-of-type {\n",
       "        vertical-align: middle;\n",
       "    }\n",
       "\n",
       "    .dataframe tbody tr th {\n",
       "        vertical-align: top;\n",
       "    }\n",
       "\n",
       "    .dataframe thead th {\n",
       "        text-align: right;\n",
       "    }\n",
       "</style>\n",
       "<table border=\"1\" class=\"dataframe\">\n",
       "  <thead>\n",
       "    <tr style=\"text-align: right;\">\n",
       "      <th></th>\n",
       "      <th>name</th>\n",
       "      <th>col1</th>\n",
       "      <th>col2</th>\n",
       "    </tr>\n",
       "  </thead>\n",
       "  <tbody>\n",
       "    <tr>\n",
       "      <th>0</th>\n",
       "      <td>Metropolitana</td>\n",
       "      <td>1</td>\n",
       "      <td>24850</td>\n",
       "    </tr>\n",
       "    <tr>\n",
       "      <th>1</th>\n",
       "      <td>Valparaiso</td>\n",
       "      <td>1</td>\n",
       "      <td>14510</td>\n",
       "    </tr>\n",
       "    <tr>\n",
       "      <th>2</th>\n",
       "      <td>Biobío</td>\n",
       "      <td>2</td>\n",
       "      <td>13281</td>\n",
       "    </tr>\n",
       "    <tr>\n",
       "      <th>3</th>\n",
       "      <td>Maule</td>\n",
       "      <td>3</td>\n",
       "      <td>12695</td>\n",
       "    </tr>\n",
       "    <tr>\n",
       "      <th>4</th>\n",
       "      <td>Araucanía</td>\n",
       "      <td>2</td>\n",
       "      <td>11064</td>\n",
       "    </tr>\n",
       "    <tr>\n",
       "      <th>5</th>\n",
       "      <td>O'Higgins</td>\n",
       "      <td>3</td>\n",
       "      <td>14840</td>\n",
       "    </tr>\n",
       "  </tbody>\n",
       "</table>\n",
       "</div>"
      ],
      "text/plain": [
       "            name  col1   col2\n",
       "0  Metropolitana     1  24850\n",
       "1     Valparaiso     1  14510\n",
       "2         Biobío     2  13281\n",
       "3          Maule     3  12695\n",
       "4      Araucanía     2  11064\n",
       "5      O'Higgins     3  14840"
      ]
     },
     "execution_count": 73,
     "metadata": {},
     "output_type": "execute_result"
    }
   ],
   "source": [
    "df = {'name': ['Metropolitana', 'Valparaiso', 'Biobío', 'Maule', 'Araucanía', 'O\\'Higgins'],\n",
    "             'col1': [1, 1, 2, 3, 2, 3],\n",
    "             'col2': [24850, 14510, 13281, 12695, 11064, 14840]}\n",
    "df = pd.DataFrame(df)\n",
    "df"
   ]
  },
  {
   "cell_type": "code",
   "execution_count": 74,
   "metadata": {},
   "outputs": [
    {
     "data": {
      "text/html": [
       "<div>\n",
       "<style scoped>\n",
       "    .dataframe tbody tr th:only-of-type {\n",
       "        vertical-align: middle;\n",
       "    }\n",
       "\n",
       "    .dataframe tbody tr th {\n",
       "        vertical-align: top;\n",
       "    }\n",
       "\n",
       "    .dataframe thead th {\n",
       "        text-align: right;\n",
       "    }\n",
       "</style>\n",
       "<table border=\"1\" class=\"dataframe\">\n",
       "  <thead>\n",
       "    <tr style=\"text-align: right;\">\n",
       "      <th></th>\n",
       "      <th>name</th>\n",
       "      <th>col1</th>\n",
       "      <th>col2</th>\n",
       "    </tr>\n",
       "  </thead>\n",
       "  <tbody>\n",
       "    <tr>\n",
       "      <th>1</th>\n",
       "      <td>Valparaiso</td>\n",
       "      <td>1</td>\n",
       "      <td>14510</td>\n",
       "    </tr>\n",
       "    <tr>\n",
       "      <th>0</th>\n",
       "      <td>Metropolitana</td>\n",
       "      <td>1</td>\n",
       "      <td>24850</td>\n",
       "    </tr>\n",
       "    <tr>\n",
       "      <th>4</th>\n",
       "      <td>Araucanía</td>\n",
       "      <td>2</td>\n",
       "      <td>11064</td>\n",
       "    </tr>\n",
       "    <tr>\n",
       "      <th>2</th>\n",
       "      <td>Biobío</td>\n",
       "      <td>2</td>\n",
       "      <td>13281</td>\n",
       "    </tr>\n",
       "    <tr>\n",
       "      <th>3</th>\n",
       "      <td>Maule</td>\n",
       "      <td>3</td>\n",
       "      <td>12695</td>\n",
       "    </tr>\n",
       "    <tr>\n",
       "      <th>5</th>\n",
       "      <td>O'Higgins</td>\n",
       "      <td>3</td>\n",
       "      <td>14840</td>\n",
       "    </tr>\n",
       "  </tbody>\n",
       "</table>\n",
       "</div>"
      ],
      "text/plain": [
       "            name  col1   col2\n",
       "1     Valparaiso     1  14510\n",
       "0  Metropolitana     1  24850\n",
       "4      Araucanía     2  11064\n",
       "2         Biobío     2  13281\n",
       "3          Maule     3  12695\n",
       "5      O'Higgins     3  14840"
      ]
     },
     "execution_count": 74,
     "metadata": {},
     "output_type": "execute_result"
    }
   ],
   "source": [
    "df.sort_values(by=['col1', 'col2'])"
   ]
  },
  {
   "cell_type": "markdown",
   "metadata": {},
   "source": [
    "### Describiendo los datos\n",
    "\n",
    "La librería `pandas` tiene varias funciones que nos permiten obtener descripciones y resúmenes de los datos. Vamos a ver algunos ejemplos."
   ]
  },
  {
   "cell_type": "code",
   "execution_count": 75,
   "metadata": {},
   "outputs": [
    {
     "data": {
      "text/html": [
       "<div>\n",
       "<style scoped>\n",
       "    .dataframe tbody tr th:only-of-type {\n",
       "        vertical-align: middle;\n",
       "    }\n",
       "\n",
       "    .dataframe tbody tr th {\n",
       "        vertical-align: top;\n",
       "    }\n",
       "\n",
       "    .dataframe thead th {\n",
       "        text-align: right;\n",
       "    }\n",
       "</style>\n",
       "<table border=\"1\" class=\"dataframe\">\n",
       "  <thead>\n",
       "    <tr style=\"text-align: right;\">\n",
       "      <th></th>\n",
       "      <th>pop</th>\n",
       "      <th>pib</th>\n",
       "    </tr>\n",
       "  </thead>\n",
       "  <tbody>\n",
       "    <tr>\n",
       "      <th>count</th>\n",
       "      <td>6.000000e+00</td>\n",
       "      <td>6.000000</td>\n",
       "    </tr>\n",
       "    <tr>\n",
       "      <th>mean</th>\n",
       "      <td>2.230606e+06</td>\n",
       "      <td>15206.666667</td>\n",
       "    </tr>\n",
       "    <tr>\n",
       "      <th>std</th>\n",
       "      <td>2.418536e+06</td>\n",
       "      <td>4915.119843</td>\n",
       "    </tr>\n",
       "    <tr>\n",
       "      <th>min</th>\n",
       "      <td>9.145550e+05</td>\n",
       "      <td>11064.000000</td>\n",
       "    </tr>\n",
       "    <tr>\n",
       "      <th>25%</th>\n",
       "      <td>9.791555e+05</td>\n",
       "      <td>12841.500000</td>\n",
       "    </tr>\n",
       "    <tr>\n",
       "      <th>50%</th>\n",
       "      <td>1.291572e+06</td>\n",
       "      <td>13895.500000</td>\n",
       "    </tr>\n",
       "    <tr>\n",
       "      <th>75%</th>\n",
       "      <td>1.746475e+06</td>\n",
       "      <td>14757.500000</td>\n",
       "    </tr>\n",
       "    <tr>\n",
       "      <th>max</th>\n",
       "      <td>7.112808e+06</td>\n",
       "      <td>24850.000000</td>\n",
       "    </tr>\n",
       "  </tbody>\n",
       "</table>\n",
       "</div>"
      ],
      "text/plain": [
       "                pop           pib\n",
       "count  6.000000e+00      6.000000\n",
       "mean   2.230606e+06  15206.666667\n",
       "std    2.418536e+06   4915.119843\n",
       "min    9.145550e+05  11064.000000\n",
       "25%    9.791555e+05  12841.500000\n",
       "50%    1.291572e+06  13895.500000\n",
       "75%    1.746475e+06  14757.500000\n",
       "max    7.112808e+06  24850.000000"
      ]
     },
     "execution_count": 75,
     "metadata": {},
     "output_type": "execute_result"
    }
   ],
   "source": [
    "frame.describe()"
   ]
  },
  {
   "cell_type": "code",
   "execution_count": 152,
   "metadata": {},
   "outputs": [
    {
     "data": {
      "text/plain": [
       "pop    2.230606e+06\n",
       "pib    1.520667e+04\n",
       "dtype: float64"
      ]
     },
     "execution_count": 152,
     "metadata": {},
     "output_type": "execute_result"
    }
   ],
   "source": [
    "frame.mean()"
   ]
  },
  {
   "cell_type": "code",
   "execution_count": 77,
   "metadata": {},
   "outputs": [
    {
     "data": {
      "text/plain": [
       "name    MetropolitanaValparaisoBiobíoMauleAraucaníaO'H...\n",
       "pop                                              13383633\n",
       "pib                                                 91240\n",
       "dtype: object"
      ]
     },
     "execution_count": 77,
     "metadata": {},
     "output_type": "execute_result"
    }
   ],
   "source": [
    "frame.sum()"
   ]
  },
  {
   "cell_type": "markdown",
   "metadata": {},
   "source": [
    "### Utilizando datos externos\n",
    "\n",
    "En `pandas` es posible importar datos en formato `.csv`, `.xlsx` entre otros. "
   ]
  },
  {
   "cell_type": "markdown",
   "metadata": {},
   "source": [
    "### Versión alternativa: Abrir un archivo csv en nuestro computador:\n",
    "\n",
    "Necesitaremos tener alojado el archivo de la base de datos en la misma carpeta donde se encuntra corriendo el archivo de jupyter."
   ]
  },
  {
   "cell_type": "code",
   "execution_count": 78,
   "metadata": {},
   "outputs": [],
   "source": [
    "com_frame = pd.read_csv(\"comunas.csv\", names=[\"cod\", \"nombre\", \"provincia\", \"region\", \"superficie\",\n",
    "                                               \"poblacion\", \"densidad\", \"idh\"])"
   ]
  },
  {
   "cell_type": "code",
   "execution_count": 79,
   "metadata": {},
   "outputs": [
    {
     "data": {
      "text/html": [
       "<div>\n",
       "<style scoped>\n",
       "    .dataframe tbody tr th:only-of-type {\n",
       "        vertical-align: middle;\n",
       "    }\n",
       "\n",
       "    .dataframe tbody tr th {\n",
       "        vertical-align: top;\n",
       "    }\n",
       "\n",
       "    .dataframe thead th {\n",
       "        text-align: right;\n",
       "    }\n",
       "</style>\n",
       "<table border=\"1\" class=\"dataframe\">\n",
       "  <thead>\n",
       "    <tr style=\"text-align: right;\">\n",
       "      <th></th>\n",
       "      <th>cod</th>\n",
       "      <th>nombre</th>\n",
       "      <th>provincia</th>\n",
       "      <th>region</th>\n",
       "      <th>superficie</th>\n",
       "      <th>poblacion</th>\n",
       "      <th>densidad</th>\n",
       "      <th>idh</th>\n",
       "    </tr>\n",
       "  </thead>\n",
       "  <tbody>\n",
       "    <tr>\n",
       "      <th>0</th>\n",
       "      <td>15101</td>\n",
       "      <td>Arica</td>\n",
       "      <td>Arica</td>\n",
       "      <td>Arica y Parinacota</td>\n",
       "      <td>4799.4</td>\n",
       "      <td>210936</td>\n",
       "      <td>736.0</td>\n",
       "      <td>38.40</td>\n",
       "    </tr>\n",
       "    <tr>\n",
       "      <th>1</th>\n",
       "      <td>15102</td>\n",
       "      <td>Camarones</td>\n",
       "      <td>Arica</td>\n",
       "      <td>Arica y Parinacota</td>\n",
       "      <td>3927.0</td>\n",
       "      <td>679</td>\n",
       "      <td>0.3</td>\n",
       "      <td>751.00</td>\n",
       "    </tr>\n",
       "    <tr>\n",
       "      <th>2</th>\n",
       "      <td>15201</td>\n",
       "      <td>Putre</td>\n",
       "      <td>Parinacota</td>\n",
       "      <td>Arica y Parinacota</td>\n",
       "      <td>5902.5</td>\n",
       "      <td>1462</td>\n",
       "      <td>0.2</td>\n",
       "      <td>707.00</td>\n",
       "    </tr>\n",
       "    <tr>\n",
       "      <th>3</th>\n",
       "      <td>15202</td>\n",
       "      <td>General Lagos</td>\n",
       "      <td>Parinacota</td>\n",
       "      <td>Arica y Parinacota</td>\n",
       "      <td>2244.4</td>\n",
       "      <td>739</td>\n",
       "      <td>0.5</td>\n",
       "      <td>0.67</td>\n",
       "    </tr>\n",
       "    <tr>\n",
       "      <th>4</th>\n",
       "      <td>1101</td>\n",
       "      <td>Iquique</td>\n",
       "      <td>Iquique</td>\n",
       "      <td>Tarapacá</td>\n",
       "      <td>2242.1</td>\n",
       "      <td>184953</td>\n",
       "      <td>82.4</td>\n",
       "      <td>766.00</td>\n",
       "    </tr>\n",
       "  </tbody>\n",
       "</table>\n",
       "</div>"
      ],
      "text/plain": [
       "     cod         nombre   provincia              region  superficie  \\\n",
       "0  15101          Arica       Arica  Arica y Parinacota      4799.4   \n",
       "1  15102      Camarones       Arica  Arica y Parinacota      3927.0   \n",
       "2  15201          Putre  Parinacota  Arica y Parinacota      5902.5   \n",
       "3  15202  General Lagos  Parinacota  Arica y Parinacota      2244.4   \n",
       "4   1101        Iquique     Iquique            Tarapacá      2242.1   \n",
       "\n",
       "   poblacion  densidad     idh  \n",
       "0     210936     736.0   38.40  \n",
       "1        679       0.3  751.00  \n",
       "2       1462       0.2  707.00  \n",
       "3        739       0.5    0.67  \n",
       "4     184953      82.4  766.00  "
      ]
     },
     "execution_count": 79,
     "metadata": {},
     "output_type": "execute_result"
    }
   ],
   "source": [
    "com_frame.head()"
   ]
  },
  {
   "cell_type": "code",
   "execution_count": 80,
   "metadata": {},
   "outputs": [
    {
     "data": {
      "text/html": [
       "<div>\n",
       "<style scoped>\n",
       "    .dataframe tbody tr th:only-of-type {\n",
       "        vertical-align: middle;\n",
       "    }\n",
       "\n",
       "    .dataframe tbody tr th {\n",
       "        vertical-align: top;\n",
       "    }\n",
       "\n",
       "    .dataframe thead th {\n",
       "        text-align: right;\n",
       "    }\n",
       "</style>\n",
       "<table border=\"1\" class=\"dataframe\">\n",
       "  <thead>\n",
       "    <tr style=\"text-align: right;\">\n",
       "      <th></th>\n",
       "      <th>cod</th>\n",
       "      <th>superficie</th>\n",
       "      <th>poblacion</th>\n",
       "      <th>densidad</th>\n",
       "      <th>idh</th>\n",
       "    </tr>\n",
       "  </thead>\n",
       "  <tbody>\n",
       "    <tr>\n",
       "      <th>count</th>\n",
       "      <td>346.000000</td>\n",
       "      <td>3.460000e+02</td>\n",
       "      <td>346.000000</td>\n",
       "      <td>346.000000</td>\n",
       "      <td>341.000000</td>\n",
       "    </tr>\n",
       "    <tr>\n",
       "      <th>mean</th>\n",
       "      <td>8563.156069</td>\n",
       "      <td>5.815967e+03</td>\n",
       "      <td>50407.078035</td>\n",
       "      <td>884.646821</td>\n",
       "      <td>637.527654</td>\n",
       "    </tr>\n",
       "    <tr>\n",
       "      <th>std</th>\n",
       "      <td>3356.540795</td>\n",
       "      <td>6.727407e+04</td>\n",
       "      <td>86926.943488</td>\n",
       "      <td>2668.330303</td>\n",
       "      <td>188.322684</td>\n",
       "    </tr>\n",
       "    <tr>\n",
       "      <th>min</th>\n",
       "      <td>1101.000000</td>\n",
       "      <td>7.000000e+00</td>\n",
       "      <td>127.000000</td>\n",
       "      <td>0.000000</td>\n",
       "      <td>0.510000</td>\n",
       "    </tr>\n",
       "    <tr>\n",
       "      <th>25%</th>\n",
       "      <td>6109.250000</td>\n",
       "      <td>2.513000e+02</td>\n",
       "      <td>9148.500000</td>\n",
       "      <td>9.325000</td>\n",
       "      <td>637.000000</td>\n",
       "    </tr>\n",
       "    <tr>\n",
       "      <th>50%</th>\n",
       "      <td>8313.500000</td>\n",
       "      <td>6.331500e+02</td>\n",
       "      <td>17688.000000</td>\n",
       "      <td>26.100000</td>\n",
       "      <td>672.000000</td>\n",
       "    </tr>\n",
       "    <tr>\n",
       "      <th>75%</th>\n",
       "      <td>11176.250000</td>\n",
       "      <td>1.657500e+03</td>\n",
       "      <td>50747.000000</td>\n",
       "      <td>89.575000</td>\n",
       "      <td>719.000000</td>\n",
       "    </tr>\n",
       "    <tr>\n",
       "      <th>max</th>\n",
       "      <td>15202.000000</td>\n",
       "      <td>1.250258e+06</td>\n",
       "      <td>805000.000000</td>\n",
       "      <td>15667.000000</td>\n",
       "      <td>949.000000</td>\n",
       "    </tr>\n",
       "  </tbody>\n",
       "</table>\n",
       "</div>"
      ],
      "text/plain": [
       "                cod    superficie      poblacion      densidad         idh\n",
       "count    346.000000  3.460000e+02     346.000000    346.000000  341.000000\n",
       "mean    8563.156069  5.815967e+03   50407.078035    884.646821  637.527654\n",
       "std     3356.540795  6.727407e+04   86926.943488   2668.330303  188.322684\n",
       "min     1101.000000  7.000000e+00     127.000000      0.000000    0.510000\n",
       "25%     6109.250000  2.513000e+02    9148.500000      9.325000  637.000000\n",
       "50%     8313.500000  6.331500e+02   17688.000000     26.100000  672.000000\n",
       "75%    11176.250000  1.657500e+03   50747.000000     89.575000  719.000000\n",
       "max    15202.000000  1.250258e+06  805000.000000  15667.000000  949.000000"
      ]
     },
     "execution_count": 80,
     "metadata": {},
     "output_type": "execute_result"
    }
   ],
   "source": [
    "com_frame.describe()"
   ]
  },
  {
   "cell_type": "markdown",
   "metadata": {},
   "source": [
    "En esta tabla tenemos valores nulos. Vamos a buscarlos. Primero vamos a encontrar todas las filas que contengan algún nulo, para luego filtrar por ese arreglo."
   ]
  },
  {
   "cell_type": "code",
   "execution_count": 81,
   "metadata": {
    "scrolled": true
   },
   "outputs": [
    {
     "data": {
      "text/plain": [
       "0      False\n",
       "1      False\n",
       "2      False\n",
       "3      False\n",
       "4      False\n",
       "5       True\n",
       "6      False\n",
       "7      False\n",
       "8      False\n",
       "9      False\n",
       "10     False\n",
       "11     False\n",
       "12     False\n",
       "13     False\n",
       "14     False\n",
       "15     False\n",
       "16     False\n",
       "17     False\n",
       "18     False\n",
       "19     False\n",
       "20     False\n",
       "21     False\n",
       "22     False\n",
       "23     False\n",
       "24     False\n",
       "25     False\n",
       "26     False\n",
       "27     False\n",
       "28     False\n",
       "29     False\n",
       "       ...  \n",
       "316    False\n",
       "317    False\n",
       "318    False\n",
       "319    False\n",
       "320    False\n",
       "321    False\n",
       "322    False\n",
       "323    False\n",
       "324    False\n",
       "325    False\n",
       "326    False\n",
       "327    False\n",
       "328    False\n",
       "329    False\n",
       "330    False\n",
       "331    False\n",
       "332    False\n",
       "333    False\n",
       "334    False\n",
       "335    False\n",
       "336    False\n",
       "337    False\n",
       "338    False\n",
       "339    False\n",
       "340    False\n",
       "341    False\n",
       "342    False\n",
       "343    False\n",
       "344    False\n",
       "345    False\n",
       "Length: 346, dtype: bool"
      ]
     },
     "execution_count": 81,
     "metadata": {},
     "output_type": "execute_result"
    }
   ],
   "source": [
    "com_frame.isnull().any(axis=1)"
   ]
  },
  {
   "cell_type": "code",
   "execution_count": 82,
   "metadata": {},
   "outputs": [
    {
     "data": {
      "text/html": [
       "<div>\n",
       "<style scoped>\n",
       "    .dataframe tbody tr th:only-of-type {\n",
       "        vertical-align: middle;\n",
       "    }\n",
       "\n",
       "    .dataframe tbody tr th {\n",
       "        vertical-align: top;\n",
       "    }\n",
       "\n",
       "    .dataframe thead th {\n",
       "        text-align: right;\n",
       "    }\n",
       "</style>\n",
       "<table border=\"1\" class=\"dataframe\">\n",
       "  <thead>\n",
       "    <tr style=\"text-align: right;\">\n",
       "      <th></th>\n",
       "      <th>cod</th>\n",
       "      <th>nombre</th>\n",
       "      <th>provincia</th>\n",
       "      <th>region</th>\n",
       "      <th>superficie</th>\n",
       "      <th>poblacion</th>\n",
       "      <th>densidad</th>\n",
       "      <th>idh</th>\n",
       "    </tr>\n",
       "  </thead>\n",
       "  <tbody>\n",
       "    <tr>\n",
       "      <th>5</th>\n",
       "      <td>1107</td>\n",
       "      <td>Alto Hospicio</td>\n",
       "      <td>Iquique</td>\n",
       "      <td>Tarapacá</td>\n",
       "      <td>572.9</td>\n",
       "      <td>94455</td>\n",
       "      <td>87.6</td>\n",
       "      <td>NaN</td>\n",
       "    </tr>\n",
       "    <tr>\n",
       "      <th>177</th>\n",
       "      <td>8112</td>\n",
       "      <td>Hualpén</td>\n",
       "      <td>Concepción</td>\n",
       "      <td>Biobío</td>\n",
       "      <td>53.5</td>\n",
       "      <td>86176</td>\n",
       "      <td>1610.8</td>\n",
       "      <td>NaN</td>\n",
       "    </tr>\n",
       "    <tr>\n",
       "      <th>198</th>\n",
       "      <td>8314</td>\n",
       "      <td>Alto Biobío</td>\n",
       "      <td>Biobío</td>\n",
       "      <td>Biobío</td>\n",
       "      <td>2124.6</td>\n",
       "      <td>10039</td>\n",
       "      <td>4.7</td>\n",
       "      <td>NaN</td>\n",
       "    </tr>\n",
       "    <tr>\n",
       "      <th>219</th>\n",
       "      <td>9121</td>\n",
       "      <td>Cholchol</td>\n",
       "      <td>Cautín</td>\n",
       "      <td>La Araucanía</td>\n",
       "      <td>427.9</td>\n",
       "      <td>10825</td>\n",
       "      <td>25.3</td>\n",
       "      <td>NaN</td>\n",
       "    </tr>\n",
       "    <tr>\n",
       "      <th>288</th>\n",
       "      <td>12202</td>\n",
       "      <td>Antártica</td>\n",
       "      <td>Antártica Chilena</td>\n",
       "      <td>Magallanes y Antártica Chilena</td>\n",
       "      <td>1250257.6</td>\n",
       "      <td>127</td>\n",
       "      <td>0.0</td>\n",
       "      <td>NaN</td>\n",
       "    </tr>\n",
       "  </tbody>\n",
       "</table>\n",
       "</div>"
      ],
      "text/plain": [
       "       cod         nombre          provincia                          region  \\\n",
       "5     1107  Alto Hospicio            Iquique                        Tarapacá   \n",
       "177   8112        Hualpén         Concepción                          Biobío   \n",
       "198   8314    Alto Biobío             Biobío                          Biobío   \n",
       "219   9121       Cholchol             Cautín                    La Araucanía   \n",
       "288  12202      Antártica  Antártica Chilena  Magallanes y Antártica Chilena   \n",
       "\n",
       "     superficie  poblacion  densidad  idh  \n",
       "5         572.9      94455      87.6  NaN  \n",
       "177        53.5      86176    1610.8  NaN  \n",
       "198      2124.6      10039       4.7  NaN  \n",
       "219       427.9      10825      25.3  NaN  \n",
       "288   1250257.6        127       0.0  NaN  "
      ]
     },
     "execution_count": 82,
     "metadata": {},
     "output_type": "execute_result"
    }
   ],
   "source": [
    "com_frame[com_frame.isnull().any(axis=1)]\n",
    "# se retorna las filas en las que hay algun nulo"
   ]
  },
  {
   "cell_type": "markdown",
   "metadata": {},
   "source": [
    "`pandas` tiene métodos auxiliares para lidiar con datos faltantes. Uno es eliminar aquellas filas con la función `dropna()`"
   ]
  },
  {
   "cell_type": "code",
   "execution_count": 83,
   "metadata": {
    "scrolled": true
   },
   "outputs": [
    {
     "data": {
      "text/html": [
       "<div>\n",
       "<style scoped>\n",
       "    .dataframe tbody tr th:only-of-type {\n",
       "        vertical-align: middle;\n",
       "    }\n",
       "\n",
       "    .dataframe tbody tr th {\n",
       "        vertical-align: top;\n",
       "    }\n",
       "\n",
       "    .dataframe thead th {\n",
       "        text-align: right;\n",
       "    }\n",
       "</style>\n",
       "<table border=\"1\" class=\"dataframe\">\n",
       "  <thead>\n",
       "    <tr style=\"text-align: right;\">\n",
       "      <th></th>\n",
       "      <th>cod</th>\n",
       "      <th>nombre</th>\n",
       "      <th>provincia</th>\n",
       "      <th>region</th>\n",
       "      <th>superficie</th>\n",
       "      <th>poblacion</th>\n",
       "      <th>densidad</th>\n",
       "      <th>idh</th>\n",
       "    </tr>\n",
       "  </thead>\n",
       "  <tbody>\n",
       "    <tr>\n",
       "      <th>0</th>\n",
       "      <td>15101</td>\n",
       "      <td>Arica</td>\n",
       "      <td>Arica</td>\n",
       "      <td>Arica y Parinacota</td>\n",
       "      <td>4799.4</td>\n",
       "      <td>210936</td>\n",
       "      <td>736.0</td>\n",
       "      <td>38.40</td>\n",
       "    </tr>\n",
       "    <tr>\n",
       "      <th>1</th>\n",
       "      <td>15102</td>\n",
       "      <td>Camarones</td>\n",
       "      <td>Arica</td>\n",
       "      <td>Arica y Parinacota</td>\n",
       "      <td>3927.0</td>\n",
       "      <td>679</td>\n",
       "      <td>0.3</td>\n",
       "      <td>751.00</td>\n",
       "    </tr>\n",
       "    <tr>\n",
       "      <th>2</th>\n",
       "      <td>15201</td>\n",
       "      <td>Putre</td>\n",
       "      <td>Parinacota</td>\n",
       "      <td>Arica y Parinacota</td>\n",
       "      <td>5902.5</td>\n",
       "      <td>1462</td>\n",
       "      <td>0.2</td>\n",
       "      <td>707.00</td>\n",
       "    </tr>\n",
       "    <tr>\n",
       "      <th>3</th>\n",
       "      <td>15202</td>\n",
       "      <td>General Lagos</td>\n",
       "      <td>Parinacota</td>\n",
       "      <td>Arica y Parinacota</td>\n",
       "      <td>2244.4</td>\n",
       "      <td>739</td>\n",
       "      <td>0.5</td>\n",
       "      <td>0.67</td>\n",
       "    </tr>\n",
       "    <tr>\n",
       "      <th>4</th>\n",
       "      <td>1101</td>\n",
       "      <td>Iquique</td>\n",
       "      <td>Iquique</td>\n",
       "      <td>Tarapacá</td>\n",
       "      <td>2242.1</td>\n",
       "      <td>184953</td>\n",
       "      <td>82.4</td>\n",
       "      <td>766.00</td>\n",
       "    </tr>\n",
       "    <tr>\n",
       "      <th>6</th>\n",
       "      <td>1401</td>\n",
       "      <td>Pozo Almonte</td>\n",
       "      <td>Tamarugal</td>\n",
       "      <td>Tarapacá</td>\n",
       "      <td>13765.8</td>\n",
       "      <td>11519</td>\n",
       "      <td>0.7</td>\n",
       "      <td>722.00</td>\n",
       "    </tr>\n",
       "    <tr>\n",
       "      <th>7</th>\n",
       "      <td>1402</td>\n",
       "      <td>Camiña</td>\n",
       "      <td>Tamarugal</td>\n",
       "      <td>Tarapacá</td>\n",
       "      <td>2200.2</td>\n",
       "      <td>1156</td>\n",
       "      <td>0.5</td>\n",
       "      <td>619.00</td>\n",
       "    </tr>\n",
       "    <tr>\n",
       "      <th>8</th>\n",
       "      <td>1403</td>\n",
       "      <td>Colchane</td>\n",
       "      <td>Tamarugal</td>\n",
       "      <td>Tarapacá</td>\n",
       "      <td>4015.6</td>\n",
       "      <td>1384</td>\n",
       "      <td>0.4</td>\n",
       "      <td>603.00</td>\n",
       "    </tr>\n",
       "    <tr>\n",
       "      <th>9</th>\n",
       "      <td>1404</td>\n",
       "      <td>Huara</td>\n",
       "      <td>Tamarugal</td>\n",
       "      <td>Tarapacá</td>\n",
       "      <td>10474.6</td>\n",
       "      <td>2360</td>\n",
       "      <td>0.2</td>\n",
       "      <td>676.00</td>\n",
       "    </tr>\n",
       "    <tr>\n",
       "      <th>10</th>\n",
       "      <td>1405</td>\n",
       "      <td>Pica</td>\n",
       "      <td>Tamarugal</td>\n",
       "      <td>Tarapacá</td>\n",
       "      <td>8934.3</td>\n",
       "      <td>4194</td>\n",
       "      <td>0.6</td>\n",
       "      <td>793.00</td>\n",
       "    </tr>\n",
       "    <tr>\n",
       "      <th>11</th>\n",
       "      <td>2101</td>\n",
       "      <td>Antofagasta</td>\n",
       "      <td>Antofagasta</td>\n",
       "      <td>Antofagasta</td>\n",
       "      <td>30718.1</td>\n",
       "      <td>348669</td>\n",
       "      <td>9.7</td>\n",
       "      <td>734.00</td>\n",
       "    </tr>\n",
       "    <tr>\n",
       "      <th>12</th>\n",
       "      <td>2102</td>\n",
       "      <td>Mejillones</td>\n",
       "      <td>Antofagasta</td>\n",
       "      <td>Antofagasta</td>\n",
       "      <td>3803.9</td>\n",
       "      <td>9752</td>\n",
       "      <td>2.2</td>\n",
       "      <td>0.73</td>\n",
       "    </tr>\n",
       "    <tr>\n",
       "      <th>13</th>\n",
       "      <td>2103</td>\n",
       "      <td>Sierra Gorda</td>\n",
       "      <td>Antofagasta</td>\n",
       "      <td>Antofagasta</td>\n",
       "      <td>12886.0</td>\n",
       "      <td>1206</td>\n",
       "      <td>0.1</td>\n",
       "      <td>789.00</td>\n",
       "    </tr>\n",
       "    <tr>\n",
       "      <th>14</th>\n",
       "      <td>2104</td>\n",
       "      <td>Taltal</td>\n",
       "      <td>Antofagasta</td>\n",
       "      <td>Antofagasta</td>\n",
       "      <td>20405.1</td>\n",
       "      <td>13493</td>\n",
       "      <td>0.5</td>\n",
       "      <td>716.00</td>\n",
       "    </tr>\n",
       "    <tr>\n",
       "      <th>15</th>\n",
       "      <td>2201</td>\n",
       "      <td>Calama</td>\n",
       "      <td>El Loa</td>\n",
       "      <td>Antofagasta</td>\n",
       "      <td>15596.9</td>\n",
       "      <td>147886</td>\n",
       "      <td>9.1</td>\n",
       "      <td>757.00</td>\n",
       "    </tr>\n",
       "    <tr>\n",
       "      <th>16</th>\n",
       "      <td>2202</td>\n",
       "      <td>Ollagüe</td>\n",
       "      <td>El Loa</td>\n",
       "      <td>Antofagasta</td>\n",
       "      <td>2964.0</td>\n",
       "      <td>332</td>\n",
       "      <td>0.1</td>\n",
       "      <td>679.00</td>\n",
       "    </tr>\n",
       "    <tr>\n",
       "      <th>17</th>\n",
       "      <td>2203</td>\n",
       "      <td>San Pedro de Atacama</td>\n",
       "      <td>El Loa</td>\n",
       "      <td>Antofagasta</td>\n",
       "      <td>23439.0</td>\n",
       "      <td>5605</td>\n",
       "      <td>0.2</td>\n",
       "      <td>711.00</td>\n",
       "    </tr>\n",
       "    <tr>\n",
       "      <th>18</th>\n",
       "      <td>2301</td>\n",
       "      <td>Tocopilla</td>\n",
       "      <td>Tocopilla</td>\n",
       "      <td>Antofagasta</td>\n",
       "      <td>4038.8</td>\n",
       "      <td>20091</td>\n",
       "      <td>5.9</td>\n",
       "      <td>0.69</td>\n",
       "    </tr>\n",
       "    <tr>\n",
       "      <th>19</th>\n",
       "      <td>2302</td>\n",
       "      <td>María Elena</td>\n",
       "      <td>Tocopilla</td>\n",
       "      <td>Antofagasta</td>\n",
       "      <td>12197.0</td>\n",
       "      <td>4593</td>\n",
       "      <td>0.6</td>\n",
       "      <td>779.00</td>\n",
       "    </tr>\n",
       "    <tr>\n",
       "      <th>20</th>\n",
       "      <td>3101</td>\n",
       "      <td>Copiapó</td>\n",
       "      <td>Copiapó</td>\n",
       "      <td>Atacama</td>\n",
       "      <td>16681.3</td>\n",
       "      <td>158261</td>\n",
       "      <td>11.9</td>\n",
       "      <td>725.00</td>\n",
       "    </tr>\n",
       "    <tr>\n",
       "      <th>21</th>\n",
       "      <td>3102</td>\n",
       "      <td>Caldera</td>\n",
       "      <td>Copiapó</td>\n",
       "      <td>Atacama</td>\n",
       "      <td>4666.6</td>\n",
       "      <td>16150</td>\n",
       "      <td>2.9</td>\n",
       "      <td>741.00</td>\n",
       "    </tr>\n",
       "    <tr>\n",
       "      <th>22</th>\n",
       "      <td>3103</td>\n",
       "      <td>Tierra Amarilla</td>\n",
       "      <td>Copiapó</td>\n",
       "      <td>Atacama</td>\n",
       "      <td>11191.0</td>\n",
       "      <td>13912</td>\n",
       "      <td>1.1</td>\n",
       "      <td>686.00</td>\n",
       "    </tr>\n",
       "    <tr>\n",
       "      <th>23</th>\n",
       "      <td>3201</td>\n",
       "      <td>Chañaral</td>\n",
       "      <td>Chañaral</td>\n",
       "      <td>Atacama</td>\n",
       "      <td>5772.0</td>\n",
       "      <td>14146</td>\n",
       "      <td>2.2</td>\n",
       "      <td>714.00</td>\n",
       "    </tr>\n",
       "    <tr>\n",
       "      <th>24</th>\n",
       "      <td>3202</td>\n",
       "      <td>Diego de Almagro</td>\n",
       "      <td>Chañaral</td>\n",
       "      <td>Atacama</td>\n",
       "      <td>18664.0</td>\n",
       "      <td>16452</td>\n",
       "      <td>1.0</td>\n",
       "      <td>789.00</td>\n",
       "    </tr>\n",
       "    <tr>\n",
       "      <th>25</th>\n",
       "      <td>3301</td>\n",
       "      <td>Vallenar</td>\n",
       "      <td>Huasco</td>\n",
       "      <td>Atacama</td>\n",
       "      <td>7084.0</td>\n",
       "      <td>52099</td>\n",
       "      <td>6.7</td>\n",
       "      <td>731.00</td>\n",
       "    </tr>\n",
       "    <tr>\n",
       "      <th>26</th>\n",
       "      <td>3302</td>\n",
       "      <td>Alto del Carmen</td>\n",
       "      <td>Huasco</td>\n",
       "      <td>Atacama</td>\n",
       "      <td>5939.0</td>\n",
       "      <td>5488</td>\n",
       "      <td>0.8</td>\n",
       "      <td>664.00</td>\n",
       "    </tr>\n",
       "    <tr>\n",
       "      <th>27</th>\n",
       "      <td>3303</td>\n",
       "      <td>Freirina</td>\n",
       "      <td>Huasco</td>\n",
       "      <td>Atacama</td>\n",
       "      <td>3207.9</td>\n",
       "      <td>6531</td>\n",
       "      <td>1.7</td>\n",
       "      <td>693.00</td>\n",
       "    </tr>\n",
       "    <tr>\n",
       "      <th>28</th>\n",
       "      <td>3304</td>\n",
       "      <td>Huasco</td>\n",
       "      <td>Huasco</td>\n",
       "      <td>Atacama</td>\n",
       "      <td>1601.4</td>\n",
       "      <td>9015</td>\n",
       "      <td>5.6</td>\n",
       "      <td>695.00</td>\n",
       "    </tr>\n",
       "    <tr>\n",
       "      <th>29</th>\n",
       "      <td>4101</td>\n",
       "      <td>La Serena</td>\n",
       "      <td>Elqui</td>\n",
       "      <td>Coquimbo</td>\n",
       "      <td>1892.8</td>\n",
       "      <td>211275</td>\n",
       "      <td>132.5</td>\n",
       "      <td>781.00</td>\n",
       "    </tr>\n",
       "    <tr>\n",
       "      <th>30</th>\n",
       "      <td>4102</td>\n",
       "      <td>Coquimbo</td>\n",
       "      <td>Elqui</td>\n",
       "      <td>Coquimbo</td>\n",
       "      <td>1429.0</td>\n",
       "      <td>202441</td>\n",
       "      <td>141.6</td>\n",
       "      <td>731.00</td>\n",
       "    </tr>\n",
       "    <tr>\n",
       "      <th>...</th>\n",
       "      <td>...</td>\n",
       "      <td>...</td>\n",
       "      <td>...</td>\n",
       "      <td>...</td>\n",
       "      <td>...</td>\n",
       "      <td>...</td>\n",
       "      <td>...</td>\n",
       "      <td>...</td>\n",
       "    </tr>\n",
       "    <tr>\n",
       "      <th>316</th>\n",
       "      <td>13123</td>\n",
       "      <td>Providencia</td>\n",
       "      <td>Santiago</td>\n",
       "      <td>Metropolitana de Santiago</td>\n",
       "      <td>14.3</td>\n",
       "      <td>126487</td>\n",
       "      <td>8429.1</td>\n",
       "      <td>911.00</td>\n",
       "    </tr>\n",
       "    <tr>\n",
       "      <th>317</th>\n",
       "      <td>13124</td>\n",
       "      <td>Pudahuel</td>\n",
       "      <td>Santiago</td>\n",
       "      <td>Metropolitana de Santiago</td>\n",
       "      <td>197.0</td>\n",
       "      <td>225509</td>\n",
       "      <td>993.7</td>\n",
       "      <td>735.00</td>\n",
       "    </tr>\n",
       "    <tr>\n",
       "      <th>318</th>\n",
       "      <td>13125</td>\n",
       "      <td>Quilicura</td>\n",
       "      <td>Santiago</td>\n",
       "      <td>Metropolitana de Santiago</td>\n",
       "      <td>58.0</td>\n",
       "      <td>203946</td>\n",
       "      <td>3486.6</td>\n",
       "      <td>782.00</td>\n",
       "    </tr>\n",
       "    <tr>\n",
       "      <th>319</th>\n",
       "      <td>13126</td>\n",
       "      <td>Quinta Normal</td>\n",
       "      <td>Santiago</td>\n",
       "      <td>Metropolitana de Santiago</td>\n",
       "      <td>13.0</td>\n",
       "      <td>101737</td>\n",
       "      <td>8388.0</td>\n",
       "      <td>723.00</td>\n",
       "    </tr>\n",
       "    <tr>\n",
       "      <th>320</th>\n",
       "      <td>13127</td>\n",
       "      <td>Recoleta</td>\n",
       "      <td>Santiago</td>\n",
       "      <td>Metropolitana de Santiago</td>\n",
       "      <td>16.0</td>\n",
       "      <td>152985</td>\n",
       "      <td>9273.8</td>\n",
       "      <td>697.00</td>\n",
       "    </tr>\n",
       "    <tr>\n",
       "      <th>321</th>\n",
       "      <td>13128</td>\n",
       "      <td>Renca</td>\n",
       "      <td>Santiago</td>\n",
       "      <td>Metropolitana de Santiago</td>\n",
       "      <td>24.0</td>\n",
       "      <td>142136</td>\n",
       "      <td>8388.1</td>\n",
       "      <td>709.00</td>\n",
       "    </tr>\n",
       "    <tr>\n",
       "      <th>322</th>\n",
       "      <td>13129</td>\n",
       "      <td>San Joaquín</td>\n",
       "      <td>Santiago</td>\n",
       "      <td>Metropolitana de Santiago</td>\n",
       "      <td>9.7</td>\n",
       "      <td>94255</td>\n",
       "      <td>10064.4</td>\n",
       "      <td>719.00</td>\n",
       "    </tr>\n",
       "    <tr>\n",
       "      <th>323</th>\n",
       "      <td>13130</td>\n",
       "      <td>San Miguel</td>\n",
       "      <td>Santiago</td>\n",
       "      <td>Metropolitana de Santiago</td>\n",
       "      <td>10.0</td>\n",
       "      <td>90846</td>\n",
       "      <td>7787.2</td>\n",
       "      <td>765.00</td>\n",
       "    </tr>\n",
       "    <tr>\n",
       "      <th>324</th>\n",
       "      <td>13131</td>\n",
       "      <td>San Ramón</td>\n",
       "      <td>Santiago</td>\n",
       "      <td>Metropolitana de Santiago</td>\n",
       "      <td>7.0</td>\n",
       "      <td>85195</td>\n",
       "      <td>14600.9</td>\n",
       "      <td>679.00</td>\n",
       "    </tr>\n",
       "    <tr>\n",
       "      <th>325</th>\n",
       "      <td>13132</td>\n",
       "      <td>Vitacura</td>\n",
       "      <td>Santiago</td>\n",
       "      <td>Metropolitana de Santiago</td>\n",
       "      <td>28.3</td>\n",
       "      <td>84195</td>\n",
       "      <td>2910.7</td>\n",
       "      <td>949.00</td>\n",
       "    </tr>\n",
       "    <tr>\n",
       "      <th>326</th>\n",
       "      <td>13201</td>\n",
       "      <td>Puente Alto</td>\n",
       "      <td>Cordillera</td>\n",
       "      <td>Metropolitana de Santiago</td>\n",
       "      <td>88.0</td>\n",
       "      <td>757721</td>\n",
       "      <td>6664.8</td>\n",
       "      <td>773.00</td>\n",
       "    </tr>\n",
       "    <tr>\n",
       "      <th>327</th>\n",
       "      <td>13202</td>\n",
       "      <td>Pirque</td>\n",
       "      <td>Cordillera</td>\n",
       "      <td>Metropolitana de Santiago</td>\n",
       "      <td>445.3</td>\n",
       "      <td>20732</td>\n",
       "      <td>37.2</td>\n",
       "      <td>807.00</td>\n",
       "    </tr>\n",
       "    <tr>\n",
       "      <th>328</th>\n",
       "      <td>13203</td>\n",
       "      <td>San José de Maipo</td>\n",
       "      <td>Cordillera</td>\n",
       "      <td>Metropolitana de Santiago</td>\n",
       "      <td>4994.8</td>\n",
       "      <td>14455</td>\n",
       "      <td>0.3</td>\n",
       "      <td>759.00</td>\n",
       "    </tr>\n",
       "    <tr>\n",
       "      <th>329</th>\n",
       "      <td>13301</td>\n",
       "      <td>Colina</td>\n",
       "      <td>Chacabuco</td>\n",
       "      <td>Metropolitana de Santiago</td>\n",
       "      <td>971.2</td>\n",
       "      <td>113340</td>\n",
       "      <td>80.1</td>\n",
       "      <td>726.00</td>\n",
       "    </tr>\n",
       "    <tr>\n",
       "      <th>330</th>\n",
       "      <td>13302</td>\n",
       "      <td>Lampa</td>\n",
       "      <td>Chacabuco</td>\n",
       "      <td>Metropolitana de Santiago</td>\n",
       "      <td>452.0</td>\n",
       "      <td>79421</td>\n",
       "      <td>89.9</td>\n",
       "      <td>697.00</td>\n",
       "    </tr>\n",
       "    <tr>\n",
       "      <th>331</th>\n",
       "      <td>13303</td>\n",
       "      <td>Til Til</td>\n",
       "      <td>Chacabuco</td>\n",
       "      <td>Metropolitana de Santiago</td>\n",
       "      <td>653.0</td>\n",
       "      <td>16405</td>\n",
       "      <td>22.6</td>\n",
       "      <td>706.00</td>\n",
       "    </tr>\n",
       "    <tr>\n",
       "      <th>332</th>\n",
       "      <td>13401</td>\n",
       "      <td>San Bernardo</td>\n",
       "      <td>Maipo</td>\n",
       "      <td>Metropolitana de Santiago</td>\n",
       "      <td>155.0</td>\n",
       "      <td>277802</td>\n",
       "      <td>1974.0</td>\n",
       "      <td>712.00</td>\n",
       "    </tr>\n",
       "    <tr>\n",
       "      <th>333</th>\n",
       "      <td>13402</td>\n",
       "      <td>Buin</td>\n",
       "      <td>Maipo</td>\n",
       "      <td>Metropolitana de Santiago</td>\n",
       "      <td>214.0</td>\n",
       "      <td>74232</td>\n",
       "      <td>296.2</td>\n",
       "      <td>731.00</td>\n",
       "    </tr>\n",
       "    <tr>\n",
       "      <th>334</th>\n",
       "      <td>13403</td>\n",
       "      <td>Calera de Tango</td>\n",
       "      <td>Maipo</td>\n",
       "      <td>Metropolitana de Santiago</td>\n",
       "      <td>73.3</td>\n",
       "      <td>27781</td>\n",
       "      <td>782.6</td>\n",
       "      <td>792.00</td>\n",
       "    </tr>\n",
       "    <tr>\n",
       "      <th>335</th>\n",
       "      <td>13404</td>\n",
       "      <td>Paine</td>\n",
       "      <td>Maipo</td>\n",
       "      <td>Metropolitana de Santiago</td>\n",
       "      <td>820.0</td>\n",
       "      <td>6612</td>\n",
       "      <td>73.7</td>\n",
       "      <td>718.00</td>\n",
       "    </tr>\n",
       "    <tr>\n",
       "      <th>336</th>\n",
       "      <td>13501</td>\n",
       "      <td>Melipilla</td>\n",
       "      <td>Melipilla</td>\n",
       "      <td>Metropolitana de Santiago</td>\n",
       "      <td>1345.0</td>\n",
       "      <td>107698</td>\n",
       "      <td>70.3</td>\n",
       "      <td>735.00</td>\n",
       "    </tr>\n",
       "    <tr>\n",
       "      <th>337</th>\n",
       "      <td>13502</td>\n",
       "      <td>Alhué</td>\n",
       "      <td>Melipilla</td>\n",
       "      <td>Metropolitana de Santiago</td>\n",
       "      <td>845.0</td>\n",
       "      <td>4646</td>\n",
       "      <td>5.2</td>\n",
       "      <td>0.70</td>\n",
       "    </tr>\n",
       "    <tr>\n",
       "      <th>338</th>\n",
       "      <td>13503</td>\n",
       "      <td>Curacaví</td>\n",
       "      <td>Melipilla</td>\n",
       "      <td>Metropolitana de Santiago</td>\n",
       "      <td>693.0</td>\n",
       "      <td>28439</td>\n",
       "      <td>35.1</td>\n",
       "      <td>0.71</td>\n",
       "    </tr>\n",
       "    <tr>\n",
       "      <th>339</th>\n",
       "      <td>13504</td>\n",
       "      <td>María Pinto</td>\n",
       "      <td>Melipilla</td>\n",
       "      <td>Metropolitana de Santiago</td>\n",
       "      <td>393.5</td>\n",
       "      <td>12501</td>\n",
       "      <td>115.6</td>\n",
       "      <td>698.00</td>\n",
       "    </tr>\n",
       "    <tr>\n",
       "      <th>340</th>\n",
       "      <td>13505</td>\n",
       "      <td>San Pedro</td>\n",
       "      <td>Melipilla</td>\n",
       "      <td>Metropolitana de Santiago</td>\n",
       "      <td>788.0</td>\n",
       "      <td>8062</td>\n",
       "      <td>9.6</td>\n",
       "      <td>701.00</td>\n",
       "    </tr>\n",
       "    <tr>\n",
       "      <th>341</th>\n",
       "      <td>13601</td>\n",
       "      <td>Talagante</td>\n",
       "      <td>Talagante</td>\n",
       "      <td>Metropolitana de Santiago</td>\n",
       "      <td>126.0</td>\n",
       "      <td>78887</td>\n",
       "      <td>474.6</td>\n",
       "      <td>749.00</td>\n",
       "    </tr>\n",
       "    <tr>\n",
       "      <th>342</th>\n",
       "      <td>13602</td>\n",
       "      <td>El Monte</td>\n",
       "      <td>Talagante</td>\n",
       "      <td>Metropolitana de Santiago</td>\n",
       "      <td>118.0</td>\n",
       "      <td>32468</td>\n",
       "      <td>224.2</td>\n",
       "      <td>688.00</td>\n",
       "    </tr>\n",
       "    <tr>\n",
       "      <th>343</th>\n",
       "      <td>13603</td>\n",
       "      <td>Isla de Maipo</td>\n",
       "      <td>Talagante</td>\n",
       "      <td>Metropolitana de Santiago</td>\n",
       "      <td>189.0</td>\n",
       "      <td>33723</td>\n",
       "      <td>136.5</td>\n",
       "      <td>724.00</td>\n",
       "    </tr>\n",
       "    <tr>\n",
       "      <th>344</th>\n",
       "      <td>13604</td>\n",
       "      <td>Padre Hurtado</td>\n",
       "      <td>Talagante</td>\n",
       "      <td>Metropolitana de Santiago</td>\n",
       "      <td>80.8</td>\n",
       "      <td>50696</td>\n",
       "      <td>626.2</td>\n",
       "      <td>728.00</td>\n",
       "    </tr>\n",
       "    <tr>\n",
       "      <th>345</th>\n",
       "      <td>13605</td>\n",
       "      <td>Peñaflor</td>\n",
       "      <td>Talagante</td>\n",
       "      <td>Metropolitana de Santiago</td>\n",
       "      <td>69.0</td>\n",
       "      <td>87741</td>\n",
       "      <td>965.5</td>\n",
       "      <td>753.00</td>\n",
       "    </tr>\n",
       "  </tbody>\n",
       "</table>\n",
       "<p>341 rows × 8 columns</p>\n",
       "</div>"
      ],
      "text/plain": [
       "       cod                nombre    provincia                     region  \\\n",
       "0    15101                 Arica        Arica         Arica y Parinacota   \n",
       "1    15102             Camarones        Arica         Arica y Parinacota   \n",
       "2    15201                 Putre   Parinacota         Arica y Parinacota   \n",
       "3    15202         General Lagos   Parinacota         Arica y Parinacota   \n",
       "4     1101               Iquique      Iquique                   Tarapacá   \n",
       "6     1401          Pozo Almonte    Tamarugal                   Tarapacá   \n",
       "7     1402                Camiña    Tamarugal                   Tarapacá   \n",
       "8     1403              Colchane    Tamarugal                   Tarapacá   \n",
       "9     1404                 Huara    Tamarugal                   Tarapacá   \n",
       "10    1405                  Pica    Tamarugal                   Tarapacá   \n",
       "11    2101           Antofagasta  Antofagasta                Antofagasta   \n",
       "12    2102            Mejillones  Antofagasta                Antofagasta   \n",
       "13    2103          Sierra Gorda  Antofagasta                Antofagasta   \n",
       "14    2104                Taltal  Antofagasta                Antofagasta   \n",
       "15    2201                Calama       El Loa                Antofagasta   \n",
       "16    2202               Ollagüe       El Loa                Antofagasta   \n",
       "17    2203  San Pedro de Atacama       El Loa                Antofagasta   \n",
       "18    2301             Tocopilla    Tocopilla                Antofagasta   \n",
       "19    2302           María Elena    Tocopilla                Antofagasta   \n",
       "20    3101               Copiapó      Copiapó                    Atacama   \n",
       "21    3102               Caldera      Copiapó                    Atacama   \n",
       "22    3103       Tierra Amarilla      Copiapó                    Atacama   \n",
       "23    3201              Chañaral     Chañaral                    Atacama   \n",
       "24    3202      Diego de Almagro     Chañaral                    Atacama   \n",
       "25    3301              Vallenar       Huasco                    Atacama   \n",
       "26    3302       Alto del Carmen       Huasco                    Atacama   \n",
       "27    3303              Freirina       Huasco                    Atacama   \n",
       "28    3304                Huasco       Huasco                    Atacama   \n",
       "29    4101             La Serena        Elqui                   Coquimbo   \n",
       "30    4102              Coquimbo        Elqui                   Coquimbo   \n",
       "..     ...                   ...          ...                        ...   \n",
       "316  13123           Providencia     Santiago  Metropolitana de Santiago   \n",
       "317  13124              Pudahuel     Santiago  Metropolitana de Santiago   \n",
       "318  13125             Quilicura     Santiago  Metropolitana de Santiago   \n",
       "319  13126         Quinta Normal     Santiago  Metropolitana de Santiago   \n",
       "320  13127              Recoleta     Santiago  Metropolitana de Santiago   \n",
       "321  13128                 Renca     Santiago  Metropolitana de Santiago   \n",
       "322  13129           San Joaquín     Santiago  Metropolitana de Santiago   \n",
       "323  13130            San Miguel     Santiago  Metropolitana de Santiago   \n",
       "324  13131             San Ramón     Santiago  Metropolitana de Santiago   \n",
       "325  13132              Vitacura     Santiago  Metropolitana de Santiago   \n",
       "326  13201           Puente Alto   Cordillera  Metropolitana de Santiago   \n",
       "327  13202                Pirque   Cordillera  Metropolitana de Santiago   \n",
       "328  13203     San José de Maipo   Cordillera  Metropolitana de Santiago   \n",
       "329  13301                Colina    Chacabuco  Metropolitana de Santiago   \n",
       "330  13302                 Lampa    Chacabuco  Metropolitana de Santiago   \n",
       "331  13303               Til Til    Chacabuco  Metropolitana de Santiago   \n",
       "332  13401          San Bernardo        Maipo  Metropolitana de Santiago   \n",
       "333  13402                  Buin        Maipo  Metropolitana de Santiago   \n",
       "334  13403       Calera de Tango        Maipo  Metropolitana de Santiago   \n",
       "335  13404                 Paine        Maipo  Metropolitana de Santiago   \n",
       "336  13501             Melipilla    Melipilla  Metropolitana de Santiago   \n",
       "337  13502                 Alhué    Melipilla  Metropolitana de Santiago   \n",
       "338  13503              Curacaví    Melipilla  Metropolitana de Santiago   \n",
       "339  13504           María Pinto    Melipilla  Metropolitana de Santiago   \n",
       "340  13505             San Pedro    Melipilla  Metropolitana de Santiago   \n",
       "341  13601             Talagante    Talagante  Metropolitana de Santiago   \n",
       "342  13602              El Monte    Talagante  Metropolitana de Santiago   \n",
       "343  13603         Isla de Maipo    Talagante  Metropolitana de Santiago   \n",
       "344  13604         Padre Hurtado    Talagante  Metropolitana de Santiago   \n",
       "345  13605              Peñaflor    Talagante  Metropolitana de Santiago   \n",
       "\n",
       "     superficie  poblacion  densidad     idh  \n",
       "0        4799.4     210936     736.0   38.40  \n",
       "1        3927.0        679       0.3  751.00  \n",
       "2        5902.5       1462       0.2  707.00  \n",
       "3        2244.4        739       0.5    0.67  \n",
       "4        2242.1     184953      82.4  766.00  \n",
       "6       13765.8      11519       0.7  722.00  \n",
       "7        2200.2       1156       0.5  619.00  \n",
       "8        4015.6       1384       0.4  603.00  \n",
       "9       10474.6       2360       0.2  676.00  \n",
       "10       8934.3       4194       0.6  793.00  \n",
       "11      30718.1     348669       9.7  734.00  \n",
       "12       3803.9       9752       2.2    0.73  \n",
       "13      12886.0       1206       0.1  789.00  \n",
       "14      20405.1      13493       0.5  716.00  \n",
       "15      15596.9     147886       9.1  757.00  \n",
       "16       2964.0        332       0.1  679.00  \n",
       "17      23439.0       5605       0.2  711.00  \n",
       "18       4038.8      20091       5.9    0.69  \n",
       "19      12197.0       4593       0.6  779.00  \n",
       "20      16681.3     158261      11.9  725.00  \n",
       "21       4666.6      16150       2.9  741.00  \n",
       "22      11191.0      13912       1.1  686.00  \n",
       "23       5772.0      14146       2.2  714.00  \n",
       "24      18664.0      16452       1.0  789.00  \n",
       "25       7084.0      52099       6.7  731.00  \n",
       "26       5939.0       5488       0.8  664.00  \n",
       "27       3207.9       6531       1.7  693.00  \n",
       "28       1601.4       9015       5.6  695.00  \n",
       "29       1892.8     211275     132.5  781.00  \n",
       "30       1429.0     202441     141.6  731.00  \n",
       "..          ...        ...       ...     ...  \n",
       "316        14.3     126487    8429.1  911.00  \n",
       "317       197.0     225509     993.7  735.00  \n",
       "318        58.0     203946    3486.6  782.00  \n",
       "319        13.0     101737    8388.0  723.00  \n",
       "320        16.0     152985    9273.8  697.00  \n",
       "321        24.0     142136    8388.1  709.00  \n",
       "322         9.7      94255   10064.4  719.00  \n",
       "323        10.0      90846    7787.2  765.00  \n",
       "324         7.0      85195   14600.9  679.00  \n",
       "325        28.3      84195    2910.7  949.00  \n",
       "326        88.0     757721    6664.8  773.00  \n",
       "327       445.3      20732      37.2  807.00  \n",
       "328      4994.8      14455       0.3  759.00  \n",
       "329       971.2     113340      80.1  726.00  \n",
       "330       452.0      79421      89.9  697.00  \n",
       "331       653.0      16405      22.6  706.00  \n",
       "332       155.0     277802    1974.0  712.00  \n",
       "333       214.0      74232     296.2  731.00  \n",
       "334        73.3      27781     782.6  792.00  \n",
       "335       820.0       6612      73.7  718.00  \n",
       "336      1345.0     107698      70.3  735.00  \n",
       "337       845.0       4646       5.2    0.70  \n",
       "338       693.0      28439      35.1    0.71  \n",
       "339       393.5      12501     115.6  698.00  \n",
       "340       788.0       8062       9.6  701.00  \n",
       "341       126.0      78887     474.6  749.00  \n",
       "342       118.0      32468     224.2  688.00  \n",
       "343       189.0      33723     136.5  724.00  \n",
       "344        80.8      50696     626.2  728.00  \n",
       "345        69.0      87741     965.5  753.00  \n",
       "\n",
       "[341 rows x 8 columns]"
      ]
     },
     "execution_count": 83,
     "metadata": {},
     "output_type": "execute_result"
    }
   ],
   "source": [
    "com_cleaned = com_frame.dropna()\n",
    "# borra las filas nulas\n",
    "com_cleaned"
   ]
  },
  {
   "cell_type": "markdown",
   "metadata": {},
   "source": [
    "O podemos tomar una opción menos radical, que es reemplazar los nulos por un valor en particular."
   ]
  },
  {
   "cell_type": "code",
   "execution_count": 84,
   "metadata": {
    "scrolled": true
   },
   "outputs": [
    {
     "data": {
      "text/html": [
       "<div>\n",
       "<style scoped>\n",
       "    .dataframe tbody tr th:only-of-type {\n",
       "        vertical-align: middle;\n",
       "    }\n",
       "\n",
       "    .dataframe tbody tr th {\n",
       "        vertical-align: top;\n",
       "    }\n",
       "\n",
       "    .dataframe thead th {\n",
       "        text-align: right;\n",
       "    }\n",
       "</style>\n",
       "<table border=\"1\" class=\"dataframe\">\n",
       "  <thead>\n",
       "    <tr style=\"text-align: right;\">\n",
       "      <th></th>\n",
       "      <th>cod</th>\n",
       "      <th>nombre</th>\n",
       "      <th>provincia</th>\n",
       "      <th>region</th>\n",
       "      <th>superficie</th>\n",
       "      <th>poblacion</th>\n",
       "      <th>densidad</th>\n",
       "      <th>idh</th>\n",
       "    </tr>\n",
       "  </thead>\n",
       "  <tbody>\n",
       "    <tr>\n",
       "      <th>0</th>\n",
       "      <td>15101</td>\n",
       "      <td>Arica</td>\n",
       "      <td>Arica</td>\n",
       "      <td>Arica y Parinacota</td>\n",
       "      <td>4799.4</td>\n",
       "      <td>210936</td>\n",
       "      <td>736.0</td>\n",
       "      <td>38.40</td>\n",
       "    </tr>\n",
       "    <tr>\n",
       "      <th>1</th>\n",
       "      <td>15102</td>\n",
       "      <td>Camarones</td>\n",
       "      <td>Arica</td>\n",
       "      <td>Arica y Parinacota</td>\n",
       "      <td>3927.0</td>\n",
       "      <td>679</td>\n",
       "      <td>0.3</td>\n",
       "      <td>751.00</td>\n",
       "    </tr>\n",
       "    <tr>\n",
       "      <th>2</th>\n",
       "      <td>15201</td>\n",
       "      <td>Putre</td>\n",
       "      <td>Parinacota</td>\n",
       "      <td>Arica y Parinacota</td>\n",
       "      <td>5902.5</td>\n",
       "      <td>1462</td>\n",
       "      <td>0.2</td>\n",
       "      <td>707.00</td>\n",
       "    </tr>\n",
       "    <tr>\n",
       "      <th>3</th>\n",
       "      <td>15202</td>\n",
       "      <td>General Lagos</td>\n",
       "      <td>Parinacota</td>\n",
       "      <td>Arica y Parinacota</td>\n",
       "      <td>2244.4</td>\n",
       "      <td>739</td>\n",
       "      <td>0.5</td>\n",
       "      <td>0.67</td>\n",
       "    </tr>\n",
       "    <tr>\n",
       "      <th>4</th>\n",
       "      <td>1101</td>\n",
       "      <td>Iquique</td>\n",
       "      <td>Iquique</td>\n",
       "      <td>Tarapacá</td>\n",
       "      <td>2242.1</td>\n",
       "      <td>184953</td>\n",
       "      <td>82.4</td>\n",
       "      <td>766.00</td>\n",
       "    </tr>\n",
       "    <tr>\n",
       "      <th>5</th>\n",
       "      <td>1107</td>\n",
       "      <td>Alto Hospicio</td>\n",
       "      <td>Iquique</td>\n",
       "      <td>Tarapacá</td>\n",
       "      <td>572.9</td>\n",
       "      <td>94455</td>\n",
       "      <td>87.6</td>\n",
       "      <td>0.00</td>\n",
       "    </tr>\n",
       "    <tr>\n",
       "      <th>6</th>\n",
       "      <td>1401</td>\n",
       "      <td>Pozo Almonte</td>\n",
       "      <td>Tamarugal</td>\n",
       "      <td>Tarapacá</td>\n",
       "      <td>13765.8</td>\n",
       "      <td>11519</td>\n",
       "      <td>0.7</td>\n",
       "      <td>722.00</td>\n",
       "    </tr>\n",
       "    <tr>\n",
       "      <th>7</th>\n",
       "      <td>1402</td>\n",
       "      <td>Camiña</td>\n",
       "      <td>Tamarugal</td>\n",
       "      <td>Tarapacá</td>\n",
       "      <td>2200.2</td>\n",
       "      <td>1156</td>\n",
       "      <td>0.5</td>\n",
       "      <td>619.00</td>\n",
       "    </tr>\n",
       "    <tr>\n",
       "      <th>8</th>\n",
       "      <td>1403</td>\n",
       "      <td>Colchane</td>\n",
       "      <td>Tamarugal</td>\n",
       "      <td>Tarapacá</td>\n",
       "      <td>4015.6</td>\n",
       "      <td>1384</td>\n",
       "      <td>0.4</td>\n",
       "      <td>603.00</td>\n",
       "    </tr>\n",
       "    <tr>\n",
       "      <th>9</th>\n",
       "      <td>1404</td>\n",
       "      <td>Huara</td>\n",
       "      <td>Tamarugal</td>\n",
       "      <td>Tarapacá</td>\n",
       "      <td>10474.6</td>\n",
       "      <td>2360</td>\n",
       "      <td>0.2</td>\n",
       "      <td>676.00</td>\n",
       "    </tr>\n",
       "    <tr>\n",
       "      <th>10</th>\n",
       "      <td>1405</td>\n",
       "      <td>Pica</td>\n",
       "      <td>Tamarugal</td>\n",
       "      <td>Tarapacá</td>\n",
       "      <td>8934.3</td>\n",
       "      <td>4194</td>\n",
       "      <td>0.6</td>\n",
       "      <td>793.00</td>\n",
       "    </tr>\n",
       "    <tr>\n",
       "      <th>11</th>\n",
       "      <td>2101</td>\n",
       "      <td>Antofagasta</td>\n",
       "      <td>Antofagasta</td>\n",
       "      <td>Antofagasta</td>\n",
       "      <td>30718.1</td>\n",
       "      <td>348669</td>\n",
       "      <td>9.7</td>\n",
       "      <td>734.00</td>\n",
       "    </tr>\n",
       "    <tr>\n",
       "      <th>12</th>\n",
       "      <td>2102</td>\n",
       "      <td>Mejillones</td>\n",
       "      <td>Antofagasta</td>\n",
       "      <td>Antofagasta</td>\n",
       "      <td>3803.9</td>\n",
       "      <td>9752</td>\n",
       "      <td>2.2</td>\n",
       "      <td>0.73</td>\n",
       "    </tr>\n",
       "    <tr>\n",
       "      <th>13</th>\n",
       "      <td>2103</td>\n",
       "      <td>Sierra Gorda</td>\n",
       "      <td>Antofagasta</td>\n",
       "      <td>Antofagasta</td>\n",
       "      <td>12886.0</td>\n",
       "      <td>1206</td>\n",
       "      <td>0.1</td>\n",
       "      <td>789.00</td>\n",
       "    </tr>\n",
       "    <tr>\n",
       "      <th>14</th>\n",
       "      <td>2104</td>\n",
       "      <td>Taltal</td>\n",
       "      <td>Antofagasta</td>\n",
       "      <td>Antofagasta</td>\n",
       "      <td>20405.1</td>\n",
       "      <td>13493</td>\n",
       "      <td>0.5</td>\n",
       "      <td>716.00</td>\n",
       "    </tr>\n",
       "    <tr>\n",
       "      <th>15</th>\n",
       "      <td>2201</td>\n",
       "      <td>Calama</td>\n",
       "      <td>El Loa</td>\n",
       "      <td>Antofagasta</td>\n",
       "      <td>15596.9</td>\n",
       "      <td>147886</td>\n",
       "      <td>9.1</td>\n",
       "      <td>757.00</td>\n",
       "    </tr>\n",
       "    <tr>\n",
       "      <th>16</th>\n",
       "      <td>2202</td>\n",
       "      <td>Ollagüe</td>\n",
       "      <td>El Loa</td>\n",
       "      <td>Antofagasta</td>\n",
       "      <td>2964.0</td>\n",
       "      <td>332</td>\n",
       "      <td>0.1</td>\n",
       "      <td>679.00</td>\n",
       "    </tr>\n",
       "    <tr>\n",
       "      <th>17</th>\n",
       "      <td>2203</td>\n",
       "      <td>San Pedro de Atacama</td>\n",
       "      <td>El Loa</td>\n",
       "      <td>Antofagasta</td>\n",
       "      <td>23439.0</td>\n",
       "      <td>5605</td>\n",
       "      <td>0.2</td>\n",
       "      <td>711.00</td>\n",
       "    </tr>\n",
       "    <tr>\n",
       "      <th>18</th>\n",
       "      <td>2301</td>\n",
       "      <td>Tocopilla</td>\n",
       "      <td>Tocopilla</td>\n",
       "      <td>Antofagasta</td>\n",
       "      <td>4038.8</td>\n",
       "      <td>20091</td>\n",
       "      <td>5.9</td>\n",
       "      <td>0.69</td>\n",
       "    </tr>\n",
       "    <tr>\n",
       "      <th>19</th>\n",
       "      <td>2302</td>\n",
       "      <td>María Elena</td>\n",
       "      <td>Tocopilla</td>\n",
       "      <td>Antofagasta</td>\n",
       "      <td>12197.0</td>\n",
       "      <td>4593</td>\n",
       "      <td>0.6</td>\n",
       "      <td>779.00</td>\n",
       "    </tr>\n",
       "    <tr>\n",
       "      <th>20</th>\n",
       "      <td>3101</td>\n",
       "      <td>Copiapó</td>\n",
       "      <td>Copiapó</td>\n",
       "      <td>Atacama</td>\n",
       "      <td>16681.3</td>\n",
       "      <td>158261</td>\n",
       "      <td>11.9</td>\n",
       "      <td>725.00</td>\n",
       "    </tr>\n",
       "    <tr>\n",
       "      <th>21</th>\n",
       "      <td>3102</td>\n",
       "      <td>Caldera</td>\n",
       "      <td>Copiapó</td>\n",
       "      <td>Atacama</td>\n",
       "      <td>4666.6</td>\n",
       "      <td>16150</td>\n",
       "      <td>2.9</td>\n",
       "      <td>741.00</td>\n",
       "    </tr>\n",
       "    <tr>\n",
       "      <th>22</th>\n",
       "      <td>3103</td>\n",
       "      <td>Tierra Amarilla</td>\n",
       "      <td>Copiapó</td>\n",
       "      <td>Atacama</td>\n",
       "      <td>11191.0</td>\n",
       "      <td>13912</td>\n",
       "      <td>1.1</td>\n",
       "      <td>686.00</td>\n",
       "    </tr>\n",
       "    <tr>\n",
       "      <th>23</th>\n",
       "      <td>3201</td>\n",
       "      <td>Chañaral</td>\n",
       "      <td>Chañaral</td>\n",
       "      <td>Atacama</td>\n",
       "      <td>5772.0</td>\n",
       "      <td>14146</td>\n",
       "      <td>2.2</td>\n",
       "      <td>714.00</td>\n",
       "    </tr>\n",
       "    <tr>\n",
       "      <th>24</th>\n",
       "      <td>3202</td>\n",
       "      <td>Diego de Almagro</td>\n",
       "      <td>Chañaral</td>\n",
       "      <td>Atacama</td>\n",
       "      <td>18664.0</td>\n",
       "      <td>16452</td>\n",
       "      <td>1.0</td>\n",
       "      <td>789.00</td>\n",
       "    </tr>\n",
       "    <tr>\n",
       "      <th>25</th>\n",
       "      <td>3301</td>\n",
       "      <td>Vallenar</td>\n",
       "      <td>Huasco</td>\n",
       "      <td>Atacama</td>\n",
       "      <td>7084.0</td>\n",
       "      <td>52099</td>\n",
       "      <td>6.7</td>\n",
       "      <td>731.00</td>\n",
       "    </tr>\n",
       "    <tr>\n",
       "      <th>26</th>\n",
       "      <td>3302</td>\n",
       "      <td>Alto del Carmen</td>\n",
       "      <td>Huasco</td>\n",
       "      <td>Atacama</td>\n",
       "      <td>5939.0</td>\n",
       "      <td>5488</td>\n",
       "      <td>0.8</td>\n",
       "      <td>664.00</td>\n",
       "    </tr>\n",
       "    <tr>\n",
       "      <th>27</th>\n",
       "      <td>3303</td>\n",
       "      <td>Freirina</td>\n",
       "      <td>Huasco</td>\n",
       "      <td>Atacama</td>\n",
       "      <td>3207.9</td>\n",
       "      <td>6531</td>\n",
       "      <td>1.7</td>\n",
       "      <td>693.00</td>\n",
       "    </tr>\n",
       "    <tr>\n",
       "      <th>28</th>\n",
       "      <td>3304</td>\n",
       "      <td>Huasco</td>\n",
       "      <td>Huasco</td>\n",
       "      <td>Atacama</td>\n",
       "      <td>1601.4</td>\n",
       "      <td>9015</td>\n",
       "      <td>5.6</td>\n",
       "      <td>695.00</td>\n",
       "    </tr>\n",
       "    <tr>\n",
       "      <th>29</th>\n",
       "      <td>4101</td>\n",
       "      <td>La Serena</td>\n",
       "      <td>Elqui</td>\n",
       "      <td>Coquimbo</td>\n",
       "      <td>1892.8</td>\n",
       "      <td>211275</td>\n",
       "      <td>132.5</td>\n",
       "      <td>781.00</td>\n",
       "    </tr>\n",
       "    <tr>\n",
       "      <th>...</th>\n",
       "      <td>...</td>\n",
       "      <td>...</td>\n",
       "      <td>...</td>\n",
       "      <td>...</td>\n",
       "      <td>...</td>\n",
       "      <td>...</td>\n",
       "      <td>...</td>\n",
       "      <td>...</td>\n",
       "    </tr>\n",
       "    <tr>\n",
       "      <th>316</th>\n",
       "      <td>13123</td>\n",
       "      <td>Providencia</td>\n",
       "      <td>Santiago</td>\n",
       "      <td>Metropolitana de Santiago</td>\n",
       "      <td>14.3</td>\n",
       "      <td>126487</td>\n",
       "      <td>8429.1</td>\n",
       "      <td>911.00</td>\n",
       "    </tr>\n",
       "    <tr>\n",
       "      <th>317</th>\n",
       "      <td>13124</td>\n",
       "      <td>Pudahuel</td>\n",
       "      <td>Santiago</td>\n",
       "      <td>Metropolitana de Santiago</td>\n",
       "      <td>197.0</td>\n",
       "      <td>225509</td>\n",
       "      <td>993.7</td>\n",
       "      <td>735.00</td>\n",
       "    </tr>\n",
       "    <tr>\n",
       "      <th>318</th>\n",
       "      <td>13125</td>\n",
       "      <td>Quilicura</td>\n",
       "      <td>Santiago</td>\n",
       "      <td>Metropolitana de Santiago</td>\n",
       "      <td>58.0</td>\n",
       "      <td>203946</td>\n",
       "      <td>3486.6</td>\n",
       "      <td>782.00</td>\n",
       "    </tr>\n",
       "    <tr>\n",
       "      <th>319</th>\n",
       "      <td>13126</td>\n",
       "      <td>Quinta Normal</td>\n",
       "      <td>Santiago</td>\n",
       "      <td>Metropolitana de Santiago</td>\n",
       "      <td>13.0</td>\n",
       "      <td>101737</td>\n",
       "      <td>8388.0</td>\n",
       "      <td>723.00</td>\n",
       "    </tr>\n",
       "    <tr>\n",
       "      <th>320</th>\n",
       "      <td>13127</td>\n",
       "      <td>Recoleta</td>\n",
       "      <td>Santiago</td>\n",
       "      <td>Metropolitana de Santiago</td>\n",
       "      <td>16.0</td>\n",
       "      <td>152985</td>\n",
       "      <td>9273.8</td>\n",
       "      <td>697.00</td>\n",
       "    </tr>\n",
       "    <tr>\n",
       "      <th>321</th>\n",
       "      <td>13128</td>\n",
       "      <td>Renca</td>\n",
       "      <td>Santiago</td>\n",
       "      <td>Metropolitana de Santiago</td>\n",
       "      <td>24.0</td>\n",
       "      <td>142136</td>\n",
       "      <td>8388.1</td>\n",
       "      <td>709.00</td>\n",
       "    </tr>\n",
       "    <tr>\n",
       "      <th>322</th>\n",
       "      <td>13129</td>\n",
       "      <td>San Joaquín</td>\n",
       "      <td>Santiago</td>\n",
       "      <td>Metropolitana de Santiago</td>\n",
       "      <td>9.7</td>\n",
       "      <td>94255</td>\n",
       "      <td>10064.4</td>\n",
       "      <td>719.00</td>\n",
       "    </tr>\n",
       "    <tr>\n",
       "      <th>323</th>\n",
       "      <td>13130</td>\n",
       "      <td>San Miguel</td>\n",
       "      <td>Santiago</td>\n",
       "      <td>Metropolitana de Santiago</td>\n",
       "      <td>10.0</td>\n",
       "      <td>90846</td>\n",
       "      <td>7787.2</td>\n",
       "      <td>765.00</td>\n",
       "    </tr>\n",
       "    <tr>\n",
       "      <th>324</th>\n",
       "      <td>13131</td>\n",
       "      <td>San Ramón</td>\n",
       "      <td>Santiago</td>\n",
       "      <td>Metropolitana de Santiago</td>\n",
       "      <td>7.0</td>\n",
       "      <td>85195</td>\n",
       "      <td>14600.9</td>\n",
       "      <td>679.00</td>\n",
       "    </tr>\n",
       "    <tr>\n",
       "      <th>325</th>\n",
       "      <td>13132</td>\n",
       "      <td>Vitacura</td>\n",
       "      <td>Santiago</td>\n",
       "      <td>Metropolitana de Santiago</td>\n",
       "      <td>28.3</td>\n",
       "      <td>84195</td>\n",
       "      <td>2910.7</td>\n",
       "      <td>949.00</td>\n",
       "    </tr>\n",
       "    <tr>\n",
       "      <th>326</th>\n",
       "      <td>13201</td>\n",
       "      <td>Puente Alto</td>\n",
       "      <td>Cordillera</td>\n",
       "      <td>Metropolitana de Santiago</td>\n",
       "      <td>88.0</td>\n",
       "      <td>757721</td>\n",
       "      <td>6664.8</td>\n",
       "      <td>773.00</td>\n",
       "    </tr>\n",
       "    <tr>\n",
       "      <th>327</th>\n",
       "      <td>13202</td>\n",
       "      <td>Pirque</td>\n",
       "      <td>Cordillera</td>\n",
       "      <td>Metropolitana de Santiago</td>\n",
       "      <td>445.3</td>\n",
       "      <td>20732</td>\n",
       "      <td>37.2</td>\n",
       "      <td>807.00</td>\n",
       "    </tr>\n",
       "    <tr>\n",
       "      <th>328</th>\n",
       "      <td>13203</td>\n",
       "      <td>San José de Maipo</td>\n",
       "      <td>Cordillera</td>\n",
       "      <td>Metropolitana de Santiago</td>\n",
       "      <td>4994.8</td>\n",
       "      <td>14455</td>\n",
       "      <td>0.3</td>\n",
       "      <td>759.00</td>\n",
       "    </tr>\n",
       "    <tr>\n",
       "      <th>329</th>\n",
       "      <td>13301</td>\n",
       "      <td>Colina</td>\n",
       "      <td>Chacabuco</td>\n",
       "      <td>Metropolitana de Santiago</td>\n",
       "      <td>971.2</td>\n",
       "      <td>113340</td>\n",
       "      <td>80.1</td>\n",
       "      <td>726.00</td>\n",
       "    </tr>\n",
       "    <tr>\n",
       "      <th>330</th>\n",
       "      <td>13302</td>\n",
       "      <td>Lampa</td>\n",
       "      <td>Chacabuco</td>\n",
       "      <td>Metropolitana de Santiago</td>\n",
       "      <td>452.0</td>\n",
       "      <td>79421</td>\n",
       "      <td>89.9</td>\n",
       "      <td>697.00</td>\n",
       "    </tr>\n",
       "    <tr>\n",
       "      <th>331</th>\n",
       "      <td>13303</td>\n",
       "      <td>Til Til</td>\n",
       "      <td>Chacabuco</td>\n",
       "      <td>Metropolitana de Santiago</td>\n",
       "      <td>653.0</td>\n",
       "      <td>16405</td>\n",
       "      <td>22.6</td>\n",
       "      <td>706.00</td>\n",
       "    </tr>\n",
       "    <tr>\n",
       "      <th>332</th>\n",
       "      <td>13401</td>\n",
       "      <td>San Bernardo</td>\n",
       "      <td>Maipo</td>\n",
       "      <td>Metropolitana de Santiago</td>\n",
       "      <td>155.0</td>\n",
       "      <td>277802</td>\n",
       "      <td>1974.0</td>\n",
       "      <td>712.00</td>\n",
       "    </tr>\n",
       "    <tr>\n",
       "      <th>333</th>\n",
       "      <td>13402</td>\n",
       "      <td>Buin</td>\n",
       "      <td>Maipo</td>\n",
       "      <td>Metropolitana de Santiago</td>\n",
       "      <td>214.0</td>\n",
       "      <td>74232</td>\n",
       "      <td>296.2</td>\n",
       "      <td>731.00</td>\n",
       "    </tr>\n",
       "    <tr>\n",
       "      <th>334</th>\n",
       "      <td>13403</td>\n",
       "      <td>Calera de Tango</td>\n",
       "      <td>Maipo</td>\n",
       "      <td>Metropolitana de Santiago</td>\n",
       "      <td>73.3</td>\n",
       "      <td>27781</td>\n",
       "      <td>782.6</td>\n",
       "      <td>792.00</td>\n",
       "    </tr>\n",
       "    <tr>\n",
       "      <th>335</th>\n",
       "      <td>13404</td>\n",
       "      <td>Paine</td>\n",
       "      <td>Maipo</td>\n",
       "      <td>Metropolitana de Santiago</td>\n",
       "      <td>820.0</td>\n",
       "      <td>6612</td>\n",
       "      <td>73.7</td>\n",
       "      <td>718.00</td>\n",
       "    </tr>\n",
       "    <tr>\n",
       "      <th>336</th>\n",
       "      <td>13501</td>\n",
       "      <td>Melipilla</td>\n",
       "      <td>Melipilla</td>\n",
       "      <td>Metropolitana de Santiago</td>\n",
       "      <td>1345.0</td>\n",
       "      <td>107698</td>\n",
       "      <td>70.3</td>\n",
       "      <td>735.00</td>\n",
       "    </tr>\n",
       "    <tr>\n",
       "      <th>337</th>\n",
       "      <td>13502</td>\n",
       "      <td>Alhué</td>\n",
       "      <td>Melipilla</td>\n",
       "      <td>Metropolitana de Santiago</td>\n",
       "      <td>845.0</td>\n",
       "      <td>4646</td>\n",
       "      <td>5.2</td>\n",
       "      <td>0.70</td>\n",
       "    </tr>\n",
       "    <tr>\n",
       "      <th>338</th>\n",
       "      <td>13503</td>\n",
       "      <td>Curacaví</td>\n",
       "      <td>Melipilla</td>\n",
       "      <td>Metropolitana de Santiago</td>\n",
       "      <td>693.0</td>\n",
       "      <td>28439</td>\n",
       "      <td>35.1</td>\n",
       "      <td>0.71</td>\n",
       "    </tr>\n",
       "    <tr>\n",
       "      <th>339</th>\n",
       "      <td>13504</td>\n",
       "      <td>María Pinto</td>\n",
       "      <td>Melipilla</td>\n",
       "      <td>Metropolitana de Santiago</td>\n",
       "      <td>393.5</td>\n",
       "      <td>12501</td>\n",
       "      <td>115.6</td>\n",
       "      <td>698.00</td>\n",
       "    </tr>\n",
       "    <tr>\n",
       "      <th>340</th>\n",
       "      <td>13505</td>\n",
       "      <td>San Pedro</td>\n",
       "      <td>Melipilla</td>\n",
       "      <td>Metropolitana de Santiago</td>\n",
       "      <td>788.0</td>\n",
       "      <td>8062</td>\n",
       "      <td>9.6</td>\n",
       "      <td>701.00</td>\n",
       "    </tr>\n",
       "    <tr>\n",
       "      <th>341</th>\n",
       "      <td>13601</td>\n",
       "      <td>Talagante</td>\n",
       "      <td>Talagante</td>\n",
       "      <td>Metropolitana de Santiago</td>\n",
       "      <td>126.0</td>\n",
       "      <td>78887</td>\n",
       "      <td>474.6</td>\n",
       "      <td>749.00</td>\n",
       "    </tr>\n",
       "    <tr>\n",
       "      <th>342</th>\n",
       "      <td>13602</td>\n",
       "      <td>El Monte</td>\n",
       "      <td>Talagante</td>\n",
       "      <td>Metropolitana de Santiago</td>\n",
       "      <td>118.0</td>\n",
       "      <td>32468</td>\n",
       "      <td>224.2</td>\n",
       "      <td>688.00</td>\n",
       "    </tr>\n",
       "    <tr>\n",
       "      <th>343</th>\n",
       "      <td>13603</td>\n",
       "      <td>Isla de Maipo</td>\n",
       "      <td>Talagante</td>\n",
       "      <td>Metropolitana de Santiago</td>\n",
       "      <td>189.0</td>\n",
       "      <td>33723</td>\n",
       "      <td>136.5</td>\n",
       "      <td>724.00</td>\n",
       "    </tr>\n",
       "    <tr>\n",
       "      <th>344</th>\n",
       "      <td>13604</td>\n",
       "      <td>Padre Hurtado</td>\n",
       "      <td>Talagante</td>\n",
       "      <td>Metropolitana de Santiago</td>\n",
       "      <td>80.8</td>\n",
       "      <td>50696</td>\n",
       "      <td>626.2</td>\n",
       "      <td>728.00</td>\n",
       "    </tr>\n",
       "    <tr>\n",
       "      <th>345</th>\n",
       "      <td>13605</td>\n",
       "      <td>Peñaflor</td>\n",
       "      <td>Talagante</td>\n",
       "      <td>Metropolitana de Santiago</td>\n",
       "      <td>69.0</td>\n",
       "      <td>87741</td>\n",
       "      <td>965.5</td>\n",
       "      <td>753.00</td>\n",
       "    </tr>\n",
       "  </tbody>\n",
       "</table>\n",
       "<p>346 rows × 8 columns</p>\n",
       "</div>"
      ],
      "text/plain": [
       "       cod                nombre    provincia                     region  \\\n",
       "0    15101                 Arica        Arica         Arica y Parinacota   \n",
       "1    15102             Camarones        Arica         Arica y Parinacota   \n",
       "2    15201                 Putre   Parinacota         Arica y Parinacota   \n",
       "3    15202         General Lagos   Parinacota         Arica y Parinacota   \n",
       "4     1101               Iquique      Iquique                   Tarapacá   \n",
       "5     1107         Alto Hospicio      Iquique                   Tarapacá   \n",
       "6     1401          Pozo Almonte    Tamarugal                   Tarapacá   \n",
       "7     1402                Camiña    Tamarugal                   Tarapacá   \n",
       "8     1403              Colchane    Tamarugal                   Tarapacá   \n",
       "9     1404                 Huara    Tamarugal                   Tarapacá   \n",
       "10    1405                  Pica    Tamarugal                   Tarapacá   \n",
       "11    2101           Antofagasta  Antofagasta                Antofagasta   \n",
       "12    2102            Mejillones  Antofagasta                Antofagasta   \n",
       "13    2103          Sierra Gorda  Antofagasta                Antofagasta   \n",
       "14    2104                Taltal  Antofagasta                Antofagasta   \n",
       "15    2201                Calama       El Loa                Antofagasta   \n",
       "16    2202               Ollagüe       El Loa                Antofagasta   \n",
       "17    2203  San Pedro de Atacama       El Loa                Antofagasta   \n",
       "18    2301             Tocopilla    Tocopilla                Antofagasta   \n",
       "19    2302           María Elena    Tocopilla                Antofagasta   \n",
       "20    3101               Copiapó      Copiapó                    Atacama   \n",
       "21    3102               Caldera      Copiapó                    Atacama   \n",
       "22    3103       Tierra Amarilla      Copiapó                    Atacama   \n",
       "23    3201              Chañaral     Chañaral                    Atacama   \n",
       "24    3202      Diego de Almagro     Chañaral                    Atacama   \n",
       "25    3301              Vallenar       Huasco                    Atacama   \n",
       "26    3302       Alto del Carmen       Huasco                    Atacama   \n",
       "27    3303              Freirina       Huasco                    Atacama   \n",
       "28    3304                Huasco       Huasco                    Atacama   \n",
       "29    4101             La Serena        Elqui                   Coquimbo   \n",
       "..     ...                   ...          ...                        ...   \n",
       "316  13123           Providencia     Santiago  Metropolitana de Santiago   \n",
       "317  13124              Pudahuel     Santiago  Metropolitana de Santiago   \n",
       "318  13125             Quilicura     Santiago  Metropolitana de Santiago   \n",
       "319  13126         Quinta Normal     Santiago  Metropolitana de Santiago   \n",
       "320  13127              Recoleta     Santiago  Metropolitana de Santiago   \n",
       "321  13128                 Renca     Santiago  Metropolitana de Santiago   \n",
       "322  13129           San Joaquín     Santiago  Metropolitana de Santiago   \n",
       "323  13130            San Miguel     Santiago  Metropolitana de Santiago   \n",
       "324  13131             San Ramón     Santiago  Metropolitana de Santiago   \n",
       "325  13132              Vitacura     Santiago  Metropolitana de Santiago   \n",
       "326  13201           Puente Alto   Cordillera  Metropolitana de Santiago   \n",
       "327  13202                Pirque   Cordillera  Metropolitana de Santiago   \n",
       "328  13203     San José de Maipo   Cordillera  Metropolitana de Santiago   \n",
       "329  13301                Colina    Chacabuco  Metropolitana de Santiago   \n",
       "330  13302                 Lampa    Chacabuco  Metropolitana de Santiago   \n",
       "331  13303               Til Til    Chacabuco  Metropolitana de Santiago   \n",
       "332  13401          San Bernardo        Maipo  Metropolitana de Santiago   \n",
       "333  13402                  Buin        Maipo  Metropolitana de Santiago   \n",
       "334  13403       Calera de Tango        Maipo  Metropolitana de Santiago   \n",
       "335  13404                 Paine        Maipo  Metropolitana de Santiago   \n",
       "336  13501             Melipilla    Melipilla  Metropolitana de Santiago   \n",
       "337  13502                 Alhué    Melipilla  Metropolitana de Santiago   \n",
       "338  13503              Curacaví    Melipilla  Metropolitana de Santiago   \n",
       "339  13504           María Pinto    Melipilla  Metropolitana de Santiago   \n",
       "340  13505             San Pedro    Melipilla  Metropolitana de Santiago   \n",
       "341  13601             Talagante    Talagante  Metropolitana de Santiago   \n",
       "342  13602              El Monte    Talagante  Metropolitana de Santiago   \n",
       "343  13603         Isla de Maipo    Talagante  Metropolitana de Santiago   \n",
       "344  13604         Padre Hurtado    Talagante  Metropolitana de Santiago   \n",
       "345  13605              Peñaflor    Talagante  Metropolitana de Santiago   \n",
       "\n",
       "     superficie  poblacion  densidad     idh  \n",
       "0        4799.4     210936     736.0   38.40  \n",
       "1        3927.0        679       0.3  751.00  \n",
       "2        5902.5       1462       0.2  707.00  \n",
       "3        2244.4        739       0.5    0.67  \n",
       "4        2242.1     184953      82.4  766.00  \n",
       "5         572.9      94455      87.6    0.00  \n",
       "6       13765.8      11519       0.7  722.00  \n",
       "7        2200.2       1156       0.5  619.00  \n",
       "8        4015.6       1384       0.4  603.00  \n",
       "9       10474.6       2360       0.2  676.00  \n",
       "10       8934.3       4194       0.6  793.00  \n",
       "11      30718.1     348669       9.7  734.00  \n",
       "12       3803.9       9752       2.2    0.73  \n",
       "13      12886.0       1206       0.1  789.00  \n",
       "14      20405.1      13493       0.5  716.00  \n",
       "15      15596.9     147886       9.1  757.00  \n",
       "16       2964.0        332       0.1  679.00  \n",
       "17      23439.0       5605       0.2  711.00  \n",
       "18       4038.8      20091       5.9    0.69  \n",
       "19      12197.0       4593       0.6  779.00  \n",
       "20      16681.3     158261      11.9  725.00  \n",
       "21       4666.6      16150       2.9  741.00  \n",
       "22      11191.0      13912       1.1  686.00  \n",
       "23       5772.0      14146       2.2  714.00  \n",
       "24      18664.0      16452       1.0  789.00  \n",
       "25       7084.0      52099       6.7  731.00  \n",
       "26       5939.0       5488       0.8  664.00  \n",
       "27       3207.9       6531       1.7  693.00  \n",
       "28       1601.4       9015       5.6  695.00  \n",
       "29       1892.8     211275     132.5  781.00  \n",
       "..          ...        ...       ...     ...  \n",
       "316        14.3     126487    8429.1  911.00  \n",
       "317       197.0     225509     993.7  735.00  \n",
       "318        58.0     203946    3486.6  782.00  \n",
       "319        13.0     101737    8388.0  723.00  \n",
       "320        16.0     152985    9273.8  697.00  \n",
       "321        24.0     142136    8388.1  709.00  \n",
       "322         9.7      94255   10064.4  719.00  \n",
       "323        10.0      90846    7787.2  765.00  \n",
       "324         7.0      85195   14600.9  679.00  \n",
       "325        28.3      84195    2910.7  949.00  \n",
       "326        88.0     757721    6664.8  773.00  \n",
       "327       445.3      20732      37.2  807.00  \n",
       "328      4994.8      14455       0.3  759.00  \n",
       "329       971.2     113340      80.1  726.00  \n",
       "330       452.0      79421      89.9  697.00  \n",
       "331       653.0      16405      22.6  706.00  \n",
       "332       155.0     277802    1974.0  712.00  \n",
       "333       214.0      74232     296.2  731.00  \n",
       "334        73.3      27781     782.6  792.00  \n",
       "335       820.0       6612      73.7  718.00  \n",
       "336      1345.0     107698      70.3  735.00  \n",
       "337       845.0       4646       5.2    0.70  \n",
       "338       693.0      28439      35.1    0.71  \n",
       "339       393.5      12501     115.6  698.00  \n",
       "340       788.0       8062       9.6  701.00  \n",
       "341       126.0      78887     474.6  749.00  \n",
       "342       118.0      32468     224.2  688.00  \n",
       "343       189.0      33723     136.5  724.00  \n",
       "344        80.8      50696     626.2  728.00  \n",
       "345        69.0      87741     965.5  753.00  \n",
       "\n",
       "[346 rows x 8 columns]"
      ]
     },
     "execution_count": 84,
     "metadata": {},
     "output_type": "execute_result"
    }
   ],
   "source": [
    "com_frame = com_frame.fillna(0)\n",
    "#cambia los nulos por el numero en el input\n",
    "com_frame"
   ]
  },
  {
   "cell_type": "code",
   "execution_count": 85,
   "metadata": {
    "scrolled": true
   },
   "outputs": [
    {
     "data": {
      "text/html": [
       "<div>\n",
       "<style scoped>\n",
       "    .dataframe tbody tr th:only-of-type {\n",
       "        vertical-align: middle;\n",
       "    }\n",
       "\n",
       "    .dataframe tbody tr th {\n",
       "        vertical-align: top;\n",
       "    }\n",
       "\n",
       "    .dataframe thead th {\n",
       "        text-align: right;\n",
       "    }\n",
       "</style>\n",
       "<table border=\"1\" class=\"dataframe\">\n",
       "  <thead>\n",
       "    <tr style=\"text-align: right;\">\n",
       "      <th></th>\n",
       "      <th>cod</th>\n",
       "      <th>nombre</th>\n",
       "      <th>provincia</th>\n",
       "      <th>region</th>\n",
       "      <th>superficie</th>\n",
       "      <th>poblacion</th>\n",
       "      <th>densidad</th>\n",
       "      <th>idh</th>\n",
       "    </tr>\n",
       "  </thead>\n",
       "  <tbody>\n",
       "    <tr>\n",
       "      <th>0</th>\n",
       "      <td>15101</td>\n",
       "      <td>Arica</td>\n",
       "      <td>Arica</td>\n",
       "      <td>Arica y Parinacota</td>\n",
       "      <td>4799.4</td>\n",
       "      <td>210936</td>\n",
       "      <td>736.0</td>\n",
       "      <td>38.400000</td>\n",
       "    </tr>\n",
       "    <tr>\n",
       "      <th>1</th>\n",
       "      <td>15102</td>\n",
       "      <td>Camarones</td>\n",
       "      <td>Arica</td>\n",
       "      <td>Arica y Parinacota</td>\n",
       "      <td>3927.0</td>\n",
       "      <td>679</td>\n",
       "      <td>0.3</td>\n",
       "      <td>751.000000</td>\n",
       "    </tr>\n",
       "    <tr>\n",
       "      <th>2</th>\n",
       "      <td>15201</td>\n",
       "      <td>Putre</td>\n",
       "      <td>Parinacota</td>\n",
       "      <td>Arica y Parinacota</td>\n",
       "      <td>5902.5</td>\n",
       "      <td>1462</td>\n",
       "      <td>0.2</td>\n",
       "      <td>707.000000</td>\n",
       "    </tr>\n",
       "    <tr>\n",
       "      <th>3</th>\n",
       "      <td>15202</td>\n",
       "      <td>General Lagos</td>\n",
       "      <td>Parinacota</td>\n",
       "      <td>Arica y Parinacota</td>\n",
       "      <td>2244.4</td>\n",
       "      <td>739</td>\n",
       "      <td>0.5</td>\n",
       "      <td>0.670000</td>\n",
       "    </tr>\n",
       "    <tr>\n",
       "      <th>4</th>\n",
       "      <td>1101</td>\n",
       "      <td>Iquique</td>\n",
       "      <td>Iquique</td>\n",
       "      <td>Tarapacá</td>\n",
       "      <td>2242.1</td>\n",
       "      <td>184953</td>\n",
       "      <td>82.4</td>\n",
       "      <td>766.000000</td>\n",
       "    </tr>\n",
       "    <tr>\n",
       "      <th>5</th>\n",
       "      <td>1107</td>\n",
       "      <td>Alto Hospicio</td>\n",
       "      <td>Iquique</td>\n",
       "      <td>Tarapacá</td>\n",
       "      <td>572.9</td>\n",
       "      <td>94455</td>\n",
       "      <td>87.6</td>\n",
       "      <td>637.527654</td>\n",
       "    </tr>\n",
       "    <tr>\n",
       "      <th>6</th>\n",
       "      <td>1401</td>\n",
       "      <td>Pozo Almonte</td>\n",
       "      <td>Tamarugal</td>\n",
       "      <td>Tarapacá</td>\n",
       "      <td>13765.8</td>\n",
       "      <td>11519</td>\n",
       "      <td>0.7</td>\n",
       "      <td>722.000000</td>\n",
       "    </tr>\n",
       "    <tr>\n",
       "      <th>7</th>\n",
       "      <td>1402</td>\n",
       "      <td>Camiña</td>\n",
       "      <td>Tamarugal</td>\n",
       "      <td>Tarapacá</td>\n",
       "      <td>2200.2</td>\n",
       "      <td>1156</td>\n",
       "      <td>0.5</td>\n",
       "      <td>619.000000</td>\n",
       "    </tr>\n",
       "    <tr>\n",
       "      <th>8</th>\n",
       "      <td>1403</td>\n",
       "      <td>Colchane</td>\n",
       "      <td>Tamarugal</td>\n",
       "      <td>Tarapacá</td>\n",
       "      <td>4015.6</td>\n",
       "      <td>1384</td>\n",
       "      <td>0.4</td>\n",
       "      <td>603.000000</td>\n",
       "    </tr>\n",
       "    <tr>\n",
       "      <th>9</th>\n",
       "      <td>1404</td>\n",
       "      <td>Huara</td>\n",
       "      <td>Tamarugal</td>\n",
       "      <td>Tarapacá</td>\n",
       "      <td>10474.6</td>\n",
       "      <td>2360</td>\n",
       "      <td>0.2</td>\n",
       "      <td>676.000000</td>\n",
       "    </tr>\n",
       "    <tr>\n",
       "      <th>10</th>\n",
       "      <td>1405</td>\n",
       "      <td>Pica</td>\n",
       "      <td>Tamarugal</td>\n",
       "      <td>Tarapacá</td>\n",
       "      <td>8934.3</td>\n",
       "      <td>4194</td>\n",
       "      <td>0.6</td>\n",
       "      <td>793.000000</td>\n",
       "    </tr>\n",
       "    <tr>\n",
       "      <th>11</th>\n",
       "      <td>2101</td>\n",
       "      <td>Antofagasta</td>\n",
       "      <td>Antofagasta</td>\n",
       "      <td>Antofagasta</td>\n",
       "      <td>30718.1</td>\n",
       "      <td>348669</td>\n",
       "      <td>9.7</td>\n",
       "      <td>734.000000</td>\n",
       "    </tr>\n",
       "    <tr>\n",
       "      <th>12</th>\n",
       "      <td>2102</td>\n",
       "      <td>Mejillones</td>\n",
       "      <td>Antofagasta</td>\n",
       "      <td>Antofagasta</td>\n",
       "      <td>3803.9</td>\n",
       "      <td>9752</td>\n",
       "      <td>2.2</td>\n",
       "      <td>0.730000</td>\n",
       "    </tr>\n",
       "    <tr>\n",
       "      <th>13</th>\n",
       "      <td>2103</td>\n",
       "      <td>Sierra Gorda</td>\n",
       "      <td>Antofagasta</td>\n",
       "      <td>Antofagasta</td>\n",
       "      <td>12886.0</td>\n",
       "      <td>1206</td>\n",
       "      <td>0.1</td>\n",
       "      <td>789.000000</td>\n",
       "    </tr>\n",
       "    <tr>\n",
       "      <th>14</th>\n",
       "      <td>2104</td>\n",
       "      <td>Taltal</td>\n",
       "      <td>Antofagasta</td>\n",
       "      <td>Antofagasta</td>\n",
       "      <td>20405.1</td>\n",
       "      <td>13493</td>\n",
       "      <td>0.5</td>\n",
       "      <td>716.000000</td>\n",
       "    </tr>\n",
       "    <tr>\n",
       "      <th>15</th>\n",
       "      <td>2201</td>\n",
       "      <td>Calama</td>\n",
       "      <td>El Loa</td>\n",
       "      <td>Antofagasta</td>\n",
       "      <td>15596.9</td>\n",
       "      <td>147886</td>\n",
       "      <td>9.1</td>\n",
       "      <td>757.000000</td>\n",
       "    </tr>\n",
       "    <tr>\n",
       "      <th>16</th>\n",
       "      <td>2202</td>\n",
       "      <td>Ollagüe</td>\n",
       "      <td>El Loa</td>\n",
       "      <td>Antofagasta</td>\n",
       "      <td>2964.0</td>\n",
       "      <td>332</td>\n",
       "      <td>0.1</td>\n",
       "      <td>679.000000</td>\n",
       "    </tr>\n",
       "    <tr>\n",
       "      <th>17</th>\n",
       "      <td>2203</td>\n",
       "      <td>San Pedro de Atacama</td>\n",
       "      <td>El Loa</td>\n",
       "      <td>Antofagasta</td>\n",
       "      <td>23439.0</td>\n",
       "      <td>5605</td>\n",
       "      <td>0.2</td>\n",
       "      <td>711.000000</td>\n",
       "    </tr>\n",
       "    <tr>\n",
       "      <th>18</th>\n",
       "      <td>2301</td>\n",
       "      <td>Tocopilla</td>\n",
       "      <td>Tocopilla</td>\n",
       "      <td>Antofagasta</td>\n",
       "      <td>4038.8</td>\n",
       "      <td>20091</td>\n",
       "      <td>5.9</td>\n",
       "      <td>0.690000</td>\n",
       "    </tr>\n",
       "    <tr>\n",
       "      <th>19</th>\n",
       "      <td>2302</td>\n",
       "      <td>María Elena</td>\n",
       "      <td>Tocopilla</td>\n",
       "      <td>Antofagasta</td>\n",
       "      <td>12197.0</td>\n",
       "      <td>4593</td>\n",
       "      <td>0.6</td>\n",
       "      <td>779.000000</td>\n",
       "    </tr>\n",
       "    <tr>\n",
       "      <th>20</th>\n",
       "      <td>3101</td>\n",
       "      <td>Copiapó</td>\n",
       "      <td>Copiapó</td>\n",
       "      <td>Atacama</td>\n",
       "      <td>16681.3</td>\n",
       "      <td>158261</td>\n",
       "      <td>11.9</td>\n",
       "      <td>725.000000</td>\n",
       "    </tr>\n",
       "    <tr>\n",
       "      <th>21</th>\n",
       "      <td>3102</td>\n",
       "      <td>Caldera</td>\n",
       "      <td>Copiapó</td>\n",
       "      <td>Atacama</td>\n",
       "      <td>4666.6</td>\n",
       "      <td>16150</td>\n",
       "      <td>2.9</td>\n",
       "      <td>741.000000</td>\n",
       "    </tr>\n",
       "    <tr>\n",
       "      <th>22</th>\n",
       "      <td>3103</td>\n",
       "      <td>Tierra Amarilla</td>\n",
       "      <td>Copiapó</td>\n",
       "      <td>Atacama</td>\n",
       "      <td>11191.0</td>\n",
       "      <td>13912</td>\n",
       "      <td>1.1</td>\n",
       "      <td>686.000000</td>\n",
       "    </tr>\n",
       "    <tr>\n",
       "      <th>23</th>\n",
       "      <td>3201</td>\n",
       "      <td>Chañaral</td>\n",
       "      <td>Chañaral</td>\n",
       "      <td>Atacama</td>\n",
       "      <td>5772.0</td>\n",
       "      <td>14146</td>\n",
       "      <td>2.2</td>\n",
       "      <td>714.000000</td>\n",
       "    </tr>\n",
       "    <tr>\n",
       "      <th>24</th>\n",
       "      <td>3202</td>\n",
       "      <td>Diego de Almagro</td>\n",
       "      <td>Chañaral</td>\n",
       "      <td>Atacama</td>\n",
       "      <td>18664.0</td>\n",
       "      <td>16452</td>\n",
       "      <td>1.0</td>\n",
       "      <td>789.000000</td>\n",
       "    </tr>\n",
       "    <tr>\n",
       "      <th>25</th>\n",
       "      <td>3301</td>\n",
       "      <td>Vallenar</td>\n",
       "      <td>Huasco</td>\n",
       "      <td>Atacama</td>\n",
       "      <td>7084.0</td>\n",
       "      <td>52099</td>\n",
       "      <td>6.7</td>\n",
       "      <td>731.000000</td>\n",
       "    </tr>\n",
       "    <tr>\n",
       "      <th>26</th>\n",
       "      <td>3302</td>\n",
       "      <td>Alto del Carmen</td>\n",
       "      <td>Huasco</td>\n",
       "      <td>Atacama</td>\n",
       "      <td>5939.0</td>\n",
       "      <td>5488</td>\n",
       "      <td>0.8</td>\n",
       "      <td>664.000000</td>\n",
       "    </tr>\n",
       "    <tr>\n",
       "      <th>27</th>\n",
       "      <td>3303</td>\n",
       "      <td>Freirina</td>\n",
       "      <td>Huasco</td>\n",
       "      <td>Atacama</td>\n",
       "      <td>3207.9</td>\n",
       "      <td>6531</td>\n",
       "      <td>1.7</td>\n",
       "      <td>693.000000</td>\n",
       "    </tr>\n",
       "    <tr>\n",
       "      <th>28</th>\n",
       "      <td>3304</td>\n",
       "      <td>Huasco</td>\n",
       "      <td>Huasco</td>\n",
       "      <td>Atacama</td>\n",
       "      <td>1601.4</td>\n",
       "      <td>9015</td>\n",
       "      <td>5.6</td>\n",
       "      <td>695.000000</td>\n",
       "    </tr>\n",
       "    <tr>\n",
       "      <th>29</th>\n",
       "      <td>4101</td>\n",
       "      <td>La Serena</td>\n",
       "      <td>Elqui</td>\n",
       "      <td>Coquimbo</td>\n",
       "      <td>1892.8</td>\n",
       "      <td>211275</td>\n",
       "      <td>132.5</td>\n",
       "      <td>781.000000</td>\n",
       "    </tr>\n",
       "    <tr>\n",
       "      <th>...</th>\n",
       "      <td>...</td>\n",
       "      <td>...</td>\n",
       "      <td>...</td>\n",
       "      <td>...</td>\n",
       "      <td>...</td>\n",
       "      <td>...</td>\n",
       "      <td>...</td>\n",
       "      <td>...</td>\n",
       "    </tr>\n",
       "    <tr>\n",
       "      <th>316</th>\n",
       "      <td>13123</td>\n",
       "      <td>Providencia</td>\n",
       "      <td>Santiago</td>\n",
       "      <td>Metropolitana de Santiago</td>\n",
       "      <td>14.3</td>\n",
       "      <td>126487</td>\n",
       "      <td>8429.1</td>\n",
       "      <td>911.000000</td>\n",
       "    </tr>\n",
       "    <tr>\n",
       "      <th>317</th>\n",
       "      <td>13124</td>\n",
       "      <td>Pudahuel</td>\n",
       "      <td>Santiago</td>\n",
       "      <td>Metropolitana de Santiago</td>\n",
       "      <td>197.0</td>\n",
       "      <td>225509</td>\n",
       "      <td>993.7</td>\n",
       "      <td>735.000000</td>\n",
       "    </tr>\n",
       "    <tr>\n",
       "      <th>318</th>\n",
       "      <td>13125</td>\n",
       "      <td>Quilicura</td>\n",
       "      <td>Santiago</td>\n",
       "      <td>Metropolitana de Santiago</td>\n",
       "      <td>58.0</td>\n",
       "      <td>203946</td>\n",
       "      <td>3486.6</td>\n",
       "      <td>782.000000</td>\n",
       "    </tr>\n",
       "    <tr>\n",
       "      <th>319</th>\n",
       "      <td>13126</td>\n",
       "      <td>Quinta Normal</td>\n",
       "      <td>Santiago</td>\n",
       "      <td>Metropolitana de Santiago</td>\n",
       "      <td>13.0</td>\n",
       "      <td>101737</td>\n",
       "      <td>8388.0</td>\n",
       "      <td>723.000000</td>\n",
       "    </tr>\n",
       "    <tr>\n",
       "      <th>320</th>\n",
       "      <td>13127</td>\n",
       "      <td>Recoleta</td>\n",
       "      <td>Santiago</td>\n",
       "      <td>Metropolitana de Santiago</td>\n",
       "      <td>16.0</td>\n",
       "      <td>152985</td>\n",
       "      <td>9273.8</td>\n",
       "      <td>697.000000</td>\n",
       "    </tr>\n",
       "    <tr>\n",
       "      <th>321</th>\n",
       "      <td>13128</td>\n",
       "      <td>Renca</td>\n",
       "      <td>Santiago</td>\n",
       "      <td>Metropolitana de Santiago</td>\n",
       "      <td>24.0</td>\n",
       "      <td>142136</td>\n",
       "      <td>8388.1</td>\n",
       "      <td>709.000000</td>\n",
       "    </tr>\n",
       "    <tr>\n",
       "      <th>322</th>\n",
       "      <td>13129</td>\n",
       "      <td>San Joaquín</td>\n",
       "      <td>Santiago</td>\n",
       "      <td>Metropolitana de Santiago</td>\n",
       "      <td>9.7</td>\n",
       "      <td>94255</td>\n",
       "      <td>10064.4</td>\n",
       "      <td>719.000000</td>\n",
       "    </tr>\n",
       "    <tr>\n",
       "      <th>323</th>\n",
       "      <td>13130</td>\n",
       "      <td>San Miguel</td>\n",
       "      <td>Santiago</td>\n",
       "      <td>Metropolitana de Santiago</td>\n",
       "      <td>10.0</td>\n",
       "      <td>90846</td>\n",
       "      <td>7787.2</td>\n",
       "      <td>765.000000</td>\n",
       "    </tr>\n",
       "    <tr>\n",
       "      <th>324</th>\n",
       "      <td>13131</td>\n",
       "      <td>San Ramón</td>\n",
       "      <td>Santiago</td>\n",
       "      <td>Metropolitana de Santiago</td>\n",
       "      <td>7.0</td>\n",
       "      <td>85195</td>\n",
       "      <td>14600.9</td>\n",
       "      <td>679.000000</td>\n",
       "    </tr>\n",
       "    <tr>\n",
       "      <th>325</th>\n",
       "      <td>13132</td>\n",
       "      <td>Vitacura</td>\n",
       "      <td>Santiago</td>\n",
       "      <td>Metropolitana de Santiago</td>\n",
       "      <td>28.3</td>\n",
       "      <td>84195</td>\n",
       "      <td>2910.7</td>\n",
       "      <td>949.000000</td>\n",
       "    </tr>\n",
       "    <tr>\n",
       "      <th>326</th>\n",
       "      <td>13201</td>\n",
       "      <td>Puente Alto</td>\n",
       "      <td>Cordillera</td>\n",
       "      <td>Metropolitana de Santiago</td>\n",
       "      <td>88.0</td>\n",
       "      <td>757721</td>\n",
       "      <td>6664.8</td>\n",
       "      <td>773.000000</td>\n",
       "    </tr>\n",
       "    <tr>\n",
       "      <th>327</th>\n",
       "      <td>13202</td>\n",
       "      <td>Pirque</td>\n",
       "      <td>Cordillera</td>\n",
       "      <td>Metropolitana de Santiago</td>\n",
       "      <td>445.3</td>\n",
       "      <td>20732</td>\n",
       "      <td>37.2</td>\n",
       "      <td>807.000000</td>\n",
       "    </tr>\n",
       "    <tr>\n",
       "      <th>328</th>\n",
       "      <td>13203</td>\n",
       "      <td>San José de Maipo</td>\n",
       "      <td>Cordillera</td>\n",
       "      <td>Metropolitana de Santiago</td>\n",
       "      <td>4994.8</td>\n",
       "      <td>14455</td>\n",
       "      <td>0.3</td>\n",
       "      <td>759.000000</td>\n",
       "    </tr>\n",
       "    <tr>\n",
       "      <th>329</th>\n",
       "      <td>13301</td>\n",
       "      <td>Colina</td>\n",
       "      <td>Chacabuco</td>\n",
       "      <td>Metropolitana de Santiago</td>\n",
       "      <td>971.2</td>\n",
       "      <td>113340</td>\n",
       "      <td>80.1</td>\n",
       "      <td>726.000000</td>\n",
       "    </tr>\n",
       "    <tr>\n",
       "      <th>330</th>\n",
       "      <td>13302</td>\n",
       "      <td>Lampa</td>\n",
       "      <td>Chacabuco</td>\n",
       "      <td>Metropolitana de Santiago</td>\n",
       "      <td>452.0</td>\n",
       "      <td>79421</td>\n",
       "      <td>89.9</td>\n",
       "      <td>697.000000</td>\n",
       "    </tr>\n",
       "    <tr>\n",
       "      <th>331</th>\n",
       "      <td>13303</td>\n",
       "      <td>Til Til</td>\n",
       "      <td>Chacabuco</td>\n",
       "      <td>Metropolitana de Santiago</td>\n",
       "      <td>653.0</td>\n",
       "      <td>16405</td>\n",
       "      <td>22.6</td>\n",
       "      <td>706.000000</td>\n",
       "    </tr>\n",
       "    <tr>\n",
       "      <th>332</th>\n",
       "      <td>13401</td>\n",
       "      <td>San Bernardo</td>\n",
       "      <td>Maipo</td>\n",
       "      <td>Metropolitana de Santiago</td>\n",
       "      <td>155.0</td>\n",
       "      <td>277802</td>\n",
       "      <td>1974.0</td>\n",
       "      <td>712.000000</td>\n",
       "    </tr>\n",
       "    <tr>\n",
       "      <th>333</th>\n",
       "      <td>13402</td>\n",
       "      <td>Buin</td>\n",
       "      <td>Maipo</td>\n",
       "      <td>Metropolitana de Santiago</td>\n",
       "      <td>214.0</td>\n",
       "      <td>74232</td>\n",
       "      <td>296.2</td>\n",
       "      <td>731.000000</td>\n",
       "    </tr>\n",
       "    <tr>\n",
       "      <th>334</th>\n",
       "      <td>13403</td>\n",
       "      <td>Calera de Tango</td>\n",
       "      <td>Maipo</td>\n",
       "      <td>Metropolitana de Santiago</td>\n",
       "      <td>73.3</td>\n",
       "      <td>27781</td>\n",
       "      <td>782.6</td>\n",
       "      <td>792.000000</td>\n",
       "    </tr>\n",
       "    <tr>\n",
       "      <th>335</th>\n",
       "      <td>13404</td>\n",
       "      <td>Paine</td>\n",
       "      <td>Maipo</td>\n",
       "      <td>Metropolitana de Santiago</td>\n",
       "      <td>820.0</td>\n",
       "      <td>6612</td>\n",
       "      <td>73.7</td>\n",
       "      <td>718.000000</td>\n",
       "    </tr>\n",
       "    <tr>\n",
       "      <th>336</th>\n",
       "      <td>13501</td>\n",
       "      <td>Melipilla</td>\n",
       "      <td>Melipilla</td>\n",
       "      <td>Metropolitana de Santiago</td>\n",
       "      <td>1345.0</td>\n",
       "      <td>107698</td>\n",
       "      <td>70.3</td>\n",
       "      <td>735.000000</td>\n",
       "    </tr>\n",
       "    <tr>\n",
       "      <th>337</th>\n",
       "      <td>13502</td>\n",
       "      <td>Alhué</td>\n",
       "      <td>Melipilla</td>\n",
       "      <td>Metropolitana de Santiago</td>\n",
       "      <td>845.0</td>\n",
       "      <td>4646</td>\n",
       "      <td>5.2</td>\n",
       "      <td>0.700000</td>\n",
       "    </tr>\n",
       "    <tr>\n",
       "      <th>338</th>\n",
       "      <td>13503</td>\n",
       "      <td>Curacaví</td>\n",
       "      <td>Melipilla</td>\n",
       "      <td>Metropolitana de Santiago</td>\n",
       "      <td>693.0</td>\n",
       "      <td>28439</td>\n",
       "      <td>35.1</td>\n",
       "      <td>0.710000</td>\n",
       "    </tr>\n",
       "    <tr>\n",
       "      <th>339</th>\n",
       "      <td>13504</td>\n",
       "      <td>María Pinto</td>\n",
       "      <td>Melipilla</td>\n",
       "      <td>Metropolitana de Santiago</td>\n",
       "      <td>393.5</td>\n",
       "      <td>12501</td>\n",
       "      <td>115.6</td>\n",
       "      <td>698.000000</td>\n",
       "    </tr>\n",
       "    <tr>\n",
       "      <th>340</th>\n",
       "      <td>13505</td>\n",
       "      <td>San Pedro</td>\n",
       "      <td>Melipilla</td>\n",
       "      <td>Metropolitana de Santiago</td>\n",
       "      <td>788.0</td>\n",
       "      <td>8062</td>\n",
       "      <td>9.6</td>\n",
       "      <td>701.000000</td>\n",
       "    </tr>\n",
       "    <tr>\n",
       "      <th>341</th>\n",
       "      <td>13601</td>\n",
       "      <td>Talagante</td>\n",
       "      <td>Talagante</td>\n",
       "      <td>Metropolitana de Santiago</td>\n",
       "      <td>126.0</td>\n",
       "      <td>78887</td>\n",
       "      <td>474.6</td>\n",
       "      <td>749.000000</td>\n",
       "    </tr>\n",
       "    <tr>\n",
       "      <th>342</th>\n",
       "      <td>13602</td>\n",
       "      <td>El Monte</td>\n",
       "      <td>Talagante</td>\n",
       "      <td>Metropolitana de Santiago</td>\n",
       "      <td>118.0</td>\n",
       "      <td>32468</td>\n",
       "      <td>224.2</td>\n",
       "      <td>688.000000</td>\n",
       "    </tr>\n",
       "    <tr>\n",
       "      <th>343</th>\n",
       "      <td>13603</td>\n",
       "      <td>Isla de Maipo</td>\n",
       "      <td>Talagante</td>\n",
       "      <td>Metropolitana de Santiago</td>\n",
       "      <td>189.0</td>\n",
       "      <td>33723</td>\n",
       "      <td>136.5</td>\n",
       "      <td>724.000000</td>\n",
       "    </tr>\n",
       "    <tr>\n",
       "      <th>344</th>\n",
       "      <td>13604</td>\n",
       "      <td>Padre Hurtado</td>\n",
       "      <td>Talagante</td>\n",
       "      <td>Metropolitana de Santiago</td>\n",
       "      <td>80.8</td>\n",
       "      <td>50696</td>\n",
       "      <td>626.2</td>\n",
       "      <td>728.000000</td>\n",
       "    </tr>\n",
       "    <tr>\n",
       "      <th>345</th>\n",
       "      <td>13605</td>\n",
       "      <td>Peñaflor</td>\n",
       "      <td>Talagante</td>\n",
       "      <td>Metropolitana de Santiago</td>\n",
       "      <td>69.0</td>\n",
       "      <td>87741</td>\n",
       "      <td>965.5</td>\n",
       "      <td>753.000000</td>\n",
       "    </tr>\n",
       "  </tbody>\n",
       "</table>\n",
       "<p>346 rows × 8 columns</p>\n",
       "</div>"
      ],
      "text/plain": [
       "       cod                nombre    provincia                     region  \\\n",
       "0    15101                 Arica        Arica         Arica y Parinacota   \n",
       "1    15102             Camarones        Arica         Arica y Parinacota   \n",
       "2    15201                 Putre   Parinacota         Arica y Parinacota   \n",
       "3    15202         General Lagos   Parinacota         Arica y Parinacota   \n",
       "4     1101               Iquique      Iquique                   Tarapacá   \n",
       "5     1107         Alto Hospicio      Iquique                   Tarapacá   \n",
       "6     1401          Pozo Almonte    Tamarugal                   Tarapacá   \n",
       "7     1402                Camiña    Tamarugal                   Tarapacá   \n",
       "8     1403              Colchane    Tamarugal                   Tarapacá   \n",
       "9     1404                 Huara    Tamarugal                   Tarapacá   \n",
       "10    1405                  Pica    Tamarugal                   Tarapacá   \n",
       "11    2101           Antofagasta  Antofagasta                Antofagasta   \n",
       "12    2102            Mejillones  Antofagasta                Antofagasta   \n",
       "13    2103          Sierra Gorda  Antofagasta                Antofagasta   \n",
       "14    2104                Taltal  Antofagasta                Antofagasta   \n",
       "15    2201                Calama       El Loa                Antofagasta   \n",
       "16    2202               Ollagüe       El Loa                Antofagasta   \n",
       "17    2203  San Pedro de Atacama       El Loa                Antofagasta   \n",
       "18    2301             Tocopilla    Tocopilla                Antofagasta   \n",
       "19    2302           María Elena    Tocopilla                Antofagasta   \n",
       "20    3101               Copiapó      Copiapó                    Atacama   \n",
       "21    3102               Caldera      Copiapó                    Atacama   \n",
       "22    3103       Tierra Amarilla      Copiapó                    Atacama   \n",
       "23    3201              Chañaral     Chañaral                    Atacama   \n",
       "24    3202      Diego de Almagro     Chañaral                    Atacama   \n",
       "25    3301              Vallenar       Huasco                    Atacama   \n",
       "26    3302       Alto del Carmen       Huasco                    Atacama   \n",
       "27    3303              Freirina       Huasco                    Atacama   \n",
       "28    3304                Huasco       Huasco                    Atacama   \n",
       "29    4101             La Serena        Elqui                   Coquimbo   \n",
       "..     ...                   ...          ...                        ...   \n",
       "316  13123           Providencia     Santiago  Metropolitana de Santiago   \n",
       "317  13124              Pudahuel     Santiago  Metropolitana de Santiago   \n",
       "318  13125             Quilicura     Santiago  Metropolitana de Santiago   \n",
       "319  13126         Quinta Normal     Santiago  Metropolitana de Santiago   \n",
       "320  13127              Recoleta     Santiago  Metropolitana de Santiago   \n",
       "321  13128                 Renca     Santiago  Metropolitana de Santiago   \n",
       "322  13129           San Joaquín     Santiago  Metropolitana de Santiago   \n",
       "323  13130            San Miguel     Santiago  Metropolitana de Santiago   \n",
       "324  13131             San Ramón     Santiago  Metropolitana de Santiago   \n",
       "325  13132              Vitacura     Santiago  Metropolitana de Santiago   \n",
       "326  13201           Puente Alto   Cordillera  Metropolitana de Santiago   \n",
       "327  13202                Pirque   Cordillera  Metropolitana de Santiago   \n",
       "328  13203     San José de Maipo   Cordillera  Metropolitana de Santiago   \n",
       "329  13301                Colina    Chacabuco  Metropolitana de Santiago   \n",
       "330  13302                 Lampa    Chacabuco  Metropolitana de Santiago   \n",
       "331  13303               Til Til    Chacabuco  Metropolitana de Santiago   \n",
       "332  13401          San Bernardo        Maipo  Metropolitana de Santiago   \n",
       "333  13402                  Buin        Maipo  Metropolitana de Santiago   \n",
       "334  13403       Calera de Tango        Maipo  Metropolitana de Santiago   \n",
       "335  13404                 Paine        Maipo  Metropolitana de Santiago   \n",
       "336  13501             Melipilla    Melipilla  Metropolitana de Santiago   \n",
       "337  13502                 Alhué    Melipilla  Metropolitana de Santiago   \n",
       "338  13503              Curacaví    Melipilla  Metropolitana de Santiago   \n",
       "339  13504           María Pinto    Melipilla  Metropolitana de Santiago   \n",
       "340  13505             San Pedro    Melipilla  Metropolitana de Santiago   \n",
       "341  13601             Talagante    Talagante  Metropolitana de Santiago   \n",
       "342  13602              El Monte    Talagante  Metropolitana de Santiago   \n",
       "343  13603         Isla de Maipo    Talagante  Metropolitana de Santiago   \n",
       "344  13604         Padre Hurtado    Talagante  Metropolitana de Santiago   \n",
       "345  13605              Peñaflor    Talagante  Metropolitana de Santiago   \n",
       "\n",
       "     superficie  poblacion  densidad         idh  \n",
       "0        4799.4     210936     736.0   38.400000  \n",
       "1        3927.0        679       0.3  751.000000  \n",
       "2        5902.5       1462       0.2  707.000000  \n",
       "3        2244.4        739       0.5    0.670000  \n",
       "4        2242.1     184953      82.4  766.000000  \n",
       "5         572.9      94455      87.6  637.527654  \n",
       "6       13765.8      11519       0.7  722.000000  \n",
       "7        2200.2       1156       0.5  619.000000  \n",
       "8        4015.6       1384       0.4  603.000000  \n",
       "9       10474.6       2360       0.2  676.000000  \n",
       "10       8934.3       4194       0.6  793.000000  \n",
       "11      30718.1     348669       9.7  734.000000  \n",
       "12       3803.9       9752       2.2    0.730000  \n",
       "13      12886.0       1206       0.1  789.000000  \n",
       "14      20405.1      13493       0.5  716.000000  \n",
       "15      15596.9     147886       9.1  757.000000  \n",
       "16       2964.0        332       0.1  679.000000  \n",
       "17      23439.0       5605       0.2  711.000000  \n",
       "18       4038.8      20091       5.9    0.690000  \n",
       "19      12197.0       4593       0.6  779.000000  \n",
       "20      16681.3     158261      11.9  725.000000  \n",
       "21       4666.6      16150       2.9  741.000000  \n",
       "22      11191.0      13912       1.1  686.000000  \n",
       "23       5772.0      14146       2.2  714.000000  \n",
       "24      18664.0      16452       1.0  789.000000  \n",
       "25       7084.0      52099       6.7  731.000000  \n",
       "26       5939.0       5488       0.8  664.000000  \n",
       "27       3207.9       6531       1.7  693.000000  \n",
       "28       1601.4       9015       5.6  695.000000  \n",
       "29       1892.8     211275     132.5  781.000000  \n",
       "..          ...        ...       ...         ...  \n",
       "316        14.3     126487    8429.1  911.000000  \n",
       "317       197.0     225509     993.7  735.000000  \n",
       "318        58.0     203946    3486.6  782.000000  \n",
       "319        13.0     101737    8388.0  723.000000  \n",
       "320        16.0     152985    9273.8  697.000000  \n",
       "321        24.0     142136    8388.1  709.000000  \n",
       "322         9.7      94255   10064.4  719.000000  \n",
       "323        10.0      90846    7787.2  765.000000  \n",
       "324         7.0      85195   14600.9  679.000000  \n",
       "325        28.3      84195    2910.7  949.000000  \n",
       "326        88.0     757721    6664.8  773.000000  \n",
       "327       445.3      20732      37.2  807.000000  \n",
       "328      4994.8      14455       0.3  759.000000  \n",
       "329       971.2     113340      80.1  726.000000  \n",
       "330       452.0      79421      89.9  697.000000  \n",
       "331       653.0      16405      22.6  706.000000  \n",
       "332       155.0     277802    1974.0  712.000000  \n",
       "333       214.0      74232     296.2  731.000000  \n",
       "334        73.3      27781     782.6  792.000000  \n",
       "335       820.0       6612      73.7  718.000000  \n",
       "336      1345.0     107698      70.3  735.000000  \n",
       "337       845.0       4646       5.2    0.700000  \n",
       "338       693.0      28439      35.1    0.710000  \n",
       "339       393.5      12501     115.6  698.000000  \n",
       "340       788.0       8062       9.6  701.000000  \n",
       "341       126.0      78887     474.6  749.000000  \n",
       "342       118.0      32468     224.2  688.000000  \n",
       "343       189.0      33723     136.5  724.000000  \n",
       "344        80.8      50696     626.2  728.000000  \n",
       "345        69.0      87741     965.5  753.000000  \n",
       "\n",
       "[346 rows x 8 columns]"
      ]
     },
     "execution_count": 85,
     "metadata": {},
     "output_type": "execute_result"
    }
   ],
   "source": [
    "com_frame = pd.read_csv(\"comunas.csv\", names=[\"cod\", \"nombre\", \"provincia\", \"region\", \"superficie\",\n",
    "                                               \"poblacion\", \"densidad\", \"idh\"])\n",
    "for col in ['cod', 'superficie', 'poblacion', 'densidad', 'idh']:\n",
    "    com_frame[col] = com_frame[col].fillna(com_frame[col].mean()) \n",
    "    # cada fila que tiene valores numericos, se llenan los nulls con la media\n",
    "\n",
    "com_frame"
   ]
  },
  {
   "cell_type": "markdown",
   "metadata": {},
   "source": [
    "Existen muchas otras opciones para limpiar los datos, pero no los veremos en este tutorial."
   ]
  },
  {
   "cell_type": "markdown",
   "metadata": {},
   "source": [
    "### Agregación\n",
    "\n",
    "Vamos a ver unos ejemplos para agregar datos utilizando `pandas`. Lo primero que haremos será agregar el nombre de las columnas al Data Frame."
   ]
  },
  {
   "cell_type": "code",
   "execution_count": 86,
   "metadata": {
    "scrolled": true
   },
   "outputs": [
    {
     "data": {
      "text/html": [
       "<div>\n",
       "<style scoped>\n",
       "    .dataframe tbody tr th:only-of-type {\n",
       "        vertical-align: middle;\n",
       "    }\n",
       "\n",
       "    .dataframe tbody tr th {\n",
       "        vertical-align: top;\n",
       "    }\n",
       "\n",
       "    .dataframe thead th {\n",
       "        text-align: right;\n",
       "    }\n",
       "</style>\n",
       "<table border=\"1\" class=\"dataframe\">\n",
       "  <thead>\n",
       "    <tr style=\"text-align: right;\">\n",
       "      <th></th>\n",
       "      <th>cod</th>\n",
       "      <th>nombre</th>\n",
       "      <th>prov</th>\n",
       "      <th>reg</th>\n",
       "      <th>sup</th>\n",
       "      <th>pobl</th>\n",
       "      <th>dens</th>\n",
       "      <th>idh</th>\n",
       "    </tr>\n",
       "  </thead>\n",
       "  <tbody>\n",
       "    <tr>\n",
       "      <th>0</th>\n",
       "      <td>15101</td>\n",
       "      <td>Arica</td>\n",
       "      <td>Arica</td>\n",
       "      <td>Arica y Parinacota</td>\n",
       "      <td>4799.4</td>\n",
       "      <td>210936</td>\n",
       "      <td>736.0</td>\n",
       "      <td>38.400000</td>\n",
       "    </tr>\n",
       "    <tr>\n",
       "      <th>1</th>\n",
       "      <td>15102</td>\n",
       "      <td>Camarones</td>\n",
       "      <td>Arica</td>\n",
       "      <td>Arica y Parinacota</td>\n",
       "      <td>3927.0</td>\n",
       "      <td>679</td>\n",
       "      <td>0.3</td>\n",
       "      <td>751.000000</td>\n",
       "    </tr>\n",
       "    <tr>\n",
       "      <th>2</th>\n",
       "      <td>15201</td>\n",
       "      <td>Putre</td>\n",
       "      <td>Parinacota</td>\n",
       "      <td>Arica y Parinacota</td>\n",
       "      <td>5902.5</td>\n",
       "      <td>1462</td>\n",
       "      <td>0.2</td>\n",
       "      <td>707.000000</td>\n",
       "    </tr>\n",
       "    <tr>\n",
       "      <th>3</th>\n",
       "      <td>15202</td>\n",
       "      <td>General Lagos</td>\n",
       "      <td>Parinacota</td>\n",
       "      <td>Arica y Parinacota</td>\n",
       "      <td>2244.4</td>\n",
       "      <td>739</td>\n",
       "      <td>0.5</td>\n",
       "      <td>0.670000</td>\n",
       "    </tr>\n",
       "    <tr>\n",
       "      <th>4</th>\n",
       "      <td>1101</td>\n",
       "      <td>Iquique</td>\n",
       "      <td>Iquique</td>\n",
       "      <td>Tarapacá</td>\n",
       "      <td>2242.1</td>\n",
       "      <td>184953</td>\n",
       "      <td>82.4</td>\n",
       "      <td>766.000000</td>\n",
       "    </tr>\n",
       "    <tr>\n",
       "      <th>5</th>\n",
       "      <td>1107</td>\n",
       "      <td>Alto Hospicio</td>\n",
       "      <td>Iquique</td>\n",
       "      <td>Tarapacá</td>\n",
       "      <td>572.9</td>\n",
       "      <td>94455</td>\n",
       "      <td>87.6</td>\n",
       "      <td>637.527654</td>\n",
       "    </tr>\n",
       "    <tr>\n",
       "      <th>6</th>\n",
       "      <td>1401</td>\n",
       "      <td>Pozo Almonte</td>\n",
       "      <td>Tamarugal</td>\n",
       "      <td>Tarapacá</td>\n",
       "      <td>13765.8</td>\n",
       "      <td>11519</td>\n",
       "      <td>0.7</td>\n",
       "      <td>722.000000</td>\n",
       "    </tr>\n",
       "    <tr>\n",
       "      <th>7</th>\n",
       "      <td>1402</td>\n",
       "      <td>Camiña</td>\n",
       "      <td>Tamarugal</td>\n",
       "      <td>Tarapacá</td>\n",
       "      <td>2200.2</td>\n",
       "      <td>1156</td>\n",
       "      <td>0.5</td>\n",
       "      <td>619.000000</td>\n",
       "    </tr>\n",
       "    <tr>\n",
       "      <th>8</th>\n",
       "      <td>1403</td>\n",
       "      <td>Colchane</td>\n",
       "      <td>Tamarugal</td>\n",
       "      <td>Tarapacá</td>\n",
       "      <td>4015.6</td>\n",
       "      <td>1384</td>\n",
       "      <td>0.4</td>\n",
       "      <td>603.000000</td>\n",
       "    </tr>\n",
       "    <tr>\n",
       "      <th>9</th>\n",
       "      <td>1404</td>\n",
       "      <td>Huara</td>\n",
       "      <td>Tamarugal</td>\n",
       "      <td>Tarapacá</td>\n",
       "      <td>10474.6</td>\n",
       "      <td>2360</td>\n",
       "      <td>0.2</td>\n",
       "      <td>676.000000</td>\n",
       "    </tr>\n",
       "    <tr>\n",
       "      <th>10</th>\n",
       "      <td>1405</td>\n",
       "      <td>Pica</td>\n",
       "      <td>Tamarugal</td>\n",
       "      <td>Tarapacá</td>\n",
       "      <td>8934.3</td>\n",
       "      <td>4194</td>\n",
       "      <td>0.6</td>\n",
       "      <td>793.000000</td>\n",
       "    </tr>\n",
       "    <tr>\n",
       "      <th>11</th>\n",
       "      <td>2101</td>\n",
       "      <td>Antofagasta</td>\n",
       "      <td>Antofagasta</td>\n",
       "      <td>Antofagasta</td>\n",
       "      <td>30718.1</td>\n",
       "      <td>348669</td>\n",
       "      <td>9.7</td>\n",
       "      <td>734.000000</td>\n",
       "    </tr>\n",
       "    <tr>\n",
       "      <th>12</th>\n",
       "      <td>2102</td>\n",
       "      <td>Mejillones</td>\n",
       "      <td>Antofagasta</td>\n",
       "      <td>Antofagasta</td>\n",
       "      <td>3803.9</td>\n",
       "      <td>9752</td>\n",
       "      <td>2.2</td>\n",
       "      <td>0.730000</td>\n",
       "    </tr>\n",
       "    <tr>\n",
       "      <th>13</th>\n",
       "      <td>2103</td>\n",
       "      <td>Sierra Gorda</td>\n",
       "      <td>Antofagasta</td>\n",
       "      <td>Antofagasta</td>\n",
       "      <td>12886.0</td>\n",
       "      <td>1206</td>\n",
       "      <td>0.1</td>\n",
       "      <td>789.000000</td>\n",
       "    </tr>\n",
       "    <tr>\n",
       "      <th>14</th>\n",
       "      <td>2104</td>\n",
       "      <td>Taltal</td>\n",
       "      <td>Antofagasta</td>\n",
       "      <td>Antofagasta</td>\n",
       "      <td>20405.1</td>\n",
       "      <td>13493</td>\n",
       "      <td>0.5</td>\n",
       "      <td>716.000000</td>\n",
       "    </tr>\n",
       "    <tr>\n",
       "      <th>15</th>\n",
       "      <td>2201</td>\n",
       "      <td>Calama</td>\n",
       "      <td>El Loa</td>\n",
       "      <td>Antofagasta</td>\n",
       "      <td>15596.9</td>\n",
       "      <td>147886</td>\n",
       "      <td>9.1</td>\n",
       "      <td>757.000000</td>\n",
       "    </tr>\n",
       "    <tr>\n",
       "      <th>16</th>\n",
       "      <td>2202</td>\n",
       "      <td>Ollagüe</td>\n",
       "      <td>El Loa</td>\n",
       "      <td>Antofagasta</td>\n",
       "      <td>2964.0</td>\n",
       "      <td>332</td>\n",
       "      <td>0.1</td>\n",
       "      <td>679.000000</td>\n",
       "    </tr>\n",
       "    <tr>\n",
       "      <th>17</th>\n",
       "      <td>2203</td>\n",
       "      <td>San Pedro de Atacama</td>\n",
       "      <td>El Loa</td>\n",
       "      <td>Antofagasta</td>\n",
       "      <td>23439.0</td>\n",
       "      <td>5605</td>\n",
       "      <td>0.2</td>\n",
       "      <td>711.000000</td>\n",
       "    </tr>\n",
       "    <tr>\n",
       "      <th>18</th>\n",
       "      <td>2301</td>\n",
       "      <td>Tocopilla</td>\n",
       "      <td>Tocopilla</td>\n",
       "      <td>Antofagasta</td>\n",
       "      <td>4038.8</td>\n",
       "      <td>20091</td>\n",
       "      <td>5.9</td>\n",
       "      <td>0.690000</td>\n",
       "    </tr>\n",
       "    <tr>\n",
       "      <th>19</th>\n",
       "      <td>2302</td>\n",
       "      <td>María Elena</td>\n",
       "      <td>Tocopilla</td>\n",
       "      <td>Antofagasta</td>\n",
       "      <td>12197.0</td>\n",
       "      <td>4593</td>\n",
       "      <td>0.6</td>\n",
       "      <td>779.000000</td>\n",
       "    </tr>\n",
       "    <tr>\n",
       "      <th>20</th>\n",
       "      <td>3101</td>\n",
       "      <td>Copiapó</td>\n",
       "      <td>Copiapó</td>\n",
       "      <td>Atacama</td>\n",
       "      <td>16681.3</td>\n",
       "      <td>158261</td>\n",
       "      <td>11.9</td>\n",
       "      <td>725.000000</td>\n",
       "    </tr>\n",
       "    <tr>\n",
       "      <th>21</th>\n",
       "      <td>3102</td>\n",
       "      <td>Caldera</td>\n",
       "      <td>Copiapó</td>\n",
       "      <td>Atacama</td>\n",
       "      <td>4666.6</td>\n",
       "      <td>16150</td>\n",
       "      <td>2.9</td>\n",
       "      <td>741.000000</td>\n",
       "    </tr>\n",
       "    <tr>\n",
       "      <th>22</th>\n",
       "      <td>3103</td>\n",
       "      <td>Tierra Amarilla</td>\n",
       "      <td>Copiapó</td>\n",
       "      <td>Atacama</td>\n",
       "      <td>11191.0</td>\n",
       "      <td>13912</td>\n",
       "      <td>1.1</td>\n",
       "      <td>686.000000</td>\n",
       "    </tr>\n",
       "    <tr>\n",
       "      <th>23</th>\n",
       "      <td>3201</td>\n",
       "      <td>Chañaral</td>\n",
       "      <td>Chañaral</td>\n",
       "      <td>Atacama</td>\n",
       "      <td>5772.0</td>\n",
       "      <td>14146</td>\n",
       "      <td>2.2</td>\n",
       "      <td>714.000000</td>\n",
       "    </tr>\n",
       "    <tr>\n",
       "      <th>24</th>\n",
       "      <td>3202</td>\n",
       "      <td>Diego de Almagro</td>\n",
       "      <td>Chañaral</td>\n",
       "      <td>Atacama</td>\n",
       "      <td>18664.0</td>\n",
       "      <td>16452</td>\n",
       "      <td>1.0</td>\n",
       "      <td>789.000000</td>\n",
       "    </tr>\n",
       "    <tr>\n",
       "      <th>25</th>\n",
       "      <td>3301</td>\n",
       "      <td>Vallenar</td>\n",
       "      <td>Huasco</td>\n",
       "      <td>Atacama</td>\n",
       "      <td>7084.0</td>\n",
       "      <td>52099</td>\n",
       "      <td>6.7</td>\n",
       "      <td>731.000000</td>\n",
       "    </tr>\n",
       "    <tr>\n",
       "      <th>26</th>\n",
       "      <td>3302</td>\n",
       "      <td>Alto del Carmen</td>\n",
       "      <td>Huasco</td>\n",
       "      <td>Atacama</td>\n",
       "      <td>5939.0</td>\n",
       "      <td>5488</td>\n",
       "      <td>0.8</td>\n",
       "      <td>664.000000</td>\n",
       "    </tr>\n",
       "    <tr>\n",
       "      <th>27</th>\n",
       "      <td>3303</td>\n",
       "      <td>Freirina</td>\n",
       "      <td>Huasco</td>\n",
       "      <td>Atacama</td>\n",
       "      <td>3207.9</td>\n",
       "      <td>6531</td>\n",
       "      <td>1.7</td>\n",
       "      <td>693.000000</td>\n",
       "    </tr>\n",
       "    <tr>\n",
       "      <th>28</th>\n",
       "      <td>3304</td>\n",
       "      <td>Huasco</td>\n",
       "      <td>Huasco</td>\n",
       "      <td>Atacama</td>\n",
       "      <td>1601.4</td>\n",
       "      <td>9015</td>\n",
       "      <td>5.6</td>\n",
       "      <td>695.000000</td>\n",
       "    </tr>\n",
       "    <tr>\n",
       "      <th>29</th>\n",
       "      <td>4101</td>\n",
       "      <td>La Serena</td>\n",
       "      <td>Elqui</td>\n",
       "      <td>Coquimbo</td>\n",
       "      <td>1892.8</td>\n",
       "      <td>211275</td>\n",
       "      <td>132.5</td>\n",
       "      <td>781.000000</td>\n",
       "    </tr>\n",
       "    <tr>\n",
       "      <th>...</th>\n",
       "      <td>...</td>\n",
       "      <td>...</td>\n",
       "      <td>...</td>\n",
       "      <td>...</td>\n",
       "      <td>...</td>\n",
       "      <td>...</td>\n",
       "      <td>...</td>\n",
       "      <td>...</td>\n",
       "    </tr>\n",
       "    <tr>\n",
       "      <th>316</th>\n",
       "      <td>13123</td>\n",
       "      <td>Providencia</td>\n",
       "      <td>Santiago</td>\n",
       "      <td>Metropolitana de Santiago</td>\n",
       "      <td>14.3</td>\n",
       "      <td>126487</td>\n",
       "      <td>8429.1</td>\n",
       "      <td>911.000000</td>\n",
       "    </tr>\n",
       "    <tr>\n",
       "      <th>317</th>\n",
       "      <td>13124</td>\n",
       "      <td>Pudahuel</td>\n",
       "      <td>Santiago</td>\n",
       "      <td>Metropolitana de Santiago</td>\n",
       "      <td>197.0</td>\n",
       "      <td>225509</td>\n",
       "      <td>993.7</td>\n",
       "      <td>735.000000</td>\n",
       "    </tr>\n",
       "    <tr>\n",
       "      <th>318</th>\n",
       "      <td>13125</td>\n",
       "      <td>Quilicura</td>\n",
       "      <td>Santiago</td>\n",
       "      <td>Metropolitana de Santiago</td>\n",
       "      <td>58.0</td>\n",
       "      <td>203946</td>\n",
       "      <td>3486.6</td>\n",
       "      <td>782.000000</td>\n",
       "    </tr>\n",
       "    <tr>\n",
       "      <th>319</th>\n",
       "      <td>13126</td>\n",
       "      <td>Quinta Normal</td>\n",
       "      <td>Santiago</td>\n",
       "      <td>Metropolitana de Santiago</td>\n",
       "      <td>13.0</td>\n",
       "      <td>101737</td>\n",
       "      <td>8388.0</td>\n",
       "      <td>723.000000</td>\n",
       "    </tr>\n",
       "    <tr>\n",
       "      <th>320</th>\n",
       "      <td>13127</td>\n",
       "      <td>Recoleta</td>\n",
       "      <td>Santiago</td>\n",
       "      <td>Metropolitana de Santiago</td>\n",
       "      <td>16.0</td>\n",
       "      <td>152985</td>\n",
       "      <td>9273.8</td>\n",
       "      <td>697.000000</td>\n",
       "    </tr>\n",
       "    <tr>\n",
       "      <th>321</th>\n",
       "      <td>13128</td>\n",
       "      <td>Renca</td>\n",
       "      <td>Santiago</td>\n",
       "      <td>Metropolitana de Santiago</td>\n",
       "      <td>24.0</td>\n",
       "      <td>142136</td>\n",
       "      <td>8388.1</td>\n",
       "      <td>709.000000</td>\n",
       "    </tr>\n",
       "    <tr>\n",
       "      <th>322</th>\n",
       "      <td>13129</td>\n",
       "      <td>San Joaquín</td>\n",
       "      <td>Santiago</td>\n",
       "      <td>Metropolitana de Santiago</td>\n",
       "      <td>9.7</td>\n",
       "      <td>94255</td>\n",
       "      <td>10064.4</td>\n",
       "      <td>719.000000</td>\n",
       "    </tr>\n",
       "    <tr>\n",
       "      <th>323</th>\n",
       "      <td>13130</td>\n",
       "      <td>San Miguel</td>\n",
       "      <td>Santiago</td>\n",
       "      <td>Metropolitana de Santiago</td>\n",
       "      <td>10.0</td>\n",
       "      <td>90846</td>\n",
       "      <td>7787.2</td>\n",
       "      <td>765.000000</td>\n",
       "    </tr>\n",
       "    <tr>\n",
       "      <th>324</th>\n",
       "      <td>13131</td>\n",
       "      <td>San Ramón</td>\n",
       "      <td>Santiago</td>\n",
       "      <td>Metropolitana de Santiago</td>\n",
       "      <td>7.0</td>\n",
       "      <td>85195</td>\n",
       "      <td>14600.9</td>\n",
       "      <td>679.000000</td>\n",
       "    </tr>\n",
       "    <tr>\n",
       "      <th>325</th>\n",
       "      <td>13132</td>\n",
       "      <td>Vitacura</td>\n",
       "      <td>Santiago</td>\n",
       "      <td>Metropolitana de Santiago</td>\n",
       "      <td>28.3</td>\n",
       "      <td>84195</td>\n",
       "      <td>2910.7</td>\n",
       "      <td>949.000000</td>\n",
       "    </tr>\n",
       "    <tr>\n",
       "      <th>326</th>\n",
       "      <td>13201</td>\n",
       "      <td>Puente Alto</td>\n",
       "      <td>Cordillera</td>\n",
       "      <td>Metropolitana de Santiago</td>\n",
       "      <td>88.0</td>\n",
       "      <td>757721</td>\n",
       "      <td>6664.8</td>\n",
       "      <td>773.000000</td>\n",
       "    </tr>\n",
       "    <tr>\n",
       "      <th>327</th>\n",
       "      <td>13202</td>\n",
       "      <td>Pirque</td>\n",
       "      <td>Cordillera</td>\n",
       "      <td>Metropolitana de Santiago</td>\n",
       "      <td>445.3</td>\n",
       "      <td>20732</td>\n",
       "      <td>37.2</td>\n",
       "      <td>807.000000</td>\n",
       "    </tr>\n",
       "    <tr>\n",
       "      <th>328</th>\n",
       "      <td>13203</td>\n",
       "      <td>San José de Maipo</td>\n",
       "      <td>Cordillera</td>\n",
       "      <td>Metropolitana de Santiago</td>\n",
       "      <td>4994.8</td>\n",
       "      <td>14455</td>\n",
       "      <td>0.3</td>\n",
       "      <td>759.000000</td>\n",
       "    </tr>\n",
       "    <tr>\n",
       "      <th>329</th>\n",
       "      <td>13301</td>\n",
       "      <td>Colina</td>\n",
       "      <td>Chacabuco</td>\n",
       "      <td>Metropolitana de Santiago</td>\n",
       "      <td>971.2</td>\n",
       "      <td>113340</td>\n",
       "      <td>80.1</td>\n",
       "      <td>726.000000</td>\n",
       "    </tr>\n",
       "    <tr>\n",
       "      <th>330</th>\n",
       "      <td>13302</td>\n",
       "      <td>Lampa</td>\n",
       "      <td>Chacabuco</td>\n",
       "      <td>Metropolitana de Santiago</td>\n",
       "      <td>452.0</td>\n",
       "      <td>79421</td>\n",
       "      <td>89.9</td>\n",
       "      <td>697.000000</td>\n",
       "    </tr>\n",
       "    <tr>\n",
       "      <th>331</th>\n",
       "      <td>13303</td>\n",
       "      <td>Til Til</td>\n",
       "      <td>Chacabuco</td>\n",
       "      <td>Metropolitana de Santiago</td>\n",
       "      <td>653.0</td>\n",
       "      <td>16405</td>\n",
       "      <td>22.6</td>\n",
       "      <td>706.000000</td>\n",
       "    </tr>\n",
       "    <tr>\n",
       "      <th>332</th>\n",
       "      <td>13401</td>\n",
       "      <td>San Bernardo</td>\n",
       "      <td>Maipo</td>\n",
       "      <td>Metropolitana de Santiago</td>\n",
       "      <td>155.0</td>\n",
       "      <td>277802</td>\n",
       "      <td>1974.0</td>\n",
       "      <td>712.000000</td>\n",
       "    </tr>\n",
       "    <tr>\n",
       "      <th>333</th>\n",
       "      <td>13402</td>\n",
       "      <td>Buin</td>\n",
       "      <td>Maipo</td>\n",
       "      <td>Metropolitana de Santiago</td>\n",
       "      <td>214.0</td>\n",
       "      <td>74232</td>\n",
       "      <td>296.2</td>\n",
       "      <td>731.000000</td>\n",
       "    </tr>\n",
       "    <tr>\n",
       "      <th>334</th>\n",
       "      <td>13403</td>\n",
       "      <td>Calera de Tango</td>\n",
       "      <td>Maipo</td>\n",
       "      <td>Metropolitana de Santiago</td>\n",
       "      <td>73.3</td>\n",
       "      <td>27781</td>\n",
       "      <td>782.6</td>\n",
       "      <td>792.000000</td>\n",
       "    </tr>\n",
       "    <tr>\n",
       "      <th>335</th>\n",
       "      <td>13404</td>\n",
       "      <td>Paine</td>\n",
       "      <td>Maipo</td>\n",
       "      <td>Metropolitana de Santiago</td>\n",
       "      <td>820.0</td>\n",
       "      <td>6612</td>\n",
       "      <td>73.7</td>\n",
       "      <td>718.000000</td>\n",
       "    </tr>\n",
       "    <tr>\n",
       "      <th>336</th>\n",
       "      <td>13501</td>\n",
       "      <td>Melipilla</td>\n",
       "      <td>Melipilla</td>\n",
       "      <td>Metropolitana de Santiago</td>\n",
       "      <td>1345.0</td>\n",
       "      <td>107698</td>\n",
       "      <td>70.3</td>\n",
       "      <td>735.000000</td>\n",
       "    </tr>\n",
       "    <tr>\n",
       "      <th>337</th>\n",
       "      <td>13502</td>\n",
       "      <td>Alhué</td>\n",
       "      <td>Melipilla</td>\n",
       "      <td>Metropolitana de Santiago</td>\n",
       "      <td>845.0</td>\n",
       "      <td>4646</td>\n",
       "      <td>5.2</td>\n",
       "      <td>0.700000</td>\n",
       "    </tr>\n",
       "    <tr>\n",
       "      <th>338</th>\n",
       "      <td>13503</td>\n",
       "      <td>Curacaví</td>\n",
       "      <td>Melipilla</td>\n",
       "      <td>Metropolitana de Santiago</td>\n",
       "      <td>693.0</td>\n",
       "      <td>28439</td>\n",
       "      <td>35.1</td>\n",
       "      <td>0.710000</td>\n",
       "    </tr>\n",
       "    <tr>\n",
       "      <th>339</th>\n",
       "      <td>13504</td>\n",
       "      <td>María Pinto</td>\n",
       "      <td>Melipilla</td>\n",
       "      <td>Metropolitana de Santiago</td>\n",
       "      <td>393.5</td>\n",
       "      <td>12501</td>\n",
       "      <td>115.6</td>\n",
       "      <td>698.000000</td>\n",
       "    </tr>\n",
       "    <tr>\n",
       "      <th>340</th>\n",
       "      <td>13505</td>\n",
       "      <td>San Pedro</td>\n",
       "      <td>Melipilla</td>\n",
       "      <td>Metropolitana de Santiago</td>\n",
       "      <td>788.0</td>\n",
       "      <td>8062</td>\n",
       "      <td>9.6</td>\n",
       "      <td>701.000000</td>\n",
       "    </tr>\n",
       "    <tr>\n",
       "      <th>341</th>\n",
       "      <td>13601</td>\n",
       "      <td>Talagante</td>\n",
       "      <td>Talagante</td>\n",
       "      <td>Metropolitana de Santiago</td>\n",
       "      <td>126.0</td>\n",
       "      <td>78887</td>\n",
       "      <td>474.6</td>\n",
       "      <td>749.000000</td>\n",
       "    </tr>\n",
       "    <tr>\n",
       "      <th>342</th>\n",
       "      <td>13602</td>\n",
       "      <td>El Monte</td>\n",
       "      <td>Talagante</td>\n",
       "      <td>Metropolitana de Santiago</td>\n",
       "      <td>118.0</td>\n",
       "      <td>32468</td>\n",
       "      <td>224.2</td>\n",
       "      <td>688.000000</td>\n",
       "    </tr>\n",
       "    <tr>\n",
       "      <th>343</th>\n",
       "      <td>13603</td>\n",
       "      <td>Isla de Maipo</td>\n",
       "      <td>Talagante</td>\n",
       "      <td>Metropolitana de Santiago</td>\n",
       "      <td>189.0</td>\n",
       "      <td>33723</td>\n",
       "      <td>136.5</td>\n",
       "      <td>724.000000</td>\n",
       "    </tr>\n",
       "    <tr>\n",
       "      <th>344</th>\n",
       "      <td>13604</td>\n",
       "      <td>Padre Hurtado</td>\n",
       "      <td>Talagante</td>\n",
       "      <td>Metropolitana de Santiago</td>\n",
       "      <td>80.8</td>\n",
       "      <td>50696</td>\n",
       "      <td>626.2</td>\n",
       "      <td>728.000000</td>\n",
       "    </tr>\n",
       "    <tr>\n",
       "      <th>345</th>\n",
       "      <td>13605</td>\n",
       "      <td>Peñaflor</td>\n",
       "      <td>Talagante</td>\n",
       "      <td>Metropolitana de Santiago</td>\n",
       "      <td>69.0</td>\n",
       "      <td>87741</td>\n",
       "      <td>965.5</td>\n",
       "      <td>753.000000</td>\n",
       "    </tr>\n",
       "  </tbody>\n",
       "</table>\n",
       "<p>346 rows × 8 columns</p>\n",
       "</div>"
      ],
      "text/plain": [
       "       cod                nombre         prov                        reg  \\\n",
       "0    15101                 Arica        Arica         Arica y Parinacota   \n",
       "1    15102             Camarones        Arica         Arica y Parinacota   \n",
       "2    15201                 Putre   Parinacota         Arica y Parinacota   \n",
       "3    15202         General Lagos   Parinacota         Arica y Parinacota   \n",
       "4     1101               Iquique      Iquique                   Tarapacá   \n",
       "5     1107         Alto Hospicio      Iquique                   Tarapacá   \n",
       "6     1401          Pozo Almonte    Tamarugal                   Tarapacá   \n",
       "7     1402                Camiña    Tamarugal                   Tarapacá   \n",
       "8     1403              Colchane    Tamarugal                   Tarapacá   \n",
       "9     1404                 Huara    Tamarugal                   Tarapacá   \n",
       "10    1405                  Pica    Tamarugal                   Tarapacá   \n",
       "11    2101           Antofagasta  Antofagasta                Antofagasta   \n",
       "12    2102            Mejillones  Antofagasta                Antofagasta   \n",
       "13    2103          Sierra Gorda  Antofagasta                Antofagasta   \n",
       "14    2104                Taltal  Antofagasta                Antofagasta   \n",
       "15    2201                Calama       El Loa                Antofagasta   \n",
       "16    2202               Ollagüe       El Loa                Antofagasta   \n",
       "17    2203  San Pedro de Atacama       El Loa                Antofagasta   \n",
       "18    2301             Tocopilla    Tocopilla                Antofagasta   \n",
       "19    2302           María Elena    Tocopilla                Antofagasta   \n",
       "20    3101               Copiapó      Copiapó                    Atacama   \n",
       "21    3102               Caldera      Copiapó                    Atacama   \n",
       "22    3103       Tierra Amarilla      Copiapó                    Atacama   \n",
       "23    3201              Chañaral     Chañaral                    Atacama   \n",
       "24    3202      Diego de Almagro     Chañaral                    Atacama   \n",
       "25    3301              Vallenar       Huasco                    Atacama   \n",
       "26    3302       Alto del Carmen       Huasco                    Atacama   \n",
       "27    3303              Freirina       Huasco                    Atacama   \n",
       "28    3304                Huasco       Huasco                    Atacama   \n",
       "29    4101             La Serena        Elqui                   Coquimbo   \n",
       "..     ...                   ...          ...                        ...   \n",
       "316  13123           Providencia     Santiago  Metropolitana de Santiago   \n",
       "317  13124              Pudahuel     Santiago  Metropolitana de Santiago   \n",
       "318  13125             Quilicura     Santiago  Metropolitana de Santiago   \n",
       "319  13126         Quinta Normal     Santiago  Metropolitana de Santiago   \n",
       "320  13127              Recoleta     Santiago  Metropolitana de Santiago   \n",
       "321  13128                 Renca     Santiago  Metropolitana de Santiago   \n",
       "322  13129           San Joaquín     Santiago  Metropolitana de Santiago   \n",
       "323  13130            San Miguel     Santiago  Metropolitana de Santiago   \n",
       "324  13131             San Ramón     Santiago  Metropolitana de Santiago   \n",
       "325  13132              Vitacura     Santiago  Metropolitana de Santiago   \n",
       "326  13201           Puente Alto   Cordillera  Metropolitana de Santiago   \n",
       "327  13202                Pirque   Cordillera  Metropolitana de Santiago   \n",
       "328  13203     San José de Maipo   Cordillera  Metropolitana de Santiago   \n",
       "329  13301                Colina    Chacabuco  Metropolitana de Santiago   \n",
       "330  13302                 Lampa    Chacabuco  Metropolitana de Santiago   \n",
       "331  13303               Til Til    Chacabuco  Metropolitana de Santiago   \n",
       "332  13401          San Bernardo        Maipo  Metropolitana de Santiago   \n",
       "333  13402                  Buin        Maipo  Metropolitana de Santiago   \n",
       "334  13403       Calera de Tango        Maipo  Metropolitana de Santiago   \n",
       "335  13404                 Paine        Maipo  Metropolitana de Santiago   \n",
       "336  13501             Melipilla    Melipilla  Metropolitana de Santiago   \n",
       "337  13502                 Alhué    Melipilla  Metropolitana de Santiago   \n",
       "338  13503              Curacaví    Melipilla  Metropolitana de Santiago   \n",
       "339  13504           María Pinto    Melipilla  Metropolitana de Santiago   \n",
       "340  13505             San Pedro    Melipilla  Metropolitana de Santiago   \n",
       "341  13601             Talagante    Talagante  Metropolitana de Santiago   \n",
       "342  13602              El Monte    Talagante  Metropolitana de Santiago   \n",
       "343  13603         Isla de Maipo    Talagante  Metropolitana de Santiago   \n",
       "344  13604         Padre Hurtado    Talagante  Metropolitana de Santiago   \n",
       "345  13605              Peñaflor    Talagante  Metropolitana de Santiago   \n",
       "\n",
       "         sup    pobl     dens         idh  \n",
       "0     4799.4  210936    736.0   38.400000  \n",
       "1     3927.0     679      0.3  751.000000  \n",
       "2     5902.5    1462      0.2  707.000000  \n",
       "3     2244.4     739      0.5    0.670000  \n",
       "4     2242.1  184953     82.4  766.000000  \n",
       "5      572.9   94455     87.6  637.527654  \n",
       "6    13765.8   11519      0.7  722.000000  \n",
       "7     2200.2    1156      0.5  619.000000  \n",
       "8     4015.6    1384      0.4  603.000000  \n",
       "9    10474.6    2360      0.2  676.000000  \n",
       "10    8934.3    4194      0.6  793.000000  \n",
       "11   30718.1  348669      9.7  734.000000  \n",
       "12    3803.9    9752      2.2    0.730000  \n",
       "13   12886.0    1206      0.1  789.000000  \n",
       "14   20405.1   13493      0.5  716.000000  \n",
       "15   15596.9  147886      9.1  757.000000  \n",
       "16    2964.0     332      0.1  679.000000  \n",
       "17   23439.0    5605      0.2  711.000000  \n",
       "18    4038.8   20091      5.9    0.690000  \n",
       "19   12197.0    4593      0.6  779.000000  \n",
       "20   16681.3  158261     11.9  725.000000  \n",
       "21    4666.6   16150      2.9  741.000000  \n",
       "22   11191.0   13912      1.1  686.000000  \n",
       "23    5772.0   14146      2.2  714.000000  \n",
       "24   18664.0   16452      1.0  789.000000  \n",
       "25    7084.0   52099      6.7  731.000000  \n",
       "26    5939.0    5488      0.8  664.000000  \n",
       "27    3207.9    6531      1.7  693.000000  \n",
       "28    1601.4    9015      5.6  695.000000  \n",
       "29    1892.8  211275    132.5  781.000000  \n",
       "..       ...     ...      ...         ...  \n",
       "316     14.3  126487   8429.1  911.000000  \n",
       "317    197.0  225509    993.7  735.000000  \n",
       "318     58.0  203946   3486.6  782.000000  \n",
       "319     13.0  101737   8388.0  723.000000  \n",
       "320     16.0  152985   9273.8  697.000000  \n",
       "321     24.0  142136   8388.1  709.000000  \n",
       "322      9.7   94255  10064.4  719.000000  \n",
       "323     10.0   90846   7787.2  765.000000  \n",
       "324      7.0   85195  14600.9  679.000000  \n",
       "325     28.3   84195   2910.7  949.000000  \n",
       "326     88.0  757721   6664.8  773.000000  \n",
       "327    445.3   20732     37.2  807.000000  \n",
       "328   4994.8   14455      0.3  759.000000  \n",
       "329    971.2  113340     80.1  726.000000  \n",
       "330    452.0   79421     89.9  697.000000  \n",
       "331    653.0   16405     22.6  706.000000  \n",
       "332    155.0  277802   1974.0  712.000000  \n",
       "333    214.0   74232    296.2  731.000000  \n",
       "334     73.3   27781    782.6  792.000000  \n",
       "335    820.0    6612     73.7  718.000000  \n",
       "336   1345.0  107698     70.3  735.000000  \n",
       "337    845.0    4646      5.2    0.700000  \n",
       "338    693.0   28439     35.1    0.710000  \n",
       "339    393.5   12501    115.6  698.000000  \n",
       "340    788.0    8062      9.6  701.000000  \n",
       "341    126.0   78887    474.6  749.000000  \n",
       "342    118.0   32468    224.2  688.000000  \n",
       "343    189.0   33723    136.5  724.000000  \n",
       "344     80.8   50696    626.2  728.000000  \n",
       "345     69.0   87741    965.5  753.000000  \n",
       "\n",
       "[346 rows x 8 columns]"
      ]
     },
     "execution_count": 86,
     "metadata": {},
     "output_type": "execute_result"
    }
   ],
   "source": [
    "com_frame.columns = ['cod', 'nombre', 'prov', 'reg', 'sup', 'pobl', 'dens', 'idh']\n",
    "com_frame"
   ]
  },
  {
   "cell_type": "markdown",
   "metadata": {},
   "source": [
    "Ahora vamos a obtener la cantidad de habitantes por región."
   ]
  },
  {
   "cell_type": "code",
   "execution_count": 87,
   "metadata": {
    "scrolled": true
   },
   "outputs": [
    {
     "data": {
      "text/plain": [
       "reg\n",
       "Antofagasta                             551627\n",
       "Arica y Parinacota                      213816\n",
       "Atacama                                 292054\n",
       "Aysén del Gral. C. Ibáñez del Campo     106893\n",
       "Biobío                                 1565839\n",
       "Coquimbo                                714856\n",
       "La Araucanía                            933537\n",
       "Lib. Gral. Bernardo O'Higgins           903248\n",
       "Los Lagos                               835829\n",
       "Los Ríos                                380618\n",
       "Magallanes y Antártica Chilena          158828\n",
       "Maule                                  1073635\n",
       "Metropolitana de Santiago              7090580\n",
       "Tarapacá                                300021\n",
       "Valparaíso                             1859312\n",
       "Ñuble                                   460156\n",
       "Name: pobl, dtype: int64"
      ]
     },
     "execution_count": 87,
     "metadata": {},
     "output_type": "execute_result"
    }
   ],
   "source": [
    "com_frame['pobl'].groupby(com_frame['reg']).sum() # Ojo! esto retorna un objeto Series"
   ]
  },
  {
   "cell_type": "markdown",
   "metadata": {},
   "source": [
    "Podemos preguntar cuantos elementos hay por grupo. En este caso obtendríamos el número de comunas por región."
   ]
  },
  {
   "cell_type": "code",
   "execution_count": 88,
   "metadata": {},
   "outputs": [
    {
     "data": {
      "text/plain": [
       "reg\n",
       "Antofagasta                             9\n",
       "Arica y Parinacota                      4\n",
       "Atacama                                 9\n",
       "Aysén del Gral. C. Ibáñez del Campo    10\n",
       "Biobío                                 33\n",
       "Coquimbo                               15\n",
       "La Araucanía                           32\n",
       "Lib. Gral. Bernardo O'Higgins          33\n",
       "Los Lagos                              30\n",
       "Los Ríos                               12\n",
       "Magallanes y Antártica Chilena         11\n",
       "Maule                                  30\n",
       "Metropolitana de Santiago              52\n",
       "Tarapacá                                7\n",
       "Valparaíso                             38\n",
       "Ñuble                                  21\n",
       "Name: pobl, dtype: int64"
      ]
     },
     "execution_count": 88,
     "metadata": {},
     "output_type": "execute_result"
    }
   ],
   "source": [
    "com_frame['pobl'].groupby(com_frame['reg']).size() # Ojo! esto retorna un objeto Series"
   ]
  },
  {
   "cell_type": "code",
   "execution_count": 90,
   "metadata": {},
   "outputs": [
    {
     "data": {
      "text/plain": [
       "prov                     reg                                \n",
       "Antofagasta              Antofagasta                             373120\n",
       "Antártica Chilena        Magallanes y Antártica Chilena            1804\n",
       "Arauco                   Biobío                                  171103\n",
       "Arica                    Arica y Parinacota                      211615\n",
       "Aysén                    Aysén del Gral. C. Ibáñez del Campo      35215\n",
       "Biobío                   Biobío                                  390088\n",
       "Cachapoal                Lib. Gral. Bernardo O'Higgins           635012\n",
       "Capitán Prat             Aysén del Gral. C. Ibáñez del Campo       3990\n",
       "Cardenal Caro            Lib. Gral. Bernardo O'Higgins            44337\n",
       "Cauquenes                Maule                                    56452\n",
       "Cautín                   La Araucanía                            735209\n",
       "Chacabuco                Metropolitana de Santiago               209166\n",
       "Chañaral                 Atacama                                  30598\n",
       "Chiloé                   Los Lagos                               184409\n",
       "Choapa                   Coquimbo                                 83934\n",
       "Colchagua                Lib. Gral. Bernardo O'Higgins           223899\n",
       "Concepción               Biobío                                 1004648\n",
       "Copiapó                  Atacama                                 188323\n",
       "Cordillera               Metropolitana de Santiago               792908\n",
       "Coyhaique                Aysén del Gral. C. Ibáñez del Campo      60146\n",
       "Curicó                   Maule                                   309501\n",
       "Diguillín                Ñuble                                   307688\n",
       "El Loa                   Antofagasta                             153823\n",
       "Elqui                    Coquimbo                                459444\n",
       "General Carrera          Aysén del Gral. C. Ibáñez del Campo       7542\n",
       "Huasco                   Atacama                                  73133\n",
       "Iquique                  Tarapacá                                279408\n",
       "Isla de Pascua           Valparaíso                                5761\n",
       "Itata                    Ñuble                                    52802\n",
       "Limarí                   Coquimbo                                171478\n",
       "Linares                  Maule                                   287271\n",
       "Llanquihue               Los Lagos                               406384\n",
       "Los Andes                Valparaíso                              147444\n",
       "Magallanes               Magallanes y Antártica Chilena          127208\n",
       "Maipo                    Metropolitana de Santiago               386427\n",
       "Malleco                  La Araucanía                            198328\n",
       "Marga Marga              Valparaíso                              359795\n",
       "Melipilla                Metropolitana de Santiago               161346\n",
       "Osorno                   Los Lagos                               225987\n",
       "Palena                   Los Lagos                                19049\n",
       "Parinacota               Arica y Parinacota                        2201\n",
       "Petorca                  Valparaíso                               82061\n",
       "Punilla                  Ñuble                                    99666\n",
       "Quillota                 Valparaíso                              206873\n",
       "Ranco                    Los Ríos                                 95078\n",
       "San Antonio              Valparaíso                              155093\n",
       "San Felipe de Aconcagua  Valparaíso                              149145\n",
       "Santiago                 Metropolitana de Santiago              5257218\n",
       "Talagante                Metropolitana de Santiago               283515\n",
       "Talca                    Maule                                   420411\n",
       "Tamarugal                Tarapacá                                 20613\n",
       "Tierra del Fuego         Magallanes y Antártica Chilena            7326\n",
       "Tocopilla                Antofagasta                              24684\n",
       "Valdivia                 Los Ríos                                285540\n",
       "Valparaíso               Valparaíso                              753140\n",
       "Última Esperanza         Magallanes y Antártica Chilena           22490\n",
       "Name: pobl, dtype: int64"
      ]
     },
     "execution_count": 90,
     "metadata": {},
     "output_type": "execute_result"
    }
   ],
   "source": [
    "com_frame['pobl'].groupby([com_frame['prov'], com_frame['reg']]).sum() # Ojo! esto retorna un objeto Series\n",
    "# DataFrame(com_frame['pobl'].groupby([com_frame['prov'], com_frame['reg']]).sum())"
   ]
  },
  {
   "cell_type": "markdown",
   "metadata": {},
   "source": [
    "En `pandas` se pueden hacer operaciones mucho más complejas, pero no veremos nada avanzado en esta ocasión. Puedes revisar la documentación para ver que más puedes hacer."
   ]
  },
  {
   "cell_type": "markdown",
   "metadata": {},
   "source": [
    "### Graficando los datos\n",
    "\n",
    "Una de las ventajas de trabajar con `pandas` es que tenemos acceso rápido a herramientas de visualización. Una de ellas es la librería `matplotlib`. Vamos a ver un ejemplo rápido, haciendo un gráfico de barras de los habitantes por región."
   ]
  },
  {
   "cell_type": "code",
   "execution_count": 153,
   "metadata": {},
   "outputs": [
    {
     "data": {
      "image/png": "[encoded data removed]",
      "text/plain": [
       "<Figure size 1080x360 with 1 Axes>"
      ]
     },
     "metadata": {},
     "output_type": "display_data"
    }
   ],
   "source": [
    "\n",
    "# Ajustamos el tamaño del gráfico\n",
    "plt.rcParams['figure.figsize'] = [15, 5]\n",
    "\n",
    "plt.title('Población por región')\n",
    "pop_by_comune = com_frame['pobl'].groupby(com_frame['reg']).sum() #se saca la suma de poblacion por región\n",
    "plt.bar(pop_by_comune.keys(), pop_by_comune)\n",
    "\n",
    "# Ajustamos la rotación de los labels\n",
    "plt.xticks(rotation=90) # para que no queden todos los labels juntos y feos\n",
    "\n",
    "plt.show()"
   ]
  },
  {
   "cell_type": "markdown",
   "metadata": {},
   "source": [
    "### Índices jerárquicos\n",
    "\n",
    "Podemos instanciar objetos de la clase `DataFrame` en que los índices son jerárquicos. Veamos un ejemplo."
   ]
  },
  {
   "cell_type": "code",
   "execution_count": 93,
   "metadata": {},
   "outputs": [
    {
     "data": {
      "text/html": [
       "<div>\n",
       "<style scoped>\n",
       "    .dataframe tbody tr th:only-of-type {\n",
       "        vertical-align: middle;\n",
       "    }\n",
       "\n",
       "    .dataframe tbody tr th {\n",
       "        vertical-align: top;\n",
       "    }\n",
       "\n",
       "    .dataframe thead th {\n",
       "        text-align: right;\n",
       "    }\n",
       "</style>\n",
       "<table border=\"1\" class=\"dataframe\">\n",
       "  <thead>\n",
       "    <tr style=\"text-align: right;\">\n",
       "      <th></th>\n",
       "      <th></th>\n",
       "      <th>c1</th>\n",
       "      <th>c2</th>\n",
       "      <th>c3</th>\n",
       "    </tr>\n",
       "  </thead>\n",
       "  <tbody>\n",
       "    <tr>\n",
       "      <th rowspan=\"2\" valign=\"top\">a</th>\n",
       "      <th>1</th>\n",
       "      <td>0</td>\n",
       "      <td>1</td>\n",
       "      <td>2</td>\n",
       "    </tr>\n",
       "    <tr>\n",
       "      <th>2</th>\n",
       "      <td>3</td>\n",
       "      <td>4</td>\n",
       "      <td>5</td>\n",
       "    </tr>\n",
       "    <tr>\n",
       "      <th rowspan=\"2\" valign=\"top\">b</th>\n",
       "      <th>1</th>\n",
       "      <td>6</td>\n",
       "      <td>7</td>\n",
       "      <td>8</td>\n",
       "    </tr>\n",
       "    <tr>\n",
       "      <th>2</th>\n",
       "      <td>9</td>\n",
       "      <td>10</td>\n",
       "      <td>11</td>\n",
       "    </tr>\n",
       "  </tbody>\n",
       "</table>\n",
       "</div>"
      ],
      "text/plain": [
       "     c1  c2  c3\n",
       "a 1   0   1   2\n",
       "  2   3   4   5\n",
       "b 1   6   7   8\n",
       "  2   9  10  11"
      ]
     },
     "execution_count": 93,
     "metadata": {},
     "output_type": "execute_result"
    }
   ],
   "source": [
    "data_multindex = pd.DataFrame(np.arange(12).reshape(4, 3), \n",
    "                    index=[['a', 'a', 'b', 'b'], [1, 2, 1, 2]],\n",
    "                    columns=['c1', 'c2', 'c3']) \n",
    "\n",
    "# La función reshape en este \n",
    "# caso distribuye los doce elementos \n",
    "# en una tabla de 4 filas y tres columnas\n",
    "\n",
    "data_multindex"
   ]
  },
  {
   "cell_type": "code",
   "execution_count": 94,
   "metadata": {},
   "outputs": [
    {
     "data": {
      "text/plain": [
       "c1    0\n",
       "c2    1\n",
       "c3    2\n",
       "Name: (a, 1), dtype: int64"
      ]
     },
     "execution_count": 94,
     "metadata": {},
     "output_type": "execute_result"
    }
   ],
   "source": [
    "data_multindex.iloc[0] # Esto nos arroja la primera fila."
   ]
  },
  {
   "cell_type": "markdown",
   "metadata": {},
   "source": [
    "Si queremos localizar por índice, usamos la función `loc`:"
   ]
  },
  {
   "cell_type": "code",
   "execution_count": 95,
   "metadata": {},
   "outputs": [
    {
     "data": {
      "text/html": [
       "<div>\n",
       "<style scoped>\n",
       "    .dataframe tbody tr th:only-of-type {\n",
       "        vertical-align: middle;\n",
       "    }\n",
       "\n",
       "    .dataframe tbody tr th {\n",
       "        vertical-align: top;\n",
       "    }\n",
       "\n",
       "    .dataframe thead th {\n",
       "        text-align: right;\n",
       "    }\n",
       "</style>\n",
       "<table border=\"1\" class=\"dataframe\">\n",
       "  <thead>\n",
       "    <tr style=\"text-align: right;\">\n",
       "      <th></th>\n",
       "      <th>c1</th>\n",
       "      <th>c2</th>\n",
       "      <th>c3</th>\n",
       "    </tr>\n",
       "  </thead>\n",
       "  <tbody>\n",
       "    <tr>\n",
       "      <th>1</th>\n",
       "      <td>0</td>\n",
       "      <td>1</td>\n",
       "      <td>2</td>\n",
       "    </tr>\n",
       "    <tr>\n",
       "      <th>2</th>\n",
       "      <td>3</td>\n",
       "      <td>4</td>\n",
       "      <td>5</td>\n",
       "    </tr>\n",
       "  </tbody>\n",
       "</table>\n",
       "</div>"
      ],
      "text/plain": [
       "   c1  c2  c3\n",
       "1   0   1   2\n",
       "2   3   4   5"
      ]
     },
     "execution_count": 95,
     "metadata": {},
     "output_type": "execute_result"
    }
   ],
   "source": [
    "data_multindex.loc['a']"
   ]
  },
  {
   "cell_type": "code",
   "execution_count": 96,
   "metadata": {},
   "outputs": [
    {
     "data": {
      "text/plain": [
       "c1    3\n",
       "c2    4\n",
       "c3    5\n",
       "Name: 2, dtype: int64"
      ]
     },
     "execution_count": 96,
     "metadata": {},
     "output_type": "execute_result"
    }
   ],
   "source": [
    "data_multindex.loc['a'].loc[2] # La función loc accede según el label del índice, no la posición"
   ]
  },
  {
   "cell_type": "markdown",
   "metadata": {},
   "source": [
    "### Joins\n",
    "\n",
    "Podemos hacer _joins_ sobre los Data Frames. Partamos con un ejemplo sencillo de dos objetos de tipo `DataFrame` que comparten el nombre de un atributo en el que se desea hacer _join_:"
   ]
  },
  {
   "cell_type": "code",
   "execution_count": 97,
   "metadata": {},
   "outputs": [],
   "source": [
    "df1 = pd.DataFrame({'key': ['b', 'b', 'a', 'c', 'a', 'a', 'b'],\n",
    "                    'data1': np.arange(7)})\n",
    "\n",
    "df2 = pd.DataFrame({'key': ['a', 'b'],\n",
    "                    'data2': np.arange(8, 10)})\n"
   ]
  },
  {
   "cell_type": "code",
   "execution_count": 98,
   "metadata": {},
   "outputs": [
    {
     "data": {
      "text/html": [
       "<div>\n",
       "<style scoped>\n",
       "    .dataframe tbody tr th:only-of-type {\n",
       "        vertical-align: middle;\n",
       "    }\n",
       "\n",
       "    .dataframe tbody tr th {\n",
       "        vertical-align: top;\n",
       "    }\n",
       "\n",
       "    .dataframe thead th {\n",
       "        text-align: right;\n",
       "    }\n",
       "</style>\n",
       "<table border=\"1\" class=\"dataframe\">\n",
       "  <thead>\n",
       "    <tr style=\"text-align: right;\">\n",
       "      <th></th>\n",
       "      <th>key</th>\n",
       "      <th>data1</th>\n",
       "    </tr>\n",
       "  </thead>\n",
       "  <tbody>\n",
       "    <tr>\n",
       "      <th>0</th>\n",
       "      <td>b</td>\n",
       "      <td>0</td>\n",
       "    </tr>\n",
       "    <tr>\n",
       "      <th>1</th>\n",
       "      <td>b</td>\n",
       "      <td>1</td>\n",
       "    </tr>\n",
       "    <tr>\n",
       "      <th>2</th>\n",
       "      <td>a</td>\n",
       "      <td>2</td>\n",
       "    </tr>\n",
       "    <tr>\n",
       "      <th>3</th>\n",
       "      <td>c</td>\n",
       "      <td>3</td>\n",
       "    </tr>\n",
       "    <tr>\n",
       "      <th>4</th>\n",
       "      <td>a</td>\n",
       "      <td>4</td>\n",
       "    </tr>\n",
       "    <tr>\n",
       "      <th>5</th>\n",
       "      <td>a</td>\n",
       "      <td>5</td>\n",
       "    </tr>\n",
       "    <tr>\n",
       "      <th>6</th>\n",
       "      <td>b</td>\n",
       "      <td>6</td>\n",
       "    </tr>\n",
       "  </tbody>\n",
       "</table>\n",
       "</div>"
      ],
      "text/plain": [
       "  key  data1\n",
       "0   b      0\n",
       "1   b      1\n",
       "2   a      2\n",
       "3   c      3\n",
       "4   a      4\n",
       "5   a      5\n",
       "6   b      6"
      ]
     },
     "execution_count": 98,
     "metadata": {},
     "output_type": "execute_result"
    }
   ],
   "source": [
    "df1"
   ]
  },
  {
   "cell_type": "code",
   "execution_count": 99,
   "metadata": {},
   "outputs": [
    {
     "data": {
      "text/html": [
       "<div>\n",
       "<style scoped>\n",
       "    .dataframe tbody tr th:only-of-type {\n",
       "        vertical-align: middle;\n",
       "    }\n",
       "\n",
       "    .dataframe tbody tr th {\n",
       "        vertical-align: top;\n",
       "    }\n",
       "\n",
       "    .dataframe thead th {\n",
       "        text-align: right;\n",
       "    }\n",
       "</style>\n",
       "<table border=\"1\" class=\"dataframe\">\n",
       "  <thead>\n",
       "    <tr style=\"text-align: right;\">\n",
       "      <th></th>\n",
       "      <th>key</th>\n",
       "      <th>data2</th>\n",
       "    </tr>\n",
       "  </thead>\n",
       "  <tbody>\n",
       "    <tr>\n",
       "      <th>0</th>\n",
       "      <td>a</td>\n",
       "      <td>8</td>\n",
       "    </tr>\n",
       "    <tr>\n",
       "      <th>1</th>\n",
       "      <td>b</td>\n",
       "      <td>9</td>\n",
       "    </tr>\n",
       "  </tbody>\n",
       "</table>\n",
       "</div>"
      ],
      "text/plain": [
       "  key  data2\n",
       "0   a      8\n",
       "1   b      9"
      ]
     },
     "execution_count": 99,
     "metadata": {},
     "output_type": "execute_result"
    }
   ],
   "source": [
    "df2"
   ]
  },
  {
   "cell_type": "code",
   "execution_count": 100,
   "metadata": {},
   "outputs": [
    {
     "data": {
      "text/html": [
       "<div>\n",
       "<style scoped>\n",
       "    .dataframe tbody tr th:only-of-type {\n",
       "        vertical-align: middle;\n",
       "    }\n",
       "\n",
       "    .dataframe tbody tr th {\n",
       "        vertical-align: top;\n",
       "    }\n",
       "\n",
       "    .dataframe thead th {\n",
       "        text-align: right;\n",
       "    }\n",
       "</style>\n",
       "<table border=\"1\" class=\"dataframe\">\n",
       "  <thead>\n",
       "    <tr style=\"text-align: right;\">\n",
       "      <th></th>\n",
       "      <th>key</th>\n",
       "      <th>data1</th>\n",
       "      <th>data2</th>\n",
       "    </tr>\n",
       "  </thead>\n",
       "  <tbody>\n",
       "    <tr>\n",
       "      <th>0</th>\n",
       "      <td>b</td>\n",
       "      <td>0</td>\n",
       "      <td>9</td>\n",
       "    </tr>\n",
       "    <tr>\n",
       "      <th>1</th>\n",
       "      <td>b</td>\n",
       "      <td>1</td>\n",
       "      <td>9</td>\n",
       "    </tr>\n",
       "    <tr>\n",
       "      <th>2</th>\n",
       "      <td>b</td>\n",
       "      <td>6</td>\n",
       "      <td>9</td>\n",
       "    </tr>\n",
       "    <tr>\n",
       "      <th>3</th>\n",
       "      <td>a</td>\n",
       "      <td>2</td>\n",
       "      <td>8</td>\n",
       "    </tr>\n",
       "    <tr>\n",
       "      <th>4</th>\n",
       "      <td>a</td>\n",
       "      <td>4</td>\n",
       "      <td>8</td>\n",
       "    </tr>\n",
       "    <tr>\n",
       "      <th>5</th>\n",
       "      <td>a</td>\n",
       "      <td>5</td>\n",
       "      <td>8</td>\n",
       "    </tr>\n",
       "  </tbody>\n",
       "</table>\n",
       "</div>"
      ],
      "text/plain": [
       "  key  data1  data2\n",
       "0   b      0      9\n",
       "1   b      1      9\n",
       "2   b      6      9\n",
       "3   a      2      8\n",
       "4   a      4      8\n",
       "5   a      5      8"
      ]
     },
     "execution_count": 100,
     "metadata": {},
     "output_type": "execute_result"
    }
   ],
   "source": [
    "pd.merge(df1, df2) \n",
    "#se asume que se mergea por la columna que se llama igual (key), si no se encuentra en común, se elimina"
   ]
  },
  {
   "cell_type": "markdown",
   "metadata": {},
   "source": [
    "En la operación anterior, omitimos indicar explícitamente el atributo sobre el que estamos haciendo join. Para indicarlo hacemos lo siguiente:"
   ]
  },
  {
   "cell_type": "code",
   "execution_count": 101,
   "metadata": {},
   "outputs": [
    {
     "data": {
      "text/html": [
       "<div>\n",
       "<style scoped>\n",
       "    .dataframe tbody tr th:only-of-type {\n",
       "        vertical-align: middle;\n",
       "    }\n",
       "\n",
       "    .dataframe tbody tr th {\n",
       "        vertical-align: top;\n",
       "    }\n",
       "\n",
       "    .dataframe thead th {\n",
       "        text-align: right;\n",
       "    }\n",
       "</style>\n",
       "<table border=\"1\" class=\"dataframe\">\n",
       "  <thead>\n",
       "    <tr style=\"text-align: right;\">\n",
       "      <th></th>\n",
       "      <th>key</th>\n",
       "      <th>data1</th>\n",
       "      <th>data2</th>\n",
       "    </tr>\n",
       "  </thead>\n",
       "  <tbody>\n",
       "    <tr>\n",
       "      <th>0</th>\n",
       "      <td>b</td>\n",
       "      <td>0</td>\n",
       "      <td>9</td>\n",
       "    </tr>\n",
       "    <tr>\n",
       "      <th>1</th>\n",
       "      <td>b</td>\n",
       "      <td>1</td>\n",
       "      <td>9</td>\n",
       "    </tr>\n",
       "    <tr>\n",
       "      <th>2</th>\n",
       "      <td>b</td>\n",
       "      <td>6</td>\n",
       "      <td>9</td>\n",
       "    </tr>\n",
       "    <tr>\n",
       "      <th>3</th>\n",
       "      <td>a</td>\n",
       "      <td>2</td>\n",
       "      <td>8</td>\n",
       "    </tr>\n",
       "    <tr>\n",
       "      <th>4</th>\n",
       "      <td>a</td>\n",
       "      <td>2</td>\n",
       "      <td>11</td>\n",
       "    </tr>\n",
       "    <tr>\n",
       "      <th>5</th>\n",
       "      <td>a</td>\n",
       "      <td>4</td>\n",
       "      <td>8</td>\n",
       "    </tr>\n",
       "    <tr>\n",
       "      <th>6</th>\n",
       "      <td>a</td>\n",
       "      <td>4</td>\n",
       "      <td>11</td>\n",
       "    </tr>\n",
       "    <tr>\n",
       "      <th>7</th>\n",
       "      <td>a</td>\n",
       "      <td>5</td>\n",
       "      <td>8</td>\n",
       "    </tr>\n",
       "    <tr>\n",
       "      <th>8</th>\n",
       "      <td>a</td>\n",
       "      <td>5</td>\n",
       "      <td>11</td>\n",
       "    </tr>\n",
       "  </tbody>\n",
       "</table>\n",
       "</div>"
      ],
      "text/plain": [
       "  key  data1  data2\n",
       "0   b      0      9\n",
       "1   b      1      9\n",
       "2   b      6      9\n",
       "3   a      2      8\n",
       "4   a      2     11\n",
       "5   a      4      8\n",
       "6   a      4     11\n",
       "7   a      5      8\n",
       "8   a      5     11"
      ]
     },
     "execution_count": 101,
     "metadata": {},
     "output_type": "execute_result"
    }
   ],
   "source": [
    "df1 = pd.DataFrame({'key': ['b', 'b', 'a', 'c', 'a', 'a', 'b'],\n",
    "                    'data1': np.arange(7)})\n",
    "\n",
    "df2 = pd.DataFrame({'key': ['a', 'b', 'd', 'a'],\n",
    "                    'data2': np.arange(8, 12)})\n",
    "\n",
    "pd.merge(df1, df2, on='key')"
   ]
  },
  {
   "cell_type": "markdown",
   "metadata": {},
   "source": [
    "En el caso de que los atributos se llamen de distinta forma:"
   ]
  },
  {
   "cell_type": "code",
   "execution_count": 102,
   "metadata": {},
   "outputs": [
    {
     "data": {
      "text/html": [
       "<div>\n",
       "<style scoped>\n",
       "    .dataframe tbody tr th:only-of-type {\n",
       "        vertical-align: middle;\n",
       "    }\n",
       "\n",
       "    .dataframe tbody tr th {\n",
       "        vertical-align: top;\n",
       "    }\n",
       "\n",
       "    .dataframe thead th {\n",
       "        text-align: right;\n",
       "    }\n",
       "</style>\n",
       "<table border=\"1\" class=\"dataframe\">\n",
       "  <thead>\n",
       "    <tr style=\"text-align: right;\">\n",
       "      <th></th>\n",
       "      <th>key1</th>\n",
       "      <th>data1</th>\n",
       "      <th>key2</th>\n",
       "      <th>data2</th>\n",
       "    </tr>\n",
       "  </thead>\n",
       "  <tbody>\n",
       "    <tr>\n",
       "      <th>0</th>\n",
       "      <td>b</td>\n",
       "      <td>0</td>\n",
       "      <td>b</td>\n",
       "      <td>9</td>\n",
       "    </tr>\n",
       "    <tr>\n",
       "      <th>1</th>\n",
       "      <td>b</td>\n",
       "      <td>1</td>\n",
       "      <td>b</td>\n",
       "      <td>9</td>\n",
       "    </tr>\n",
       "    <tr>\n",
       "      <th>2</th>\n",
       "      <td>b</td>\n",
       "      <td>6</td>\n",
       "      <td>b</td>\n",
       "      <td>9</td>\n",
       "    </tr>\n",
       "    <tr>\n",
       "      <th>3</th>\n",
       "      <td>a</td>\n",
       "      <td>2</td>\n",
       "      <td>a</td>\n",
       "      <td>8</td>\n",
       "    </tr>\n",
       "    <tr>\n",
       "      <th>4</th>\n",
       "      <td>a</td>\n",
       "      <td>2</td>\n",
       "      <td>a</td>\n",
       "      <td>11</td>\n",
       "    </tr>\n",
       "    <tr>\n",
       "      <th>5</th>\n",
       "      <td>a</td>\n",
       "      <td>4</td>\n",
       "      <td>a</td>\n",
       "      <td>8</td>\n",
       "    </tr>\n",
       "    <tr>\n",
       "      <th>6</th>\n",
       "      <td>a</td>\n",
       "      <td>4</td>\n",
       "      <td>a</td>\n",
       "      <td>11</td>\n",
       "    </tr>\n",
       "    <tr>\n",
       "      <th>7</th>\n",
       "      <td>a</td>\n",
       "      <td>5</td>\n",
       "      <td>a</td>\n",
       "      <td>8</td>\n",
       "    </tr>\n",
       "    <tr>\n",
       "      <th>8</th>\n",
       "      <td>a</td>\n",
       "      <td>5</td>\n",
       "      <td>a</td>\n",
       "      <td>11</td>\n",
       "    </tr>\n",
       "  </tbody>\n",
       "</table>\n",
       "</div>"
      ],
      "text/plain": [
       "  key1  data1 key2  data2\n",
       "0    b      0    b      9\n",
       "1    b      1    b      9\n",
       "2    b      6    b      9\n",
       "3    a      2    a      8\n",
       "4    a      2    a     11\n",
       "5    a      4    a      8\n",
       "6    a      4    a     11\n",
       "7    a      5    a      8\n",
       "8    a      5    a     11"
      ]
     },
     "execution_count": 102,
     "metadata": {},
     "output_type": "execute_result"
    }
   ],
   "source": [
    "df1 = pd.DataFrame({'key1': ['b', 'b', 'a', 'c', 'a', 'a', 'b'],\n",
    "                    'data1': np.arange(7)})\n",
    "df2 = pd.DataFrame({'key2': ['a', 'b', 'd', 'a'],\n",
    "                    'data2': np.arange(8, 12)})\n",
    "\n",
    "pd.merge(df1, df2, left_on='key1', right_on='key2')\n",
    "#left_on y right_on indican cual será la key con la que se uniran ambos dataframes"
   ]
  },
  {
   "cell_type": "markdown",
   "metadata": {},
   "source": [
    "En el caso de necesitar un _Outer Join_, podemos indicarlo con el argumento `how`. Puede ser `'left'`, `'right'` o `'outer'`. Veamos un ejemplo de _Left Outer Join_:"
   ]
  },
  {
   "cell_type": "code",
   "execution_count": 156,
   "metadata": {},
   "outputs": [
    {
     "data": {
      "text/html": [
       "<div>\n",
       "<style scoped>\n",
       "    .dataframe tbody tr th:only-of-type {\n",
       "        vertical-align: middle;\n",
       "    }\n",
       "\n",
       "    .dataframe tbody tr th {\n",
       "        vertical-align: top;\n",
       "    }\n",
       "\n",
       "    .dataframe thead th {\n",
       "        text-align: right;\n",
       "    }\n",
       "</style>\n",
       "<table border=\"1\" class=\"dataframe\">\n",
       "  <thead>\n",
       "    <tr style=\"text-align: right;\">\n",
       "      <th></th>\n",
       "      <th>key1</th>\n",
       "      <th>data1</th>\n",
       "      <th>key2</th>\n",
       "      <th>data2</th>\n",
       "    </tr>\n",
       "  </thead>\n",
       "  <tbody>\n",
       "    <tr>\n",
       "      <th>0</th>\n",
       "      <td>b</td>\n",
       "      <td>0</td>\n",
       "      <td>b</td>\n",
       "      <td>9.0</td>\n",
       "    </tr>\n",
       "    <tr>\n",
       "      <th>1</th>\n",
       "      <td>b</td>\n",
       "      <td>1</td>\n",
       "      <td>b</td>\n",
       "      <td>9.0</td>\n",
       "    </tr>\n",
       "    <tr>\n",
       "      <th>2</th>\n",
       "      <td>a</td>\n",
       "      <td>2</td>\n",
       "      <td>a</td>\n",
       "      <td>8.0</td>\n",
       "    </tr>\n",
       "    <tr>\n",
       "      <th>3</th>\n",
       "      <td>a</td>\n",
       "      <td>2</td>\n",
       "      <td>a</td>\n",
       "      <td>11.0</td>\n",
       "    </tr>\n",
       "    <tr>\n",
       "      <th>4</th>\n",
       "      <td>c</td>\n",
       "      <td>3</td>\n",
       "      <td>NaN</td>\n",
       "      <td>NaN</td>\n",
       "    </tr>\n",
       "    <tr>\n",
       "      <th>5</th>\n",
       "      <td>a</td>\n",
       "      <td>4</td>\n",
       "      <td>a</td>\n",
       "      <td>8.0</td>\n",
       "    </tr>\n",
       "    <tr>\n",
       "      <th>6</th>\n",
       "      <td>a</td>\n",
       "      <td>4</td>\n",
       "      <td>a</td>\n",
       "      <td>11.0</td>\n",
       "    </tr>\n",
       "    <tr>\n",
       "      <th>7</th>\n",
       "      <td>a</td>\n",
       "      <td>5</td>\n",
       "      <td>a</td>\n",
       "      <td>8.0</td>\n",
       "    </tr>\n",
       "    <tr>\n",
       "      <th>8</th>\n",
       "      <td>a</td>\n",
       "      <td>5</td>\n",
       "      <td>a</td>\n",
       "      <td>11.0</td>\n",
       "    </tr>\n",
       "    <tr>\n",
       "      <th>9</th>\n",
       "      <td>b</td>\n",
       "      <td>6</td>\n",
       "      <td>b</td>\n",
       "      <td>9.0</td>\n",
       "    </tr>\n",
       "  </tbody>\n",
       "</table>\n",
       "</div>"
      ],
      "text/plain": [
       "  key1  data1 key2  data2\n",
       "0    b      0    b    9.0\n",
       "1    b      1    b    9.0\n",
       "2    a      2    a    8.0\n",
       "3    a      2    a   11.0\n",
       "4    c      3  NaN    NaN\n",
       "5    a      4    a    8.0\n",
       "6    a      4    a   11.0\n",
       "7    a      5    a    8.0\n",
       "8    a      5    a   11.0\n",
       "9    b      6    b    9.0"
      ]
     },
     "execution_count": 156,
     "metadata": {},
     "output_type": "execute_result"
    }
   ],
   "source": [
    "df1 = pd.DataFrame({'key1': ['b', 'b', 'a', 'c', 'a', 'a', 'b'],\n",
    "                    'data1': np.arange(7)})\n",
    "df2 = pd.DataFrame({'key2': ['a', 'b', 'd', 'a'],\n",
    "                    'data2': np.arange(8, 12)})\n",
    "\n",
    "pd.merge(df1, df2, left_on='key1', right_on='key2', how='left')\n",
    "\n",
    "#en el merge anterior vimos que si no habian valores en común el nuevo frame no los tenía, si queremos preservarlo\n",
    "#esto se puede hacer con el parametro how: left=> preserva los valores del frame en left, right=> preserva\n",
    "#los valores del frame right, outer=> preserva ambos frames "
   ]
  },
  {
   "cell_type": "markdown",
   "metadata": {},
   "source": [
    "En el caso de querer un _join_ por más de un argumento, puedo indicar una lista de atributos. También puedes renombrar atributos en el caso de que su nombre sea igual en ambos Data Frame y no quieras generar conflictos. Esto lo puedes hacer mediante el argumento `suffixes`. Para ver más puedes consultar la documentación."
   ]
  },
  {
   "cell_type": "markdown",
   "metadata": {},
   "source": [
    "Lo último que veremos es cómo hacer un _join_ utilizando una de los índices."
   ]
  },
  {
   "cell_type": "code",
   "execution_count": 104,
   "metadata": {},
   "outputs": [],
   "source": [
    "df1 = pd.DataFrame({'key': ['a', 'b', 'a', 'a', 'b', 'c'],\n",
    "                    'value': np.arange(6)})\n",
    "\n",
    "df2 = pd.DataFrame({'dvalue': [10, 20]}, index=['a', 'b'])"
   ]
  },
  {
   "cell_type": "code",
   "execution_count": 105,
   "metadata": {},
   "outputs": [
    {
     "data": {
      "text/html": [
       "<div>\n",
       "<style scoped>\n",
       "    .dataframe tbody tr th:only-of-type {\n",
       "        vertical-align: middle;\n",
       "    }\n",
       "\n",
       "    .dataframe tbody tr th {\n",
       "        vertical-align: top;\n",
       "    }\n",
       "\n",
       "    .dataframe thead th {\n",
       "        text-align: right;\n",
       "    }\n",
       "</style>\n",
       "<table border=\"1\" class=\"dataframe\">\n",
       "  <thead>\n",
       "    <tr style=\"text-align: right;\">\n",
       "      <th></th>\n",
       "      <th>key</th>\n",
       "      <th>value</th>\n",
       "    </tr>\n",
       "  </thead>\n",
       "  <tbody>\n",
       "    <tr>\n",
       "      <th>0</th>\n",
       "      <td>a</td>\n",
       "      <td>0</td>\n",
       "    </tr>\n",
       "    <tr>\n",
       "      <th>1</th>\n",
       "      <td>b</td>\n",
       "      <td>1</td>\n",
       "    </tr>\n",
       "    <tr>\n",
       "      <th>2</th>\n",
       "      <td>a</td>\n",
       "      <td>2</td>\n",
       "    </tr>\n",
       "    <tr>\n",
       "      <th>3</th>\n",
       "      <td>a</td>\n",
       "      <td>3</td>\n",
       "    </tr>\n",
       "    <tr>\n",
       "      <th>4</th>\n",
       "      <td>b</td>\n",
       "      <td>4</td>\n",
       "    </tr>\n",
       "    <tr>\n",
       "      <th>5</th>\n",
       "      <td>c</td>\n",
       "      <td>5</td>\n",
       "    </tr>\n",
       "  </tbody>\n",
       "</table>\n",
       "</div>"
      ],
      "text/plain": [
       "  key  value\n",
       "0   a      0\n",
       "1   b      1\n",
       "2   a      2\n",
       "3   a      3\n",
       "4   b      4\n",
       "5   c      5"
      ]
     },
     "execution_count": 105,
     "metadata": {},
     "output_type": "execute_result"
    }
   ],
   "source": [
    "df1"
   ]
  },
  {
   "cell_type": "code",
   "execution_count": 106,
   "metadata": {},
   "outputs": [
    {
     "data": {
      "text/html": [
       "<div>\n",
       "<style scoped>\n",
       "    .dataframe tbody tr th:only-of-type {\n",
       "        vertical-align: middle;\n",
       "    }\n",
       "\n",
       "    .dataframe tbody tr th {\n",
       "        vertical-align: top;\n",
       "    }\n",
       "\n",
       "    .dataframe thead th {\n",
       "        text-align: right;\n",
       "    }\n",
       "</style>\n",
       "<table border=\"1\" class=\"dataframe\">\n",
       "  <thead>\n",
       "    <tr style=\"text-align: right;\">\n",
       "      <th></th>\n",
       "      <th>dvalue</th>\n",
       "    </tr>\n",
       "  </thead>\n",
       "  <tbody>\n",
       "    <tr>\n",
       "      <th>a</th>\n",
       "      <td>10</td>\n",
       "    </tr>\n",
       "    <tr>\n",
       "      <th>b</th>\n",
       "      <td>20</td>\n",
       "    </tr>\n",
       "  </tbody>\n",
       "</table>\n",
       "</div>"
      ],
      "text/plain": [
       "   dvalue\n",
       "a      10\n",
       "b      20"
      ]
     },
     "execution_count": 106,
     "metadata": {},
     "output_type": "execute_result"
    }
   ],
   "source": [
    "df2"
   ]
  },
  {
   "cell_type": "code",
   "execution_count": 107,
   "metadata": {},
   "outputs": [
    {
     "data": {
      "text/html": [
       "<div>\n",
       "<style scoped>\n",
       "    .dataframe tbody tr th:only-of-type {\n",
       "        vertical-align: middle;\n",
       "    }\n",
       "\n",
       "    .dataframe tbody tr th {\n",
       "        vertical-align: top;\n",
       "    }\n",
       "\n",
       "    .dataframe thead th {\n",
       "        text-align: right;\n",
       "    }\n",
       "</style>\n",
       "<table border=\"1\" class=\"dataframe\">\n",
       "  <thead>\n",
       "    <tr style=\"text-align: right;\">\n",
       "      <th></th>\n",
       "      <th>key</th>\n",
       "      <th>value</th>\n",
       "      <th>dvalue</th>\n",
       "    </tr>\n",
       "  </thead>\n",
       "  <tbody>\n",
       "    <tr>\n",
       "      <th>0</th>\n",
       "      <td>a</td>\n",
       "      <td>0</td>\n",
       "      <td>10</td>\n",
       "    </tr>\n",
       "    <tr>\n",
       "      <th>2</th>\n",
       "      <td>a</td>\n",
       "      <td>2</td>\n",
       "      <td>10</td>\n",
       "    </tr>\n",
       "    <tr>\n",
       "      <th>3</th>\n",
       "      <td>a</td>\n",
       "      <td>3</td>\n",
       "      <td>10</td>\n",
       "    </tr>\n",
       "    <tr>\n",
       "      <th>1</th>\n",
       "      <td>b</td>\n",
       "      <td>1</td>\n",
       "      <td>20</td>\n",
       "    </tr>\n",
       "    <tr>\n",
       "      <th>4</th>\n",
       "      <td>b</td>\n",
       "      <td>4</td>\n",
       "      <td>20</td>\n",
       "    </tr>\n",
       "  </tbody>\n",
       "</table>\n",
       "</div>"
      ],
      "text/plain": [
       "  key  value  dvalue\n",
       "0   a      0      10\n",
       "2   a      2      10\n",
       "3   a      3      10\n",
       "1   b      1      20\n",
       "4   b      4      20"
      ]
     },
     "execution_count": 107,
     "metadata": {},
     "output_type": "execute_result"
    }
   ],
   "source": [
    "pd.merge(df1, df2, left_on='key', right_index=True) # right_index hace que el index sea elegido como key"
   ]
  },
  {
   "cell_type": "markdown",
   "metadata": {},
   "source": [
    "También puedes utilizar `merge` con índices jerárquicos. Puedes buscar más información en la documentación de `pandas`."
   ]
  },
  {
   "cell_type": "code",
   "execution_count": 108,
   "metadata": {},
   "outputs": [],
   "source": [
    "import re\n",
    "\n",
    "datos = pd.read_csv(\"Data_Ayudantia_1\", sep=\",\")"
   ]
  },
  {
   "cell_type": "code",
   "execution_count": 109,
   "metadata": {
    "scrolled": true
   },
   "outputs": [
    {
     "data": {
      "text/plain": [
       "Index(['alto_plataforma', 'altura_cana', 'altura_taco', 'estilo',\n",
       "       'forma_punta', 'genero', 'horma', 'material', 'material_capellada',\n",
       "       'material_forro', 'material_suela', 'medida_taco', 'modelo', 'ocasion',\n",
       "       'temporada', 'tipo_broche', 'tipo_cana', 'tipo_taco'],\n",
       "      dtype='object')"
      ]
     },
     "execution_count": 109,
     "metadata": {},
     "output_type": "execute_result"
    }
   ],
   "source": [
    "datos.keys()"
   ]
  },
  {
   "cell_type": "code",
   "execution_count": 110,
   "metadata": {},
   "outputs": [
    {
     "data": {
      "text/html": [
       "<div>\n",
       "<style scoped>\n",
       "    .dataframe tbody tr th:only-of-type {\n",
       "        vertical-align: middle;\n",
       "    }\n",
       "\n",
       "    .dataframe tbody tr th {\n",
       "        vertical-align: top;\n",
       "    }\n",
       "\n",
       "    .dataframe thead th {\n",
       "        text-align: right;\n",
       "    }\n",
       "</style>\n",
       "<table border=\"1\" class=\"dataframe\">\n",
       "  <thead>\n",
       "    <tr style=\"text-align: right;\">\n",
       "      <th></th>\n",
       "      <th>alto_plataforma</th>\n",
       "      <th>altura_cana</th>\n",
       "      <th>altura_taco</th>\n",
       "      <th>estilo</th>\n",
       "      <th>forma_punta</th>\n",
       "      <th>genero</th>\n",
       "      <th>horma</th>\n",
       "      <th>material</th>\n",
       "      <th>material_capellada</th>\n",
       "      <th>material_forro</th>\n",
       "      <th>material_suela</th>\n",
       "      <th>medida_taco</th>\n",
       "      <th>modelo</th>\n",
       "      <th>ocasion</th>\n",
       "      <th>temporada</th>\n",
       "      <th>tipo_broche</th>\n",
       "      <th>tipo_cana</th>\n",
       "      <th>tipo_taco</th>\n",
       "    </tr>\n",
       "  </thead>\n",
       "  <tbody>\n",
       "    <tr>\n",
       "      <th>0</th>\n",
       "      <td>NaN</td>\n",
       "      <td>NaN</td>\n",
       "      <td>alto</td>\n",
       "      <td>NaN</td>\n",
       "      <td>redonda</td>\n",
       "      <td>mujer</td>\n",
       "      <td>normal</td>\n",
       "      <td>sintetico</td>\n",
       "      <td>NaN</td>\n",
       "      <td>sin informacion</td>\n",
       "      <td>sin informacion</td>\n",
       "      <td>NaN</td>\n",
       "      <td>rasen 96</td>\n",
       "      <td>NaN</td>\n",
       "      <td>primavera verano</td>\n",
       "      <td>NaN</td>\n",
       "      <td>NaN</td>\n",
       "      <td>NaN</td>\n",
       "    </tr>\n",
       "    <tr>\n",
       "      <th>1</th>\n",
       "      <td>NaN</td>\n",
       "      <td>NaN</td>\n",
       "      <td>alto</td>\n",
       "      <td>NaN</td>\n",
       "      <td>redonda</td>\n",
       "      <td>mujer</td>\n",
       "      <td>normal</td>\n",
       "      <td>gamuza</td>\n",
       "      <td>NaN</td>\n",
       "      <td>sin informacion</td>\n",
       "      <td>sin informacion</td>\n",
       "      <td>NaN</td>\n",
       "      <td>rasen 32</td>\n",
       "      <td>NaN</td>\n",
       "      <td>primavera verano</td>\n",
       "      <td>NaN</td>\n",
       "      <td>NaN</td>\n",
       "      <td>NaN</td>\n",
       "    </tr>\n",
       "    <tr>\n",
       "      <th>2</th>\n",
       "      <td>sin informacion</td>\n",
       "      <td>NaN</td>\n",
       "      <td>bajo</td>\n",
       "      <td>NaN</td>\n",
       "      <td>redonda</td>\n",
       "      <td>mujer</td>\n",
       "      <td>normal</td>\n",
       "      <td>textil</td>\n",
       "      <td>NaN</td>\n",
       "      <td>textil</td>\n",
       "      <td>goma</td>\n",
       "      <td>NaN</td>\n",
       "      <td>coronadoa70</td>\n",
       "      <td>NaN</td>\n",
       "      <td>primavera verano</td>\n",
       "      <td>NaN</td>\n",
       "      <td>NaN</td>\n",
       "      <td>cuadrado</td>\n",
       "    </tr>\n",
       "    <tr>\n",
       "      <th>3</th>\n",
       "      <td>sin informacion</td>\n",
       "      <td>NaN</td>\n",
       "      <td>bajo</td>\n",
       "      <td>NaN</td>\n",
       "      <td>redonda</td>\n",
       "      <td>mujer</td>\n",
       "      <td>normal</td>\n",
       "      <td>textil</td>\n",
       "      <td>NaN</td>\n",
       "      <td>textil</td>\n",
       "      <td>goma</td>\n",
       "      <td>NaN</td>\n",
       "      <td>coronadoa93</td>\n",
       "      <td>NaN</td>\n",
       "      <td>primavera verano</td>\n",
       "      <td>NaN</td>\n",
       "      <td>NaN</td>\n",
       "      <td>cuadrado</td>\n",
       "    </tr>\n",
       "    <tr>\n",
       "      <th>4</th>\n",
       "      <td>sin informacion</td>\n",
       "      <td>NaN</td>\n",
       "      <td>bajo</td>\n",
       "      <td>NaN</td>\n",
       "      <td>redonda</td>\n",
       "      <td>mujer</td>\n",
       "      <td>normal</td>\n",
       "      <td>sintetico</td>\n",
       "      <td>NaN</td>\n",
       "      <td>sin informacion</td>\n",
       "      <td>sin informacion</td>\n",
       "      <td>NaN</td>\n",
       "      <td>henrion62</td>\n",
       "      <td>NaN</td>\n",
       "      <td>otono invierno</td>\n",
       "      <td>NaN</td>\n",
       "      <td>NaN</td>\n",
       "      <td>cuadrado</td>\n",
       "    </tr>\n",
       "  </tbody>\n",
       "</table>\n",
       "</div>"
      ],
      "text/plain": [
       "   alto_plataforma altura_cana altura_taco estilo forma_punta genero   horma  \\\n",
       "0              NaN         NaN        alto    NaN     redonda  mujer  normal   \n",
       "1              NaN         NaN        alto    NaN     redonda  mujer  normal   \n",
       "2  sin informacion         NaN        bajo    NaN     redonda  mujer  normal   \n",
       "3  sin informacion         NaN        bajo    NaN     redonda  mujer  normal   \n",
       "4  sin informacion         NaN        bajo    NaN     redonda  mujer  normal   \n",
       "\n",
       "    material material_capellada   material_forro   material_suela medida_taco  \\\n",
       "0  sintetico                NaN  sin informacion  sin informacion         NaN   \n",
       "1     gamuza                NaN  sin informacion  sin informacion         NaN   \n",
       "2     textil                NaN           textil             goma         NaN   \n",
       "3     textil                NaN           textil             goma         NaN   \n",
       "4  sintetico                NaN  sin informacion  sin informacion         NaN   \n",
       "\n",
       "        modelo ocasion         temporada tipo_broche tipo_cana tipo_taco  \n",
       "0     rasen 96     NaN  primavera verano         NaN       NaN       NaN  \n",
       "1     rasen 32     NaN  primavera verano         NaN       NaN       NaN  \n",
       "2  coronadoa70     NaN  primavera verano         NaN       NaN  cuadrado  \n",
       "3  coronadoa93     NaN  primavera verano         NaN       NaN  cuadrado  \n",
       "4    henrion62     NaN    otono invierno         NaN       NaN  cuadrado  "
      ]
     },
     "execution_count": 110,
     "metadata": {},
     "output_type": "execute_result"
    }
   ],
   "source": [
    "datos.head()"
   ]
  },
  {
   "cell_type": "code",
   "execution_count": 111,
   "metadata": {},
   "outputs": [
    {
     "data": {
      "text/plain": [
       "alto_plataforma       2014\n",
       "altura_cana           4053\n",
       "altura_taco           1466\n",
       "estilo                3935\n",
       "forma_punta           2190\n",
       "genero                  34\n",
       "horma                  223\n",
       "material               257\n",
       "material_capellada    3870\n",
       "material_forro         311\n",
       "material_suela          68\n",
       "medida_taco           3926\n",
       "modelo                  23\n",
       "ocasion               4015\n",
       "temporada              109\n",
       "tipo_broche           4005\n",
       "tipo_cana             4067\n",
       "tipo_taco             2379\n",
       "dtype: int64"
      ]
     },
     "execution_count": 111,
     "metadata": {},
     "output_type": "execute_result"
    }
   ],
   "source": [
    "# Como saber cuantos datos nulos hay?\n",
    "datos.isnull().sum()"
   ]
  },
  {
   "cell_type": "code",
   "execution_count": 116,
   "metadata": {},
   "outputs": [],
   "source": [
    "# Datos sin duplicados\n",
    "def get_values(df, X):\n",
    "    print(\"{}\".format(X))\n",
    "    values = df[X].drop_duplicates().values\n",
    "    print(values,'\\n')\n",
    "    return values"
   ]
  },
  {
   "cell_type": "code",
   "execution_count": 117,
   "metadata": {},
   "outputs": [
    {
     "name": "stdout",
     "output_type": "stream",
     "text": [
      "alto_plataforma\n",
      "[nan 'sin informacion' 'baja' 'no disponible' '2 cm' '1' '5 cm' '3 cm' '6'\n",
      " '1 cm' '3' '7' '10' '4 cm' '2' '12 cm' '7 cm' '6 cm' '4' '0 cm' ' '\n",
      " 'no aplica' '0 5 cm' 'n a' 'redonda' '0' '1 4 cm'] \n",
      "\n"
     ]
    }
   ],
   "source": [
    "alto_plataforma = get_values(datos, 'alto_plataforma')"
   ]
  },
  {
   "cell_type": "code",
   "execution_count": 176,
   "metadata": {},
   "outputs": [],
   "source": [
    "# obtener solo los valores numéricos\n",
    "def get_numbers(candidates):\n",
    "    values = np.array(list(set(['.'.join(re.findall('\\d+',str(value))) for value in candidates])))\n",
    "    print(values)\n",
    "    values = np.array([value for value in values if len(value)>0]).astype(float).round(1)\n",
    "    #pasa la lista anterior a floats si es que existía un número\n",
    "    values.sort()\n",
    "    return values"
   ]
  },
  {
   "cell_type": "code",
   "execution_count": 177,
   "metadata": {},
   "outputs": [
    {
     "name": "stdout",
     "output_type": "stream",
     "text": [
      "['' '4' '12' '6' '5' '0' '3' '2' '0.5' '1' '7' '1.4' '10']\n"
     ]
    },
    {
     "data": {
      "text/plain": [
       "array([ 0. ,  0.5,  1. ,  1.4,  2. ,  3. ,  4. ,  5. ,  6. ,  7. , 10. ,\n",
       "       12. ])"
      ]
     },
     "execution_count": 177,
     "metadata": {},
     "output_type": "execute_result"
    }
   ],
   "source": [
    "get_numbers(alto_plataforma)"
   ]
  },
  {
   "cell_type": "code",
   "execution_count": 120,
   "metadata": {},
   "outputs": [
    {
     "data": {
      "text/plain": [
       "array([nan, 'sin informacion', 'baja', 'no disponible', '2 cm', '1',\n",
       "       '5 cm', '3 cm', '6', '1 cm', '3', '7', '10', '4 cm', '2', '12 cm',\n",
       "       '7 cm', '6 cm', '4', '0 cm', ' ', 'no aplica', '0 5 cm', 'n a',\n",
       "       'redonda', '0', '1 4 cm'], dtype=object)"
      ]
     },
     "execution_count": 120,
     "metadata": {},
     "output_type": "execute_result"
    }
   ],
   "source": [
    "alto_plataforma"
   ]
  },
  {
   "cell_type": "code",
   "execution_count": 121,
   "metadata": {},
   "outputs": [],
   "source": [
    "# Hay nunmeros en el elemento?\n",
    "def num_there(s):\n",
    "    return any(i.isdigit() for i in str(s))\n",
    "\n",
    "#obtener string dentro del arreglo\n",
    "def get_strings(candidates):\n",
    "    values = np.array(list(set([str(value).strip().lower() for value in candidates if not num_there(value)])))\n",
    "    #strip saca del inicio y final del string el valor recibido, si no recibe es un espacio en blanco.\n",
    "    values.sort()\n",
    "    return values"
   ]
  },
  {
   "cell_type": "code",
   "execution_count": 122,
   "metadata": {},
   "outputs": [
    {
     "data": {
      "text/plain": [
       "array(['', 'baja', 'n a', 'nan', 'no aplica', 'no disponible', 'redonda',\n",
       "       'sin informacion'], dtype='<U15')"
      ]
     },
     "execution_count": 122,
     "metadata": {},
     "output_type": "execute_result"
    }
   ],
   "source": [
    "get_strings(alto_plataforma)"
   ]
  },
  {
   "cell_type": "code",
   "execution_count": 123,
   "metadata": {},
   "outputs": [
    {
     "data": {
      "text/plain": [
       "True"
      ]
     },
     "execution_count": 123,
     "metadata": {},
     "output_type": "execute_result"
    }
   ],
   "source": [
    "num_there(alto_plataforma)"
   ]
  },
  {
   "cell_type": "markdown",
   "metadata": {},
   "source": [
    "# Scipy\n",
    "\n",
    "`Scipy` es una librería complementaria a `numpy`, la cual contiene una serie de algoritmos matemáticos para manipular y visualizar datos. Sus principales utilidades son: \n",
    "\n",
    "    - Optimización\n",
    "    - Manejo de distribuciones de probabilidad \n",
    "    - Algoritmos de clustering\n",
    "    - Solvers de cálculo\n",
    "    \n",
    "En este curso, utilizaremos esta herramienta para todas las áreas mencionadas anteriormente. "
   ]
  },
  {
   "cell_type": "markdown",
   "metadata": {},
   "source": [
    "### Distribuciones de probabilidad\n",
    "\n",
    "En este caso trabajaremos con datos generados a través de una `distribución normal``"
   ]
  },
  {
   "cell_type": "code",
   "execution_count": 124,
   "metadata": {},
   "outputs": [],
   "source": [
    "import numpy as np\n",
    "import matplotlib as mpl\n",
    "import matplotlib.pyplot as plt\n",
    "import scipy.stats as stt\n",
    "\n",
    "# Generamos los datos \n",
    "# loc= media, scale = desv estandar, size= cant de numeros qque devuelve.\n",
    "data = stt.norm.rvs(loc=0, scale=1, size=10000, random_state=None)"
   ]
  },
  {
   "cell_type": "markdown",
   "metadata": {},
   "source": [
    "Con la ayuda de la librería `matplotlib` podemos ratificar que los datos son normales haciéndo un histograma"
   ]
  },
  {
   "cell_type": "code",
   "execution_count": 125,
   "metadata": {},
   "outputs": [
    {
     "data": {
      "text/plain": [
       "(array([3.13160847e-03, 2.39688494e-02, 1.19844247e-01, 2.91360034e-01,\n",
       "        3.85669627e-01, 2.64139129e-01, 9.49118258e-02, 1.89100973e-02,\n",
       "        2.28848311e-03, 2.40892959e-04]),\n",
       " array([-3.66127938, -2.83103511, -2.00079083, -1.17054656, -0.34030228,\n",
       "         0.48994199,  1.32018627,  2.15043054,  2.98067482,  3.81091909,\n",
       "         4.64116337]),\n",
       " <a list of 1 Patch objects>)"
      ]
     },
     "execution_count": 125,
     "metadata": {},
     "output_type": "execute_result"
    },
    {
     "data": {
      "image/png": "[encoded data removed]",
      "text/plain": [
       "<Figure size 720x360 with 1 Axes>"
      ]
     },
     "metadata": {},
     "output_type": "display_data"
    }
   ],
   "source": [
    "plt.hist(data, density=True, histtype='stepfilled', alpha=0.2)\n",
    "# density = true integra 1 , false no, alpha=> color, bins => cant de cols del ggráfico si no se pone es automático"
   ]
  },
  {
   "cell_type": "markdown",
   "metadata": {},
   "source": [
    "Otra librería muy útil para hacer visualizaciones es `seaborn`. Esta herramienta permite hacer gráficos más estilizados. "
   ]
  },
  {
   "cell_type": "code",
   "execution_count": 126,
   "metadata": {},
   "outputs": [
    {
     "name": "stderr",
     "output_type": "stream",
     "text": [
      "/home/pancha/anaconda3/lib/python3.6/site-packages/matplotlib/axes/_axes.py:6462: UserWarning: The 'normed' kwarg is deprecated, and has been replaced by the 'density' kwarg.\n",
      "  warnings.warn(\"The 'normed' kwarg is deprecated, and has been \"\n"
     ]
    },
    {
     "data": {
      "text/plain": [
       "<matplotlib.axes._subplots.AxesSubplot at 0x7f6e9027ef60>"
      ]
     },
     "execution_count": 126,
     "metadata": {},
     "output_type": "execute_result"
    },
    {
     "data": {
      "image/png": "[encoded data removed]",
      "text/plain": [
       "<Figure size 720x360 with 1 Axes>"
      ]
     },
     "metadata": {},
     "output_type": "display_data"
    }
   ],
   "source": [
    "import seaborn as sns\n",
    "\n",
    "sns.distplot(data)"
   ]
  },
  {
   "cell_type": "markdown",
   "metadata": {},
   "source": [
    "Dado un set de puntos, también es posible evaluarlos bajo una distribución en particular con `scipy`. Esto se hace mediante la función cdf. Es importante mencionar que esta librería (al igual que otras como `sklearn`) son capaces de trabajar con `arrays` y no solo un datos en particular. Es decir, podemos entregar arreglos de datos como input a la hora de querer evaluar muchos datos en una distribución en particular. "
   ]
  },
  {
   "cell_type": "code",
   "execution_count": 127,
   "metadata": {},
   "outputs": [],
   "source": [
    "# Generamos puntos entre -30 y 50 con una densidad de 0.01\n",
    "\n",
    "x = np.arange(-30, 50, 0.01)"
   ]
  },
  {
   "cell_type": "code",
   "execution_count": 128,
   "metadata": {},
   "outputs": [],
   "source": [
    "# Evaluamos los valores de los puntos en las distintas distribuciones \n",
    "\n",
    "gamma = stt.gamma(6, 0, 2).pdf(x)\n",
    "laplace = stt.laplace(10, 5.8).pdf(x)\n",
    "normal = 3*stt.norm(10, 15).pdf(x)"
   ]
  },
  {
   "cell_type": "code",
   "execution_count": 129,
   "metadata": {
    "scrolled": true
   },
   "outputs": [
    {
     "data": {
      "image/png": "[encoded data removed]",
      "text/plain": [
       "<Figure size 720x360 with 1 Axes>"
      ]
     },
     "metadata": {},
     "output_type": "display_data"
    }
   ],
   "source": [
    "# Graficar los puntos \n",
    "\n",
    "plt.title('Gráfico ejemplo')\n",
    "plt.plot(x, laplace, label='Lapalce')\n",
    "plt.plot(x, gamma, label='Gamma')\n",
    "plt.plot(x, normal, label='Normal')\n",
    "plt.xlabel('eje x')\n",
    "plt.ylabel('eje y')\n",
    "plt.legend()\n",
    "\n",
    "plt.show()"
   ]
  },
  {
   "cell_type": "markdown",
   "metadata": {},
   "source": [
    "### Plot  Multivariate Norm"
   ]
  },
  {
   "cell_type": "code",
   "execution_count": 130,
   "metadata": {},
   "outputs": [],
   "source": [
    "import matplotlib.pyplot as plt\n",
    "from matplotlib.pyplot import ion, figure, scatter, draw\n",
    "from matplotlib.patches import Ellipse\n",
    "\n",
    "def plot_point_cov(points, nstd=2, ax=None, **kwargs):\n",
    "    \"\"\"\n",
    "    Plots an `nstd` sigma ellipse based on the mean and covariance of a point\n",
    "    \"cloud\" (points, an Nx2 array).\n",
    "\n",
    "    Parameters\n",
    "    ----------\n",
    "        points : An Nx2 array of the data points.\n",
    "        nstd : The radius of the ellipse in numbers of standard deviations.\n",
    "            Defaults to 2 standard deviations.\n",
    "        ax : The axis that the ellipse will be plotted on. Defaults to the \n",
    "            current axis.\n",
    "        Additional keyword arguments are pass on to the ellipse patch.\n",
    "\n",
    "    Returns\n",
    "    -------\n",
    "        A matplotlib ellipse artist\n",
    "    \"\"\"\n",
    "    pos = points.mean(axis=0)\n",
    "    cov = np.cov(points, rowvar=False)\n",
    "    return plot_cov_ellipse(cov, pos, nstd, ax, **kwargs)\n",
    "\n",
    "def plot_cov_ellipse(cov, pos, nstd=2, ax=None, **kwargs):\n",
    "    \"\"\"\n",
    "    Plots an `nstd` sigma error ellipse based on the specified covariance\n",
    "    matrix (`cov`). Additional keyword arguments are passed on to the \n",
    "    ellipse patch artist.\n",
    "\n",
    "    Parameters\n",
    "    ----------\n",
    "        cov : The 2x2 covariance matrix to base the ellipse on\n",
    "        pos : The location of the center of the ellipse. Expects a 2-element\n",
    "            sequence of [x0, y0].\n",
    "        nstd : The radius of the ellipse in numbers of standard deviations.\n",
    "            Defaults to 2 standard deviations.\n",
    "        ax : The axis that the ellipse will be plotted on. Defaults to the \n",
    "            current axis.\n",
    "        Additional keyword arguments are pass on to the ellipse patch.\n",
    "\n",
    "    Returns\n",
    "    -------\n",
    "        A matplotlib ellipse artist\n",
    "    \"\"\"\n",
    "    def eigsorted(cov):\n",
    "        vals, vecs = np.linalg.eigh(cov)\n",
    "        order = vals.argsort()[::-1]\n",
    "        return vals[order], vecs[:,order]\n",
    "\n",
    "    if ax is None:\n",
    "        ax = plt.gca()\n",
    "\n",
    "    vals, vecs = eigsorted(cov)\n",
    "    theta = np.degrees(np.arctan2(*vecs[:,0][::-1]))\n",
    "\n",
    "    # Width and height are \"full\" widths, not radius\n",
    "    \n",
    "    width, height = 2 * nstd * np.sqrt(vals)\n",
    "    ellip = Ellipse(xy=pos, width=width, height=height, angle=theta, **kwargs)\n",
    "\n",
    "    ax.add_artist(ellip)\n",
    "    return ellip"
   ]
  },
  {
   "cell_type": "code",
   "execution_count": 131,
   "metadata": {},
   "outputs": [
    {
     "data": {
      "image/png": "[encoded data removed]",
      "text/plain": [
       "<Figure size 720x504 with 1 Axes>"
      ]
     },
     "metadata": {},
     "output_type": "display_data"
    }
   ],
   "source": [
    "m = [(-2, -1), (1, 7), (4, 0), (5, 5)]\n",
    "fig, ax = plt.subplots(figsize = (10, 7))\n",
    "\n",
    "plt.xlim(-5, 10)\n",
    "plt.ylim(-5, 10)\n",
    "\n",
    "plt.title('Proyection Multivariate Normal')\n",
    "\n",
    "for k in range(4):\n",
    "    # samplear datos para visualizar cada elipse \n",
    "    points = np.random.multivariate_normal(mean=m[k], cov=[[1,0], [0,1]], size=500)\n",
    "\n",
    "    # definir elipse\n",
    "    plot_point_cov(points, nstd=2, alpha=0.3, color='r') #np.random.rand(3))\n",
    "        \n",
    "    plt.scatter(points[:, 0], points[:, 1])\n",
    "\n",
    "    plt.scatter(*m[k], color='black')\n"
   ]
  },
  {
   "cell_type": "code",
   "execution_count": null,
   "metadata": {},
   "outputs": [],
   "source": []
  },
  {
   "cell_type": "code",
   "execution_count": null,
   "metadata": {},
   "outputs": [],
   "source": []
  },
  {
   "cell_type": "markdown",
   "metadata": {},
   "source": [
    "## Generar datos"
   ]
  },
  {
   "cell_type": "code",
   "execution_count": 132,
   "metadata": {},
   "outputs": [],
   "source": [
    "datos_normales = stt.norm.rvs(loc=0, scale=1, size=10000, random_state=None)\n",
    "\n",
    "datos_uniformes = stt.uniform.rvs(size=10000)\n",
    "\n",
    "datos_binom = stt.binom.rvs(1, 0.5, size=10000)"
   ]
  },
  {
   "cell_type": "code",
   "execution_count": 133,
   "metadata": {},
   "outputs": [
    {
     "data": {
      "image/png": "[encoded data removed]",
      "text/plain": [
       "<Figure size 720x360 with 1 Axes>"
      ]
     },
     "metadata": {},
     "output_type": "display_data"
    }
   ],
   "source": [
    "plt.hist(datos_normales, bins='auto')\n",
    "\n",
    "plt.show()"
   ]
  },
  {
   "cell_type": "code",
   "execution_count": 134,
   "metadata": {},
   "outputs": [
    {
     "data": {
      "image/png": "[encoded data removed]",
      "text/plain": [
       "<Figure size 720x360 with 1 Axes>"
      ]
     },
     "metadata": {},
     "output_type": "display_data"
    }
   ],
   "source": [
    "plt.hist(datos_binom, bins='auto')\n",
    "plt.show()"
   ]
  },
  {
   "cell_type": "code",
   "execution_count": 135,
   "metadata": {},
   "outputs": [
    {
     "data": {
      "image/png": "[encoded data removed]",
      "text/plain": [
       "<Figure size 720x360 with 1 Axes>"
      ]
     },
     "metadata": {},
     "output_type": "display_data"
    }
   ],
   "source": [
    "plt.hist(datos_uniformes, bins='auto')\n",
    "plt.show()"
   ]
  },
  {
   "cell_type": "code",
   "execution_count": null,
   "metadata": {},
   "outputs": [],
   "source": []
  },
  {
   "cell_type": "markdown",
   "metadata": {},
   "source": [
    "# Consejos finales de eficiencia \n",
    "\n",
    "### Eficiencia en operaciones aritméticas \n",
    "\n",
    "En este curso una de las mayores dificultades será el optimizar procesos. Al trabajar con grandes cantidades de datos, los '_doble for_' y las listas por comprensión son muy ineficientes. Es por esta razón que para todas las operaciones que involucren recorrer toda la base de datos o realizar operaciones repetitivas, se deben usar `operaciones vectoriales`. Ellas están implementadas por _default_ en `numpy`. \n",
    "\n",
    "\n",
    "Por ejemplo, si se tiene una sumatoria de productos entre dos `arrays`, la lógica de intro/programación avanzada, nos dice que podríamos hacerlo con la ayuda de un `for`. "
   ]
  },
  {
   "cell_type": "code",
   "execution_count": 136,
   "metadata": {},
   "outputs": [
    {
     "name": "stdout",
     "output_type": "stream",
     "text": [
      "1.0535613622224567\n"
     ]
    }
   ],
   "source": [
    "lista1 = np.random.rand(3)\n",
    "lista2 = np.random.rand(3)\n",
    "\n",
    "suma = 0 \n",
    "for i in range(3):\n",
    "    suma += lista1[i] * lista2[i] \n",
    "\n",
    "print(suma)"
   ]
  },
  {
   "cell_type": "code",
   "execution_count": 137,
   "metadata": {},
   "outputs": [
    {
     "data": {
      "text/plain": [
       "array([0.46399935, 0.39192247, 0.94857175])"
      ]
     },
     "execution_count": 137,
     "metadata": {},
     "output_type": "execute_result"
    }
   ],
   "source": [
    "lista1"
   ]
  },
  {
   "cell_type": "markdown",
   "metadata": {},
   "source": [
    "Funaciona bien! No obstante, debemos recordar que estamos trabajando con 3 datos :( En el caso de tener una base de datos más grande, digamos 1.000.000 datos, el panorama cambia. "
   ]
  },
  {
   "cell_type": "code",
   "execution_count": 138,
   "metadata": {},
   "outputs": [],
   "source": [
    "lista1 = np.random.rand(1000000)\n",
    "lista2 = np.random.rand(1000000)"
   ]
  },
  {
   "cell_type": "code",
   "execution_count": 178,
   "metadata": {},
   "outputs": [],
   "source": [
    "\n",
    "suma = 0 \n",
    "for i in range(1000000):\n",
    "    suma += lista1[i] * lista2[i] \n"
   ]
  },
  {
   "cell_type": "markdown",
   "metadata": {},
   "source": [
    "En cambio, si llevamos esta operación a una vectorizada:"
   ]
  },
  {
   "cell_type": "code",
   "execution_count": 179,
   "metadata": {},
   "outputs": [
    {
     "data": {
      "text/plain": [
       "249838.25518187205"
      ]
     },
     "execution_count": 179,
     "metadata": {},
     "output_type": "execute_result"
    }
   ],
   "source": [
    "np.dot(lista1, lista2)"
   ]
  },
  {
   "cell_type": "code",
   "execution_count": 180,
   "metadata": {},
   "outputs": [],
   "source": [
    "def foo1(x):\n",
    "    return (100 * x)**2 // 3\n",
    "    "
   ]
  },
  {
   "cell_type": "code",
   "execution_count": 181,
   "metadata": {},
   "outputs": [],
   "source": [
    "suma1 = 0\n",
    "for i in range(1000000):\n",
    "    suma1 += foo1(lista1[i])"
   ]
  },
  {
   "cell_type": "code",
   "execution_count": 182,
   "metadata": {},
   "outputs": [],
   "source": [
    "suma2 = foo1(lista1).sum()"
   ]
  },
  {
   "cell_type": "code",
   "execution_count": 183,
   "metadata": {},
   "outputs": [
    {
     "data": {
      "text/plain": [
       "True"
      ]
     },
     "execution_count": 183,
     "metadata": {},
     "output_type": "execute_result"
    }
   ],
   "source": [
    "suma1 == suma2"
   ]
  },
  {
   "cell_type": "code",
   "execution_count": 147,
   "metadata": {},
   "outputs": [],
   "source": [
    "mu = [0.5, 1.6]\n",
    "cov_ = [[1,0], [0,1]]\n",
    "var = stt.multivariate_normal(mean=mu, cov=cov_)\n",
    "\n",
    "x = np.arange(-2, 4, 0.05)\n",
    "y = np.arange(-1, 6, 0.05)\n",
    "X, Y = np.meshgrid(x, y) \n",
    "\n",
    "@np.vectorize #toma lo que retorna y lo transforma en vector\n",
    "def foo2(X_,Y_):\n",
    "    return var.pdf([X_,Y_]) ## se demora menos hacerlo así ya que no se calcula a cada rato la multivariada.\n",
    "\n",
    "@np.vectorize\n",
    "def foo3(X_,Y_):\n",
    "    return stt.multivariate_normal(mean=mu, cov=cov_).pdf([X_,Y_])\n"
   ]
  },
  {
   "cell_type": "code",
   "execution_count": 148,
   "metadata": {},
   "outputs": [
    {
     "name": "stdout",
     "output_type": "stream",
     "text": [
      "274 ms ± 3.73 ms per loop (mean ± std. dev. of 7 runs, 1 loop each)\n"
     ]
    }
   ],
   "source": [
    "%%timeit\n",
    "foo2(X, Y)"
   ]
  },
  {
   "cell_type": "code",
   "execution_count": 149,
   "metadata": {},
   "outputs": [
    {
     "name": "stdout",
     "output_type": "stream",
     "text": [
      "2.6 s ± 26.5 ms per loop (mean ± std. dev. of 7 runs, 1 loop each)\n"
     ]
    }
   ],
   "source": [
    "%%timeit\n",
    "foo3(X, Y)"
   ]
  },
  {
   "cell_type": "code",
   "execution_count": 150,
   "metadata": {},
   "outputs": [
    {
     "data": {
      "text/plain": [
       "(140, 120)"
      ]
     },
     "execution_count": 150,
     "metadata": {},
     "output_type": "execute_result"
    }
   ],
   "source": [
    "X.shape"
   ]
  },
  {
   "cell_type": "code",
   "execution_count": null,
   "metadata": {},
   "outputs": [],
   "source": []
  },
  {
   "cell_type": "code",
   "execution_count": null,
   "metadata": {},
   "outputs": [],
   "source": []
  },
  {
   "cell_type": "markdown",
   "metadata": {},
   "source": [
    "Es fácil darse cuenta que el tiempo de ejecución en operaciones vectoriales es mucho menor. Es por ello que siempre que se está armando un algoritmo es recomendable primero armarlo con funciones familiares y nativas de `python` como `for` o `while`, pero luego, cuando el programa ya funcione correctamente, ir cambiado las operaciones a otras que involucren productos cruz, punto, inversiones, transposiciones, entre otras. \n",
    "\n",
    "### Eficiencia en manejos de Dataframes en Pandas \n",
    "\n",
    "Muchas veces tendremos que sumar, multiplicar, mover o cambiar un caracter en los elementos de entre las filas de un `Dataframe` de `Pandas`. Para ello, nos veremos tentados a usar el método `iterrows`. Mala idea. Este método trabaja igual que un `for` built-in. Como podemos intuir, para bases pequeñas funciona bien. Pero cuando tenemos bases más apegadas a la realidad, nuestro `iterrows` podría tardar meses. Es por esto que es altamente recomendado usar los métodos que nos ofrece `pandas` para manipular los `Dataframes`. Algunos ejemplos son: \n",
    "\n",
    "    - DataFrame.add (Suma un float a un dataframe o a cierta parte de éste) \n",
    "    - DataFrame.mul (Multiplica por un float)\n",
    "    - DataFrame.pow (Eleva el Dataframe) \n",
    "    \n",
    "\n",
    "    "
   ]
  },
  {
   "cell_type": "markdown",
   "metadata": {},
   "source": [
    "# Consejos finales de eficiencia \n",
    "\n",
    "### Eficiencia en operaciones aritméticas \n",
    "\n",
    "En este curso una de las mayores dificultades será el optimizar procesos. Al trabajar con grandes cantidades de datos, los '_doble for_' y las listas por comprensión son muy ineficientes. Es por esta razón que para todas las operaciones que involucren recorrer toda la base de datos o realizar operaciones repetitivas, se deben usar `operaciones vectoriales`. Ellas están implementadas por _default_ en `numpy`. \n",
    "\n",
    "\n",
    "Por ejemplo, si se tiene una sumatoria de productos entre dos `arrays`, la lógica de intro/programación avanzada, nos dice que podríamos hacerlo con la ayuda de un `for`. "
   ]
  },
  {
   "cell_type": "code",
   "execution_count": 9,
   "metadata": {},
   "outputs": [
    {
     "name": "stdout",
     "output_type": "stream",
     "text": [
      "0.43897836296999826\n"
     ]
    }
   ],
   "source": [
    "lista1 = np.random.rand(3)\n",
    "lista2 = np.random.rand(3)\n",
    "\n",
    "suma = 0 \n",
    "for i in range(3):\n",
    "    suma += lista1[i] * lista2[i] \n",
    "\n",
    "print(suma)"
   ]
  },
  {
   "cell_type": "code",
   "execution_count": 10,
   "metadata": {},
   "outputs": [
    {
     "data": {
      "text/plain": [
       "array([0.57848026, 0.35974705, 0.05163512])"
      ]
     },
     "execution_count": 10,
     "metadata": {},
     "output_type": "execute_result"
    }
   ],
   "source": [
    "lista1"
   ]
  },
  {
   "cell_type": "markdown",
   "metadata": {},
   "source": [
    "Funaciona bien! No obstante, debemos recordar que estamos trabajando con 3 datos :( En el caso de tener una base de datos más grande, digamos 1.000.000 datos, el panorama cambia. "
   ]
  },
  {
   "cell_type": "code",
   "execution_count": 11,
   "metadata": {},
   "outputs": [
    {
     "name": "stdout",
     "output_type": "stream",
     "text": [
      "15.2 ms ± 416 µs per loop (mean ± std. dev. of 7 runs, 100 loops each)\n"
     ]
    }
   ],
   "source": [
    "%%timeit\n",
    "\n",
    "lista1 = np.random.rand(1000000)\n",
    "lista2 = np.random.rand(1000000)\n",
    "\n",
    "suma = 0 \n",
    "for i in range(3):\n",
    "    suma += lista1[i] * lista2[i] \n"
   ]
  },
  {
   "cell_type": "markdown",
   "metadata": {},
   "source": [
    "En cambio, si llevamos esta operación a una vectorizada:"
   ]
  },
  {
   "cell_type": "code",
   "execution_count": 13,
   "metadata": {},
   "outputs": [
    {
     "name": "stdout",
     "output_type": "stream",
     "text": [
      "432 ns ± 68.4 ns per loop (mean ± std. dev. of 7 runs, 1000000 loops each)\n"
     ]
    }
   ],
   "source": [
    "%%timeit\n",
    "np.dot(lista1, lista2)"
   ]
  },
  {
   "cell_type": "markdown",
   "metadata": {},
   "source": [
    "Es fácil darse cuenta que el tiempo de ejecución en operaciones vectoriales es mucho menor. Es por ello que siempre que se está armando un algoritmo es recomendable primero armarlo con funciones familiares y nativas de `python` como `for` o `while`, pero luego, cuando el programa ya funcione correctamente, ir cambiado las operaciones a otras que involucren productos cruz, punto, inversiones, transposiciones, entre otras. \n",
    "\n",
    "### Eficiencia en manejos de Dataframes en Pandas \n",
    "\n",
    "Muchas veces tendremos que sumar, multiplicar, mover o cambiar un caracter en los elementos de entre las filas de un `Dataframe` de `Pandas`. Para ello, nos veremos tentados a usar el método `iterrows`. Mala idea. Este método trabaja igual que un `for` built-in. Como podemos intuir, para bases pequeñas funciona bien. Pero cuando tenemos bases más apegadas a la realidad, nuestro `iterrows` podría tardar meses. Es por esto que es altamente recomendado usar los métodos que nos ofrece `pandas` para manipular los `Dataframes`. Algunos ejemplos son: \n",
    "\n",
    "    - DataFrame.add (Suma un float a un dataframe o a cierta parte de éste) \n",
    "    - DataFrame.mul (Multiplica por un float)\n",
    "    - DataFrame.pow (Eleva el Dataframe) \n",
    "    \n",
    "\n",
    "    "
   ]
  },
  {
   "cell_type": "code",
   "execution_count": null,
   "metadata": {},
   "outputs": [],
   "source": []
  },
  {
   "cell_type": "code",
   "execution_count": null,
   "metadata": {},
   "outputs": [],
   "source": []
  },
  {
   "cell_type": "code",
   "execution_count": null,
   "metadata": {},
   "outputs": [],
   "source": []
  },
  {
   "cell_type": "code",
   "execution_count": 9,
   "metadata": {},
   "outputs": [
    {
     "data": {
      "text/plain": [
       "True"
      ]
     },
     "execution_count": 9,
     "metadata": {},
     "output_type": "execute_result"
    }
   ],
   "source": [
    "suma1 == suma2"
   ]
  },
  {
   "cell_type": "code",
   "execution_count": null,
   "metadata": {},
   "outputs": [],
   "source": []
  }
 ],
 "metadata": {
  "kernelspec": {
   "display_name": "Python 3",
   "language": "python",
   "name": "python3"
  },
  "language_info": {
   "codemirror_mode": {
    "name": "ipython",
    "version": 3
   },
   "file_extension": ".py",
   "mimetype": "text/x-python",
   "name": "python",
   "nbconvert_exporter": "python",
   "pygments_lexer": "ipython3",
   "version": "3.6.5"
  }
 },
 "nbformat": 4,
 "nbformat_minor": 2
}
